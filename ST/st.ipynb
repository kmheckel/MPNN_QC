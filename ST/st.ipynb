{
 "cells": [
  {
   "cell_type": "code",
   "execution_count": 1,
   "id": "1e313bf6-3725-41d3-a2b0-770ce1d2086b",
   "metadata": {
    "execution": {
     "iopub.execute_input": "2024-03-27T10:06:03.037839Z",
     "iopub.status.busy": "2024-03-27T10:06:03.037146Z",
     "iopub.status.idle": "2024-03-27T10:06:13.442852Z",
     "shell.execute_reply": "2024-03-27T10:06:13.442272Z",
     "shell.execute_reply.started": "2024-03-27T10:06:03.037815Z"
    }
   },
   "outputs": [
    {
     "name": "stdout",
     "output_type": "stream",
     "text": [
      "\u001b[31mERROR: pip's dependency resolver does not currently take into account all the packages that are installed. This behaviour is the source of the following dependency conflicts.\n",
      "transformers 4.21.3 requires tokenizers!=0.11.3,<0.13,>=0.11.1, but you have tokenizers 0.15.2 which is incompatible.\u001b[0m\u001b[31m\n",
      "\u001b[0m\u001b[33mWARNING: Running pip as the 'root' user can result in broken permissions and conflicting behaviour with the system package manager. It is recommended to use a virtual environment instead: https://pip.pypa.io/warnings/venv\u001b[0m\u001b[33m\n",
      "\u001b[0m"
     ]
    }
   ],
   "source": [
    "!pip install -q --upgrade flax optax rdkit tokenizers jax_tqdm"
   ]
  },
  {
   "cell_type": "code",
   "execution_count": 3,
   "id": "ab51f2b8-6cad-4067-8710-0f55c106fa74",
   "metadata": {
    "execution": {
     "iopub.execute_input": "2024-03-27T14:07:22.233313Z",
     "iopub.status.busy": "2024-03-27T14:07:22.232253Z",
     "iopub.status.idle": "2024-03-27T14:07:24.499382Z",
     "shell.execute_reply": "2024-03-27T14:07:24.498887Z",
     "shell.execute_reply.started": "2024-03-27T14:07:22.233273Z"
    }
   },
   "outputs": [
    {
     "name": "stderr",
     "output_type": "stream",
     "text": [
      "2024-03-27 14:07:23.904524: W external/xla/xla/service/gpu/nvptx_compiler.cc:742] The NVIDIA driver's CUDA version is 12.0 which is older than the ptxas CUDA version (12.4.99). Because the driver is older than the ptxas version, XLA is disabling parallel compilation, which may slow down compilation. You should update your NVIDIA driver or use the NVIDIA-provided CUDA forward compatibility packages.\n"
     ]
    },
    {
     "data": {
      "text/plain": [
       "{cuda(id=0)}"
      ]
     },
     "execution_count": 3,
     "metadata": {},
     "output_type": "execute_result"
    }
   ],
   "source": [
    "gpu_test = jnp.array([0,1,2])\n",
    "gpu_test.devices()"
   ]
  },
  {
   "cell_type": "code",
   "execution_count": 2,
   "id": "a53e6b77-6b8a-439d-8aaf-ab8f73fd5ba9",
   "metadata": {
    "execution": {
     "iopub.execute_input": "2024-03-27T14:07:20.341244Z",
     "iopub.status.busy": "2024-03-27T14:07:20.340715Z",
     "iopub.status.idle": "2024-03-27T14:07:21.974787Z",
     "shell.execute_reply": "2024-03-27T14:07:21.974185Z",
     "shell.execute_reply.started": "2024-03-27T14:07:20.341222Z"
    }
   },
   "outputs": [],
   "source": [
    "import jax\n",
    "import jax.numpy as jnp\n",
    "import flax\n",
    "from flax import linen as nn\n",
    "from flax import struct\n",
    "import optax\n",
    "from jax_tqdm import scan_tqdm\n",
    "\n",
    "# imoprt models from models.py\n",
    "from models import Transformer, Encoder, TransformerConfig\n",
    "\n",
    "# Viz\n",
    "import matplotlib.pyplot as plt\n",
    "\n",
    "# for use with loading and manipulating SMILES strings\n",
    "import sklearn\n",
    "from sklearn.ensemble import RandomForestRegressor\n",
    "\n",
    "import numpy as np\n",
    "import pandas as pd\n",
    "from rdkit import Chem\n",
    "from rdkit.Chem import AllChem\n",
    "\n",
    "# for preprocessor training/tokenizing data\n",
    "from tokenizers import Tokenizer\n",
    "from tokenizers.models import BPE\n",
    "from tokenizers.trainers import BpeTrainer"
   ]
  },
  {
   "cell_type": "markdown",
   "id": "a41e78f5-3d0b-4d4e-9ff9-552fc2309cc5",
   "metadata": {},
   "source": [
    "# Training a Tokenizer on QM9 Smiles Strings."
   ]
  },
  {
   "cell_type": "code",
   "execution_count": 55,
   "id": "83fe9849-05a4-45d2-bfaa-42e5fc3b5c8d",
   "metadata": {
    "execution": {
     "iopub.execute_input": "2024-03-10T12:37:53.035621Z",
     "iopub.status.busy": "2024-03-10T12:37:53.034975Z",
     "iopub.status.idle": "2024-03-10T12:37:53.550470Z",
     "shell.execute_reply": "2024-03-10T12:37:53.549951Z",
     "shell.execute_reply.started": "2024-03-10T12:37:53.035593Z"
    }
   },
   "outputs": [],
   "source": [
    "sample = pd.read_csv(\"train.csv\")"
   ]
  },
  {
   "cell_type": "code",
   "execution_count": 71,
   "id": "974cba26-9431-4513-b613-abdcd93b4fbd",
   "metadata": {
    "execution": {
     "iopub.execute_input": "2024-03-10T12:58:00.977585Z",
     "iopub.status.busy": "2024-03-10T12:58:00.976782Z",
     "iopub.status.idle": "2024-03-10T12:58:00.996142Z",
     "shell.execute_reply": "2024-03-10T12:58:00.995707Z",
     "shell.execute_reply.started": "2024-03-10T12:58:00.977560Z"
    }
   },
   "outputs": [
    {
     "data": {
      "image/png": "[encoded data removed]",
      "text/plain": [
       "<PIL.PngImagePlugin.PngImageFile image mode=RGB size=300x300>"
      ]
     },
     "execution_count": 71,
     "metadata": {},
     "output_type": "execute_result"
    }
   ],
   "source": [
    "sample = \"[H]O/N=C(\\C([H])([H])[H])C123OC1([H])(C2([H])[H])C3([H])[H]\"\n",
    "from rdkit.Chem import Draw\n",
    "\n",
    "mol = Chem.MolFromSmiles(sample, sanitize=False)\n",
    "Draw.MolToImage(mol, size=(300, 300))\n"
   ]
  },
  {
   "cell_type": "code",
   "execution_count": 3,
   "id": "9537da87-f9cd-4b4c-a8d2-a4053d7e7260",
   "metadata": {
    "execution": {
     "iopub.execute_input": "2024-03-10T12:24:11.014830Z",
     "iopub.status.busy": "2024-03-10T12:24:11.013781Z",
     "iopub.status.idle": "2024-03-10T12:24:11.018095Z",
     "shell.execute_reply": "2024-03-10T12:24:11.017580Z",
     "shell.execute_reply.started": "2024-03-10T12:24:11.014796Z"
    }
   },
   "outputs": [],
   "source": [
    "def load_data(name):\n",
    "    data = pd.read_csv(name)\n",
    "    return data.pop(\"smiles\"), data"
   ]
  },
  {
   "cell_type": "code",
   "execution_count": 4,
   "id": "123579b1-deb9-46dc-9f6b-f118ad09800a",
   "metadata": {
    "execution": {
     "iopub.execute_input": "2024-03-10T12:24:12.459574Z",
     "iopub.status.busy": "2024-03-10T12:24:12.459072Z",
     "iopub.status.idle": "2024-03-10T12:24:12.463552Z",
     "shell.execute_reply": "2024-03-10T12:24:12.462971Z",
     "shell.execute_reply.started": "2024-03-10T12:24:12.459552Z"
    }
   },
   "outputs": [],
   "source": [
    "def to_jax(tokenized):\n",
    "    tokens = [np.array(t.ids, dtype=np.uint8) for t in tokenized]\n",
    "    attn = [np.array(t.attention_mask, dtype=np.uint8) for t in tokenized]\n",
    "    return jnp.array(tokens), jnp.array(attn)"
   ]
  },
  {
   "cell_type": "code",
   "execution_count": 113,
   "id": "5d61484e-3351-4d09-afb4-9b126ddc492e",
   "metadata": {
    "execution": {
     "iopub.execute_input": "2024-03-10T13:18:55.367978Z",
     "iopub.status.busy": "2024-03-10T13:18:55.367717Z",
     "iopub.status.idle": "2024-03-10T13:18:55.371817Z",
     "shell.execute_reply": "2024-03-10T13:18:55.371141Z",
     "shell.execute_reply.started": "2024-03-10T13:18:55.367958Z"
    }
   },
   "outputs": [],
   "source": [
    "def sanitize_data(smiles_with_h, properties):\n",
    "    # Convert the SMILES string to an RDKit molecule object\n",
    "    mols = smiles_with_h.map(Chem.MolFromSmiles)\n",
    "\n",
    "    na_indexes = mols[mols.isna()].index\n",
    "    properties_cleaned = properties.drop(index=na_indexes)\n",
    "    mols = mols.dropna()\n",
    "    \n",
    "    # Remove explicit hydrogens\n",
    "    mols_no_h = mols.map(Chem.RemoveHs)\n",
    "    \n",
    "    # Convert back to SMILES string\n",
    "    return mols_no_h.map(Chem.MolToSmiles), properties_cleaned"
   ]
  },
  {
   "cell_type": "code",
   "execution_count": 120,
   "id": "68f60529-b2f9-4d94-9d5a-cd8cb48aef71",
   "metadata": {
    "execution": {
     "iopub.execute_input": "2024-03-10T13:21:10.464403Z",
     "iopub.status.busy": "2024-03-10T13:21:10.464108Z",
     "iopub.status.idle": "2024-03-10T13:21:22.651671Z",
     "shell.execute_reply": "2024-03-10T13:21:22.651099Z",
     "shell.execute_reply.started": "2024-03-10T13:21:10.464382Z"
    }
   },
   "outputs": [
    {
     "name": "stderr",
     "output_type": "stream",
     "text": [
      "[13:21:10] Explicit valence for atom # 4 C, 5, is greater than permitted\n",
      "[13:21:10] Explicit valence for atom # 4 C, 5, is greater than permitted\n",
      "[13:21:10] Explicit valence for atom # 5 C, 5, is greater than permitted\n",
      "[13:21:10] Explicit valence for atom # 5 C, 5, is greater than permitted\n",
      "[13:21:10] Explicit valence for atom # 7 C, 5, is greater than permitted\n",
      "[13:21:10] Explicit valence for atom # 7 C, 5, is greater than permitted\n",
      "[13:21:11] Explicit valence for atom # 4 C, 5, is greater than permitted\n",
      "[13:21:11] Explicit valence for atom # 1 C, 5, is greater than permitted\n",
      "[13:21:11] Explicit valence for atom # 5 C, 5, is greater than permitted\n",
      "[13:21:11] Explicit valence for atom # 1 C, 5, is greater than permitted\n",
      "[13:21:11] Explicit valence for atom # 5 C, 5, is greater than permitted\n",
      "[13:21:11] Explicit valence for atom # 5 C, 5, is greater than permitted\n",
      "[13:21:11] Explicit valence for atom # 1 C, 5, is greater than permitted\n",
      "[13:21:11] Explicit valence for atom # 6 C, 5, is greater than permitted\n",
      "[13:21:11] Explicit valence for atom # 5 C, 5, is greater than permitted\n",
      "[13:21:11] Explicit valence for atom # 2 C, 5, is greater than permitted\n",
      "[13:21:11] Explicit valence for atom # 1 C, 5, is greater than permitted\n",
      "[13:21:11] Explicit valence for atom # 2 C, 5, is greater than permitted\n",
      "[13:21:11] Explicit valence for atom # 3 C, 5, is greater than permitted\n",
      "[13:21:11] Explicit valence for atom # 3 C, 5, is greater than permitted\n",
      "[13:21:11] Explicit valence for atom # 2 C, 5, is greater than permitted\n",
      "[13:21:11] Explicit valence for atom # 3 C, 5, is greater than permitted\n",
      "[13:21:11] Explicit valence for atom # 2 C, 5, is greater than permitted\n",
      "[13:21:11] Explicit valence for atom # 3 C, 5, is greater than permitted\n",
      "[13:21:11] Explicit valence for atom # 3 C, 5, is greater than permitted\n",
      "[13:21:11] Explicit valence for atom # 3 C, 5, is greater than permitted\n",
      "[13:21:11] Explicit valence for atom # 6 C, 5, is greater than permitted\n",
      "[13:21:11] Explicit valence for atom # 6 C, 5, is greater than permitted\n",
      "[13:21:11] Explicit valence for atom # 6 C, 5, is greater than permitted\n",
      "[13:21:11] Explicit valence for atom # 5 C, 5, is greater than permitted\n",
      "[13:21:11] Explicit valence for atom # 5 C, 5, is greater than permitted\n",
      "[13:21:11] Explicit valence for atom # 3 C, 5, is greater than permitted\n",
      "[13:21:11] Explicit valence for atom # 3 C, 5, is greater than permitted\n",
      "[13:21:11] Explicit valence for atom # 5 C, 5, is greater than permitted\n",
      "[13:21:11] Explicit valence for atom # 5 C, 5, is greater than permitted\n",
      "[13:21:11] Explicit valence for atom # 5 C, 5, is greater than permitted\n",
      "[13:21:11] Explicit valence for atom # 2 C, 5, is greater than permitted\n",
      "[13:21:11] Explicit valence for atom # 3 C, 5, is greater than permitted\n",
      "[13:21:11] Explicit valence for atom # 3 C, 5, is greater than permitted\n",
      "[13:21:11] Explicit valence for atom # 1 C, 5, is greater than permitted\n",
      "[13:21:11] Explicit valence for atom # 3 C, 5, is greater than permitted\n",
      "[13:21:11] Explicit valence for atom # 3 C, 5, is greater than permitted\n",
      "[13:21:11] Explicit valence for atom # 3 C, 5, is greater than permitted\n",
      "[13:21:11] Explicit valence for atom # 3 C, 5, is greater than permitted\n",
      "[13:21:11] Explicit valence for atom # 3 C, 5, is greater than permitted\n",
      "[13:21:11] Explicit valence for atom # 3 C, 5, is greater than permitted\n",
      "[13:21:11] Explicit valence for atom # 5 C, 5, is greater than permitted\n",
      "[13:21:11] Explicit valence for atom # 5 C, 5, is greater than permitted\n",
      "[13:21:11] Explicit valence for atom # 4 C, 5, is greater than permitted\n",
      "[13:21:11] Explicit valence for atom # 4 C, 5, is greater than permitted\n",
      "[13:21:11] Explicit valence for atom # 5 C, 5, is greater than permitted\n",
      "[13:21:11] Explicit valence for atom # 5 C, 5, is greater than permitted\n",
      "[13:21:11] Explicit valence for atom # 5 C, 5, is greater than permitted\n",
      "[13:21:11] Explicit valence for atom # 5 C, 5, is greater than permitted\n",
      "[13:21:11] Explicit valence for atom # 5 C, 5, is greater than permitted\n",
      "[13:21:11] Explicit valence for atom # 6 C, 5, is greater than permitted\n",
      "[13:21:11] Explicit valence for atom # 6 C, 5, is greater than permitted\n",
      "[13:21:11] Explicit valence for atom # 3 C, 5, is greater than permitted\n",
      "[13:21:11] Explicit valence for atom # 3 C, 5, is greater than permitted\n",
      "[13:21:11] Explicit valence for atom # 6 C, 5, is greater than permitted\n",
      "[13:21:11] Explicit valence for atom # 2 C, 5, is greater than permitted\n",
      "[13:21:11] Explicit valence for atom # 2 C, 5, is greater than permitted\n",
      "[13:21:11] Explicit valence for atom # 2 C, 5, is greater than permitted\n",
      "[13:21:11] Explicit valence for atom # 5 C, 5, is greater than permitted\n",
      "[13:21:11] Explicit valence for atom # 5 C, 5, is greater than permitted\n",
      "[13:21:11] Explicit valence for atom # 5 C, 5, is greater than permitted\n",
      "[13:21:11] Explicit valence for atom # 5 C, 5, is greater than permitted\n",
      "[13:21:11] Explicit valence for atom # 4 C, 5, is greater than permitted\n",
      "[13:21:11] Explicit valence for atom # 4 C, 5, is greater than permitted\n",
      "[13:21:11] Explicit valence for atom # 5 C, 5, is greater than permitted\n",
      "[13:21:11] Explicit valence for atom # 5 C, 5, is greater than permitted\n",
      "[13:21:11] Explicit valence for atom # 5 C, 5, is greater than permitted\n",
      "[13:21:11] Explicit valence for atom # 5 C, 5, is greater than permitted\n",
      "[13:21:11] Explicit valence for atom # 5 C, 5, is greater than permitted\n",
      "[13:21:11] Explicit valence for atom # 5 C, 5, is greater than permitted\n",
      "[13:21:11] Explicit valence for atom # 4 C, 5, is greater than permitted\n",
      "[13:21:11] Explicit valence for atom # 4 C, 5, is greater than permitted\n",
      "[13:21:11] Explicit valence for atom # 3 C, 5, is greater than permitted\n",
      "[13:21:11] Explicit valence for atom # 4 C, 5, is greater than permitted\n",
      "[13:21:11] Explicit valence for atom # 5 C, 5, is greater than permitted\n",
      "[13:21:11] Explicit valence for atom # 5 C, 5, is greater than permitted\n",
      "[13:21:11] Explicit valence for atom # 5 C, 5, is greater than permitted\n",
      "[13:21:11] Explicit valence for atom # 4 C, 5, is greater than permitted\n",
      "[13:21:11] Explicit valence for atom # 4 C, 5, is greater than permitted\n",
      "[13:21:11] Explicit valence for atom # 4 C, 5, is greater than permitted\n",
      "[13:21:11] Explicit valence for atom # 4 C, 5, is greater than permitted\n",
      "[13:21:11] Explicit valence for atom # 3 C, 5, is greater than permitted\n",
      "[13:21:11] Explicit valence for atom # 5 C, 5, is greater than permitted\n",
      "[13:21:11] Explicit valence for atom # 5 C, 5, is greater than permitted\n",
      "[13:21:11] Explicit valence for atom # 6 C, 5, is greater than permitted\n",
      "[13:21:11] Explicit valence for atom # 6 C, 5, is greater than permitted\n",
      "[13:21:11] Explicit valence for atom # 6 C, 5, is greater than permitted\n",
      "[13:21:11] Explicit valence for atom # 4 C, 5, is greater than permitted\n",
      "[13:21:11] Explicit valence for atom # 6 C, 5, is greater than permitted\n",
      "[13:21:11] Explicit valence for atom # 4 C, 5, is greater than permitted\n",
      "[13:21:11] Explicit valence for atom # 4 C, 5, is greater than permitted\n",
      "[13:21:11] Explicit valence for atom # 3 C, 5, is greater than permitted\n",
      "[13:21:11] Explicit valence for atom # 3 C, 5, is greater than permitted\n",
      "[13:21:11] Explicit valence for atom # 4 C, 5, is greater than permitted\n",
      "[13:21:11] Explicit valence for atom # 4 C, 5, is greater than permitted\n",
      "[13:21:11] Explicit valence for atom # 6 C, 5, is greater than permitted\n",
      "[13:21:11] Explicit valence for atom # 3 C, 5, is greater than permitted\n",
      "[13:21:11] Explicit valence for atom # 4 C, 5, is greater than permitted\n",
      "[13:21:11] Explicit valence for atom # 6 C, 5, is greater than permitted\n",
      "[13:21:11] Explicit valence for atom # 3 C, 5, is greater than permitted\n",
      "[13:21:11] Explicit valence for atom # 3 C, 5, is greater than permitted\n",
      "[13:21:11] Explicit valence for atom # 2 C, 5, is greater than permitted\n",
      "[13:21:11] Explicit valence for atom # 2 C, 5, is greater than permitted\n",
      "[13:21:11] Explicit valence for atom # 4 C, 5, is greater than permitted\n",
      "[13:21:11] Explicit valence for atom # 3 C, 5, is greater than permitted\n",
      "[13:21:11] Explicit valence for atom # 3 C, 5, is greater than permitted\n",
      "[13:21:11] Explicit valence for atom # 3 C, 5, is greater than permitted\n",
      "[13:21:11] Explicit valence for atom # 3 C, 5, is greater than permitted\n",
      "[13:21:11] Explicit valence for atom # 2 C, 5, is greater than permitted\n",
      "[13:21:11] Explicit valence for atom # 5 C, 5, is greater than permitted\n",
      "[13:21:11] Explicit valence for atom # 5 C, 5, is greater than permitted\n",
      "[13:21:11] Explicit valence for atom # 2 C, 5, is greater than permitted\n",
      "[13:21:11] Explicit valence for atom # 5 C, 5, is greater than permitted\n",
      "[13:21:11] Explicit valence for atom # 5 C, 5, is greater than permitted\n",
      "[13:21:11] Explicit valence for atom # 3 C, 5, is greater than permitted\n",
      "[13:21:11] Explicit valence for atom # 2 C, 5, is greater than permitted\n",
      "[13:21:11] Explicit valence for atom # 2 C, 5, is greater than permitted\n",
      "[13:21:11] Explicit valence for atom # 4 C, 5, is greater than permitted\n",
      "[13:21:11] Explicit valence for atom # 2 C, 5, is greater than permitted\n",
      "[13:21:11] Explicit valence for atom # 2 C, 5, is greater than permitted\n",
      "[13:21:11] Explicit valence for atom # 4 C, 5, is greater than permitted\n",
      "[13:21:11] Explicit valence for atom # 4 C, 5, is greater than permitted\n",
      "[13:21:11] Explicit valence for atom # 4 C, 5, is greater than permitted\n",
      "[13:21:11] Explicit valence for atom # 4 C, 5, is greater than permitted\n",
      "[13:21:11] Explicit valence for atom # 3 C, 5, is greater than permitted\n",
      "[13:21:11] Explicit valence for atom # 4 C, 5, is greater than permitted\n",
      "[13:21:11] Explicit valence for atom # 3 C, 5, is greater than permitted\n",
      "[13:21:11] Explicit valence for atom # 3 C, 5, is greater than permitted\n",
      "[13:21:11] Explicit valence for atom # 3 C, 5, is greater than permitted\n",
      "[13:21:11] Explicit valence for atom # 4 C, 5, is greater than permitted\n",
      "[13:21:11] Explicit valence for atom # 4 C, 5, is greater than permitted\n",
      "[13:21:11] Explicit valence for atom # 4 C, 5, is greater than permitted\n",
      "[13:21:11] Explicit valence for atom # 4 C, 5, is greater than permitted\n",
      "[13:21:11] Explicit valence for atom # 2 C, 5, is greater than permitted\n",
      "[13:21:11] Explicit valence for atom # 2 C, 5, is greater than permitted\n",
      "[13:21:11] Explicit valence for atom # 3 C, 5, is greater than permitted\n",
      "[13:21:11] Explicit valence for atom # 3 C, 5, is greater than permitted\n",
      "[13:21:11] Explicit valence for atom # 3 C, 5, is greater than permitted\n",
      "[13:21:11] Explicit valence for atom # 3 C, 5, is greater than permitted\n",
      "[13:21:11] Explicit valence for atom # 3 C, 5, is greater than permitted\n",
      "[13:21:11] Explicit valence for atom # 3 C, 5, is greater than permitted\n",
      "[13:21:11] Explicit valence for atom # 4 C, 5, is greater than permitted\n",
      "[13:21:11] Explicit valence for atom # 3 C, 5, is greater than permitted\n",
      "[13:21:11] Explicit valence for atom # 3 C, 5, is greater than permitted\n",
      "[13:21:11] Explicit valence for atom # 4 C, 5, is greater than permitted\n",
      "[13:21:11] Explicit valence for atom # 4 C, 5, is greater than permitted\n",
      "[13:21:11] Explicit valence for atom # 4 C, 5, is greater than permitted\n",
      "[13:21:11] Explicit valence for atom # 5 C, 5, is greater than permitted\n",
      "[13:21:11] Explicit valence for atom # 5 C, 5, is greater than permitted\n",
      "[13:21:11] Explicit valence for atom # 5 C, 5, is greater than permitted\n",
      "[13:21:11] Explicit valence for atom # 1 C, 5, is greater than permitted\n",
      "[13:21:11] Explicit valence for atom # 5 C, 5, is greater than permitted\n",
      "[13:21:11] Explicit valence for atom # 5 C, 5, is greater than permitted\n",
      "[13:21:11] Explicit valence for atom # 5 C, 5, is greater than permitted\n",
      "[13:21:11] Explicit valence for atom # 5 C, 5, is greater than permitted\n",
      "[13:21:11] Explicit valence for atom # 5 C, 5, is greater than permitted\n",
      "[13:21:11] Explicit valence for atom # 5 C, 5, is greater than permitted\n",
      "[13:21:11] Explicit valence for atom # 5 C, 5, is greater than permitted\n",
      "[13:21:11] Explicit valence for atom # 5 C, 5, is greater than permitted\n",
      "[13:21:11] Explicit valence for atom # 5 C, 5, is greater than permitted\n",
      "[13:21:11] Explicit valence for atom # 5 C, 5, is greater than permitted\n",
      "[13:21:11] Explicit valence for atom # 4 C, 5, is greater than permitted\n",
      "[13:21:11] Explicit valence for atom # 4 C, 5, is greater than permitted\n",
      "[13:21:11] Explicit valence for atom # 4 C, 5, is greater than permitted\n",
      "[13:21:11] Explicit valence for atom # 4 C, 5, is greater than permitted\n",
      "[13:21:11] Explicit valence for atom # 4 C, 5, is greater than permitted\n",
      "[13:21:11] Explicit valence for atom # 4 C, 5, is greater than permitted\n",
      "[13:21:11] Explicit valence for atom # 4 C, 5, is greater than permitted\n",
      "[13:21:11] Explicit valence for atom # 4 C, 5, is greater than permitted\n",
      "[13:21:11] Explicit valence for atom # 4 C, 5, is greater than permitted\n",
      "[13:21:11] Explicit valence for atom # 4 C, 5, is greater than permitted\n",
      "[13:21:11] Explicit valence for atom # 4 C, 5, is greater than permitted\n",
      "[13:21:11] Explicit valence for atom # 5 C, 5, is greater than permitted\n",
      "[13:21:11] Explicit valence for atom # 5 C, 5, is greater than permitted\n",
      "[13:21:11] Explicit valence for atom # 4 C, 5, is greater than permitted\n",
      "[13:21:11] Explicit valence for atom # 3 C, 5, is greater than permitted\n",
      "[13:21:11] Explicit valence for atom # 3 C, 5, is greater than permitted\n",
      "[13:21:11] Explicit valence for atom # 4 C, 5, is greater than permitted\n",
      "[13:21:11] Explicit valence for atom # 4 C, 5, is greater than permitted\n",
      "[13:21:11] Explicit valence for atom # 4 C, 5, is greater than permitted\n",
      "[13:21:11] Explicit valence for atom # 3 C, 5, is greater than permitted\n",
      "[13:21:11] Explicit valence for atom # 5 C, 5, is greater than permitted\n",
      "[13:21:11] Explicit valence for atom # 3 C, 5, is greater than permitted\n",
      "[13:21:11] Explicit valence for atom # 5 C, 5, is greater than permitted\n",
      "[13:21:11] Explicit valence for atom # 5 C, 5, is greater than permitted\n",
      "[13:21:11] Explicit valence for atom # 5 C, 5, is greater than permitted\n",
      "[13:21:11] Explicit valence for atom # 6 C, 5, is greater than permitted\n",
      "[13:21:11] Explicit valence for atom # 2 C, 5, is greater than permitted\n",
      "[13:21:11] Explicit valence for atom # 3 C, 5, is greater than permitted\n",
      "[13:21:11] Explicit valence for atom # 5 C, 5, is greater than permitted\n",
      "[13:21:11] Explicit valence for atom # 6 C, 5, is greater than permitted\n",
      "[13:21:11] Explicit valence for atom # 3 C, 5, is greater than permitted\n",
      "[13:21:11] Explicit valence for atom # 3 C, 5, is greater than permitted\n",
      "[13:21:11] Explicit valence for atom # 6 C, 5, is greater than permitted\n",
      "[13:21:11] Explicit valence for atom # 2 C, 5, is greater than permitted\n",
      "[13:21:11] Explicit valence for atom # 3 C, 5, is greater than permitted\n",
      "[13:21:11] Explicit valence for atom # 2 C, 5, is greater than permitted\n",
      "[13:21:11] Explicit valence for atom # 5 C, 5, is greater than permitted\n",
      "[13:21:11] Explicit valence for atom # 5 C, 5, is greater than permitted\n",
      "[13:21:11] Explicit valence for atom # 4 C, 5, is greater than permitted\n",
      "[13:21:11] Explicit valence for atom # 5 C, 5, is greater than permitted\n",
      "[13:21:11] Explicit valence for atom # 5 C, 5, is greater than permitted\n",
      "[13:21:11] Explicit valence for atom # 5 C, 5, is greater than permitted\n",
      "[13:21:11] Explicit valence for atom # 5 C, 5, is greater than permitted\n",
      "[13:21:11] Explicit valence for atom # 6 C, 5, is greater than permitted\n",
      "[13:21:11] Explicit valence for atom # 6 C, 5, is greater than permitted\n",
      "[13:21:11] Explicit valence for atom # 4 C, 5, is greater than permitted\n",
      "[13:21:11] Explicit valence for atom # 6 C, 5, is greater than permitted\n",
      "[13:21:11] Explicit valence for atom # 5 C, 5, is greater than permitted\n",
      "[13:21:11] Explicit valence for atom # 5 C, 5, is greater than permitted\n",
      "[13:21:11] Explicit valence for atom # 3 C, 5, is greater than permitted\n",
      "[13:21:11] Explicit valence for atom # 4 C, 5, is greater than permitted\n",
      "[13:21:11] Explicit valence for atom # 5 C, 5, is greater than permitted\n",
      "[13:21:11] Explicit valence for atom # 5 C, 5, is greater than permitted\n",
      "[13:21:11] Explicit valence for atom # 5 C, 5, is greater than permitted\n",
      "[13:21:11] Explicit valence for atom # 5 C, 5, is greater than permitted\n",
      "[13:21:11] Explicit valence for atom # 3 C, 5, is greater than permitted\n",
      "[13:21:11] Explicit valence for atom # 5 C, 5, is greater than permitted\n",
      "[13:21:11] Explicit valence for atom # 2 C, 5, is greater than permitted\n",
      "[13:21:11] Explicit valence for atom # 5 C, 5, is greater than permitted\n",
      "[13:21:11] Explicit valence for atom # 3 C, 5, is greater than permitted\n",
      "[13:21:11] Explicit valence for atom # 5 C, 5, is greater than permitted\n",
      "[13:21:11] Explicit valence for atom # 5 C, 5, is greater than permitted\n",
      "[13:21:11] Explicit valence for atom # 5 C, 5, is greater than permitted\n",
      "[13:21:11] Explicit valence for atom # 4 C, 5, is greater than permitted\n",
      "[13:21:11] Explicit valence for atom # 1 C, 5, is greater than permitted\n",
      "[13:21:11] Explicit valence for atom # 5 C, 5, is greater than permitted\n",
      "[13:21:11] Explicit valence for atom # 1 C, 5, is greater than permitted\n",
      "[13:21:11] Explicit valence for atom # 2 C, 5, is greater than permitted\n",
      "[13:21:11] Explicit valence for atom # 4 C, 5, is greater than permitted\n",
      "[13:21:11] Explicit valence for atom # 6 C, 5, is greater than permitted\n",
      "[13:21:11] Explicit valence for atom # 2 C, 5, is greater than permitted\n",
      "[13:21:11] Explicit valence for atom # 3 C, 5, is greater than permitted\n",
      "[13:21:11] Explicit valence for atom # 3 C, 5, is greater than permitted\n",
      "[13:21:11] Explicit valence for atom # 5 C, 5, is greater than permitted\n",
      "[13:21:11] Explicit valence for atom # 5 C, 5, is greater than permitted\n",
      "[13:21:11] Explicit valence for atom # 5 C, 5, is greater than permitted\n",
      "[13:21:11] Explicit valence for atom # 5 C, 5, is greater than permitted\n",
      "[13:21:11] Explicit valence for atom # 4 C, 5, is greater than permitted\n",
      "[13:21:11] Explicit valence for atom # 6 C, 5, is greater than permitted\n",
      "[13:21:11] Explicit valence for atom # 6 C, 5, is greater than permitted\n",
      "[13:21:11] Explicit valence for atom # 3 C, 5, is greater than permitted\n",
      "[13:21:11] Explicit valence for atom # 2 C, 5, is greater than permitted\n",
      "[13:21:11] Explicit valence for atom # 2 C, 5, is greater than permitted\n",
      "[13:21:11] Explicit valence for atom # 2 C, 5, is greater than permitted\n",
      "[13:21:11] Explicit valence for atom # 3 C, 5, is greater than permitted\n",
      "[13:21:11] Explicit valence for atom # 2 C, 5, is greater than permitted\n",
      "[13:21:11] Explicit valence for atom # 5 C, 5, is greater than permitted\n",
      "[13:21:11] Explicit valence for atom # 3 C, 5, is greater than permitted\n",
      "[13:21:11] Explicit valence for atom # 3 C, 5, is greater than permitted\n",
      "[13:21:11] Explicit valence for atom # 3 C, 5, is greater than permitted\n",
      "[13:21:11] Explicit valence for atom # 4 C, 5, is greater than permitted\n",
      "[13:21:11] Explicit valence for atom # 4 C, 5, is greater than permitted\n",
      "[13:21:11] Explicit valence for atom # 4 C, 5, is greater than permitted\n",
      "[13:21:11] Explicit valence for atom # 5 C, 5, is greater than permitted\n",
      "[13:21:11] Explicit valence for atom # 4 C, 5, is greater than permitted\n",
      "[13:21:11] Explicit valence for atom # 4 C, 5, is greater than permitted\n",
      "[13:21:11] Explicit valence for atom # 5 C, 5, is greater than permitted\n",
      "[13:21:11] Explicit valence for atom # 5 C, 5, is greater than permitted\n",
      "[13:21:11] Explicit valence for atom # 5 C, 5, is greater than permitted\n",
      "[13:21:11] Explicit valence for atom # 5 C, 5, is greater than permitted\n",
      "[13:21:11] Explicit valence for atom # 5 C, 5, is greater than permitted\n",
      "[13:21:11] Explicit valence for atom # 5 C, 5, is greater than permitted\n",
      "[13:21:11] Explicit valence for atom # 5 C, 5, is greater than permitted\n",
      "[13:21:11] Explicit valence for atom # 5 C, 5, is greater than permitted\n",
      "[13:21:11] Explicit valence for atom # 5 C, 5, is greater than permitted\n",
      "[13:21:11] Explicit valence for atom # 4 C, 5, is greater than permitted\n",
      "[13:21:11] Explicit valence for atom # 4 C, 5, is greater than permitted\n",
      "[13:21:11] Explicit valence for atom # 4 C, 5, is greater than permitted\n",
      "[13:21:11] Explicit valence for atom # 5 C, 5, is greater than permitted\n",
      "[13:21:11] Explicit valence for atom # 5 C, 5, is greater than permitted\n",
      "[13:21:11] Explicit valence for atom # 3 C, 5, is greater than permitted\n",
      "[13:21:11] Explicit valence for atom # 4 C, 5, is greater than permitted\n",
      "[13:21:11] Explicit valence for atom # 3 C, 5, is greater than permitted\n",
      "[13:21:11] Explicit valence for atom # 3 C, 5, is greater than permitted\n",
      "[13:21:11] Explicit valence for atom # 4 C, 5, is greater than permitted\n",
      "[13:21:11] Explicit valence for atom # 5 C, 5, is greater than permitted\n",
      "[13:21:11] Explicit valence for atom # 4 C, 5, is greater than permitted\n",
      "[13:21:11] Explicit valence for atom # 5 C, 5, is greater than permitted\n",
      "[13:21:11] Explicit valence for atom # 3 C, 5, is greater than permitted\n",
      "[13:21:11] Explicit valence for atom # 4 C, 5, is greater than permitted\n",
      "[13:21:11] Explicit valence for atom # 5 C, 5, is greater than permitted\n",
      "[13:21:11] Explicit valence for atom # 4 C, 5, is greater than permitted\n",
      "[13:21:11] Explicit valence for atom # 5 C, 5, is greater than permitted\n",
      "[13:21:11] Explicit valence for atom # 4 C, 5, is greater than permitted\n",
      "[13:21:11] Explicit valence for atom # 5 C, 5, is greater than permitted\n",
      "[13:21:11] Explicit valence for atom # 5 C, 5, is greater than permitted\n",
      "[13:21:11] Explicit valence for atom # 5 C, 5, is greater than permitted\n",
      "[13:21:11] Explicit valence for atom # 5 C, 5, is greater than permitted\n",
      "[13:21:11] Explicit valence for atom # 6 C, 5, is greater than permitted\n",
      "[13:21:11] Explicit valence for atom # 2 C, 5, is greater than permitted\n",
      "[13:21:11] Explicit valence for atom # 2 C, 5, is greater than permitted\n",
      "[13:21:11] Explicit valence for atom # 2 C, 5, is greater than permitted\n",
      "[13:21:11] Explicit valence for atom # 2 C, 5, is greater than permitted\n",
      "[13:21:11] Explicit valence for atom # 2 C, 5, is greater than permitted\n",
      "[13:21:11] Explicit valence for atom # 3 C, 5, is greater than permitted\n",
      "[13:21:11] Explicit valence for atom # 2 C, 5, is greater than permitted\n",
      "[13:21:11] Explicit valence for atom # 2 C, 5, is greater than permitted\n",
      "[13:21:11] Explicit valence for atom # 2 C, 5, is greater than permitted\n",
      "[13:21:11] Explicit valence for atom # 2 C, 5, is greater than permitted\n",
      "[13:21:11] Explicit valence for atom # 2 C, 5, is greater than permitted\n",
      "[13:21:11] Explicit valence for atom # 2 C, 5, is greater than permitted\n",
      "[13:21:11] Explicit valence for atom # 6 C, 5, is greater than permitted\n",
      "[13:21:11] Explicit valence for atom # 6 C, 5, is greater than permitted\n",
      "[13:21:11] Explicit valence for atom # 6 C, 5, is greater than permitted\n",
      "[13:21:11] Explicit valence for atom # 6 C, 5, is greater than permitted\n",
      "[13:21:11] Explicit valence for atom # 5 C, 5, is greater than permitted\n",
      "[13:21:11] Explicit valence for atom # 2 C, 5, is greater than permitted\n",
      "[13:21:11] Explicit valence for atom # 3 C, 5, is greater than permitted\n",
      "[13:21:11] Explicit valence for atom # 3 C, 5, is greater than permitted\n",
      "[13:21:11] Explicit valence for atom # 3 C, 5, is greater than permitted\n",
      "[13:21:11] Explicit valence for atom # 3 C, 5, is greater than permitted\n",
      "[13:21:11] Explicit valence for atom # 3 C, 5, is greater than permitted\n",
      "[13:21:11] Explicit valence for atom # 3 C, 5, is greater than permitted\n",
      "[13:21:11] Explicit valence for atom # 3 C, 5, is greater than permitted\n",
      "[13:21:11] Explicit valence for atom # 5 C, 5, is greater than permitted\n",
      "[13:21:12] Explicit valence for atom # 4 C, 5, is greater than permitted\n",
      "[13:21:12] Explicit valence for atom # 4 C, 5, is greater than permitted\n",
      "[13:21:12] Explicit valence for atom # 5 C, 5, is greater than permitted\n",
      "[13:21:12] Explicit valence for atom # 5 C, 5, is greater than permitted\n",
      "[13:21:12] Explicit valence for atom # 5 C, 5, is greater than permitted\n",
      "[13:21:12] Explicit valence for atom # 5 C, 5, is greater than permitted\n",
      "[13:21:12] Explicit valence for atom # 6 C, 5, is greater than permitted\n",
      "[13:21:12] Explicit valence for atom # 6 C, 5, is greater than permitted\n",
      "[13:21:12] Explicit valence for atom # 6 C, 5, is greater than permitted\n",
      "[13:21:12] Explicit valence for atom # 3 C, 5, is greater than permitted\n",
      "[13:21:12] Explicit valence for atom # 3 C, 5, is greater than permitted\n",
      "[13:21:12] Explicit valence for atom # 6 C, 5, is greater than permitted\n",
      "[13:21:12] Explicit valence for atom # 6 C, 5, is greater than permitted\n",
      "[13:21:12] Explicit valence for atom # 5 C, 5, is greater than permitted\n",
      "[13:21:12] Explicit valence for atom # 5 C, 5, is greater than permitted\n",
      "[13:21:12] Explicit valence for atom # 5 C, 5, is greater than permitted\n",
      "[13:21:12] Explicit valence for atom # 5 C, 5, is greater than permitted\n",
      "[13:21:12] Explicit valence for atom # 5 C, 5, is greater than permitted\n",
      "[13:21:12] Explicit valence for atom # 4 C, 5, is greater than permitted\n",
      "[13:21:12] Explicit valence for atom # 4 C, 5, is greater than permitted\n",
      "[13:21:12] Explicit valence for atom # 4 C, 5, is greater than permitted\n",
      "[13:21:12] Explicit valence for atom # 4 C, 5, is greater than permitted\n",
      "[13:21:12] Explicit valence for atom # 5 C, 5, is greater than permitted\n",
      "[13:21:12] Explicit valence for atom # 5 C, 5, is greater than permitted\n",
      "[13:21:12] Explicit valence for atom # 5 C, 5, is greater than permitted\n",
      "[13:21:12] Explicit valence for atom # 5 C, 5, is greater than permitted\n",
      "[13:21:12] Explicit valence for atom # 5 C, 5, is greater than permitted\n",
      "[13:21:12] Explicit valence for atom # 5 C, 5, is greater than permitted\n",
      "[13:21:12] Explicit valence for atom # 5 C, 5, is greater than permitted\n",
      "[13:21:12] Explicit valence for atom # 5 C, 5, is greater than permitted\n",
      "[13:21:12] Explicit valence for atom # 3 C, 5, is greater than permitted\n",
      "[13:21:12] Explicit valence for atom # 6 C, 5, is greater than permitted\n",
      "[13:21:12] Explicit valence for atom # 2 C, 5, is greater than permitted\n",
      "[13:21:12] Explicit valence for atom # 3 C, 5, is greater than permitted\n",
      "[13:21:12] Explicit valence for atom # 5 C, 5, is greater than permitted\n",
      "[13:21:12] Explicit valence for atom # 4 C, 5, is greater than permitted\n",
      "[13:21:12] Explicit valence for atom # 4 C, 5, is greater than permitted\n",
      "[13:21:12] Explicit valence for atom # 2 C, 5, is greater than permitted\n",
      "[13:21:12] Explicit valence for atom # 4 C, 5, is greater than permitted\n",
      "[13:21:12] Explicit valence for atom # 5 C, 5, is greater than permitted\n",
      "[13:21:12] Explicit valence for atom # 5 C, 5, is greater than permitted\n",
      "[13:21:12] Explicit valence for atom # 5 C, 5, is greater than permitted\n",
      "[13:21:12] Explicit valence for atom # 5 C, 5, is greater than permitted\n",
      "[13:21:12] Explicit valence for atom # 5 C, 5, is greater than permitted\n",
      "[13:21:12] Explicit valence for atom # 5 C, 5, is greater than permitted\n",
      "[13:21:12] Explicit valence for atom # 3 C, 5, is greater than permitted\n",
      "[13:21:12] Explicit valence for atom # 3 C, 5, is greater than permitted\n",
      "[13:21:12] Explicit valence for atom # 6 C, 5, is greater than permitted\n",
      "[13:21:12] Explicit valence for atom # 2 C, 5, is greater than permitted\n",
      "[13:21:12] Explicit valence for atom # 3 C, 5, is greater than permitted\n",
      "[13:21:12] Explicit valence for atom # 2 C, 5, is greater than permitted\n",
      "[13:21:12] Explicit valence for atom # 6 C, 5, is greater than permitted\n",
      "[13:21:12] Explicit valence for atom # 6 C, 5, is greater than permitted\n",
      "[13:21:12] Explicit valence for atom # 3 C, 5, is greater than permitted\n",
      "[13:21:12] Explicit valence for atom # 3 C, 5, is greater than permitted\n",
      "[13:21:12] Explicit valence for atom # 5 C, 5, is greater than permitted\n",
      "[13:21:12] Explicit valence for atom # 5 C, 5, is greater than permitted\n",
      "[13:21:12] Explicit valence for atom # 5 C, 5, is greater than permitted\n",
      "[13:21:12] Explicit valence for atom # 5 C, 5, is greater than permitted\n",
      "[13:21:12] Explicit valence for atom # 4 C, 5, is greater than permitted\n",
      "[13:21:12] Explicit valence for atom # 4 C, 5, is greater than permitted\n",
      "[13:21:12] Explicit valence for atom # 4 C, 5, is greater than permitted\n",
      "[13:21:12] Explicit valence for atom # 4 C, 5, is greater than permitted\n",
      "[13:21:12] Explicit valence for atom # 4 C, 5, is greater than permitted\n",
      "[13:21:12] Explicit valence for atom # 5 C, 5, is greater than permitted\n",
      "[13:21:12] Explicit valence for atom # 5 C, 5, is greater than permitted\n",
      "[13:21:12] Explicit valence for atom # 5 C, 5, is greater than permitted\n",
      "[13:21:12] Explicit valence for atom # 5 C, 5, is greater than permitted\n",
      "[13:21:12] Explicit valence for atom # 5 C, 5, is greater than permitted\n",
      "[13:21:12] Explicit valence for atom # 5 C, 5, is greater than permitted\n",
      "[13:21:12] Explicit valence for atom # 4 C, 5, is greater than permitted\n",
      "[13:21:12] Explicit valence for atom # 4 C, 5, is greater than permitted\n",
      "[13:21:12] Explicit valence for atom # 4 C, 5, is greater than permitted\n",
      "[13:21:12] Explicit valence for atom # 4 C, 5, is greater than permitted\n",
      "[13:21:12] Explicit valence for atom # 4 C, 5, is greater than permitted\n",
      "[13:21:12] Explicit valence for atom # 5 C, 5, is greater than permitted\n",
      "[13:21:12] Explicit valence for atom # 5 C, 5, is greater than permitted\n",
      "[13:21:12] Explicit valence for atom # 5 C, 5, is greater than permitted\n",
      "[13:21:12] Explicit valence for atom # 5 C, 5, is greater than permitted\n",
      "[13:21:12] Explicit valence for atom # 5 C, 5, is greater than permitted\n",
      "[13:21:12] Explicit valence for atom # 4 C, 5, is greater than permitted\n",
      "[13:21:12] Explicit valence for atom # 4 C, 5, is greater than permitted\n",
      "[13:21:12] Explicit valence for atom # 5 C, 5, is greater than permitted\n",
      "[13:21:12] Explicit valence for atom # 5 C, 5, is greater than permitted\n",
      "[13:21:12] Explicit valence for atom # 5 C, 5, is greater than permitted\n",
      "[13:21:12] Explicit valence for atom # 5 C, 5, is greater than permitted\n",
      "[13:21:12] Explicit valence for atom # 5 C, 5, is greater than permitted\n",
      "[13:21:12] Explicit valence for atom # 5 C, 5, is greater than permitted\n",
      "[13:21:12] Explicit valence for atom # 3 C, 5, is greater than permitted\n",
      "[13:21:12] Explicit valence for atom # 3 C, 5, is greater than permitted\n",
      "[13:21:12] Explicit valence for atom # 3 C, 5, is greater than permitted\n",
      "[13:21:12] Explicit valence for atom # 3 C, 5, is greater than permitted\n",
      "[13:21:12] Explicit valence for atom # 6 C, 5, is greater than permitted\n",
      "[13:21:12] Explicit valence for atom # 2 C, 5, is greater than permitted\n",
      "[13:21:12] Explicit valence for atom # 3 C, 5, is greater than permitted\n",
      "[13:21:12] Explicit valence for atom # 6 C, 5, is greater than permitted\n",
      "[13:21:12] Explicit valence for atom # 6 C, 5, is greater than permitted\n",
      "[13:21:12] Explicit valence for atom # 3 C, 5, is greater than permitted\n",
      "[13:21:12] Explicit valence for atom # 3 C, 5, is greater than permitted\n",
      "[13:21:12] Explicit valence for atom # 6 C, 5, is greater than permitted\n",
      "[13:21:12] Explicit valence for atom # 5 C, 5, is greater than permitted\n",
      "[13:21:12] Explicit valence for atom # 4 C, 5, is greater than permitted\n",
      "[13:21:12] Explicit valence for atom # 5 C, 5, is greater than permitted\n",
      "[13:21:12] Explicit valence for atom # 4 C, 5, is greater than permitted\n",
      "[13:21:12] Explicit valence for atom # 4 C, 5, is greater than permitted\n",
      "[13:21:12] Explicit valence for atom # 4 C, 5, is greater than permitted\n",
      "[13:21:12] Explicit valence for atom # 2 C, 5, is greater than permitted\n",
      "[13:21:12] Explicit valence for atom # 4 C, 5, is greater than permitted\n",
      "[13:21:12] Explicit valence for atom # 4 C, 5, is greater than permitted\n",
      "[13:21:12] Explicit valence for atom # 4 C, 5, is greater than permitted\n",
      "[13:21:12] Explicit valence for atom # 2 C, 5, is greater than permitted\n",
      "[13:21:12] Explicit valence for atom # 4 C, 5, is greater than permitted\n",
      "[13:21:12] Explicit valence for atom # 4 C, 5, is greater than permitted\n",
      "[13:21:12] Explicit valence for atom # 5 C, 5, is greater than permitted\n",
      "[13:21:12] Explicit valence for atom # 4 C, 5, is greater than permitted\n",
      "[13:21:12] Explicit valence for atom # 5 C, 5, is greater than permitted\n",
      "[13:21:12] Explicit valence for atom # 4 C, 5, is greater than permitted\n",
      "[13:21:12] Explicit valence for atom # 4 C, 5, is greater than permitted\n",
      "[13:21:12] Explicit valence for atom # 5 C, 5, is greater than permitted\n",
      "[13:21:12] Explicit valence for atom # 5 C, 5, is greater than permitted\n",
      "[13:21:12] Explicit valence for atom # 5 C, 5, is greater than permitted\n",
      "[13:21:12] Explicit valence for atom # 5 C, 5, is greater than permitted\n",
      "[13:21:12] Explicit valence for atom # 5 C, 5, is greater than permitted\n",
      "[13:21:12] Explicit valence for atom # 5 C, 5, is greater than permitted\n",
      "[13:21:12] Explicit valence for atom # 5 C, 5, is greater than permitted\n",
      "[13:21:12] Explicit valence for atom # 5 C, 5, is greater than permitted\n",
      "[13:21:12] Explicit valence for atom # 4 C, 5, is greater than permitted\n",
      "[13:21:12] Explicit valence for atom # 4 C, 5, is greater than permitted\n",
      "[13:21:12] Explicit valence for atom # 4 C, 5, is greater than permitted\n",
      "[13:21:12] Explicit valence for atom # 6 C, 5, is greater than permitted\n",
      "[13:21:12] Explicit valence for atom # 4 C, 5, is greater than permitted\n",
      "[13:21:12] Explicit valence for atom # 4 C, 5, is greater than permitted\n",
      "[13:21:12] Explicit valence for atom # 2 C, 5, is greater than permitted\n",
      "[13:21:12] Explicit valence for atom # 3 C, 5, is greater than permitted\n",
      "[13:21:12] Explicit valence for atom # 3 C, 5, is greater than permitted\n",
      "[13:21:12] Explicit valence for atom # 3 C, 5, is greater than permitted\n",
      "[13:21:12] Explicit valence for atom # 2 C, 5, is greater than permitted\n",
      "[13:21:12] Explicit valence for atom # 3 C, 5, is greater than permitted\n",
      "[13:21:12] Explicit valence for atom # 3 C, 5, is greater than permitted\n",
      "[13:21:12] Explicit valence for atom # 2 C, 5, is greater than permitted\n",
      "[13:21:12] Explicit valence for atom # 3 C, 5, is greater than permitted\n",
      "[13:21:12] Explicit valence for atom # 3 C, 5, is greater than permitted\n",
      "[13:21:12] Explicit valence for atom # 3 C, 5, is greater than permitted\n",
      "[13:21:12] Explicit valence for atom # 3 C, 5, is greater than permitted\n",
      "[13:21:12] Explicit valence for atom # 3 C, 5, is greater than permitted\n",
      "[13:21:12] Explicit valence for atom # 3 C, 5, is greater than permitted\n",
      "[13:21:12] Explicit valence for atom # 3 C, 5, is greater than permitted\n",
      "[13:21:12] Explicit valence for atom # 3 C, 5, is greater than permitted\n",
      "[13:21:12] Explicit valence for atom # 3 C, 5, is greater than permitted\n",
      "[13:21:12] Explicit valence for atom # 3 C, 5, is greater than permitted\n",
      "[13:21:12] Explicit valence for atom # 3 C, 5, is greater than permitted\n",
      "[13:21:12] Explicit valence for atom # 3 C, 5, is greater than permitted\n",
      "[13:21:12] Explicit valence for atom # 3 C, 5, is greater than permitted\n",
      "[13:21:12] Explicit valence for atom # 5 C, 5, is greater than permitted\n",
      "[13:21:12] Explicit valence for atom # 5 C, 5, is greater than permitted\n",
      "[13:21:12] Explicit valence for atom # 5 C, 5, is greater than permitted\n",
      "[13:21:12] Explicit valence for atom # 5 C, 5, is greater than permitted\n",
      "[13:21:12] Explicit valence for atom # 5 C, 5, is greater than permitted\n",
      "[13:21:12] Explicit valence for atom # 5 C, 5, is greater than permitted\n",
      "[13:21:12] Explicit valence for atom # 5 C, 5, is greater than permitted\n",
      "[13:21:12] Explicit valence for atom # 5 C, 5, is greater than permitted\n",
      "[13:21:12] Explicit valence for atom # 5 C, 5, is greater than permitted\n",
      "[13:21:12] Explicit valence for atom # 5 C, 5, is greater than permitted\n",
      "[13:21:12] Explicit valence for atom # 5 C, 5, is greater than permitted\n",
      "[13:21:12] Explicit valence for atom # 5 C, 5, is greater than permitted\n",
      "[13:21:12] Explicit valence for atom # 5 C, 5, is greater than permitted\n",
      "[13:21:12] Explicit valence for atom # 5 C, 5, is greater than permitted\n",
      "[13:21:12] Explicit valence for atom # 5 C, 5, is greater than permitted\n",
      "[13:21:12] Explicit valence for atom # 5 C, 5, is greater than permitted\n",
      "[13:21:12] Explicit valence for atom # 5 C, 5, is greater than permitted\n",
      "[13:21:12] Explicit valence for atom # 5 C, 5, is greater than permitted\n",
      "[13:21:12] Explicit valence for atom # 5 C, 5, is greater than permitted\n",
      "[13:21:12] Explicit valence for atom # 2 C, 5, is greater than permitted\n",
      "[13:21:12] Explicit valence for atom # 4 C, 5, is greater than permitted\n",
      "[13:21:12] Explicit valence for atom # 2 C, 5, is greater than permitted\n",
      "[13:21:12] Explicit valence for atom # 2 C, 5, is greater than permitted\n",
      "[13:21:12] Explicit valence for atom # 3 C, 5, is greater than permitted\n",
      "[13:21:12] Explicit valence for atom # 3 C, 5, is greater than permitted\n",
      "[13:21:12] Explicit valence for atom # 3 C, 5, is greater than permitted\n",
      "[13:21:12] Explicit valence for atom # 5 C, 5, is greater than permitted\n",
      "[13:21:12] Explicit valence for atom # 5 C, 5, is greater than permitted\n",
      "[13:21:12] Explicit valence for atom # 5 C, 5, is greater than permitted\n",
      "[13:21:12] Explicit valence for atom # 5 C, 5, is greater than permitted\n",
      "[13:21:12] Explicit valence for atom # 5 C, 5, is greater than permitted\n",
      "[13:21:12] Explicit valence for atom # 8 C, 5, is greater than permitted\n",
      "[13:21:12] Explicit valence for atom # 6 C, 5, is greater than permitted\n",
      "[13:21:12] Explicit valence for atom # 5 C, 5, is greater than permitted\n",
      "[13:21:12] Explicit valence for atom # 5 C, 5, is greater than permitted\n",
      "[13:21:12] Explicit valence for atom # 5 C, 5, is greater than permitted\n",
      "[13:21:12] Explicit valence for atom # 2 C, 5, is greater than permitted\n",
      "[13:21:12] Explicit valence for atom # 5 C, 5, is greater than permitted\n",
      "[13:21:12] Explicit valence for atom # 5 C, 5, is greater than permitted\n",
      "[13:21:12] Explicit valence for atom # 5 C, 5, is greater than permitted\n",
      "[13:21:12] Explicit valence for atom # 5 C, 5, is greater than permitted\n",
      "[13:21:12] Explicit valence for atom # 5 C, 5, is greater than permitted\n",
      "[13:21:12] Explicit valence for atom # 5 C, 5, is greater than permitted\n",
      "[13:21:12] Explicit valence for atom # 6 C, 5, is greater than permitted\n",
      "[13:21:12] Explicit valence for atom # 4 C, 5, is greater than permitted\n",
      "[13:21:12] Explicit valence for atom # 6 C, 5, is greater than permitted\n",
      "[13:21:12] Explicit valence for atom # 6 C, 5, is greater than permitted\n",
      "[13:21:12] Explicit valence for atom # 6 C, 5, is greater than permitted\n",
      "[13:21:12] Explicit valence for atom # 6 C, 5, is greater than permitted\n",
      "[13:21:12] Explicit valence for atom # 4 C, 5, is greater than permitted\n",
      "[13:21:12] Explicit valence for atom # 6 C, 5, is greater than permitted\n",
      "[13:21:12] Explicit valence for atom # 6 C, 5, is greater than permitted\n",
      "[13:21:12] Explicit valence for atom # 4 C, 5, is greater than permitted\n",
      "[13:21:12] Explicit valence for atom # 6 C, 5, is greater than permitted\n",
      "[13:21:12] Explicit valence for atom # 4 C, 5, is greater than permitted\n",
      "[13:21:12] Explicit valence for atom # 4 C, 5, is greater than permitted\n",
      "[13:21:12] Explicit valence for atom # 6 C, 5, is greater than permitted\n",
      "[13:21:12] Explicit valence for atom # 5 C, 5, is greater than permitted\n",
      "[13:21:12] Explicit valence for atom # 4 C, 5, is greater than permitted\n",
      "[13:21:12] Explicit valence for atom # 6 C, 5, is greater than permitted\n",
      "[13:21:12] Explicit valence for atom # 5 C, 5, is greater than permitted\n",
      "[13:21:12] Explicit valence for atom # 6 C, 5, is greater than permitted\n",
      "[13:21:12] Explicit valence for atom # 4 C, 5, is greater than permitted\n",
      "[13:21:12] Explicit valence for atom # 6 C, 5, is greater than permitted\n",
      "[13:21:12] Explicit valence for atom # 6 C, 5, is greater than permitted\n",
      "[13:21:12] Explicit valence for atom # 6 C, 5, is greater than permitted\n",
      "[13:21:12] Explicit valence for atom # 5 C, 5, is greater than permitted\n",
      "[13:21:12] Explicit valence for atom # 6 C, 5, is greater than permitted\n",
      "[13:21:12] Explicit valence for atom # 6 C, 5, is greater than permitted\n",
      "[13:21:12] Explicit valence for atom # 6 C, 5, is greater than permitted\n",
      "[13:21:12] Explicit valence for atom # 6 C, 5, is greater than permitted\n",
      "[13:21:12] Explicit valence for atom # 6 C, 5, is greater than permitted\n",
      "[13:21:12] Explicit valence for atom # 6 C, 5, is greater than permitted\n",
      "[13:21:12] Explicit valence for atom # 4 C, 5, is greater than permitted\n",
      "[13:21:12] Explicit valence for atom # 6 C, 5, is greater than permitted\n",
      "[13:21:12] Explicit valence for atom # 6 C, 5, is greater than permitted\n",
      "[13:21:12] Explicit valence for atom # 2 C, 5, is greater than permitted\n",
      "[13:21:12] Explicit valence for atom # 4 C, 5, is greater than permitted\n",
      "[13:21:12] Explicit valence for atom # 4 C, 5, is greater than permitted\n",
      "[13:21:12] Explicit valence for atom # 5 C, 5, is greater than permitted\n",
      "[13:21:12] Explicit valence for atom # 4 C, 5, is greater than permitted\n",
      "[13:21:12] Explicit valence for atom # 4 C, 5, is greater than permitted\n",
      "[13:21:12] Explicit valence for atom # 4 C, 5, is greater than permitted\n",
      "[13:21:12] Explicit valence for atom # 6 C, 5, is greater than permitted\n",
      "[13:21:12] Explicit valence for atom # 6 C, 5, is greater than permitted\n",
      "[13:21:12] Explicit valence for atom # 4 C, 5, is greater than permitted\n",
      "[13:21:12] Explicit valence for atom # 5 C, 5, is greater than permitted\n",
      "[13:21:12] Explicit valence for atom # 6 C, 5, is greater than permitted\n",
      "[13:21:12] Explicit valence for atom # 6 C, 5, is greater than permitted\n",
      "[13:21:12] Explicit valence for atom # 3 C, 5, is greater than permitted\n",
      "[13:21:12] Explicit valence for atom # 3 C, 5, is greater than permitted\n",
      "[13:21:12] Explicit valence for atom # 3 C, 5, is greater than permitted\n",
      "[13:21:12] Explicit valence for atom # 3 C, 5, is greater than permitted\n",
      "[13:21:12] Explicit valence for atom # 3 C, 5, is greater than permitted\n",
      "[13:21:12] Explicit valence for atom # 3 C, 5, is greater than permitted\n",
      "[13:21:12] Explicit valence for atom # 4 C, 5, is greater than permitted\n",
      "[13:21:12] Explicit valence for atom # 4 C, 5, is greater than permitted\n",
      "[13:21:12] Explicit valence for atom # 4 C, 5, is greater than permitted\n",
      "[13:21:12] Explicit valence for atom # 4 C, 5, is greater than permitted\n",
      "[13:21:12] Explicit valence for atom # 4 C, 5, is greater than permitted\n",
      "[13:21:12] Explicit valence for atom # 4 C, 5, is greater than permitted\n",
      "[13:21:12] Explicit valence for atom # 4 C, 5, is greater than permitted\n",
      "[13:21:12] Explicit valence for atom # 4 C, 5, is greater than permitted\n",
      "[13:21:12] Explicit valence for atom # 3 C, 5, is greater than permitted\n",
      "[13:21:12] Explicit valence for atom # 4 C, 5, is greater than permitted\n",
      "[13:21:12] Explicit valence for atom # 4 C, 5, is greater than permitted\n",
      "[13:21:12] Explicit valence for atom # 4 C, 5, is greater than permitted\n",
      "[13:21:12] Explicit valence for atom # 4 C, 5, is greater than permitted\n",
      "[13:21:12] Explicit valence for atom # 3 C, 5, is greater than permitted\n",
      "[13:21:12] Explicit valence for atom # 1 C, 5, is greater than permitted\n",
      "[13:21:12] Explicit valence for atom # 3 C, 5, is greater than permitted\n",
      "[13:21:12] Explicit valence for atom # 5 C, 5, is greater than permitted\n",
      "[13:21:12] Explicit valence for atom # 5 C, 5, is greater than permitted\n",
      "[13:21:12] Explicit valence for atom # 5 C, 5, is greater than permitted\n",
      "[13:21:12] Explicit valence for atom # 5 C, 5, is greater than permitted\n",
      "[13:21:12] Explicit valence for atom # 5 C, 5, is greater than permitted\n",
      "[13:21:12] Explicit valence for atom # 6 C, 5, is greater than permitted\n",
      "[13:21:12] Explicit valence for atom # 6 C, 5, is greater than permitted\n",
      "[13:21:12] Explicit valence for atom # 6 C, 5, is greater than permitted\n",
      "[13:21:12] Explicit valence for atom # 4 C, 5, is greater than permitted\n",
      "[13:21:12] Explicit valence for atom # 2 C, 5, is greater than permitted\n",
      "[13:21:12] Explicit valence for atom # 2 C, 5, is greater than permitted\n",
      "[13:21:12] Explicit valence for atom # 6 C, 5, is greater than permitted\n",
      "[13:21:12] Explicit valence for atom # 6 C, 5, is greater than permitted\n",
      "[13:21:12] Explicit valence for atom # 3 C, 5, is greater than permitted\n",
      "[13:21:12] Explicit valence for atom # 5 C, 5, is greater than permitted\n",
      "[13:21:12] Explicit valence for atom # 5 C, 5, is greater than permitted\n",
      "[13:21:12] Explicit valence for atom # 4 C, 5, is greater than permitted\n",
      "[13:21:12] Explicit valence for atom # 3 C, 5, is greater than permitted\n",
      "[13:21:12] Explicit valence for atom # 4 C, 5, is greater than permitted\n",
      "[13:21:12] Explicit valence for atom # 5 C, 5, is greater than permitted\n",
      "[13:21:12] Explicit valence for atom # 3 C, 5, is greater than permitted\n",
      "[13:21:12] Explicit valence for atom # 2 C, 5, is greater than permitted\n",
      "[13:21:12] Explicit valence for atom # 3 C, 5, is greater than permitted\n",
      "[13:21:12] Explicit valence for atom # 3 C, 5, is greater than permitted\n",
      "[13:21:12] Explicit valence for atom # 3 C, 5, is greater than permitted\n",
      "[13:21:12] Explicit valence for atom # 3 C, 5, is greater than permitted\n",
      "[13:21:12] Explicit valence for atom # 6 C, 5, is greater than permitted\n",
      "[13:21:12] Explicit valence for atom # 6 C, 5, is greater than permitted\n",
      "[13:21:12] Explicit valence for atom # 2 C, 5, is greater than permitted\n",
      "[13:21:12] Explicit valence for atom # 6 C, 5, is greater than permitted\n",
      "[13:21:12] Explicit valence for atom # 2 C, 5, is greater than permitted\n",
      "[13:21:12] Explicit valence for atom # 3 C, 5, is greater than permitted\n",
      "[13:21:12] Explicit valence for atom # 3 C, 5, is greater than permitted\n",
      "[13:21:12] Explicit valence for atom # 3 C, 5, is greater than permitted\n",
      "[13:21:12] Explicit valence for atom # 4 C, 5, is greater than permitted\n",
      "[13:21:12] Explicit valence for atom # 4 C, 5, is greater than permitted\n",
      "[13:21:12] Explicit valence for atom # 4 C, 5, is greater than permitted\n",
      "[13:21:12] Explicit valence for atom # 4 C, 5, is greater than permitted\n",
      "[13:21:12] Explicit valence for atom # 4 C, 5, is greater than permitted\n",
      "[13:21:12] Explicit valence for atom # 4 C, 5, is greater than permitted\n",
      "[13:21:12] Explicit valence for atom # 4 C, 5, is greater than permitted\n",
      "[13:21:12] Explicit valence for atom # 4 C, 5, is greater than permitted\n",
      "[13:21:12] Explicit valence for atom # 4 C, 5, is greater than permitted\n",
      "[13:21:12] Explicit valence for atom # 4 C, 5, is greater than permitted\n",
      "[13:21:12] Explicit valence for atom # 4 C, 5, is greater than permitted\n",
      "[13:21:12] Explicit valence for atom # 5 C, 5, is greater than permitted\n",
      "[13:21:12] Explicit valence for atom # 4 C, 5, is greater than permitted\n",
      "[13:21:12] Explicit valence for atom # 4 C, 5, is greater than permitted\n",
      "[13:21:12] Explicit valence for atom # 4 C, 5, is greater than permitted\n",
      "[13:21:12] Explicit valence for atom # 1 C, 5, is greater than permitted\n",
      "[13:21:12] Explicit valence for atom # 2 C, 5, is greater than permitted\n",
      "[13:21:12] Explicit valence for atom # 4 C, 5, is greater than permitted\n",
      "[13:21:12] Explicit valence for atom # 2 C, 5, is greater than permitted\n",
      "[13:21:12] Explicit valence for atom # 5 C, 5, is greater than permitted\n",
      "[13:21:12] Explicit valence for atom # 2 C, 5, is greater than permitted\n",
      "[13:21:12] Explicit valence for atom # 4 C, 5, is greater than permitted\n",
      "[13:21:12] Explicit valence for atom # 2 C, 5, is greater than permitted\n",
      "[13:21:12] Explicit valence for atom # 4 C, 5, is greater than permitted\n",
      "[13:21:12] Explicit valence for atom # 2 C, 5, is greater than permitted\n",
      "[13:21:12] Explicit valence for atom # 2 C, 5, is greater than permitted\n",
      "[13:21:12] Explicit valence for atom # 5 C, 5, is greater than permitted\n",
      "[13:21:12] Explicit valence for atom # 5 C, 5, is greater than permitted\n",
      "[13:21:12] Explicit valence for atom # 4 C, 5, is greater than permitted\n",
      "[13:21:12] Explicit valence for atom # 3 C, 5, is greater than permitted\n",
      "[13:21:12] Explicit valence for atom # 5 C, 5, is greater than permitted\n",
      "[13:21:12] Explicit valence for atom # 5 C, 5, is greater than permitted\n",
      "[13:21:12] Explicit valence for atom # 5 C, 5, is greater than permitted\n",
      "[13:21:12] Explicit valence for atom # 3 C, 5, is greater than permitted\n",
      "[13:21:12] Explicit valence for atom # 4 C, 5, is greater than permitted\n",
      "[13:21:12] Explicit valence for atom # 2 C, 5, is greater than permitted\n",
      "[13:21:12] Explicit valence for atom # 5 C, 5, is greater than permitted\n",
      "[13:21:12] Explicit valence for atom # 3 C, 5, is greater than permitted\n",
      "[13:21:12] Explicit valence for atom # 3 C, 5, is greater than permitted\n",
      "[13:21:12] Explicit valence for atom # 3 C, 5, is greater than permitted\n",
      "[13:21:12] Explicit valence for atom # 6 C, 5, is greater than permitted\n",
      "[13:21:13] Explicit valence for atom # 6 C, 5, is greater than permitted\n",
      "[13:21:13] Explicit valence for atom # 6 C, 5, is greater than permitted\n",
      "[13:21:13] Explicit valence for atom # 6 C, 5, is greater than permitted\n",
      "[13:21:13] Explicit valence for atom # 4 C, 5, is greater than permitted\n",
      "[13:21:13] Explicit valence for atom # 4 C, 5, is greater than permitted\n",
      "[13:21:13] Explicit valence for atom # 4 C, 5, is greater than permitted\n",
      "[13:21:13] Explicit valence for atom # 5 C, 5, is greater than permitted\n",
      "[13:21:13] Explicit valence for atom # 5 C, 5, is greater than permitted\n",
      "[13:21:13] Explicit valence for atom # 5 C, 5, is greater than permitted\n",
      "[13:21:13] Explicit valence for atom # 5 C, 5, is greater than permitted\n",
      "[13:21:13] Explicit valence for atom # 5 C, 5, is greater than permitted\n",
      "[13:21:13] Explicit valence for atom # 6 C, 5, is greater than permitted\n",
      "[13:21:13] Explicit valence for atom # 6 C, 5, is greater than permitted\n",
      "[13:21:13] Explicit valence for atom # 6 C, 5, is greater than permitted\n",
      "[13:21:13] Explicit valence for atom # 6 C, 5, is greater than permitted\n",
      "[13:21:13] Explicit valence for atom # 6 C, 5, is greater than permitted\n",
      "[13:21:13] Explicit valence for atom # 6 C, 5, is greater than permitted\n",
      "[13:21:13] Explicit valence for atom # 5 C, 5, is greater than permitted\n",
      "[13:21:13] Explicit valence for atom # 4 C, 5, is greater than permitted\n",
      "[13:21:13] Explicit valence for atom # 6 C, 5, is greater than permitted\n",
      "[13:21:13] Explicit valence for atom # 5 C, 5, is greater than permitted\n",
      "[13:21:13] Explicit valence for atom # 5 C, 5, is greater than permitted\n",
      "[13:21:13] Explicit valence for atom # 3 C, 5, is greater than permitted\n",
      "[13:21:13] Explicit valence for atom # 4 C, 5, is greater than permitted\n",
      "[13:21:13] Explicit valence for atom # 4 C, 5, is greater than permitted\n",
      "[13:21:13] Explicit valence for atom # 5 C, 5, is greater than permitted\n",
      "[13:21:13] Explicit valence for atom # 6 C, 5, is greater than permitted\n",
      "[13:21:13] Explicit valence for atom # 6 C, 5, is greater than permitted\n",
      "[13:21:13] Explicit valence for atom # 5 C, 5, is greater than permitted\n",
      "[13:21:13] Explicit valence for atom # 4 C, 5, is greater than permitted\n",
      "[13:21:13] Explicit valence for atom # 4 C, 5, is greater than permitted\n",
      "[13:21:13] Explicit valence for atom # 4 C, 5, is greater than permitted\n",
      "[13:21:13] Explicit valence for atom # 3 C, 5, is greater than permitted\n",
      "[13:21:13] Explicit valence for atom # 4 C, 5, is greater than permitted\n",
      "[13:21:13] Explicit valence for atom # 5 C, 5, is greater than permitted\n",
      "[13:21:13] Explicit valence for atom # 5 C, 5, is greater than permitted\n",
      "[13:21:13] Explicit valence for atom # 5 C, 5, is greater than permitted\n",
      "[13:21:13] Explicit valence for atom # 5 C, 5, is greater than permitted\n",
      "[13:21:13] Explicit valence for atom # 4 C, 5, is greater than permitted\n",
      "[13:21:13] Explicit valence for atom # 5 C, 5, is greater than permitted\n",
      "[13:21:13] Explicit valence for atom # 4 C, 5, is greater than permitted\n",
      "[13:21:13] Explicit valence for atom # 4 C, 5, is greater than permitted\n",
      "[13:21:13] Explicit valence for atom # 4 C, 5, is greater than permitted\n",
      "[13:21:13] Explicit valence for atom # 4 C, 5, is greater than permitted\n",
      "[13:21:13] Explicit valence for atom # 4 C, 5, is greater than permitted\n",
      "[13:21:13] Explicit valence for atom # 4 C, 5, is greater than permitted\n",
      "[13:21:13] Explicit valence for atom # 6 C, 5, is greater than permitted\n",
      "[13:21:13] Explicit valence for atom # 6 C, 5, is greater than permitted\n",
      "[13:21:13] Explicit valence for atom # 4 C, 5, is greater than permitted\n",
      "[13:21:13] Explicit valence for atom # 4 C, 5, is greater than permitted\n",
      "[13:21:13] Explicit valence for atom # 2 C, 5, is greater than permitted\n",
      "[13:21:13] Explicit valence for atom # 2 C, 5, is greater than permitted\n",
      "[13:21:13] Explicit valence for atom # 2 C, 5, is greater than permitted\n",
      "[13:21:13] Explicit valence for atom # 5 C, 5, is greater than permitted\n",
      "[13:21:13] Explicit valence for atom # 5 C, 5, is greater than permitted\n",
      "[13:21:13] Explicit valence for atom # 5 C, 5, is greater than permitted\n",
      "[13:21:13] Explicit valence for atom # 5 C, 5, is greater than permitted\n",
      "[13:21:13] Explicit valence for atom # 3 C, 5, is greater than permitted\n",
      "[13:21:13] Explicit valence for atom # 3 C, 5, is greater than permitted\n",
      "[13:21:13] Explicit valence for atom # 2 C, 5, is greater than permitted\n",
      "[13:21:13] Explicit valence for atom # 3 C, 5, is greater than permitted\n",
      "[13:21:13] Explicit valence for atom # 2 C, 5, is greater than permitted\n",
      "[13:21:13] Explicit valence for atom # 3 C, 5, is greater than permitted\n",
      "[13:21:13] Explicit valence for atom # 3 C, 5, is greater than permitted\n",
      "[13:21:13] Explicit valence for atom # 3 C, 5, is greater than permitted\n",
      "[13:21:13] Explicit valence for atom # 3 C, 5, is greater than permitted\n",
      "[13:21:13] Explicit valence for atom # 5 C, 5, is greater than permitted\n",
      "[13:21:13] Explicit valence for atom # 4 C, 5, is greater than permitted\n",
      "[13:21:13] Explicit valence for atom # 5 C, 5, is greater than permitted\n",
      "[13:21:13] Explicit valence for atom # 4 C, 5, is greater than permitted\n",
      "[13:21:13] Explicit valence for atom # 4 C, 5, is greater than permitted\n",
      "[13:21:13] Explicit valence for atom # 2 C, 5, is greater than permitted\n",
      "[13:21:13] Explicit valence for atom # 2 C, 5, is greater than permitted\n",
      "[13:21:13] Explicit valence for atom # 3 C, 5, is greater than permitted\n",
      "[13:21:13] Explicit valence for atom # 6 C, 5, is greater than permitted\n",
      "[13:21:13] Explicit valence for atom # 3 C, 5, is greater than permitted\n",
      "[13:21:13] Explicit valence for atom # 6 C, 5, is greater than permitted\n",
      "[13:21:13] Explicit valence for atom # 3 C, 5, is greater than permitted\n",
      "[13:21:13] Explicit valence for atom # 6 C, 5, is greater than permitted\n",
      "[13:21:13] Explicit valence for atom # 3 C, 5, is greater than permitted\n",
      "[13:21:13] Explicit valence for atom # 6 C, 5, is greater than permitted\n",
      "[13:21:13] Explicit valence for atom # 6 C, 5, is greater than permitted\n",
      "[13:21:13] Explicit valence for atom # 3 C, 5, is greater than permitted\n",
      "[13:21:13] Explicit valence for atom # 5 C, 5, is greater than permitted\n",
      "[13:21:13] Explicit valence for atom # 5 C, 5, is greater than permitted\n",
      "[13:21:13] Explicit valence for atom # 5 C, 5, is greater than permitted\n",
      "[13:21:13] Explicit valence for atom # 5 C, 5, is greater than permitted\n",
      "[13:21:13] Explicit valence for atom # 5 C, 5, is greater than permitted\n",
      "[13:21:13] Explicit valence for atom # 5 C, 5, is greater than permitted\n",
      "[13:21:13] Explicit valence for atom # 2 C, 5, is greater than permitted\n",
      "[13:21:13] Explicit valence for atom # 2 C, 5, is greater than permitted\n",
      "[13:21:13] Explicit valence for atom # 2 C, 5, is greater than permitted\n",
      "[13:21:13] Explicit valence for atom # 2 C, 5, is greater than permitted\n",
      "[13:21:13] Explicit valence for atom # 2 C, 5, is greater than permitted\n",
      "[13:21:13] Explicit valence for atom # 2 C, 5, is greater than permitted\n",
      "[13:21:13] Explicit valence for atom # 3 C, 5, is greater than permitted\n",
      "[13:21:13] Explicit valence for atom # 2 C, 5, is greater than permitted\n",
      "[13:21:13] Explicit valence for atom # 3 C, 5, is greater than permitted\n",
      "[13:21:13] Explicit valence for atom # 2 C, 5, is greater than permitted\n",
      "[13:21:13] Explicit valence for atom # 3 C, 5, is greater than permitted\n",
      "[13:21:13] Explicit valence for atom # 3 C, 5, is greater than permitted\n",
      "[13:21:13] Explicit valence for atom # 2 C, 5, is greater than permitted\n",
      "[13:21:13] Explicit valence for atom # 2 C, 5, is greater than permitted\n",
      "[13:21:13] Explicit valence for atom # 3 C, 5, is greater than permitted\n",
      "[13:21:13] Explicit valence for atom # 2 C, 5, is greater than permitted\n",
      "[13:21:13] Explicit valence for atom # 2 C, 5, is greater than permitted\n",
      "[13:21:13] Explicit valence for atom # 2 C, 5, is greater than permitted\n",
      "[13:21:13] Explicit valence for atom # 2 C, 5, is greater than permitted\n",
      "[13:21:13] Explicit valence for atom # 2 C, 5, is greater than permitted\n",
      "[13:21:13] Explicit valence for atom # 3 C, 5, is greater than permitted\n",
      "[13:21:13] Explicit valence for atom # 2 C, 5, is greater than permitted\n",
      "[13:21:13] Explicit valence for atom # 3 C, 5, is greater than permitted\n",
      "[13:21:13] Explicit valence for atom # 2 C, 5, is greater than permitted\n",
      "[13:21:13] Explicit valence for atom # 3 C, 5, is greater than permitted\n",
      "[13:21:13] Explicit valence for atom # 2 C, 5, is greater than permitted\n",
      "[13:21:13] Explicit valence for atom # 2 C, 5, is greater than permitted\n",
      "[13:21:13] Explicit valence for atom # 2 C, 5, is greater than permitted\n",
      "[13:21:13] Explicit valence for atom # 2 C, 5, is greater than permitted\n",
      "[13:21:13] Explicit valence for atom # 3 C, 5, is greater than permitted\n",
      "[13:21:13] Explicit valence for atom # 2 C, 5, is greater than permitted\n",
      "[13:21:13] Explicit valence for atom # 2 C, 5, is greater than permitted\n",
      "[13:21:13] Explicit valence for atom # 2 C, 5, is greater than permitted\n",
      "[13:21:13] Explicit valence for atom # 2 C, 5, is greater than permitted\n",
      "[13:21:13] Explicit valence for atom # 2 C, 5, is greater than permitted\n",
      "[13:21:13] Explicit valence for atom # 2 C, 5, is greater than permitted\n",
      "[13:21:13] Explicit valence for atom # 4 C, 5, is greater than permitted\n",
      "[13:21:13] Explicit valence for atom # 2 C, 5, is greater than permitted\n",
      "[13:21:13] Explicit valence for atom # 4 C, 5, is greater than permitted\n",
      "[13:21:13] Explicit valence for atom # 2 C, 5, is greater than permitted\n",
      "[13:21:13] Explicit valence for atom # 4 C, 5, is greater than permitted\n",
      "[13:21:13] Explicit valence for atom # 4 C, 5, is greater than permitted\n",
      "[13:21:13] Explicit valence for atom # 4 C, 5, is greater than permitted\n",
      "[13:21:13] Explicit valence for atom # 2 C, 5, is greater than permitted\n",
      "[13:21:13] Explicit valence for atom # 4 C, 5, is greater than permitted\n",
      "[13:21:13] Explicit valence for atom # 4 C, 5, is greater than permitted\n",
      "[13:21:13] Explicit valence for atom # 2 C, 5, is greater than permitted\n",
      "[13:21:13] Explicit valence for atom # 2 C, 5, is greater than permitted\n",
      "[13:21:13] Explicit valence for atom # 2 C, 5, is greater than permitted\n",
      "[13:21:13] Explicit valence for atom # 2 C, 5, is greater than permitted\n",
      "[13:21:13] Explicit valence for atom # 2 C, 5, is greater than permitted\n",
      "[13:21:13] Explicit valence for atom # 4 C, 5, is greater than permitted\n",
      "[13:21:13] Explicit valence for atom # 4 C, 5, is greater than permitted\n",
      "[13:21:13] Explicit valence for atom # 2 C, 5, is greater than permitted\n",
      "[13:21:13] Explicit valence for atom # 4 C, 5, is greater than permitted\n",
      "[13:21:13] Explicit valence for atom # 2 C, 5, is greater than permitted\n",
      "[13:21:13] Explicit valence for atom # 2 C, 5, is greater than permitted\n",
      "[13:21:13] Explicit valence for atom # 2 C, 5, is greater than permitted\n",
      "[13:21:13] Explicit valence for atom # 2 C, 5, is greater than permitted\n",
      "[13:21:13] Explicit valence for atom # 2 C, 5, is greater than permitted\n",
      "[13:21:13] Explicit valence for atom # 2 C, 5, is greater than permitted\n",
      "[13:21:13] Explicit valence for atom # 4 C, 5, is greater than permitted\n",
      "[13:21:13] Explicit valence for atom # 2 C, 5, is greater than permitted\n",
      "[13:21:13] Explicit valence for atom # 4 C, 5, is greater than permitted\n",
      "[13:21:13] Explicit valence for atom # 4 C, 5, is greater than permitted\n",
      "[13:21:13] Explicit valence for atom # 4 C, 5, is greater than permitted\n",
      "[13:21:13] Explicit valence for atom # 4 C, 5, is greater than permitted\n",
      "[13:21:13] Explicit valence for atom # 4 C, 5, is greater than permitted\n",
      "[13:21:13] Explicit valence for atom # 2 C, 5, is greater than permitted\n",
      "[13:21:13] Explicit valence for atom # 2 C, 5, is greater than permitted\n",
      "[13:21:13] Explicit valence for atom # 4 C, 5, is greater than permitted\n",
      "[13:21:13] Explicit valence for atom # 3 C, 5, is greater than permitted\n",
      "[13:21:13] Explicit valence for atom # 5 C, 5, is greater than permitted\n",
      "[13:21:13] Explicit valence for atom # 3 C, 5, is greater than permitted\n",
      "[13:21:13] Explicit valence for atom # 5 C, 5, is greater than permitted\n",
      "[13:21:13] Explicit valence for atom # 5 C, 5, is greater than permitted\n",
      "[13:21:13] Explicit valence for atom # 5 C, 5, is greater than permitted\n",
      "[13:21:13] Explicit valence for atom # 5 C, 5, is greater than permitted\n",
      "[13:21:13] Explicit valence for atom # 5 C, 5, is greater than permitted\n",
      "[13:21:13] Explicit valence for atom # 5 C, 5, is greater than permitted\n",
      "[13:21:13] Explicit valence for atom # 4 C, 5, is greater than permitted\n",
      "[13:21:13] Explicit valence for atom # 4 C, 5, is greater than permitted\n",
      "[13:21:13] Explicit valence for atom # 4 C, 5, is greater than permitted\n",
      "[13:21:13] Explicit valence for atom # 4 C, 5, is greater than permitted\n",
      "[13:21:13] Explicit valence for atom # 4 C, 5, is greater than permitted\n",
      "[13:21:13] Explicit valence for atom # 4 C, 5, is greater than permitted\n",
      "[13:21:13] Explicit valence for atom # 4 C, 5, is greater than permitted\n",
      "[13:21:13] Explicit valence for atom # 4 C, 5, is greater than permitted\n",
      "[13:21:13] Explicit valence for atom # 4 C, 5, is greater than permitted\n",
      "[13:21:13] Explicit valence for atom # 4 C, 5, is greater than permitted\n",
      "[13:21:13] Explicit valence for atom # 5 C, 5, is greater than permitted\n",
      "[13:21:13] Explicit valence for atom # 4 C, 5, is greater than permitted\n",
      "[13:21:13] Explicit valence for atom # 5 C, 5, is greater than permitted\n",
      "[13:21:13] Explicit valence for atom # 5 C, 5, is greater than permitted\n",
      "[13:21:13] Explicit valence for atom # 5 C, 5, is greater than permitted\n",
      "[13:21:13] Explicit valence for atom # 5 C, 5, is greater than permitted\n",
      "[13:21:13] Explicit valence for atom # 5 C, 5, is greater than permitted\n",
      "[13:21:13] Explicit valence for atom # 6 C, 5, is greater than permitted\n",
      "[13:21:13] Explicit valence for atom # 5 C, 5, is greater than permitted\n",
      "[13:21:13] Explicit valence for atom # 5 C, 5, is greater than permitted\n",
      "[13:21:13] Explicit valence for atom # 5 C, 5, is greater than permitted\n",
      "[13:21:13] Explicit valence for atom # 5 C, 5, is greater than permitted\n",
      "[13:21:13] Explicit valence for atom # 5 C, 5, is greater than permitted\n",
      "[13:21:13] Explicit valence for atom # 5 C, 5, is greater than permitted\n",
      "[13:21:13] Explicit valence for atom # 3 C, 5, is greater than permitted\n",
      "[13:21:13] Explicit valence for atom # 3 C, 5, is greater than permitted\n",
      "[13:21:13] Explicit valence for atom # 3 C, 5, is greater than permitted\n",
      "[13:21:13] Explicit valence for atom # 3 C, 5, is greater than permitted\n",
      "[13:21:13] Explicit valence for atom # 5 C, 5, is greater than permitted\n",
      "[13:21:13] Explicit valence for atom # 3 C, 5, is greater than permitted\n",
      "[13:21:13] Explicit valence for atom # 3 C, 5, is greater than permitted\n",
      "[13:21:13] Explicit valence for atom # 3 C, 5, is greater than permitted\n",
      "[13:21:13] Explicit valence for atom # 3 C, 5, is greater than permitted\n",
      "[13:21:13] Explicit valence for atom # 3 C, 5, is greater than permitted\n",
      "[13:21:13] Explicit valence for atom # 2 C, 5, is greater than permitted\n",
      "[13:21:13] Explicit valence for atom # 2 C, 5, is greater than permitted\n",
      "[13:21:13] Explicit valence for atom # 3 C, 5, is greater than permitted\n",
      "[13:21:13] Explicit valence for atom # 4 C, 5, is greater than permitted\n",
      "[13:21:13] Explicit valence for atom # 4 C, 5, is greater than permitted\n",
      "[13:21:13] Explicit valence for atom # 4 C, 5, is greater than permitted\n",
      "[13:21:13] Explicit valence for atom # 4 C, 5, is greater than permitted\n",
      "[13:21:13] Explicit valence for atom # 6 C, 5, is greater than permitted\n",
      "[13:21:13] Explicit valence for atom # 2 C, 5, is greater than permitted\n",
      "[13:21:13] Explicit valence for atom # 3 C, 5, is greater than permitted\n",
      "[13:21:13] Explicit valence for atom # 2 C, 5, is greater than permitted\n",
      "[13:21:13] Explicit valence for atom # 3 C, 5, is greater than permitted\n",
      "[13:21:13] Explicit valence for atom # 6 C, 5, is greater than permitted\n",
      "[13:21:13] Explicit valence for atom # 3 C, 5, is greater than permitted\n",
      "[13:21:13] Explicit valence for atom # 6 C, 5, is greater than permitted\n",
      "[13:21:13] Explicit valence for atom # 6 C, 5, is greater than permitted\n",
      "[13:21:13] Explicit valence for atom # 3 C, 5, is greater than permitted\n",
      "[13:21:13] Explicit valence for atom # 3 C, 5, is greater than permitted\n",
      "[13:21:13] Explicit valence for atom # 5 C, 5, is greater than permitted\n",
      "[13:21:13] Explicit valence for atom # 5 C, 5, is greater than permitted\n",
      "[13:21:13] Explicit valence for atom # 5 C, 5, is greater than permitted\n",
      "[13:21:13] Explicit valence for atom # 5 C, 5, is greater than permitted\n",
      "[13:21:13] Explicit valence for atom # 5 C, 5, is greater than permitted\n",
      "[13:21:13] Explicit valence for atom # 4 C, 5, is greater than permitted\n",
      "[13:21:13] Explicit valence for atom # 4 C, 5, is greater than permitted\n",
      "[13:21:13] Explicit valence for atom # 4 C, 5, is greater than permitted\n",
      "[13:21:13] Explicit valence for atom # 4 C, 5, is greater than permitted\n",
      "[13:21:13] Explicit valence for atom # 4 C, 5, is greater than permitted\n",
      "[13:21:13] Explicit valence for atom # 4 C, 5, is greater than permitted\n",
      "[13:21:13] Explicit valence for atom # 4 C, 5, is greater than permitted\n",
      "[13:21:13] Explicit valence for atom # 4 C, 5, is greater than permitted\n",
      "[13:21:13] Explicit valence for atom # 6 C, 5, is greater than permitted\n",
      "[13:21:13] Explicit valence for atom # 4 C, 5, is greater than permitted\n",
      "[13:21:13] Explicit valence for atom # 4 C, 5, is greater than permitted\n",
      "[13:21:13] Explicit valence for atom # 4 C, 5, is greater than permitted\n",
      "[13:21:13] Explicit valence for atom # 4 C, 5, is greater than permitted\n",
      "[13:21:13] Explicit valence for atom # 4 C, 5, is greater than permitted\n",
      "[13:21:14] Explicit valence for atom # 5 C, 5, is greater than permitted\n",
      "[13:21:14] Explicit valence for atom # 5 C, 5, is greater than permitted\n",
      "[13:21:14] Explicit valence for atom # 5 C, 5, is greater than permitted\n",
      "[13:21:14] Explicit valence for atom # 5 C, 5, is greater than permitted\n",
      "[13:21:14] Explicit valence for atom # 5 C, 5, is greater than permitted\n",
      "[13:21:14] Explicit valence for atom # 5 C, 5, is greater than permitted\n",
      "[13:21:14] Explicit valence for atom # 5 C, 5, is greater than permitted\n",
      "[13:21:14] Explicit valence for atom # 4 C, 5, is greater than permitted\n",
      "[13:21:14] Explicit valence for atom # 4 C, 5, is greater than permitted\n",
      "[13:21:14] Explicit valence for atom # 4 C, 5, is greater than permitted\n",
      "[13:21:14] Explicit valence for atom # 5 C, 5, is greater than permitted\n",
      "[13:21:14] Explicit valence for atom # 5 C, 5, is greater than permitted\n",
      "[13:21:14] Explicit valence for atom # 5 C, 5, is greater than permitted\n",
      "[13:21:14] Explicit valence for atom # 5 C, 5, is greater than permitted\n",
      "[13:21:14] Explicit valence for atom # 5 C, 5, is greater than permitted\n",
      "[13:21:14] Explicit valence for atom # 5 C, 5, is greater than permitted\n",
      "[13:21:14] Explicit valence for atom # 5 C, 5, is greater than permitted\n",
      "[13:21:14] Explicit valence for atom # 5 C, 5, is greater than permitted\n",
      "[13:21:14] Explicit valence for atom # 5 C, 5, is greater than permitted\n",
      "[13:21:14] Explicit valence for atom # 5 C, 5, is greater than permitted\n",
      "[13:21:14] Explicit valence for atom # 5 C, 5, is greater than permitted\n",
      "[13:21:14] Explicit valence for atom # 5 C, 5, is greater than permitted\n",
      "[13:21:14] Explicit valence for atom # 5 C, 5, is greater than permitted\n",
      "[13:21:14] Explicit valence for atom # 4 C, 5, is greater than permitted\n",
      "[13:21:14] Explicit valence for atom # 4 C, 5, is greater than permitted\n",
      "[13:21:14] Explicit valence for atom # 5 C, 5, is greater than permitted\n",
      "[13:21:14] Explicit valence for atom # 5 C, 5, is greater than permitted\n",
      "[13:21:14] Explicit valence for atom # 4 C, 5, is greater than permitted\n",
      "[13:21:14] Explicit valence for atom # 3 C, 5, is greater than permitted\n",
      "[13:21:14] Explicit valence for atom # 4 C, 5, is greater than permitted\n",
      "[13:21:14] Explicit valence for atom # 4 C, 5, is greater than permitted\n",
      "[13:21:14] Explicit valence for atom # 5 C, 5, is greater than permitted\n",
      "[13:21:14] Explicit valence for atom # 4 C, 5, is greater than permitted\n",
      "[13:21:14] Explicit valence for atom # 5 C, 5, is greater than permitted\n",
      "[13:21:14] Explicit valence for atom # 5 C, 5, is greater than permitted\n",
      "[13:21:14] Explicit valence for atom # 4 C, 5, is greater than permitted\n",
      "[13:21:14] Explicit valence for atom # 4 C, 5, is greater than permitted\n",
      "[13:21:14] Explicit valence for atom # 4 C, 5, is greater than permitted\n",
      "[13:21:14] Explicit valence for atom # 4 C, 5, is greater than permitted\n",
      "[13:21:14] Explicit valence for atom # 4 C, 5, is greater than permitted\n",
      "[13:21:14] Explicit valence for atom # 5 C, 5, is greater than permitted\n",
      "[13:21:14] Explicit valence for atom # 5 C, 5, is greater than permitted\n",
      "[13:21:14] Explicit valence for atom # 5 C, 5, is greater than permitted\n",
      "[13:21:14] Explicit valence for atom # 5 C, 5, is greater than permitted\n",
      "[13:21:14] Explicit valence for atom # 5 C, 5, is greater than permitted\n",
      "[13:21:14] Explicit valence for atom # 5 C, 5, is greater than permitted\n",
      "[13:21:14] Explicit valence for atom # 5 C, 5, is greater than permitted\n",
      "[13:21:14] Explicit valence for atom # 5 C, 5, is greater than permitted\n",
      "[13:21:14] Explicit valence for atom # 5 C, 5, is greater than permitted\n",
      "[13:21:14] Explicit valence for atom # 5 C, 5, is greater than permitted\n",
      "[13:21:14] Explicit valence for atom # 5 C, 5, is greater than permitted\n",
      "[13:21:14] Explicit valence for atom # 5 C, 5, is greater than permitted\n",
      "[13:21:14] Explicit valence for atom # 5 C, 5, is greater than permitted\n",
      "[13:21:14] Explicit valence for atom # 5 C, 5, is greater than permitted\n",
      "[13:21:14] Explicit valence for atom # 5 C, 5, is greater than permitted\n",
      "[13:21:14] Explicit valence for atom # 5 C, 5, is greater than permitted\n",
      "[13:21:14] Explicit valence for atom # 5 C, 5, is greater than permitted\n",
      "[13:21:14] Explicit valence for atom # 5 C, 5, is greater than permitted\n",
      "[13:21:14] Explicit valence for atom # 4 C, 5, is greater than permitted\n",
      "[13:21:14] Explicit valence for atom # 4 C, 5, is greater than permitted\n",
      "[13:21:14] Explicit valence for atom # 4 C, 5, is greater than permitted\n",
      "[13:21:14] Explicit valence for atom # 4 C, 5, is greater than permitted\n",
      "[13:21:14] Explicit valence for atom # 4 C, 5, is greater than permitted\n",
      "[13:21:14] Explicit valence for atom # 4 C, 5, is greater than permitted\n",
      "[13:21:14] Explicit valence for atom # 4 C, 5, is greater than permitted\n",
      "[13:21:14] Explicit valence for atom # 2 C, 5, is greater than permitted\n",
      "[13:21:14] Explicit valence for atom # 4 C, 5, is greater than permitted\n",
      "[13:21:14] Explicit valence for atom # 4 C, 5, is greater than permitted\n",
      "[13:21:14] Explicit valence for atom # 5 C, 5, is greater than permitted\n",
      "[13:21:14] Explicit valence for atom # 5 C, 5, is greater than permitted\n",
      "[13:21:14] Explicit valence for atom # 5 C, 5, is greater than permitted\n",
      "[13:21:14] Explicit valence for atom # 5 C, 5, is greater than permitted\n",
      "[13:21:14] Explicit valence for atom # 5 C, 5, is greater than permitted\n",
      "[13:21:14] Explicit valence for atom # 5 C, 5, is greater than permitted\n",
      "[13:21:14] Explicit valence for atom # 5 C, 5, is greater than permitted\n",
      "[13:21:14] Explicit valence for atom # 5 C, 5, is greater than permitted\n",
      "[13:21:14] Explicit valence for atom # 5 C, 5, is greater than permitted\n",
      "[13:21:14] Explicit valence for atom # 6 C, 5, is greater than permitted\n",
      "[13:21:14] Explicit valence for atom # 6 C, 5, is greater than permitted\n",
      "[13:21:14] Explicit valence for atom # 3 C, 5, is greater than permitted\n",
      "[13:21:14] Explicit valence for atom # 3 C, 5, is greater than permitted\n",
      "[13:21:14] Explicit valence for atom # 6 C, 5, is greater than permitted\n",
      "[13:21:14] Explicit valence for atom # 6 C, 5, is greater than permitted\n",
      "[13:21:14] Explicit valence for atom # 3 C, 5, is greater than permitted\n",
      "[13:21:14] Explicit valence for atom # 6 C, 5, is greater than permitted\n",
      "[13:21:14] Explicit valence for atom # 5 C, 5, is greater than permitted\n",
      "[13:21:14] Explicit valence for atom # 5 C, 5, is greater than permitted\n",
      "[13:21:14] Explicit valence for atom # 6 C, 5, is greater than permitted\n",
      "[13:21:14] Explicit valence for atom # 2 C, 5, is greater than permitted\n",
      "[13:21:14] Explicit valence for atom # 2 C, 5, is greater than permitted\n",
      "[13:21:14] Explicit valence for atom # 2 C, 5, is greater than permitted\n",
      "[13:21:14] Explicit valence for atom # 2 C, 5, is greater than permitted\n",
      "[13:21:14] Explicit valence for atom # 2 C, 5, is greater than permitted\n",
      "[13:21:14] Explicit valence for atom # 2 C, 5, is greater than permitted\n",
      "[13:21:14] Explicit valence for atom # 2 C, 5, is greater than permitted\n",
      "[13:21:14] Explicit valence for atom # 2 C, 5, is greater than permitted\n",
      "[13:21:14] Explicit valence for atom # 2 C, 5, is greater than permitted\n",
      "[13:21:14] Explicit valence for atom # 2 C, 5, is greater than permitted\n",
      "[13:21:14] Explicit valence for atom # 3 C, 5, is greater than permitted\n",
      "[13:21:14] Explicit valence for atom # 2 C, 5, is greater than permitted\n",
      "[13:21:14] Explicit valence for atom # 2 C, 5, is greater than permitted\n",
      "[13:21:14] Explicit valence for atom # 3 C, 5, is greater than permitted\n",
      "[13:21:14] Explicit valence for atom # 2 C, 5, is greater than permitted\n",
      "[13:21:14] Explicit valence for atom # 3 C, 5, is greater than permitted\n",
      "[13:21:14] Explicit valence for atom # 2 C, 5, is greater than permitted\n",
      "[13:21:14] Explicit valence for atom # 3 C, 5, is greater than permitted\n",
      "[13:21:14] Explicit valence for atom # 2 C, 5, is greater than permitted\n",
      "[13:21:14] Explicit valence for atom # 2 C, 5, is greater than permitted\n",
      "[13:21:14] Explicit valence for atom # 2 C, 5, is greater than permitted\n",
      "[13:21:14] Explicit valence for atom # 2 C, 5, is greater than permitted\n",
      "[13:21:14] Explicit valence for atom # 2 C, 5, is greater than permitted\n",
      "[13:21:14] Explicit valence for atom # 2 C, 5, is greater than permitted\n",
      "[13:21:14] Explicit valence for atom # 2 C, 5, is greater than permitted\n",
      "[13:21:14] Explicit valence for atom # 2 C, 5, is greater than permitted\n",
      "[13:21:14] Explicit valence for atom # 6 C, 5, is greater than permitted\n",
      "[13:21:14] Explicit valence for atom # 6 C, 5, is greater than permitted\n",
      "[13:21:14] Explicit valence for atom # 2 C, 5, is greater than permitted\n",
      "[13:21:14] Explicit valence for atom # 6 C, 5, is greater than permitted\n",
      "[13:21:14] Explicit valence for atom # 6 C, 5, is greater than permitted\n",
      "[13:21:14] Explicit valence for atom # 3 C, 5, is greater than permitted\n",
      "[13:21:14] Explicit valence for atom # 2 C, 5, is greater than permitted\n",
      "[13:21:14] Explicit valence for atom # 6 C, 5, is greater than permitted\n",
      "[13:21:14] Explicit valence for atom # 6 C, 5, is greater than permitted\n",
      "[13:21:14] Explicit valence for atom # 6 C, 5, is greater than permitted\n",
      "[13:21:14] Explicit valence for atom # 2 C, 5, is greater than permitted\n",
      "[13:21:14] Explicit valence for atom # 2 C, 5, is greater than permitted\n",
      "[13:21:14] Explicit valence for atom # 2 C, 5, is greater than permitted\n",
      "[13:21:14] Explicit valence for atom # 3 C, 5, is greater than permitted\n",
      "[13:21:14] Explicit valence for atom # 3 C, 5, is greater than permitted\n",
      "[13:21:14] Explicit valence for atom # 3 C, 5, is greater than permitted\n",
      "[13:21:14] Explicit valence for atom # 3 C, 5, is greater than permitted\n",
      "[13:21:14] Explicit valence for atom # 2 C, 5, is greater than permitted\n",
      "[13:21:14] Explicit valence for atom # 2 C, 5, is greater than permitted\n",
      "[13:21:14] Explicit valence for atom # 2 C, 5, is greater than permitted\n",
      "[13:21:14] Explicit valence for atom # 5 C, 5, is greater than permitted\n",
      "[13:21:14] Explicit valence for atom # 5 C, 5, is greater than permitted\n",
      "[13:21:14] Explicit valence for atom # 2 C, 5, is greater than permitted\n",
      "[13:21:14] Explicit valence for atom # 2 C, 5, is greater than permitted\n",
      "[13:21:14] Explicit valence for atom # 4 C, 5, is greater than permitted\n",
      "[13:21:14] Explicit valence for atom # 5 C, 5, is greater than permitted\n",
      "[13:21:14] Explicit valence for atom # 2 C, 5, is greater than permitted\n",
      "[13:21:14] Explicit valence for atom # 2 C, 5, is greater than permitted\n",
      "[13:21:14] Explicit valence for atom # 2 C, 5, is greater than permitted\n",
      "[13:21:14] Explicit valence for atom # 2 C, 5, is greater than permitted\n",
      "[13:21:14] Explicit valence for atom # 6 C, 5, is greater than permitted\n",
      "[13:21:14] Explicit valence for atom # 6 C, 5, is greater than permitted\n",
      "[13:21:14] Explicit valence for atom # 6 C, 5, is greater than permitted\n",
      "[13:21:14] Explicit valence for atom # 6 C, 5, is greater than permitted\n",
      "[13:21:14] Explicit valence for atom # 6 C, 5, is greater than permitted\n",
      "[13:21:14] Explicit valence for atom # 6 C, 5, is greater than permitted\n",
      "[13:21:14] Explicit valence for atom # 6 C, 5, is greater than permitted\n",
      "[13:21:14] Explicit valence for atom # 6 C, 5, is greater than permitted\n",
      "[13:21:14] Explicit valence for atom # 5 C, 5, is greater than permitted\n",
      "[13:21:14] Explicit valence for atom # 5 C, 5, is greater than permitted\n",
      "[13:21:14] Explicit valence for atom # 3 C, 5, is greater than permitted\n",
      "[13:21:14] Explicit valence for atom # 3 C, 5, is greater than permitted\n",
      "[13:21:14] Explicit valence for atom # 3 C, 5, is greater than permitted\n",
      "[13:21:14] Explicit valence for atom # 4 C, 5, is greater than permitted\n",
      "[13:21:14] Explicit valence for atom # 4 C, 5, is greater than permitted\n",
      "[13:21:14] Explicit valence for atom # 4 C, 5, is greater than permitted\n",
      "[13:21:14] Explicit valence for atom # 4 C, 5, is greater than permitted\n",
      "[13:21:14] Explicit valence for atom # 4 C, 5, is greater than permitted\n",
      "[13:21:14] Explicit valence for atom # 6 C, 5, is greater than permitted\n",
      "[13:21:14] Explicit valence for atom # 4 C, 5, is greater than permitted\n",
      "[13:21:14] Explicit valence for atom # 4 C, 5, is greater than permitted\n",
      "[13:21:14] Explicit valence for atom # 6 C, 5, is greater than permitted\n",
      "[13:21:14] Explicit valence for atom # 4 C, 5, is greater than permitted\n",
      "[13:21:14] Explicit valence for atom # 3 C, 5, is greater than permitted\n",
      "[13:21:14] Explicit valence for atom # 3 C, 5, is greater than permitted\n",
      "[13:21:14] Explicit valence for atom # 3 C, 5, is greater than permitted\n",
      "[13:21:14] Explicit valence for atom # 2 C, 5, is greater than permitted\n",
      "[13:21:14] Explicit valence for atom # 3 C, 5, is greater than permitted\n",
      "[13:21:14] Explicit valence for atom # 3 C, 5, is greater than permitted\n",
      "[13:21:14] Explicit valence for atom # 3 C, 5, is greater than permitted\n",
      "[13:21:14] Explicit valence for atom # 2 C, 5, is greater than permitted\n",
      "[13:21:14] Explicit valence for atom # 3 C, 5, is greater than permitted\n",
      "[13:21:14] Explicit valence for atom # 2 C, 5, is greater than permitted\n",
      "[13:21:14] Explicit valence for atom # 2 C, 5, is greater than permitted\n",
      "[13:21:14] Explicit valence for atom # 3 C, 5, is greater than permitted\n",
      "[13:21:14] Explicit valence for atom # 3 C, 5, is greater than permitted\n",
      "[13:21:14] Explicit valence for atom # 3 C, 5, is greater than permitted\n",
      "[13:21:14] Explicit valence for atom # 3 C, 5, is greater than permitted\n",
      "[13:21:14] Explicit valence for atom # 2 C, 5, is greater than permitted\n",
      "[13:21:14] Explicit valence for atom # 2 C, 5, is greater than permitted\n",
      "[13:21:14] Explicit valence for atom # 3 C, 5, is greater than permitted\n",
      "[13:21:14] Explicit valence for atom # 3 C, 5, is greater than permitted\n",
      "[13:21:14] Explicit valence for atom # 3 C, 5, is greater than permitted\n",
      "[13:21:14] Explicit valence for atom # 3 C, 5, is greater than permitted\n",
      "[13:21:14] Explicit valence for atom # 3 C, 5, is greater than permitted\n",
      "[13:21:14] Explicit valence for atom # 3 C, 5, is greater than permitted\n",
      "[13:21:14] Explicit valence for atom # 3 C, 5, is greater than permitted\n",
      "[13:21:14] Explicit valence for atom # 3 C, 5, is greater than permitted\n",
      "[13:21:14] Explicit valence for atom # 3 C, 5, is greater than permitted\n",
      "[13:21:14] Explicit valence for atom # 3 C, 5, is greater than permitted\n",
      "[13:21:14] Explicit valence for atom # 3 C, 5, is greater than permitted\n",
      "[13:21:14] Explicit valence for atom # 3 C, 5, is greater than permitted\n",
      "[13:21:14] Explicit valence for atom # 3 C, 5, is greater than permitted\n",
      "[13:21:14] Explicit valence for atom # 3 C, 5, is greater than permitted\n",
      "[13:21:14] Explicit valence for atom # 3 C, 5, is greater than permitted\n",
      "[13:21:14] Explicit valence for atom # 3 C, 5, is greater than permitted\n",
      "[13:21:14] Explicit valence for atom # 3 C, 5, is greater than permitted\n",
      "[13:21:14] Explicit valence for atom # 3 C, 5, is greater than permitted\n",
      "[13:21:14] Explicit valence for atom # 3 C, 5, is greater than permitted\n",
      "[13:21:14] Explicit valence for atom # 3 C, 5, is greater than permitted\n",
      "[13:21:14] Explicit valence for atom # 3 C, 5, is greater than permitted\n",
      "[13:21:14] Explicit valence for atom # 3 C, 5, is greater than permitted\n",
      "[13:21:14] Explicit valence for atom # 3 C, 5, is greater than permitted\n",
      "[13:21:14] Explicit valence for atom # 3 C, 5, is greater than permitted\n",
      "[13:21:14] Explicit valence for atom # 3 C, 5, is greater than permitted\n",
      "[13:21:14] Explicit valence for atom # 3 C, 5, is greater than permitted\n",
      "[13:21:14] Explicit valence for atom # 5 C, 5, is greater than permitted\n",
      "[13:21:14] Explicit valence for atom # 5 C, 5, is greater than permitted\n",
      "[13:21:14] Explicit valence for atom # 5 C, 5, is greater than permitted\n",
      "[13:21:14] Explicit valence for atom # 5 C, 5, is greater than permitted\n",
      "[13:21:14] Explicit valence for atom # 5 C, 5, is greater than permitted\n",
      "[13:21:14] Explicit valence for atom # 5 C, 5, is greater than permitted\n",
      "[13:21:14] Explicit valence for atom # 4 C, 5, is greater than permitted\n",
      "[13:21:14] Explicit valence for atom # 4 C, 5, is greater than permitted\n",
      "[13:21:14] Explicit valence for atom # 4 C, 5, is greater than permitted\n",
      "[13:21:14] Explicit valence for atom # 4 C, 5, is greater than permitted\n",
      "[13:21:14] Explicit valence for atom # 5 C, 5, is greater than permitted\n",
      "[13:21:14] Explicit valence for atom # 5 C, 5, is greater than permitted\n",
      "[13:21:14] Explicit valence for atom # 5 C, 5, is greater than permitted\n",
      "[13:21:14] Explicit valence for atom # 5 C, 5, is greater than permitted\n",
      "[13:21:14] Explicit valence for atom # 5 C, 5, is greater than permitted\n",
      "[13:21:14] Explicit valence for atom # 5 C, 5, is greater than permitted\n",
      "[13:21:14] Explicit valence for atom # 3 C, 5, is greater than permitted\n",
      "[13:21:15] Explicit valence for atom # 5 C, 5, is greater than permitted\n",
      "[13:21:15] Explicit valence for atom # 5 C, 5, is greater than permitted\n",
      "[13:21:15] Explicit valence for atom # 5 C, 5, is greater than permitted\n",
      "[13:21:15] Explicit valence for atom # 5 C, 5, is greater than permitted\n",
      "[13:21:15] Explicit valence for atom # 5 C, 5, is greater than permitted\n",
      "[13:21:15] Explicit valence for atom # 5 C, 5, is greater than permitted\n",
      "[13:21:15] Explicit valence for atom # 5 C, 5, is greater than permitted\n",
      "[13:21:15] Explicit valence for atom # 3 C, 5, is greater than permitted\n",
      "[13:21:15] Explicit valence for atom # 3 C, 5, is greater than permitted\n",
      "[13:21:15] Explicit valence for atom # 3 C, 5, is greater than permitted\n",
      "[13:21:15] Explicit valence for atom # 3 C, 5, is greater than permitted\n",
      "[13:21:15] Explicit valence for atom # 3 C, 5, is greater than permitted\n",
      "[13:21:15] Explicit valence for atom # 3 C, 5, is greater than permitted\n",
      "[13:21:15] Explicit valence for atom # 2 C, 5, is greater than permitted\n",
      "[13:21:15] Explicit valence for atom # 6 C, 5, is greater than permitted\n",
      "[13:21:15] Explicit valence for atom # 2 C, 5, is greater than permitted\n",
      "[13:21:15] Explicit valence for atom # 3 C, 5, is greater than permitted\n",
      "[13:21:15] Explicit valence for atom # 6 C, 5, is greater than permitted\n",
      "[13:21:15] Explicit valence for atom # 6 C, 5, is greater than permitted\n",
      "[13:21:15] Explicit valence for atom # 2 C, 5, is greater than permitted\n",
      "[13:21:15] Explicit valence for atom # 3 C, 5, is greater than permitted\n",
      "[13:21:15] Explicit valence for atom # 2 C, 5, is greater than permitted\n",
      "[13:21:15] Explicit valence for atom # 6 C, 5, is greater than permitted\n",
      "[13:21:15] Explicit valence for atom # 6 C, 5, is greater than permitted\n",
      "[13:21:15] Explicit valence for atom # 3 C, 5, is greater than permitted\n",
      "[13:21:15] Explicit valence for atom # 5 C, 5, is greater than permitted\n",
      "[13:21:15] Explicit valence for atom # 5 C, 5, is greater than permitted\n",
      "[13:21:15] Explicit valence for atom # 5 C, 5, is greater than permitted\n",
      "[13:21:15] Explicit valence for atom # 5 C, 5, is greater than permitted\n",
      "[13:21:15] Explicit valence for atom # 5 C, 5, is greater than permitted\n",
      "[13:21:15] Explicit valence for atom # 5 C, 5, is greater than permitted\n",
      "[13:21:15] Explicit valence for atom # 4 C, 5, is greater than permitted\n",
      "[13:21:15] Explicit valence for atom # 4 C, 5, is greater than permitted\n",
      "[13:21:15] Explicit valence for atom # 4 C, 5, is greater than permitted\n",
      "[13:21:15] Explicit valence for atom # 4 C, 5, is greater than permitted\n",
      "[13:21:15] Explicit valence for atom # 4 C, 5, is greater than permitted\n",
      "[13:21:15] Explicit valence for atom # 2 C, 5, is greater than permitted\n",
      "[13:21:15] Explicit valence for atom # 4 C, 5, is greater than permitted\n",
      "[13:21:15] Explicit valence for atom # 4 C, 5, is greater than permitted\n",
      "[13:21:15] Explicit valence for atom # 2 C, 5, is greater than permitted\n",
      "[13:21:15] Explicit valence for atom # 4 C, 5, is greater than permitted\n",
      "[13:21:15] Explicit valence for atom # 4 C, 5, is greater than permitted\n",
      "[13:21:15] Explicit valence for atom # 4 C, 5, is greater than permitted\n",
      "[13:21:15] Explicit valence for atom # 4 C, 5, is greater than permitted\n",
      "[13:21:15] Explicit valence for atom # 4 C, 5, is greater than permitted\n",
      "[13:21:15] Explicit valence for atom # 5 C, 5, is greater than permitted\n",
      "[13:21:15] Explicit valence for atom # 5 C, 5, is greater than permitted\n",
      "[13:21:15] Explicit valence for atom # 5 C, 5, is greater than permitted\n",
      "[13:21:15] Explicit valence for atom # 5 C, 5, is greater than permitted\n",
      "[13:21:15] Explicit valence for atom # 5 C, 5, is greater than permitted\n",
      "[13:21:15] Explicit valence for atom # 5 C, 5, is greater than permitted\n",
      "[13:21:15] Explicit valence for atom # 7 C, 5, is greater than permitted\n",
      "[13:21:15] Explicit valence for atom # 7 C, 5, is greater than permitted\n",
      "[13:21:15] Explicit valence for atom # 3 C, 5, is greater than permitted\n",
      "[13:21:15] Explicit valence for atom # 4 C, 5, is greater than permitted\n",
      "[13:21:15] Explicit valence for atom # 1 C, 5, is greater than permitted\n",
      "[13:21:15] Explicit valence for atom # 1 C, 5, is greater than permitted\n",
      "[13:21:15] Explicit valence for atom # 8 C, 5, is greater than permitted\n",
      "[13:21:15] Explicit valence for atom # 4 C, 5, is greater than permitted\n",
      "[13:21:15] Explicit valence for atom # 4 C, 5, is greater than permitted\n",
      "[13:21:15] Explicit valence for atom # 4 C, 5, is greater than permitted\n"
     ]
    }
   ],
   "source": [
    "x, y = sanitize_data(*load_data(\"train.csv\"))"
   ]
  },
  {
   "cell_type": "code",
   "execution_count": 121,
   "id": "5ff3dbbf",
   "metadata": {
    "execution": {
     "iopub.execute_input": "2024-03-10T13:21:27.574347Z",
     "iopub.status.busy": "2024-03-10T13:21:27.573567Z",
     "iopub.status.idle": "2024-03-10T13:21:27.667426Z",
     "shell.execute_reply": "2024-03-10T13:21:27.666762Z",
     "shell.execute_reply.started": "2024-03-10T13:21:27.574289Z"
    }
   },
   "outputs": [
    {
     "data": {
      "text/html": [
       "<div>\n",
       "<style scoped>\n",
       "    .dataframe tbody tr th:only-of-type {\n",
       "        vertical-align: middle;\n",
       "    }\n",
       "\n",
       "    .dataframe tbody tr th {\n",
       "        vertical-align: top;\n",
       "    }\n",
       "\n",
       "    .dataframe thead th {\n",
       "        text-align: right;\n",
       "    }\n",
       "</style>\n",
       "<table border=\"1\" class=\"dataframe\">\n",
       "  <thead>\n",
       "    <tr style=\"text-align: right;\">\n",
       "      <th></th>\n",
       "      <th>0</th>\n",
       "      <th>1</th>\n",
       "      <th>2</th>\n",
       "      <th>3</th>\n",
       "      <th>4</th>\n",
       "      <th>5</th>\n",
       "      <th>6</th>\n",
       "      <th>7</th>\n",
       "      <th>8</th>\n",
       "      <th>9</th>\n",
       "      <th>10</th>\n",
       "      <th>11</th>\n",
       "      <th>12</th>\n",
       "      <th>13</th>\n",
       "      <th>14</th>\n",
       "      <th>15</th>\n",
       "      <th>16</th>\n",
       "      <th>17</th>\n",
       "      <th>18</th>\n",
       "    </tr>\n",
       "  </thead>\n",
       "  <tbody>\n",
       "    <tr>\n",
       "      <th>count</th>\n",
       "      <td>109643.000000</td>\n",
       "      <td>109643.000000</td>\n",
       "      <td>109643.000000</td>\n",
       "      <td>109643.000000</td>\n",
       "      <td>109643.000000</td>\n",
       "      <td>109643.000000</td>\n",
       "      <td>109643.000000</td>\n",
       "      <td>109643.000000</td>\n",
       "      <td>109643.000000</td>\n",
       "      <td>109643.000000</td>\n",
       "      <td>109643.000000</td>\n",
       "      <td>109643.000000</td>\n",
       "      <td>109643.000000</td>\n",
       "      <td>109643.000000</td>\n",
       "      <td>109643.000000</td>\n",
       "      <td>109643.000000</td>\n",
       "      <td>109643.000000</td>\n",
       "      <td>109643.000000</td>\n",
       "      <td>109643.000000</td>\n",
       "    </tr>\n",
       "    <tr>\n",
       "      <th>mean</th>\n",
       "      <td>2.707669</td>\n",
       "      <td>76.845453</td>\n",
       "      <td>-6.518896</td>\n",
       "      <td>0.278505</td>\n",
       "      <td>6.797396</td>\n",
       "      <td>1232.369907</td>\n",
       "      <td>4.123326</td>\n",
       "      <td>-11419.300932</td>\n",
       "      <td>-11419.066347</td>\n",
       "      <td>-11419.040658</td>\n",
       "      <td>-11420.216138</td>\n",
       "      <td>32.247278</td>\n",
       "      <td>-77.537392</td>\n",
       "      <td>-78.009675</td>\n",
       "      <td>-78.455363</td>\n",
       "      <td>-72.154212</td>\n",
       "      <td>3.206839</td>\n",
       "      <td>1.325939</td>\n",
       "      <td>1.062998</td>\n",
       "    </tr>\n",
       "    <tr>\n",
       "      <th>std</th>\n",
       "      <td>1.518359</td>\n",
       "      <td>7.158100</td>\n",
       "      <td>0.595401</td>\n",
       "      <td>1.268800</td>\n",
       "      <td>1.275416</td>\n",
       "      <td>266.137497</td>\n",
       "      <td>0.896780</td>\n",
       "      <td>905.090977</td>\n",
       "      <td>905.091074</td>\n",
       "      <td>905.091076</td>\n",
       "      <td>905.096400</td>\n",
       "      <td>3.764701</td>\n",
       "      <td>9.773674</td>\n",
       "      <td>9.864881</td>\n",
       "      <td>9.937176</td>\n",
       "      <td>8.984342</td>\n",
       "      <td>1.274006</td>\n",
       "      <td>0.366953</td>\n",
       "      <td>0.261369</td>\n",
       "    </tr>\n",
       "    <tr>\n",
       "      <th>min</th>\n",
       "      <td>0.000000</td>\n",
       "      <td>27.490000</td>\n",
       "      <td>-10.783872</td>\n",
       "      <td>-4.680358</td>\n",
       "      <td>0.669400</td>\n",
       "      <td>619.581600</td>\n",
       "      <td>0.801022</td>\n",
       "      <td>-19444.387000</td>\n",
       "      <td>-19444.172000</td>\n",
       "      <td>-19444.146000</td>\n",
       "      <td>-19445.314000</td>\n",
       "      <td>17.478000</td>\n",
       "      <td>-113.113150</td>\n",
       "      <td>-113.891940</td>\n",
       "      <td>-114.611730</td>\n",
       "      <td>-104.816420</td>\n",
       "      <td>1.382500</td>\n",
       "      <td>0.337120</td>\n",
       "      <td>0.331180</td>\n",
       "    </tr>\n",
       "    <tr>\n",
       "      <th>25%</th>\n",
       "      <td>1.596700</td>\n",
       "      <td>72.230000</td>\n",
       "      <td>-6.859990</td>\n",
       "      <td>-0.658516</td>\n",
       "      <td>5.864054</td>\n",
       "      <td>1060.317250</td>\n",
       "      <td>3.469411</td>\n",
       "      <td>-11948.118500</td>\n",
       "      <td>-11947.880500</td>\n",
       "      <td>-11947.854750</td>\n",
       "      <td>-11949.039000</td>\n",
       "      <td>29.635000</td>\n",
       "      <td>-83.883642</td>\n",
       "      <td>-84.416627</td>\n",
       "      <td>-84.907640</td>\n",
       "      <td>-78.007990</td>\n",
       "      <td>2.484675</td>\n",
       "      <td>1.062095</td>\n",
       "      <td>0.891020</td>\n",
       "    </tr>\n",
       "    <tr>\n",
       "      <th>50%</th>\n",
       "      <td>2.510700</td>\n",
       "      <td>76.840000</td>\n",
       "      <td>-6.547059</td>\n",
       "      <td>0.296604</td>\n",
       "      <td>6.737539</td>\n",
       "      <td>1176.241500</td>\n",
       "      <td>4.079504</td>\n",
       "      <td>-11475.592000</td>\n",
       "      <td>-11475.393000</td>\n",
       "      <td>-11475.366000</td>\n",
       "      <td>-11476.455000</td>\n",
       "      <td>32.111000</td>\n",
       "      <td>-77.577160</td>\n",
       "      <td>-78.049150</td>\n",
       "      <td>-78.489510</td>\n",
       "      <td>-72.220410</td>\n",
       "      <td>2.960920</td>\n",
       "      <td>1.328180</td>\n",
       "      <td>1.043770</td>\n",
       "    </tr>\n",
       "    <tr>\n",
       "      <th>75%</th>\n",
       "      <td>3.632000</td>\n",
       "      <td>81.505000</td>\n",
       "      <td>-6.209638</td>\n",
       "      <td>1.270772</td>\n",
       "      <td>7.787898</td>\n",
       "      <td>1336.864450</td>\n",
       "      <td>4.696808</td>\n",
       "      <td>-10865.747500</td>\n",
       "      <td>-10865.482000</td>\n",
       "      <td>-10865.456500</td>\n",
       "      <td>-10866.695500</td>\n",
       "      <td>34.727000</td>\n",
       "      <td>-71.238689</td>\n",
       "      <td>-71.650543</td>\n",
       "      <td>-72.049692</td>\n",
       "      <td>-66.357460</td>\n",
       "      <td>3.591745</td>\n",
       "      <td>1.587005</td>\n",
       "      <td>1.222570</td>\n",
       "    </tr>\n",
       "    <tr>\n",
       "      <th>max</th>\n",
       "      <td>29.556400</td>\n",
       "      <td>196.620000</td>\n",
       "      <td>-2.767398</td>\n",
       "      <td>2.908897</td>\n",
       "      <td>13.066907</td>\n",
       "      <td>3374.753200</td>\n",
       "      <td>7.454396</td>\n",
       "      <td>-9293.555000</td>\n",
       "      <td>-9293.405000</td>\n",
       "      <td>-9293.379000</td>\n",
       "      <td>-9294.354500</td>\n",
       "      <td>46.969000</td>\n",
       "      <td>-31.838657</td>\n",
       "      <td>-31.986961</td>\n",
       "      <td>-32.166748</td>\n",
       "      <td>-29.434204</td>\n",
       "      <td>159.871170</td>\n",
       "      <td>2.707610</td>\n",
       "      <td>2.468570</td>\n",
       "    </tr>\n",
       "  </tbody>\n",
       "</table>\n",
       "</div>"
      ],
      "text/plain": [
       "                   0              1              2              3  \\\n",
       "count  109643.000000  109643.000000  109643.000000  109643.000000   \n",
       "mean        2.707669      76.845453      -6.518896       0.278505   \n",
       "std         1.518359       7.158100       0.595401       1.268800   \n",
       "min         0.000000      27.490000     -10.783872      -4.680358   \n",
       "25%         1.596700      72.230000      -6.859990      -0.658516   \n",
       "50%         2.510700      76.840000      -6.547059       0.296604   \n",
       "75%         3.632000      81.505000      -6.209638       1.270772   \n",
       "max        29.556400     196.620000      -2.767398       2.908897   \n",
       "\n",
       "                   4              5              6              7  \\\n",
       "count  109643.000000  109643.000000  109643.000000  109643.000000   \n",
       "mean        6.797396    1232.369907       4.123326  -11419.300932   \n",
       "std         1.275416     266.137497       0.896780     905.090977   \n",
       "min         0.669400     619.581600       0.801022  -19444.387000   \n",
       "25%         5.864054    1060.317250       3.469411  -11948.118500   \n",
       "50%         6.737539    1176.241500       4.079504  -11475.592000   \n",
       "75%         7.787898    1336.864450       4.696808  -10865.747500   \n",
       "max        13.066907    3374.753200       7.454396   -9293.555000   \n",
       "\n",
       "                   8              9             10             11  \\\n",
       "count  109643.000000  109643.000000  109643.000000  109643.000000   \n",
       "mean   -11419.066347  -11419.040658  -11420.216138      32.247278   \n",
       "std       905.091074     905.091076     905.096400       3.764701   \n",
       "min    -19444.172000  -19444.146000  -19445.314000      17.478000   \n",
       "25%    -11947.880500  -11947.854750  -11949.039000      29.635000   \n",
       "50%    -11475.393000  -11475.366000  -11476.455000      32.111000   \n",
       "75%    -10865.482000  -10865.456500  -10866.695500      34.727000   \n",
       "max     -9293.405000   -9293.379000   -9294.354500      46.969000   \n",
       "\n",
       "                  12             13             14             15  \\\n",
       "count  109643.000000  109643.000000  109643.000000  109643.000000   \n",
       "mean      -77.537392     -78.009675     -78.455363     -72.154212   \n",
       "std         9.773674       9.864881       9.937176       8.984342   \n",
       "min      -113.113150    -113.891940    -114.611730    -104.816420   \n",
       "25%       -83.883642     -84.416627     -84.907640     -78.007990   \n",
       "50%       -77.577160     -78.049150     -78.489510     -72.220410   \n",
       "75%       -71.238689     -71.650543     -72.049692     -66.357460   \n",
       "max       -31.838657     -31.986961     -32.166748     -29.434204   \n",
       "\n",
       "                  16             17             18  \n",
       "count  109643.000000  109643.000000  109643.000000  \n",
       "mean        3.206839       1.325939       1.062998  \n",
       "std         1.274006       0.366953       0.261369  \n",
       "min         1.382500       0.337120       0.331180  \n",
       "25%         2.484675       1.062095       0.891020  \n",
       "50%         2.960920       1.328180       1.043770  \n",
       "75%         3.591745       1.587005       1.222570  \n",
       "max       159.871170       2.707610       2.468570  "
      ]
     },
     "execution_count": 121,
     "metadata": {},
     "output_type": "execute_result"
    }
   ],
   "source": [
    "y.describe()"
   ]
  },
  {
   "cell_type": "code",
   "execution_count": 122,
   "id": "10ef4dac-04ce-486c-99f3-34f14e184904",
   "metadata": {
    "execution": {
     "iopub.execute_input": "2024-03-10T13:21:33.329639Z",
     "iopub.status.busy": "2024-03-10T13:21:33.328904Z",
     "iopub.status.idle": "2024-03-10T13:21:33.335990Z",
     "shell.execute_reply": "2024-03-10T13:21:33.335408Z",
     "shell.execute_reply.started": "2024-03-10T13:21:33.329616Z"
    }
   },
   "outputs": [
    {
     "data": {
      "text/plain": [
       "'C#CCn1nnnn1'"
      ]
     },
     "execution_count": 122,
     "metadata": {},
     "output_type": "execute_result"
    }
   ],
   "source": [
    "x[3]"
   ]
  },
  {
   "cell_type": "markdown",
   "id": "3374570f-16e7-4823-9b6b-c0509f0b125a",
   "metadata": {},
   "source": [
    "QM9 only contains CHONF molecules, meaning we don't have to do fancy tokenization to keep letters of atoms together. We'll do BPE tokenization and set a minimum frequency of 1,000 to only capture motifs of molecule structure without over-memorizing the molecules. The choic of 1,000 was arbitrary and might need tuned down a little bit."
   ]
  },
  {
   "cell_type": "code",
   "execution_count": 132,
   "id": "365c8020-b9d3-477c-8ff4-27c3916f400a",
   "metadata": {
    "execution": {
     "iopub.execute_input": "2024-03-10T13:28:34.303370Z",
     "iopub.status.busy": "2024-03-10T13:28:34.302883Z",
     "iopub.status.idle": "2024-03-10T13:28:37.328307Z",
     "shell.execute_reply": "2024-03-10T13:28:37.327345Z",
     "shell.execute_reply.started": "2024-03-10T13:28:34.303341Z"
    }
   },
   "outputs": [
    {
     "name": "stdout",
     "output_type": "stream",
     "text": [
      "\n",
      "\n",
      "\n",
      "250\n"
     ]
    }
   ],
   "source": [
    "# Initialize a tokenizer\n",
    "tokenizer = Tokenizer(BPE())\n",
    "\n",
    "# Use whitespace pre-tokenizer\n",
    "\n",
    "# Initialize a trainer with your desired settings\n",
    "trainer = BpeTrainer(special_tokens=[\"[PAD]\"], min_frequency=600, show_progress=True)\n",
    "\n",
    "# Train your tokenizer on a list of files\n",
    "tokenizer.train_from_iterator(x, trainer)\n",
    "tokenizer.enable_padding(pad_id=0, pad_token=\"[PAD]\")\n",
    "\n",
    "print(tokenizer.get_vocab_size())\n",
    "\n",
    "# Save the tokenizer for later use\n",
    "tokenizer.save(\"./bpe.tokenizer.json\")"
   ]
  },
  {
   "cell_type": "code",
   "execution_count": 27,
   "id": "277b99dc-e4e0-4ba5-97ec-d734187f1de5",
   "metadata": {
    "execution": {
     "iopub.execute_input": "2024-03-24T10:30:00.449057Z",
     "iopub.status.busy": "2024-03-24T10:30:00.448761Z",
     "iopub.status.idle": "2024-03-24T10:30:02.391934Z",
     "shell.execute_reply": "2024-03-24T10:30:02.391314Z",
     "shell.execute_reply.started": "2024-03-24T10:30:00.449034Z"
    }
   },
   "outputs": [],
   "source": [
    "csv_file_paths = [\"train.csv\", \"val.csv\", \"test.csv\"]\n",
    "\n",
    "df_combined = pd.concat([pd.read_csv(f) for f in csv_file_paths], ignore_index=True)\n",
    "\n",
    "# Write the concatenated DataFrame to a new CSV file\n",
    "df_combined.to_csv('full.csv', index=False)"
   ]
  },
  {
   "cell_type": "markdown",
   "id": "6e2b6b49-9252-42d4-9a6f-526be5c8fbc1",
   "metadata": {},
   "source": [
    "## Demonstration of ECFP4 shortcoming"
   ]
  },
  {
   "cell_type": "code",
   "execution_count": 19,
   "id": "10a7f517-a11c-499a-9d46-b550934ca980",
   "metadata": {
    "execution": {
     "iopub.execute_input": "2024-03-24T10:05:47.360677Z",
     "iopub.status.busy": "2024-03-24T10:05:47.359905Z",
     "iopub.status.idle": "2024-03-24T10:05:47.366994Z",
     "shell.execute_reply": "2024-03-24T10:05:47.366573Z",
     "shell.execute_reply.started": "2024-03-24T10:05:47.360652Z"
    }
   },
   "outputs": [
    {
     "name": "stdout",
     "output_type": "stream",
     "text": [
      "ECFP4 for Hexane: 100000010110000100001010\n",
      "ECFP4 for Heptane: 100000010110000100001010\n",
      "ECFP4 for Octane: 100000010110000100001010\n"
     ]
    }
   ],
   "source": [
    "from rdkit import Chem\n",
    "from rdkit.Chem import AllChem\n",
    "import numpy as np\n",
    "\n",
    "# Define the SMILES for hexane, heptane, and octane\n",
    "smiles_list = [\"CCCCCC\", \"CCCCCCC\", \"CCCCCCCC\"]\n",
    "\n",
    "# Initialize a dictionary to hold the molecule objects\n",
    "molecules = {name: Chem.MolFromSmiles(smiles) for name, smiles in zip([\"Hexane\", \"Heptane\", \"Octane\"], smiles_list)}\n",
    "\n",
    "# Compute ECFP4 fingerprints\n",
    "ecfp4_fingerprints = {name: AllChem.GetMorganFingerprintAsBitVect(mol, radius=2, nBits=24) for name, mol in molecules.items()}\n",
    "\n",
    "# Convert fingerprints to bit strings or numpy arrays for further analysis\n",
    "ecfp4_bit_strings = {name: fp.ToBitString() for name, fp in ecfp4_fingerprints.items()}\n",
    "ecfp4_np_arrays = {name: np.array(fp) for name, fp in ecfp4_fingerprints.items()}\n",
    "\n",
    "# Printing bit strings for demonstration\n",
    "for name, bit_string in ecfp4_bit_strings.items():\n",
    "    print(f\"ECFP4 for {name}:\", bit_string)\n"
   ]
  },
  {
   "cell_type": "markdown",
   "id": "cfa89ed4-301e-48a7-92df-15a2aa311968",
   "metadata": {},
   "source": [
    "## Dataloading and processing utilities"
   ]
  },
  {
   "cell_type": "code",
   "execution_count": 4,
   "id": "09339865-e1ab-4047-acf9-28f4577dcd5e",
   "metadata": {
    "execution": {
     "iopub.execute_input": "2024-03-27T14:07:34.396189Z",
     "iopub.status.busy": "2024-03-27T14:07:34.395360Z",
     "iopub.status.idle": "2024-03-27T14:07:34.399333Z",
     "shell.execute_reply": "2024-03-27T14:07:34.398791Z",
     "shell.execute_reply.started": "2024-03-27T14:07:34.396153Z"
    }
   },
   "outputs": [],
   "source": [
    "def load_data(name):\n",
    "    data = pd.read_csv(name)\n",
    "    return data.pop(\"smiles\"), data"
   ]
  },
  {
   "cell_type": "code",
   "execution_count": 5,
   "id": "860634c0-887d-43f5-9681-d4d12d0ef9ae",
   "metadata": {
    "execution": {
     "iopub.execute_input": "2024-03-27T14:07:35.433514Z",
     "iopub.status.busy": "2024-03-27T14:07:35.432552Z",
     "iopub.status.idle": "2024-03-27T14:07:35.438915Z",
     "shell.execute_reply": "2024-03-27T14:07:35.438114Z",
     "shell.execute_reply.started": "2024-03-27T14:07:35.433475Z"
    }
   },
   "outputs": [],
   "source": [
    "def sanitize_data(smiles_with_h, properties):\n",
    "    # Convert the SMILES string to an RDKit molecule object\n",
    "    mols = smiles_with_h.map(Chem.MolFromSmiles)\n",
    "\n",
    "    na_indexes = mols[mols.isna()].index\n",
    "    properties_cleaned = properties.drop(index=na_indexes)\n",
    "    mols = mols.dropna()\n",
    "    \n",
    "    # Remove explicit hydrogens\n",
    "    mols_no_h = mols.map(Chem.RemoveHs)\n",
    "    \n",
    "    m2s = lambda x : Chem.MolToSmiles(x, doRandom=True, canonical=False)\n",
    "    \n",
    "    # Convert back to SMILES string\n",
    "    return mols_no_h.map(m2s), properties_cleaned"
   ]
  },
  {
   "cell_type": "code",
   "execution_count": 6,
   "id": "338a2399-2bc5-45c3-ab28-735745c85ee2",
   "metadata": {
    "execution": {
     "iopub.execute_input": "2024-03-27T14:07:37.322945Z",
     "iopub.status.busy": "2024-03-27T14:07:37.322104Z",
     "iopub.status.idle": "2024-03-27T14:07:37.327002Z",
     "shell.execute_reply": "2024-03-27T14:07:37.326481Z",
     "shell.execute_reply.started": "2024-03-27T14:07:37.322919Z"
    }
   },
   "outputs": [],
   "source": [
    "def to_jax(tokenized):\n",
    "    tokens = [np.array(t.ids, dtype=np.uint8) for t in tokenized]\n",
    "    jax_tokens = jnp.array(tokens)\n",
    "    attn_masks = nn.make_attention_mask(\n",
    "        jax_tokens > 0, jax_tokens > 0, dtype=jnp.uint8\n",
    "    )\n",
    "    return jax_tokens, attn_masks"
   ]
  },
  {
   "cell_type": "code",
   "execution_count": 7,
   "id": "4868fcb2-4b30-4b72-a184-5e4023871b0d",
   "metadata": {
    "execution": {
     "iopub.execute_input": "2024-03-27T14:07:39.051281Z",
     "iopub.status.busy": "2024-03-27T14:07:39.050465Z",
     "iopub.status.idle": "2024-03-27T14:07:39.053976Z",
     "shell.execute_reply": "2024-03-27T14:07:39.053522Z",
     "shell.execute_reply.started": "2024-03-27T14:07:39.051254Z"
    }
   },
   "outputs": [],
   "source": [
    "def mean_absolute_error(y_true, y_pred):\n",
    "    return jnp.mean(jnp.abs(y_true - y_pred))"
   ]
  },
  {
   "cell_type": "code",
   "execution_count": 8,
   "id": "aa0881ad-5b3d-4b9a-92ba-2f9f00a7eac8",
   "metadata": {
    "execution": {
     "iopub.execute_input": "2024-03-27T14:07:40.226105Z",
     "iopub.status.busy": "2024-03-27T14:07:40.225585Z",
     "iopub.status.idle": "2024-03-27T14:07:40.229035Z",
     "shell.execute_reply": "2024-03-27T14:07:40.228535Z",
     "shell.execute_reply.started": "2024-03-27T14:07:40.226083Z"
    }
   },
   "outputs": [],
   "source": [
    "def mean_mad(x):\n",
    "    x_mean = jnp.mean(x, axis=0)\n",
    "    return x_mean, jnp.mean(jnp.abs(x - x_mean), axis=0)"
   ]
  },
  {
   "cell_type": "code",
   "execution_count": 9,
   "id": "410fe746",
   "metadata": {
    "execution": {
     "iopub.execute_input": "2024-03-27T14:07:42.033457Z",
     "iopub.status.busy": "2024-03-27T14:07:42.032521Z",
     "iopub.status.idle": "2024-03-27T14:07:42.036681Z",
     "shell.execute_reply": "2024-03-27T14:07:42.036024Z",
     "shell.execute_reply.started": "2024-03-27T14:07:42.033427Z"
    }
   },
   "outputs": [],
   "source": [
    "def standardize_array(arr):\n",
    "    arr_mean, arr_mad = mean_mad(arr)\n",
    "    standardized_arr = (arr - arr_mean) * (1. / arr_mad)\n",
    "    return standardized_arr, arr_mean, arr_mad\n"
   ]
  },
  {
   "cell_type": "code",
   "execution_count": 10,
   "id": "edc28c1b-3150-4c13-b8fe-5398cb07f0ba",
   "metadata": {
    "execution": {
     "iopub.execute_input": "2024-03-27T14:07:44.458134Z",
     "iopub.status.busy": "2024-03-27T14:07:44.457345Z",
     "iopub.status.idle": "2024-03-27T14:07:44.462577Z",
     "shell.execute_reply": "2024-03-27T14:07:44.462138Z",
     "shell.execute_reply.started": "2024-03-27T14:07:44.458110Z"
    }
   },
   "outputs": [],
   "source": [
    "def load_and_preprocess_data(data_fpath, tokenizer_fpath, standardize=True, aug=0):\n",
    "    # load data from csv\n",
    "    smiles, properties = sanitize_data(*load_data(data_fpath))\n",
    "    if data_fpath == \"train.csv\":\n",
    "        for a in range(aug):\n",
    "            s, p = sanitize_data(*load_data(data_fpath))\n",
    "            smiles = smiles.append(s)\n",
    "            properties = properties.append(p)\n",
    "    \n",
    "    \n",
    "    # Standardize target values\n",
    "    targets = jnp.array(properties[[\"0\",\"1\",\"2\",\"3\",\"4\",\"5\",\"6\",\"12\",\"13\",\"14\",\"15\",\"11\"]])\n",
    "    mean, stddev = None, None\n",
    "    if standardize:\n",
    "        targets, mean, stddev = standardize_array(targets)\n",
    "    \n",
    "    # load tokenizer from json\n",
    "    tokenizer = Tokenizer.from_file(tokenizer_fpath)\n",
    "    # tokenize entire dataset\n",
    "    tokenized = tokenizer.encode_batch(smiles)\n",
    "    \n",
    "    # convert dataset to JAX arrays\n",
    "    data_array, attention_masks = to_jax(tokenized)\n",
    "    \n",
    "    return data_array, attention_masks, targets, mean, stddev"
   ]
  },
  {
   "cell_type": "code",
   "execution_count": 11,
   "id": "829d876c-33f1-401d-ab50-a1fc49188452",
   "metadata": {
    "execution": {
     "iopub.execute_input": "2024-03-27T14:08:13.387930Z",
     "iopub.status.busy": "2024-03-27T14:08:13.387377Z",
     "iopub.status.idle": "2024-03-27T14:08:13.392866Z",
     "shell.execute_reply": "2024-03-27T14:08:13.392358Z",
     "shell.execute_reply.started": "2024-03-27T14:08:13.387904Z"
    }
   },
   "outputs": [],
   "source": [
    "def shuffler(dataset, batch_size, pretraining = True):\n",
    "\n",
    "    cutoff = (dataset.shape[0] // batch_size) * batch_size\n",
    "    data_shape = (-1, batch_size) + dataset.shape[1:]\n",
    "\n",
    "    def pretraining_shuffle(dataset, shuffle_rng):\n",
    "\n",
    "        indices = jax.random.permutation(shuffle_rng, dataset.shape[0])[:cutoff]\n",
    "        shuffled_dataset = dataset[indices]\n",
    "\n",
    "        shuffled_batches = jnp.reshape(shuffled_dataset, data_shape)\n",
    "\n",
    "        return shuffled_batches\n",
    "    \n",
    "    def supervised_shuffle(dataset, shuffle_rng):\n",
    "\n",
    "        inputs, targets = dataset\n",
    "        \n",
    "        indices = jax.random.permutation(shuffle_rng, inputs.shape[0])[:cutoff]\n",
    "        shuffled_inputs = inputs[indices]\n",
    "        shuffled_targets = targets[indices]\n",
    "\n",
    "        shuffled_inputs = jnp.reshape(shuffled_inputs, data_shape)\n",
    "        shuffled_targets = jnp.reshape(shuffled_targets, \n",
    "                                       (-1, batch_size, shuffled_targets.shape[-1]))\n",
    "\n",
    "        return (shuffled_inputs, shuffled_targets)\n",
    "    \n",
    "    if pretraining:\n",
    "        return jax.jit(pretraining_shuffle)\n",
    "    else:\n",
    "        return jax.jit(supervised_shuffle)"
   ]
  },
  {
   "cell_type": "markdown",
   "id": "e688fb6b-47cc-4ed4-957f-5d0d83170d36",
   "metadata": {},
   "source": [
    "## Target data statistics computation"
   ]
  },
  {
   "cell_type": "code",
   "execution_count": 10,
   "id": "1de8f922-39e4-41d9-8c11-f327c3b835b1",
   "metadata": {
    "execution": {
     "iopub.execute_input": "2024-03-24T11:09:44.701036Z",
     "iopub.status.busy": "2024-03-24T11:09:44.700130Z",
     "iopub.status.idle": "2024-03-24T11:10:01.447805Z",
     "shell.execute_reply": "2024-03-24T11:10:01.447250Z",
     "shell.execute_reply.started": "2024-03-24T11:09:44.701001Z"
    }
   },
   "outputs": [
    {
     "name": "stderr",
     "output_type": "stream",
     "text": [
      "[11:09:45] Explicit valence for atom # 4 C, 5, is greater than permitted\n",
      "[11:09:45] Explicit valence for atom # 4 C, 5, is greater than permitted\n",
      "[11:09:45] Explicit valence for atom # 5 C, 5, is greater than permitted\n",
      "[11:09:45] Explicit valence for atom # 5 C, 5, is greater than permitted\n",
      "[11:09:45] Explicit valence for atom # 7 C, 5, is greater than permitted\n",
      "[11:09:45] Explicit valence for atom # 7 C, 5, is greater than permitted\n",
      "[11:09:45] Explicit valence for atom # 4 C, 5, is greater than permitted\n",
      "[11:09:45] Explicit valence for atom # 1 C, 5, is greater than permitted\n",
      "[11:09:45] Explicit valence for atom # 5 C, 5, is greater than permitted\n",
      "[11:09:45] Explicit valence for atom # 1 C, 5, is greater than permitted\n",
      "[11:09:45] Explicit valence for atom # 5 C, 5, is greater than permitted\n",
      "[11:09:45] Explicit valence for atom # 5 C, 5, is greater than permitted\n",
      "[11:09:45] Explicit valence for atom # 1 C, 5, is greater than permitted\n",
      "[11:09:45] Explicit valence for atom # 6 C, 5, is greater than permitted\n",
      "[11:09:45] Explicit valence for atom # 5 C, 5, is greater than permitted\n",
      "[11:09:45] Explicit valence for atom # 2 C, 5, is greater than permitted\n",
      "[11:09:45] Explicit valence for atom # 1 C, 5, is greater than permitted\n",
      "[11:09:45] Explicit valence for atom # 2 C, 5, is greater than permitted\n",
      "[11:09:45] Explicit valence for atom # 3 C, 5, is greater than permitted\n",
      "[11:09:45] Explicit valence for atom # 3 C, 5, is greater than permitted\n",
      "[11:09:45] Explicit valence for atom # 2 C, 5, is greater than permitted\n",
      "[11:09:45] Explicit valence for atom # 3 C, 5, is greater than permitted\n",
      "[11:09:45] Explicit valence for atom # 2 C, 5, is greater than permitted\n",
      "[11:09:45] Explicit valence for atom # 3 C, 5, is greater than permitted\n",
      "[11:09:45] Explicit valence for atom # 3 C, 5, is greater than permitted\n",
      "[11:09:45] Explicit valence for atom # 3 C, 5, is greater than permitted\n",
      "[11:09:45] Explicit valence for atom # 6 C, 5, is greater than permitted\n",
      "[11:09:45] Explicit valence for atom # 6 C, 5, is greater than permitted\n",
      "[11:09:45] Explicit valence for atom # 6 C, 5, is greater than permitted\n",
      "[11:09:45] Explicit valence for atom # 5 C, 5, is greater than permitted\n",
      "[11:09:45] Explicit valence for atom # 5 C, 5, is greater than permitted\n",
      "[11:09:45] Explicit valence for atom # 3 C, 5, is greater than permitted\n",
      "[11:09:45] Explicit valence for atom # 3 C, 5, is greater than permitted\n",
      "[11:09:45] Explicit valence for atom # 5 C, 5, is greater than permitted\n",
      "[11:09:45] Explicit valence for atom # 5 C, 5, is greater than permitted\n",
      "[11:09:45] Explicit valence for atom # 5 C, 5, is greater than permitted\n",
      "[11:09:45] Explicit valence for atom # 2 C, 5, is greater than permitted\n",
      "[11:09:45] Explicit valence for atom # 3 C, 5, is greater than permitted\n",
      "[11:09:45] Explicit valence for atom # 3 C, 5, is greater than permitted\n",
      "[11:09:45] Explicit valence for atom # 1 C, 5, is greater than permitted\n",
      "[11:09:45] Explicit valence for atom # 3 C, 5, is greater than permitted\n",
      "[11:09:45] Explicit valence for atom # 3 C, 5, is greater than permitted\n",
      "[11:09:45] Explicit valence for atom # 3 C, 5, is greater than permitted\n",
      "[11:09:45] Explicit valence for atom # 3 C, 5, is greater than permitted\n",
      "[11:09:45] Explicit valence for atom # 3 C, 5, is greater than permitted\n",
      "[11:09:45] Explicit valence for atom # 3 C, 5, is greater than permitted\n",
      "[11:09:45] Explicit valence for atom # 5 C, 5, is greater than permitted\n",
      "[11:09:45] Explicit valence for atom # 5 C, 5, is greater than permitted\n",
      "[11:09:45] Explicit valence for atom # 4 C, 5, is greater than permitted\n",
      "[11:09:45] Explicit valence for atom # 4 C, 5, is greater than permitted\n",
      "[11:09:45] Explicit valence for atom # 5 C, 5, is greater than permitted\n",
      "[11:09:45] Explicit valence for atom # 5 C, 5, is greater than permitted\n",
      "[11:09:45] Explicit valence for atom # 5 C, 5, is greater than permitted\n",
      "[11:09:45] Explicit valence for atom # 5 C, 5, is greater than permitted\n",
      "[11:09:45] Explicit valence for atom # 5 C, 5, is greater than permitted\n",
      "[11:09:45] Explicit valence for atom # 6 C, 5, is greater than permitted\n",
      "[11:09:45] Explicit valence for atom # 6 C, 5, is greater than permitted\n",
      "[11:09:45] Explicit valence for atom # 3 C, 5, is greater than permitted\n",
      "[11:09:45] Explicit valence for atom # 3 C, 5, is greater than permitted\n",
      "[11:09:45] Explicit valence for atom # 6 C, 5, is greater than permitted\n",
      "[11:09:45] Explicit valence for atom # 2 C, 5, is greater than permitted\n",
      "[11:09:45] Explicit valence for atom # 2 C, 5, is greater than permitted\n",
      "[11:09:45] Explicit valence for atom # 2 C, 5, is greater than permitted\n",
      "[11:09:45] Explicit valence for atom # 5 C, 5, is greater than permitted\n",
      "[11:09:45] Explicit valence for atom # 5 C, 5, is greater than permitted\n",
      "[11:09:45] Explicit valence for atom # 5 C, 5, is greater than permitted\n",
      "[11:09:45] Explicit valence for atom # 5 C, 5, is greater than permitted\n",
      "[11:09:45] Explicit valence for atom # 4 C, 5, is greater than permitted\n",
      "[11:09:45] Explicit valence for atom # 4 C, 5, is greater than permitted\n",
      "[11:09:45] Explicit valence for atom # 5 C, 5, is greater than permitted\n",
      "[11:09:45] Explicit valence for atom # 5 C, 5, is greater than permitted\n",
      "[11:09:45] Explicit valence for atom # 5 C, 5, is greater than permitted\n",
      "[11:09:45] Explicit valence for atom # 5 C, 5, is greater than permitted\n",
      "[11:09:45] Explicit valence for atom # 5 C, 5, is greater than permitted\n",
      "[11:09:45] Explicit valence for atom # 5 C, 5, is greater than permitted\n",
      "[11:09:45] Explicit valence for atom # 4 C, 5, is greater than permitted\n",
      "[11:09:45] Explicit valence for atom # 4 C, 5, is greater than permitted\n",
      "[11:09:45] Explicit valence for atom # 3 C, 5, is greater than permitted\n",
      "[11:09:45] Explicit valence for atom # 4 C, 5, is greater than permitted\n",
      "[11:09:45] Explicit valence for atom # 5 C, 5, is greater than permitted\n",
      "[11:09:45] Explicit valence for atom # 5 C, 5, is greater than permitted\n",
      "[11:09:45] Explicit valence for atom # 5 C, 5, is greater than permitted\n",
      "[11:09:45] Explicit valence for atom # 4 C, 5, is greater than permitted\n",
      "[11:09:45] Explicit valence for atom # 4 C, 5, is greater than permitted\n",
      "[11:09:45] Explicit valence for atom # 4 C, 5, is greater than permitted\n",
      "[11:09:45] Explicit valence for atom # 4 C, 5, is greater than permitted\n",
      "[11:09:45] Explicit valence for atom # 3 C, 5, is greater than permitted\n",
      "[11:09:45] Explicit valence for atom # 5 C, 5, is greater than permitted\n",
      "[11:09:45] Explicit valence for atom # 5 C, 5, is greater than permitted\n",
      "[11:09:45] Explicit valence for atom # 6 C, 5, is greater than permitted\n",
      "[11:09:45] Explicit valence for atom # 6 C, 5, is greater than permitted\n",
      "[11:09:45] Explicit valence for atom # 6 C, 5, is greater than permitted\n",
      "[11:09:45] Explicit valence for atom # 4 C, 5, is greater than permitted\n",
      "[11:09:45] Explicit valence for atom # 6 C, 5, is greater than permitted\n",
      "[11:09:45] Explicit valence for atom # 4 C, 5, is greater than permitted\n",
      "[11:09:45] Explicit valence for atom # 4 C, 5, is greater than permitted\n",
      "[11:09:45] Explicit valence for atom # 3 C, 5, is greater than permitted\n",
      "[11:09:45] Explicit valence for atom # 3 C, 5, is greater than permitted\n",
      "[11:09:45] Explicit valence for atom # 4 C, 5, is greater than permitted\n",
      "[11:09:45] Explicit valence for atom # 4 C, 5, is greater than permitted\n",
      "[11:09:45] Explicit valence for atom # 6 C, 5, is greater than permitted\n",
      "[11:09:45] Explicit valence for atom # 3 C, 5, is greater than permitted\n",
      "[11:09:45] Explicit valence for atom # 4 C, 5, is greater than permitted\n",
      "[11:09:45] Explicit valence for atom # 6 C, 5, is greater than permitted\n",
      "[11:09:45] Explicit valence for atom # 3 C, 5, is greater than permitted\n",
      "[11:09:45] Explicit valence for atom # 3 C, 5, is greater than permitted\n",
      "[11:09:45] Explicit valence for atom # 2 C, 5, is greater than permitted\n",
      "[11:09:45] Explicit valence for atom # 2 C, 5, is greater than permitted\n",
      "[11:09:45] Explicit valence for atom # 4 C, 5, is greater than permitted\n",
      "[11:09:45] Explicit valence for atom # 3 C, 5, is greater than permitted\n",
      "[11:09:45] Explicit valence for atom # 3 C, 5, is greater than permitted\n",
      "[11:09:45] Explicit valence for atom # 3 C, 5, is greater than permitted\n",
      "[11:09:45] Explicit valence for atom # 3 C, 5, is greater than permitted\n",
      "[11:09:45] Explicit valence for atom # 2 C, 5, is greater than permitted\n",
      "[11:09:45] Explicit valence for atom # 5 C, 5, is greater than permitted\n",
      "[11:09:45] Explicit valence for atom # 5 C, 5, is greater than permitted\n",
      "[11:09:45] Explicit valence for atom # 2 C, 5, is greater than permitted\n",
      "[11:09:45] Explicit valence for atom # 5 C, 5, is greater than permitted\n",
      "[11:09:45] Explicit valence for atom # 5 C, 5, is greater than permitted\n",
      "[11:09:45] Explicit valence for atom # 3 C, 5, is greater than permitted\n",
      "[11:09:45] Explicit valence for atom # 2 C, 5, is greater than permitted\n",
      "[11:09:45] Explicit valence for atom # 2 C, 5, is greater than permitted\n",
      "[11:09:45] Explicit valence for atom # 4 C, 5, is greater than permitted\n",
      "[11:09:45] Explicit valence for atom # 2 C, 5, is greater than permitted\n",
      "[11:09:45] Explicit valence for atom # 2 C, 5, is greater than permitted\n",
      "[11:09:45] Explicit valence for atom # 4 C, 5, is greater than permitted\n",
      "[11:09:45] Explicit valence for atom # 4 C, 5, is greater than permitted\n",
      "[11:09:45] Explicit valence for atom # 4 C, 5, is greater than permitted\n",
      "[11:09:45] Explicit valence for atom # 4 C, 5, is greater than permitted\n",
      "[11:09:45] Explicit valence for atom # 3 C, 5, is greater than permitted\n",
      "[11:09:45] Explicit valence for atom # 4 C, 5, is greater than permitted\n",
      "[11:09:45] Explicit valence for atom # 3 C, 5, is greater than permitted\n",
      "[11:09:45] Explicit valence for atom # 3 C, 5, is greater than permitted\n",
      "[11:09:45] Explicit valence for atom # 3 C, 5, is greater than permitted\n",
      "[11:09:45] Explicit valence for atom # 4 C, 5, is greater than permitted\n",
      "[11:09:45] Explicit valence for atom # 4 C, 5, is greater than permitted\n",
      "[11:09:45] Explicit valence for atom # 4 C, 5, is greater than permitted\n",
      "[11:09:45] Explicit valence for atom # 4 C, 5, is greater than permitted\n",
      "[11:09:45] Explicit valence for atom # 2 C, 5, is greater than permitted\n",
      "[11:09:45] Explicit valence for atom # 2 C, 5, is greater than permitted\n",
      "[11:09:45] Explicit valence for atom # 3 C, 5, is greater than permitted\n",
      "[11:09:45] Explicit valence for atom # 3 C, 5, is greater than permitted\n",
      "[11:09:45] Explicit valence for atom # 3 C, 5, is greater than permitted\n",
      "[11:09:45] Explicit valence for atom # 3 C, 5, is greater than permitted\n",
      "[11:09:45] Explicit valence for atom # 3 C, 5, is greater than permitted\n",
      "[11:09:45] Explicit valence for atom # 3 C, 5, is greater than permitted\n",
      "[11:09:45] Explicit valence for atom # 4 C, 5, is greater than permitted\n",
      "[11:09:45] Explicit valence for atom # 3 C, 5, is greater than permitted\n",
      "[11:09:45] Explicit valence for atom # 3 C, 5, is greater than permitted\n",
      "[11:09:45] Explicit valence for atom # 4 C, 5, is greater than permitted\n",
      "[11:09:45] Explicit valence for atom # 4 C, 5, is greater than permitted\n",
      "[11:09:45] Explicit valence for atom # 4 C, 5, is greater than permitted\n",
      "[11:09:45] Explicit valence for atom # 5 C, 5, is greater than permitted\n",
      "[11:09:45] Explicit valence for atom # 5 C, 5, is greater than permitted\n",
      "[11:09:45] Explicit valence for atom # 5 C, 5, is greater than permitted\n",
      "[11:09:45] Explicit valence for atom # 1 C, 5, is greater than permitted\n",
      "[11:09:45] Explicit valence for atom # 5 C, 5, is greater than permitted\n",
      "[11:09:45] Explicit valence for atom # 5 C, 5, is greater than permitted\n",
      "[11:09:45] Explicit valence for atom # 5 C, 5, is greater than permitted\n",
      "[11:09:45] Explicit valence for atom # 5 C, 5, is greater than permitted\n",
      "[11:09:45] Explicit valence for atom # 5 C, 5, is greater than permitted\n",
      "[11:09:45] Explicit valence for atom # 5 C, 5, is greater than permitted\n",
      "[11:09:45] Explicit valence for atom # 5 C, 5, is greater than permitted\n",
      "[11:09:45] Explicit valence for atom # 5 C, 5, is greater than permitted\n",
      "[11:09:45] Explicit valence for atom # 5 C, 5, is greater than permitted\n",
      "[11:09:45] Explicit valence for atom # 5 C, 5, is greater than permitted\n",
      "[11:09:45] Explicit valence for atom # 4 C, 5, is greater than permitted\n",
      "[11:09:45] Explicit valence for atom # 4 C, 5, is greater than permitted\n",
      "[11:09:45] Explicit valence for atom # 4 C, 5, is greater than permitted\n",
      "[11:09:45] Explicit valence for atom # 4 C, 5, is greater than permitted\n",
      "[11:09:45] Explicit valence for atom # 4 C, 5, is greater than permitted\n",
      "[11:09:45] Explicit valence for atom # 4 C, 5, is greater than permitted\n",
      "[11:09:45] Explicit valence for atom # 4 C, 5, is greater than permitted\n",
      "[11:09:45] Explicit valence for atom # 4 C, 5, is greater than permitted\n",
      "[11:09:45] Explicit valence for atom # 4 C, 5, is greater than permitted\n",
      "[11:09:45] Explicit valence for atom # 4 C, 5, is greater than permitted\n",
      "[11:09:45] Explicit valence for atom # 4 C, 5, is greater than permitted\n",
      "[11:09:45] Explicit valence for atom # 5 C, 5, is greater than permitted\n",
      "[11:09:45] Explicit valence for atom # 5 C, 5, is greater than permitted\n",
      "[11:09:45] Explicit valence for atom # 4 C, 5, is greater than permitted\n",
      "[11:09:46] Explicit valence for atom # 3 C, 5, is greater than permitted\n",
      "[11:09:46] Explicit valence for atom # 3 C, 5, is greater than permitted\n",
      "[11:09:46] Explicit valence for atom # 4 C, 5, is greater than permitted\n",
      "[11:09:46] Explicit valence for atom # 4 C, 5, is greater than permitted\n",
      "[11:09:46] Explicit valence for atom # 4 C, 5, is greater than permitted\n",
      "[11:09:46] Explicit valence for atom # 3 C, 5, is greater than permitted\n",
      "[11:09:46] Explicit valence for atom # 5 C, 5, is greater than permitted\n",
      "[11:09:46] Explicit valence for atom # 3 C, 5, is greater than permitted\n",
      "[11:09:46] Explicit valence for atom # 5 C, 5, is greater than permitted\n",
      "[11:09:46] Explicit valence for atom # 5 C, 5, is greater than permitted\n",
      "[11:09:46] Explicit valence for atom # 5 C, 5, is greater than permitted\n",
      "[11:09:46] Explicit valence for atom # 6 C, 5, is greater than permitted\n",
      "[11:09:46] Explicit valence for atom # 2 C, 5, is greater than permitted\n",
      "[11:09:46] Explicit valence for atom # 3 C, 5, is greater than permitted\n",
      "[11:09:46] Explicit valence for atom # 5 C, 5, is greater than permitted\n",
      "[11:09:46] Explicit valence for atom # 6 C, 5, is greater than permitted\n",
      "[11:09:46] Explicit valence for atom # 3 C, 5, is greater than permitted\n",
      "[11:09:46] Explicit valence for atom # 3 C, 5, is greater than permitted\n",
      "[11:09:46] Explicit valence for atom # 6 C, 5, is greater than permitted\n",
      "[11:09:46] Explicit valence for atom # 2 C, 5, is greater than permitted\n",
      "[11:09:46] Explicit valence for atom # 3 C, 5, is greater than permitted\n",
      "[11:09:46] Explicit valence for atom # 2 C, 5, is greater than permitted\n",
      "[11:09:46] Explicit valence for atom # 5 C, 5, is greater than permitted\n",
      "[11:09:46] Explicit valence for atom # 5 C, 5, is greater than permitted\n",
      "[11:09:46] Explicit valence for atom # 4 C, 5, is greater than permitted\n",
      "[11:09:46] Explicit valence for atom # 5 C, 5, is greater than permitted\n",
      "[11:09:46] Explicit valence for atom # 5 C, 5, is greater than permitted\n",
      "[11:09:46] Explicit valence for atom # 5 C, 5, is greater than permitted\n",
      "[11:09:46] Explicit valence for atom # 5 C, 5, is greater than permitted\n",
      "[11:09:46] Explicit valence for atom # 6 C, 5, is greater than permitted\n",
      "[11:09:46] Explicit valence for atom # 6 C, 5, is greater than permitted\n",
      "[11:09:46] Explicit valence for atom # 4 C, 5, is greater than permitted\n",
      "[11:09:46] Explicit valence for atom # 6 C, 5, is greater than permitted\n",
      "[11:09:46] Explicit valence for atom # 5 C, 5, is greater than permitted\n",
      "[11:09:46] Explicit valence for atom # 5 C, 5, is greater than permitted\n",
      "[11:09:46] Explicit valence for atom # 3 C, 5, is greater than permitted\n",
      "[11:09:46] Explicit valence for atom # 4 C, 5, is greater than permitted\n",
      "[11:09:46] Explicit valence for atom # 5 C, 5, is greater than permitted\n",
      "[11:09:46] Explicit valence for atom # 5 C, 5, is greater than permitted\n",
      "[11:09:46] Explicit valence for atom # 5 C, 5, is greater than permitted\n",
      "[11:09:46] Explicit valence for atom # 5 C, 5, is greater than permitted\n",
      "[11:09:46] Explicit valence for atom # 3 C, 5, is greater than permitted\n",
      "[11:09:46] Explicit valence for atom # 5 C, 5, is greater than permitted\n",
      "[11:09:46] Explicit valence for atom # 2 C, 5, is greater than permitted\n",
      "[11:09:46] Explicit valence for atom # 5 C, 5, is greater than permitted\n",
      "[11:09:46] Explicit valence for atom # 3 C, 5, is greater than permitted\n",
      "[11:09:46] Explicit valence for atom # 5 C, 5, is greater than permitted\n",
      "[11:09:46] Explicit valence for atom # 5 C, 5, is greater than permitted\n",
      "[11:09:46] Explicit valence for atom # 5 C, 5, is greater than permitted\n",
      "[11:09:46] Explicit valence for atom # 4 C, 5, is greater than permitted\n",
      "[11:09:46] Explicit valence for atom # 1 C, 5, is greater than permitted\n",
      "[11:09:46] Explicit valence for atom # 5 C, 5, is greater than permitted\n",
      "[11:09:46] Explicit valence for atom # 1 C, 5, is greater than permitted\n",
      "[11:09:46] Explicit valence for atom # 2 C, 5, is greater than permitted\n",
      "[11:09:46] Explicit valence for atom # 4 C, 5, is greater than permitted\n",
      "[11:09:46] Explicit valence for atom # 6 C, 5, is greater than permitted\n",
      "[11:09:46] Explicit valence for atom # 2 C, 5, is greater than permitted\n",
      "[11:09:46] Explicit valence for atom # 3 C, 5, is greater than permitted\n",
      "[11:09:46] Explicit valence for atom # 3 C, 5, is greater than permitted\n",
      "[11:09:46] Explicit valence for atom # 5 C, 5, is greater than permitted\n",
      "[11:09:46] Explicit valence for atom # 5 C, 5, is greater than permitted\n",
      "[11:09:46] Explicit valence for atom # 5 C, 5, is greater than permitted\n",
      "[11:09:46] Explicit valence for atom # 5 C, 5, is greater than permitted\n",
      "[11:09:46] Explicit valence for atom # 4 C, 5, is greater than permitted\n",
      "[11:09:46] Explicit valence for atom # 6 C, 5, is greater than permitted\n",
      "[11:09:46] Explicit valence for atom # 6 C, 5, is greater than permitted\n",
      "[11:09:46] Explicit valence for atom # 3 C, 5, is greater than permitted\n",
      "[11:09:46] Explicit valence for atom # 2 C, 5, is greater than permitted\n",
      "[11:09:46] Explicit valence for atom # 2 C, 5, is greater than permitted\n",
      "[11:09:46] Explicit valence for atom # 2 C, 5, is greater than permitted\n",
      "[11:09:46] Explicit valence for atom # 3 C, 5, is greater than permitted\n",
      "[11:09:46] Explicit valence for atom # 2 C, 5, is greater than permitted\n",
      "[11:09:46] Explicit valence for atom # 5 C, 5, is greater than permitted\n",
      "[11:09:46] Explicit valence for atom # 3 C, 5, is greater than permitted\n",
      "[11:09:46] Explicit valence for atom # 3 C, 5, is greater than permitted\n",
      "[11:09:46] Explicit valence for atom # 3 C, 5, is greater than permitted\n",
      "[11:09:46] Explicit valence for atom # 4 C, 5, is greater than permitted\n",
      "[11:09:46] Explicit valence for atom # 4 C, 5, is greater than permitted\n",
      "[11:09:46] Explicit valence for atom # 4 C, 5, is greater than permitted\n",
      "[11:09:46] Explicit valence for atom # 5 C, 5, is greater than permitted\n",
      "[11:09:46] Explicit valence for atom # 4 C, 5, is greater than permitted\n",
      "[11:09:46] Explicit valence for atom # 4 C, 5, is greater than permitted\n",
      "[11:09:46] Explicit valence for atom # 5 C, 5, is greater than permitted\n",
      "[11:09:46] Explicit valence for atom # 5 C, 5, is greater than permitted\n",
      "[11:09:46] Explicit valence for atom # 5 C, 5, is greater than permitted\n",
      "[11:09:46] Explicit valence for atom # 5 C, 5, is greater than permitted\n",
      "[11:09:46] Explicit valence for atom # 5 C, 5, is greater than permitted\n",
      "[11:09:46] Explicit valence for atom # 5 C, 5, is greater than permitted\n",
      "[11:09:46] Explicit valence for atom # 5 C, 5, is greater than permitted\n",
      "[11:09:46] Explicit valence for atom # 5 C, 5, is greater than permitted\n",
      "[11:09:46] Explicit valence for atom # 5 C, 5, is greater than permitted\n",
      "[11:09:46] Explicit valence for atom # 4 C, 5, is greater than permitted\n",
      "[11:09:46] Explicit valence for atom # 4 C, 5, is greater than permitted\n",
      "[11:09:46] Explicit valence for atom # 4 C, 5, is greater than permitted\n",
      "[11:09:46] Explicit valence for atom # 5 C, 5, is greater than permitted\n",
      "[11:09:46] Explicit valence for atom # 5 C, 5, is greater than permitted\n",
      "[11:09:46] Explicit valence for atom # 3 C, 5, is greater than permitted\n",
      "[11:09:46] Explicit valence for atom # 4 C, 5, is greater than permitted\n",
      "[11:09:46] Explicit valence for atom # 3 C, 5, is greater than permitted\n",
      "[11:09:46] Explicit valence for atom # 3 C, 5, is greater than permitted\n",
      "[11:09:46] Explicit valence for atom # 4 C, 5, is greater than permitted\n",
      "[11:09:46] Explicit valence for atom # 5 C, 5, is greater than permitted\n",
      "[11:09:46] Explicit valence for atom # 4 C, 5, is greater than permitted\n",
      "[11:09:46] Explicit valence for atom # 5 C, 5, is greater than permitted\n",
      "[11:09:46] Explicit valence for atom # 3 C, 5, is greater than permitted\n",
      "[11:09:46] Explicit valence for atom # 4 C, 5, is greater than permitted\n",
      "[11:09:46] Explicit valence for atom # 5 C, 5, is greater than permitted\n",
      "[11:09:46] Explicit valence for atom # 4 C, 5, is greater than permitted\n",
      "[11:09:46] Explicit valence for atom # 5 C, 5, is greater than permitted\n",
      "[11:09:46] Explicit valence for atom # 4 C, 5, is greater than permitted\n",
      "[11:09:46] Explicit valence for atom # 5 C, 5, is greater than permitted\n",
      "[11:09:46] Explicit valence for atom # 5 C, 5, is greater than permitted\n",
      "[11:09:46] Explicit valence for atom # 5 C, 5, is greater than permitted\n",
      "[11:09:46] Explicit valence for atom # 5 C, 5, is greater than permitted\n",
      "[11:09:46] Explicit valence for atom # 6 C, 5, is greater than permitted\n",
      "[11:09:46] Explicit valence for atom # 2 C, 5, is greater than permitted\n",
      "[11:09:46] Explicit valence for atom # 2 C, 5, is greater than permitted\n",
      "[11:09:46] Explicit valence for atom # 2 C, 5, is greater than permitted\n",
      "[11:09:46] Explicit valence for atom # 2 C, 5, is greater than permitted\n",
      "[11:09:46] Explicit valence for atom # 2 C, 5, is greater than permitted\n",
      "[11:09:46] Explicit valence for atom # 3 C, 5, is greater than permitted\n",
      "[11:09:46] Explicit valence for atom # 2 C, 5, is greater than permitted\n",
      "[11:09:46] Explicit valence for atom # 2 C, 5, is greater than permitted\n",
      "[11:09:46] Explicit valence for atom # 2 C, 5, is greater than permitted\n",
      "[11:09:46] Explicit valence for atom # 2 C, 5, is greater than permitted\n",
      "[11:09:46] Explicit valence for atom # 2 C, 5, is greater than permitted\n",
      "[11:09:46] Explicit valence for atom # 2 C, 5, is greater than permitted\n",
      "[11:09:46] Explicit valence for atom # 6 C, 5, is greater than permitted\n",
      "[11:09:46] Explicit valence for atom # 6 C, 5, is greater than permitted\n",
      "[11:09:46] Explicit valence for atom # 6 C, 5, is greater than permitted\n",
      "[11:09:46] Explicit valence for atom # 6 C, 5, is greater than permitted\n",
      "[11:09:46] Explicit valence for atom # 5 C, 5, is greater than permitted\n",
      "[11:09:46] Explicit valence for atom # 2 C, 5, is greater than permitted\n",
      "[11:09:46] Explicit valence for atom # 3 C, 5, is greater than permitted\n",
      "[11:09:46] Explicit valence for atom # 3 C, 5, is greater than permitted\n",
      "[11:09:46] Explicit valence for atom # 3 C, 5, is greater than permitted\n",
      "[11:09:46] Explicit valence for atom # 3 C, 5, is greater than permitted\n",
      "[11:09:46] Explicit valence for atom # 3 C, 5, is greater than permitted\n",
      "[11:09:46] Explicit valence for atom # 3 C, 5, is greater than permitted\n",
      "[11:09:46] Explicit valence for atom # 3 C, 5, is greater than permitted\n",
      "[11:09:46] Explicit valence for atom # 5 C, 5, is greater than permitted\n",
      "[11:09:46] Explicit valence for atom # 4 C, 5, is greater than permitted\n",
      "[11:09:46] Explicit valence for atom # 4 C, 5, is greater than permitted\n",
      "[11:09:46] Explicit valence for atom # 5 C, 5, is greater than permitted\n",
      "[11:09:46] Explicit valence for atom # 5 C, 5, is greater than permitted\n",
      "[11:09:46] Explicit valence for atom # 5 C, 5, is greater than permitted\n",
      "[11:09:46] Explicit valence for atom # 5 C, 5, is greater than permitted\n",
      "[11:09:46] Explicit valence for atom # 6 C, 5, is greater than permitted\n",
      "[11:09:46] Explicit valence for atom # 6 C, 5, is greater than permitted\n",
      "[11:09:46] Explicit valence for atom # 6 C, 5, is greater than permitted\n",
      "[11:09:46] Explicit valence for atom # 3 C, 5, is greater than permitted\n",
      "[11:09:46] Explicit valence for atom # 3 C, 5, is greater than permitted\n",
      "[11:09:46] Explicit valence for atom # 6 C, 5, is greater than permitted\n",
      "[11:09:46] Explicit valence for atom # 6 C, 5, is greater than permitted\n",
      "[11:09:46] Explicit valence for atom # 5 C, 5, is greater than permitted\n",
      "[11:09:46] Explicit valence for atom # 5 C, 5, is greater than permitted\n",
      "[11:09:46] Explicit valence for atom # 5 C, 5, is greater than permitted\n",
      "[11:09:46] Explicit valence for atom # 5 C, 5, is greater than permitted\n",
      "[11:09:46] Explicit valence for atom # 5 C, 5, is greater than permitted\n",
      "[11:09:46] Explicit valence for atom # 4 C, 5, is greater than permitted\n",
      "[11:09:46] Explicit valence for atom # 4 C, 5, is greater than permitted\n",
      "[11:09:46] Explicit valence for atom # 4 C, 5, is greater than permitted\n",
      "[11:09:46] Explicit valence for atom # 4 C, 5, is greater than permitted\n",
      "[11:09:46] Explicit valence for atom # 5 C, 5, is greater than permitted\n",
      "[11:09:46] Explicit valence for atom # 5 C, 5, is greater than permitted\n",
      "[11:09:46] Explicit valence for atom # 5 C, 5, is greater than permitted\n",
      "[11:09:46] Explicit valence for atom # 5 C, 5, is greater than permitted\n",
      "[11:09:46] Explicit valence for atom # 5 C, 5, is greater than permitted\n",
      "[11:09:46] Explicit valence for atom # 5 C, 5, is greater than permitted\n",
      "[11:09:46] Explicit valence for atom # 5 C, 5, is greater than permitted\n",
      "[11:09:46] Explicit valence for atom # 5 C, 5, is greater than permitted\n",
      "[11:09:46] Explicit valence for atom # 3 C, 5, is greater than permitted\n",
      "[11:09:46] Explicit valence for atom # 6 C, 5, is greater than permitted\n",
      "[11:09:46] Explicit valence for atom # 2 C, 5, is greater than permitted\n",
      "[11:09:46] Explicit valence for atom # 3 C, 5, is greater than permitted\n",
      "[11:09:46] Explicit valence for atom # 5 C, 5, is greater than permitted\n",
      "[11:09:46] Explicit valence for atom # 4 C, 5, is greater than permitted\n",
      "[11:09:46] Explicit valence for atom # 4 C, 5, is greater than permitted\n",
      "[11:09:46] Explicit valence for atom # 2 C, 5, is greater than permitted\n",
      "[11:09:46] Explicit valence for atom # 4 C, 5, is greater than permitted\n",
      "[11:09:46] Explicit valence for atom # 5 C, 5, is greater than permitted\n",
      "[11:09:46] Explicit valence for atom # 5 C, 5, is greater than permitted\n",
      "[11:09:46] Explicit valence for atom # 5 C, 5, is greater than permitted\n",
      "[11:09:46] Explicit valence for atom # 5 C, 5, is greater than permitted\n",
      "[11:09:46] Explicit valence for atom # 5 C, 5, is greater than permitted\n",
      "[11:09:46] Explicit valence for atom # 5 C, 5, is greater than permitted\n",
      "[11:09:46] Explicit valence for atom # 3 C, 5, is greater than permitted\n",
      "[11:09:46] Explicit valence for atom # 3 C, 5, is greater than permitted\n",
      "[11:09:46] Explicit valence for atom # 6 C, 5, is greater than permitted\n",
      "[11:09:46] Explicit valence for atom # 2 C, 5, is greater than permitted\n",
      "[11:09:46] Explicit valence for atom # 3 C, 5, is greater than permitted\n",
      "[11:09:46] Explicit valence for atom # 2 C, 5, is greater than permitted\n",
      "[11:09:46] Explicit valence for atom # 6 C, 5, is greater than permitted\n",
      "[11:09:46] Explicit valence for atom # 6 C, 5, is greater than permitted\n",
      "[11:09:46] Explicit valence for atom # 3 C, 5, is greater than permitted\n",
      "[11:09:46] Explicit valence for atom # 3 C, 5, is greater than permitted\n",
      "[11:09:46] Explicit valence for atom # 5 C, 5, is greater than permitted\n",
      "[11:09:46] Explicit valence for atom # 5 C, 5, is greater than permitted\n",
      "[11:09:46] Explicit valence for atom # 5 C, 5, is greater than permitted\n",
      "[11:09:46] Explicit valence for atom # 5 C, 5, is greater than permitted\n",
      "[11:09:46] Explicit valence for atom # 4 C, 5, is greater than permitted\n",
      "[11:09:46] Explicit valence for atom # 4 C, 5, is greater than permitted\n",
      "[11:09:46] Explicit valence for atom # 4 C, 5, is greater than permitted\n",
      "[11:09:46] Explicit valence for atom # 4 C, 5, is greater than permitted\n",
      "[11:09:46] Explicit valence for atom # 4 C, 5, is greater than permitted\n",
      "[11:09:46] Explicit valence for atom # 5 C, 5, is greater than permitted\n",
      "[11:09:46] Explicit valence for atom # 5 C, 5, is greater than permitted\n",
      "[11:09:46] Explicit valence for atom # 5 C, 5, is greater than permitted\n",
      "[11:09:46] Explicit valence for atom # 5 C, 5, is greater than permitted\n",
      "[11:09:46] Explicit valence for atom # 5 C, 5, is greater than permitted\n",
      "[11:09:46] Explicit valence for atom # 5 C, 5, is greater than permitted\n",
      "[11:09:46] Explicit valence for atom # 4 C, 5, is greater than permitted\n",
      "[11:09:46] Explicit valence for atom # 4 C, 5, is greater than permitted\n",
      "[11:09:46] Explicit valence for atom # 4 C, 5, is greater than permitted\n",
      "[11:09:46] Explicit valence for atom # 4 C, 5, is greater than permitted\n",
      "[11:09:46] Explicit valence for atom # 4 C, 5, is greater than permitted\n",
      "[11:09:46] Explicit valence for atom # 5 C, 5, is greater than permitted\n",
      "[11:09:46] Explicit valence for atom # 5 C, 5, is greater than permitted\n",
      "[11:09:46] Explicit valence for atom # 5 C, 5, is greater than permitted\n",
      "[11:09:46] Explicit valence for atom # 5 C, 5, is greater than permitted\n",
      "[11:09:46] Explicit valence for atom # 5 C, 5, is greater than permitted\n",
      "[11:09:46] Explicit valence for atom # 4 C, 5, is greater than permitted\n",
      "[11:09:46] Explicit valence for atom # 4 C, 5, is greater than permitted\n",
      "[11:09:46] Explicit valence for atom # 5 C, 5, is greater than permitted\n",
      "[11:09:46] Explicit valence for atom # 5 C, 5, is greater than permitted\n",
      "[11:09:47] Explicit valence for atom # 5 C, 5, is greater than permitted\n",
      "[11:09:47] Explicit valence for atom # 5 C, 5, is greater than permitted\n",
      "[11:09:47] Explicit valence for atom # 5 C, 5, is greater than permitted\n",
      "[11:09:47] Explicit valence for atom # 5 C, 5, is greater than permitted\n",
      "[11:09:47] Explicit valence for atom # 3 C, 5, is greater than permitted\n",
      "[11:09:47] Explicit valence for atom # 3 C, 5, is greater than permitted\n",
      "[11:09:47] Explicit valence for atom # 3 C, 5, is greater than permitted\n",
      "[11:09:47] Explicit valence for atom # 3 C, 5, is greater than permitted\n",
      "[11:09:47] Explicit valence for atom # 6 C, 5, is greater than permitted\n",
      "[11:09:47] Explicit valence for atom # 2 C, 5, is greater than permitted\n",
      "[11:09:47] Explicit valence for atom # 3 C, 5, is greater than permitted\n",
      "[11:09:47] Explicit valence for atom # 6 C, 5, is greater than permitted\n",
      "[11:09:47] Explicit valence for atom # 6 C, 5, is greater than permitted\n",
      "[11:09:47] Explicit valence for atom # 3 C, 5, is greater than permitted\n",
      "[11:09:47] Explicit valence for atom # 3 C, 5, is greater than permitted\n",
      "[11:09:47] Explicit valence for atom # 6 C, 5, is greater than permitted\n",
      "[11:09:47] Explicit valence for atom # 5 C, 5, is greater than permitted\n",
      "[11:09:47] Explicit valence for atom # 4 C, 5, is greater than permitted\n",
      "[11:09:47] Explicit valence for atom # 5 C, 5, is greater than permitted\n",
      "[11:09:47] Explicit valence for atom # 4 C, 5, is greater than permitted\n",
      "[11:09:47] Explicit valence for atom # 4 C, 5, is greater than permitted\n",
      "[11:09:47] Explicit valence for atom # 4 C, 5, is greater than permitted\n",
      "[11:09:47] Explicit valence for atom # 2 C, 5, is greater than permitted\n",
      "[11:09:47] Explicit valence for atom # 4 C, 5, is greater than permitted\n",
      "[11:09:47] Explicit valence for atom # 4 C, 5, is greater than permitted\n",
      "[11:09:47] Explicit valence for atom # 4 C, 5, is greater than permitted\n",
      "[11:09:47] Explicit valence for atom # 2 C, 5, is greater than permitted\n",
      "[11:09:47] Explicit valence for atom # 4 C, 5, is greater than permitted\n",
      "[11:09:47] Explicit valence for atom # 4 C, 5, is greater than permitted\n",
      "[11:09:47] Explicit valence for atom # 5 C, 5, is greater than permitted\n",
      "[11:09:47] Explicit valence for atom # 4 C, 5, is greater than permitted\n",
      "[11:09:47] Explicit valence for atom # 5 C, 5, is greater than permitted\n",
      "[11:09:47] Explicit valence for atom # 4 C, 5, is greater than permitted\n",
      "[11:09:47] Explicit valence for atom # 4 C, 5, is greater than permitted\n",
      "[11:09:47] Explicit valence for atom # 5 C, 5, is greater than permitted\n",
      "[11:09:47] Explicit valence for atom # 5 C, 5, is greater than permitted\n",
      "[11:09:47] Explicit valence for atom # 5 C, 5, is greater than permitted\n",
      "[11:09:47] Explicit valence for atom # 5 C, 5, is greater than permitted\n",
      "[11:09:47] Explicit valence for atom # 5 C, 5, is greater than permitted\n",
      "[11:09:47] Explicit valence for atom # 5 C, 5, is greater than permitted\n",
      "[11:09:47] Explicit valence for atom # 5 C, 5, is greater than permitted\n",
      "[11:09:47] Explicit valence for atom # 5 C, 5, is greater than permitted\n",
      "[11:09:47] Explicit valence for atom # 4 C, 5, is greater than permitted\n",
      "[11:09:47] Explicit valence for atom # 4 C, 5, is greater than permitted\n",
      "[11:09:47] Explicit valence for atom # 4 C, 5, is greater than permitted\n",
      "[11:09:47] Explicit valence for atom # 6 C, 5, is greater than permitted\n",
      "[11:09:47] Explicit valence for atom # 4 C, 5, is greater than permitted\n",
      "[11:09:47] Explicit valence for atom # 4 C, 5, is greater than permitted\n",
      "[11:09:47] Explicit valence for atom # 2 C, 5, is greater than permitted\n",
      "[11:09:47] Explicit valence for atom # 3 C, 5, is greater than permitted\n",
      "[11:09:47] Explicit valence for atom # 3 C, 5, is greater than permitted\n",
      "[11:09:47] Explicit valence for atom # 3 C, 5, is greater than permitted\n",
      "[11:09:47] Explicit valence for atom # 2 C, 5, is greater than permitted\n",
      "[11:09:47] Explicit valence for atom # 3 C, 5, is greater than permitted\n",
      "[11:09:47] Explicit valence for atom # 3 C, 5, is greater than permitted\n",
      "[11:09:47] Explicit valence for atom # 2 C, 5, is greater than permitted\n",
      "[11:09:47] Explicit valence for atom # 3 C, 5, is greater than permitted\n",
      "[11:09:47] Explicit valence for atom # 3 C, 5, is greater than permitted\n",
      "[11:09:47] Explicit valence for atom # 3 C, 5, is greater than permitted\n",
      "[11:09:47] Explicit valence for atom # 3 C, 5, is greater than permitted\n",
      "[11:09:47] Explicit valence for atom # 3 C, 5, is greater than permitted\n",
      "[11:09:47] Explicit valence for atom # 3 C, 5, is greater than permitted\n",
      "[11:09:47] Explicit valence for atom # 3 C, 5, is greater than permitted\n",
      "[11:09:47] Explicit valence for atom # 3 C, 5, is greater than permitted\n",
      "[11:09:47] Explicit valence for atom # 3 C, 5, is greater than permitted\n",
      "[11:09:47] Explicit valence for atom # 3 C, 5, is greater than permitted\n",
      "[11:09:47] Explicit valence for atom # 3 C, 5, is greater than permitted\n",
      "[11:09:47] Explicit valence for atom # 3 C, 5, is greater than permitted\n",
      "[11:09:47] Explicit valence for atom # 3 C, 5, is greater than permitted\n",
      "[11:09:47] Explicit valence for atom # 5 C, 5, is greater than permitted\n",
      "[11:09:47] Explicit valence for atom # 5 C, 5, is greater than permitted\n",
      "[11:09:47] Explicit valence for atom # 5 C, 5, is greater than permitted\n",
      "[11:09:47] Explicit valence for atom # 5 C, 5, is greater than permitted\n",
      "[11:09:47] Explicit valence for atom # 5 C, 5, is greater than permitted\n",
      "[11:09:47] Explicit valence for atom # 5 C, 5, is greater than permitted\n",
      "[11:09:47] Explicit valence for atom # 5 C, 5, is greater than permitted\n",
      "[11:09:47] Explicit valence for atom # 5 C, 5, is greater than permitted\n",
      "[11:09:47] Explicit valence for atom # 5 C, 5, is greater than permitted\n",
      "[11:09:47] Explicit valence for atom # 5 C, 5, is greater than permitted\n",
      "[11:09:47] Explicit valence for atom # 5 C, 5, is greater than permitted\n",
      "[11:09:47] Explicit valence for atom # 5 C, 5, is greater than permitted\n",
      "[11:09:47] Explicit valence for atom # 5 C, 5, is greater than permitted\n",
      "[11:09:47] Explicit valence for atom # 5 C, 5, is greater than permitted\n",
      "[11:09:47] Explicit valence for atom # 5 C, 5, is greater than permitted\n",
      "[11:09:47] Explicit valence for atom # 5 C, 5, is greater than permitted\n",
      "[11:09:47] Explicit valence for atom # 5 C, 5, is greater than permitted\n",
      "[11:09:47] Explicit valence for atom # 5 C, 5, is greater than permitted\n",
      "[11:09:47] Explicit valence for atom # 5 C, 5, is greater than permitted\n",
      "[11:09:47] Explicit valence for atom # 2 C, 5, is greater than permitted\n",
      "[11:09:47] Explicit valence for atom # 4 C, 5, is greater than permitted\n",
      "[11:09:47] Explicit valence for atom # 2 C, 5, is greater than permitted\n",
      "[11:09:47] Explicit valence for atom # 2 C, 5, is greater than permitted\n",
      "[11:09:47] Explicit valence for atom # 3 C, 5, is greater than permitted\n",
      "[11:09:47] Explicit valence for atom # 3 C, 5, is greater than permitted\n",
      "[11:09:47] Explicit valence for atom # 3 C, 5, is greater than permitted\n",
      "[11:09:47] Explicit valence for atom # 5 C, 5, is greater than permitted\n",
      "[11:09:47] Explicit valence for atom # 5 C, 5, is greater than permitted\n",
      "[11:09:47] Explicit valence for atom # 5 C, 5, is greater than permitted\n",
      "[11:09:47] Explicit valence for atom # 5 C, 5, is greater than permitted\n",
      "[11:09:47] Explicit valence for atom # 5 C, 5, is greater than permitted\n",
      "[11:09:47] Explicit valence for atom # 8 C, 5, is greater than permitted\n",
      "[11:09:47] Explicit valence for atom # 6 C, 5, is greater than permitted\n",
      "[11:09:47] Explicit valence for atom # 5 C, 5, is greater than permitted\n",
      "[11:09:47] Explicit valence for atom # 5 C, 5, is greater than permitted\n",
      "[11:09:47] Explicit valence for atom # 5 C, 5, is greater than permitted\n",
      "[11:09:47] Explicit valence for atom # 2 C, 5, is greater than permitted\n",
      "[11:09:47] Explicit valence for atom # 5 C, 5, is greater than permitted\n",
      "[11:09:47] Explicit valence for atom # 5 C, 5, is greater than permitted\n",
      "[11:09:47] Explicit valence for atom # 5 C, 5, is greater than permitted\n",
      "[11:09:47] Explicit valence for atom # 5 C, 5, is greater than permitted\n",
      "[11:09:47] Explicit valence for atom # 5 C, 5, is greater than permitted\n",
      "[11:09:47] Explicit valence for atom # 5 C, 5, is greater than permitted\n",
      "[11:09:47] Explicit valence for atom # 6 C, 5, is greater than permitted\n",
      "[11:09:47] Explicit valence for atom # 4 C, 5, is greater than permitted\n",
      "[11:09:47] Explicit valence for atom # 6 C, 5, is greater than permitted\n",
      "[11:09:47] Explicit valence for atom # 6 C, 5, is greater than permitted\n",
      "[11:09:47] Explicit valence for atom # 6 C, 5, is greater than permitted\n",
      "[11:09:47] Explicit valence for atom # 6 C, 5, is greater than permitted\n",
      "[11:09:47] Explicit valence for atom # 4 C, 5, is greater than permitted\n",
      "[11:09:47] Explicit valence for atom # 6 C, 5, is greater than permitted\n",
      "[11:09:47] Explicit valence for atom # 6 C, 5, is greater than permitted\n",
      "[11:09:47] Explicit valence for atom # 4 C, 5, is greater than permitted\n",
      "[11:09:47] Explicit valence for atom # 6 C, 5, is greater than permitted\n",
      "[11:09:47] Explicit valence for atom # 4 C, 5, is greater than permitted\n",
      "[11:09:47] Explicit valence for atom # 4 C, 5, is greater than permitted\n",
      "[11:09:47] Explicit valence for atom # 6 C, 5, is greater than permitted\n",
      "[11:09:47] Explicit valence for atom # 5 C, 5, is greater than permitted\n",
      "[11:09:47] Explicit valence for atom # 4 C, 5, is greater than permitted\n",
      "[11:09:47] Explicit valence for atom # 6 C, 5, is greater than permitted\n",
      "[11:09:47] Explicit valence for atom # 5 C, 5, is greater than permitted\n",
      "[11:09:47] Explicit valence for atom # 6 C, 5, is greater than permitted\n",
      "[11:09:47] Explicit valence for atom # 4 C, 5, is greater than permitted\n",
      "[11:09:47] Explicit valence for atom # 6 C, 5, is greater than permitted\n",
      "[11:09:47] Explicit valence for atom # 6 C, 5, is greater than permitted\n",
      "[11:09:47] Explicit valence for atom # 6 C, 5, is greater than permitted\n",
      "[11:09:47] Explicit valence for atom # 5 C, 5, is greater than permitted\n",
      "[11:09:47] Explicit valence for atom # 6 C, 5, is greater than permitted\n",
      "[11:09:47] Explicit valence for atom # 6 C, 5, is greater than permitted\n",
      "[11:09:47] Explicit valence for atom # 6 C, 5, is greater than permitted\n",
      "[11:09:47] Explicit valence for atom # 6 C, 5, is greater than permitted\n",
      "[11:09:47] Explicit valence for atom # 6 C, 5, is greater than permitted\n",
      "[11:09:47] Explicit valence for atom # 6 C, 5, is greater than permitted\n",
      "[11:09:47] Explicit valence for atom # 4 C, 5, is greater than permitted\n",
      "[11:09:47] Explicit valence for atom # 6 C, 5, is greater than permitted\n",
      "[11:09:47] Explicit valence for atom # 6 C, 5, is greater than permitted\n",
      "[11:09:47] Explicit valence for atom # 2 C, 5, is greater than permitted\n",
      "[11:09:47] Explicit valence for atom # 4 C, 5, is greater than permitted\n",
      "[11:09:47] Explicit valence for atom # 4 C, 5, is greater than permitted\n",
      "[11:09:47] Explicit valence for atom # 5 C, 5, is greater than permitted\n",
      "[11:09:47] Explicit valence for atom # 4 C, 5, is greater than permitted\n",
      "[11:09:47] Explicit valence for atom # 4 C, 5, is greater than permitted\n",
      "[11:09:47] Explicit valence for atom # 4 C, 5, is greater than permitted\n",
      "[11:09:47] Explicit valence for atom # 6 C, 5, is greater than permitted\n",
      "[11:09:47] Explicit valence for atom # 6 C, 5, is greater than permitted\n",
      "[11:09:47] Explicit valence for atom # 4 C, 5, is greater than permitted\n",
      "[11:09:47] Explicit valence for atom # 5 C, 5, is greater than permitted\n",
      "[11:09:47] Explicit valence for atom # 6 C, 5, is greater than permitted\n",
      "[11:09:47] Explicit valence for atom # 6 C, 5, is greater than permitted\n",
      "[11:09:47] Explicit valence for atom # 3 C, 5, is greater than permitted\n",
      "[11:09:47] Explicit valence for atom # 3 C, 5, is greater than permitted\n",
      "[11:09:47] Explicit valence for atom # 3 C, 5, is greater than permitted\n",
      "[11:09:47] Explicit valence for atom # 3 C, 5, is greater than permitted\n",
      "[11:09:47] Explicit valence for atom # 3 C, 5, is greater than permitted\n",
      "[11:09:47] Explicit valence for atom # 3 C, 5, is greater than permitted\n",
      "[11:09:47] Explicit valence for atom # 4 C, 5, is greater than permitted\n",
      "[11:09:47] Explicit valence for atom # 4 C, 5, is greater than permitted\n",
      "[11:09:47] Explicit valence for atom # 4 C, 5, is greater than permitted\n",
      "[11:09:47] Explicit valence for atom # 4 C, 5, is greater than permitted\n",
      "[11:09:47] Explicit valence for atom # 4 C, 5, is greater than permitted\n",
      "[11:09:47] Explicit valence for atom # 4 C, 5, is greater than permitted\n",
      "[11:09:47] Explicit valence for atom # 4 C, 5, is greater than permitted\n",
      "[11:09:47] Explicit valence for atom # 4 C, 5, is greater than permitted\n",
      "[11:09:47] Explicit valence for atom # 3 C, 5, is greater than permitted\n",
      "[11:09:47] Explicit valence for atom # 4 C, 5, is greater than permitted\n",
      "[11:09:47] Explicit valence for atom # 4 C, 5, is greater than permitted\n",
      "[11:09:47] Explicit valence for atom # 4 C, 5, is greater than permitted\n",
      "[11:09:47] Explicit valence for atom # 4 C, 5, is greater than permitted\n",
      "[11:09:47] Explicit valence for atom # 3 C, 5, is greater than permitted\n",
      "[11:09:47] Explicit valence for atom # 1 C, 5, is greater than permitted\n",
      "[11:09:47] Explicit valence for atom # 3 C, 5, is greater than permitted\n",
      "[11:09:47] Explicit valence for atom # 5 C, 5, is greater than permitted\n",
      "[11:09:47] Explicit valence for atom # 5 C, 5, is greater than permitted\n",
      "[11:09:47] Explicit valence for atom # 5 C, 5, is greater than permitted\n",
      "[11:09:47] Explicit valence for atom # 5 C, 5, is greater than permitted\n",
      "[11:09:47] Explicit valence for atom # 5 C, 5, is greater than permitted\n",
      "[11:09:47] Explicit valence for atom # 6 C, 5, is greater than permitted\n",
      "[11:09:47] Explicit valence for atom # 6 C, 5, is greater than permitted\n",
      "[11:09:47] Explicit valence for atom # 6 C, 5, is greater than permitted\n",
      "[11:09:47] Explicit valence for atom # 4 C, 5, is greater than permitted\n",
      "[11:09:47] Explicit valence for atom # 2 C, 5, is greater than permitted\n",
      "[11:09:47] Explicit valence for atom # 2 C, 5, is greater than permitted\n",
      "[11:09:47] Explicit valence for atom # 6 C, 5, is greater than permitted\n",
      "[11:09:47] Explicit valence for atom # 6 C, 5, is greater than permitted\n",
      "[11:09:47] Explicit valence for atom # 3 C, 5, is greater than permitted\n",
      "[11:09:47] Explicit valence for atom # 5 C, 5, is greater than permitted\n",
      "[11:09:47] Explicit valence for atom # 5 C, 5, is greater than permitted\n",
      "[11:09:47] Explicit valence for atom # 4 C, 5, is greater than permitted\n",
      "[11:09:47] Explicit valence for atom # 3 C, 5, is greater than permitted\n",
      "[11:09:47] Explicit valence for atom # 4 C, 5, is greater than permitted\n",
      "[11:09:47] Explicit valence for atom # 5 C, 5, is greater than permitted\n",
      "[11:09:47] Explicit valence for atom # 3 C, 5, is greater than permitted\n",
      "[11:09:47] Explicit valence for atom # 2 C, 5, is greater than permitted\n",
      "[11:09:47] Explicit valence for atom # 3 C, 5, is greater than permitted\n",
      "[11:09:47] Explicit valence for atom # 3 C, 5, is greater than permitted\n",
      "[11:09:47] Explicit valence for atom # 3 C, 5, is greater than permitted\n",
      "[11:09:47] Explicit valence for atom # 3 C, 5, is greater than permitted\n",
      "[11:09:47] Explicit valence for atom # 6 C, 5, is greater than permitted\n",
      "[11:09:47] Explicit valence for atom # 6 C, 5, is greater than permitted\n",
      "[11:09:47] Explicit valence for atom # 2 C, 5, is greater than permitted\n",
      "[11:09:47] Explicit valence for atom # 6 C, 5, is greater than permitted\n",
      "[11:09:47] Explicit valence for atom # 2 C, 5, is greater than permitted\n",
      "[11:09:47] Explicit valence for atom # 3 C, 5, is greater than permitted\n",
      "[11:09:47] Explicit valence for atom # 3 C, 5, is greater than permitted\n",
      "[11:09:47] Explicit valence for atom # 3 C, 5, is greater than permitted\n",
      "[11:09:47] Explicit valence for atom # 4 C, 5, is greater than permitted\n",
      "[11:09:47] Explicit valence for atom # 4 C, 5, is greater than permitted\n",
      "[11:09:47] Explicit valence for atom # 4 C, 5, is greater than permitted\n",
      "[11:09:47] Explicit valence for atom # 4 C, 5, is greater than permitted\n",
      "[11:09:47] Explicit valence for atom # 4 C, 5, is greater than permitted\n",
      "[11:09:47] Explicit valence for atom # 4 C, 5, is greater than permitted\n",
      "[11:09:47] Explicit valence for atom # 4 C, 5, is greater than permitted\n",
      "[11:09:47] Explicit valence for atom # 4 C, 5, is greater than permitted\n",
      "[11:09:47] Explicit valence for atom # 4 C, 5, is greater than permitted\n",
      "[11:09:47] Explicit valence for atom # 4 C, 5, is greater than permitted\n",
      "[11:09:47] Explicit valence for atom # 5 C, 5, is greater than permitted\n",
      "[11:09:47] Explicit valence for atom # 4 C, 5, is greater than permitted\n",
      "[11:09:47] Explicit valence for atom # 4 C, 5, is greater than permitted\n",
      "[11:09:47] Explicit valence for atom # 4 C, 5, is greater than permitted\n",
      "[11:09:47] Explicit valence for atom # 1 C, 5, is greater than permitted\n",
      "[11:09:47] Explicit valence for atom # 2 C, 5, is greater than permitted\n",
      "[11:09:47] Explicit valence for atom # 4 C, 5, is greater than permitted\n",
      "[11:09:47] Explicit valence for atom # 2 C, 5, is greater than permitted\n",
      "[11:09:47] Explicit valence for atom # 5 C, 5, is greater than permitted\n",
      "[11:09:47] Explicit valence for atom # 2 C, 5, is greater than permitted\n",
      "[11:09:47] Explicit valence for atom # 4 C, 5, is greater than permitted\n",
      "[11:09:47] Explicit valence for atom # 4 C, 5, is greater than permitted\n",
      "[11:09:47] Explicit valence for atom # 2 C, 5, is greater than permitted\n",
      "[11:09:47] Explicit valence for atom # 4 C, 5, is greater than permitted\n",
      "[11:09:47] Explicit valence for atom # 2 C, 5, is greater than permitted\n",
      "[11:09:47] Explicit valence for atom # 2 C, 5, is greater than permitted\n",
      "[11:09:47] Explicit valence for atom # 5 C, 5, is greater than permitted\n",
      "[11:09:47] Explicit valence for atom # 5 C, 5, is greater than permitted\n",
      "[11:09:47] Explicit valence for atom # 4 C, 5, is greater than permitted\n",
      "[11:09:47] Explicit valence for atom # 3 C, 5, is greater than permitted\n",
      "[11:09:47] Explicit valence for atom # 5 C, 5, is greater than permitted\n",
      "[11:09:47] Explicit valence for atom # 5 C, 5, is greater than permitted\n",
      "[11:09:47] Explicit valence for atom # 5 C, 5, is greater than permitted\n",
      "[11:09:47] Explicit valence for atom # 3 C, 5, is greater than permitted\n",
      "[11:09:47] Explicit valence for atom # 4 C, 5, is greater than permitted\n",
      "[11:09:47] Explicit valence for atom # 2 C, 5, is greater than permitted\n",
      "[11:09:47] Explicit valence for atom # 5 C, 5, is greater than permitted\n",
      "[11:09:47] Explicit valence for atom # 3 C, 5, is greater than permitted\n",
      "[11:09:47] Explicit valence for atom # 3 C, 5, is greater than permitted\n",
      "[11:09:47] Explicit valence for atom # 3 C, 5, is greater than permitted\n",
      "[11:09:47] Explicit valence for atom # 6 C, 5, is greater than permitted\n",
      "[11:09:47] Explicit valence for atom # 6 C, 5, is greater than permitted\n",
      "[11:09:47] Explicit valence for atom # 6 C, 5, is greater than permitted\n",
      "[11:09:47] Explicit valence for atom # 6 C, 5, is greater than permitted\n",
      "[11:09:47] Explicit valence for atom # 4 C, 5, is greater than permitted\n",
      "[11:09:47] Explicit valence for atom # 4 C, 5, is greater than permitted\n",
      "[11:09:47] Explicit valence for atom # 4 C, 5, is greater than permitted\n",
      "[11:09:47] Explicit valence for atom # 5 C, 5, is greater than permitted\n",
      "[11:09:47] Explicit valence for atom # 5 C, 5, is greater than permitted\n",
      "[11:09:47] Explicit valence for atom # 5 C, 5, is greater than permitted\n",
      "[11:09:47] Explicit valence for atom # 5 C, 5, is greater than permitted\n",
      "[11:09:47] Explicit valence for atom # 5 C, 5, is greater than permitted\n",
      "[11:09:47] Explicit valence for atom # 6 C, 5, is greater than permitted\n",
      "[11:09:47] Explicit valence for atom # 6 C, 5, is greater than permitted\n",
      "[11:09:47] Explicit valence for atom # 6 C, 5, is greater than permitted\n",
      "[11:09:47] Explicit valence for atom # 6 C, 5, is greater than permitted\n",
      "[11:09:47] Explicit valence for atom # 6 C, 5, is greater than permitted\n",
      "[11:09:47] Explicit valence for atom # 6 C, 5, is greater than permitted\n",
      "[11:09:47] Explicit valence for atom # 5 C, 5, is greater than permitted\n",
      "Exception ignored in: <function _xla_gc_callback at 0x7f9a2812a820>\n",
      "Traceback (most recent call last):\n",
      "  File \"/usr/local/lib/python3.9/dist-packages/jax/_src/lib/__init__.py\", line 98, in _xla_gc_callback\n",
      "    def _xla_gc_callback(*args):\n",
      "KeyboardInterrupt: \n",
      "[11:09:47] Explicit valence for atom # 4 C, 5, is greater than permitted\n",
      "[11:09:47] Explicit valence for atom # 6 C, 5, is greater than permitted\n",
      "[11:09:47] Explicit valence for atom # 5 C, 5, is greater than permitted\n",
      "[11:09:47] Explicit valence for atom # 5 C, 5, is greater than permitted\n",
      "[11:09:47] Explicit valence for atom # 3 C, 5, is greater than permitted\n",
      "[11:09:47] Explicit valence for atom # 4 C, 5, is greater than permitted\n",
      "[11:09:47] Explicit valence for atom # 4 C, 5, is greater than permitted\n",
      "[11:09:47] Explicit valence for atom # 5 C, 5, is greater than permitted\n",
      "[11:09:47] Explicit valence for atom # 6 C, 5, is greater than permitted\n",
      "[11:09:47] Explicit valence for atom # 6 C, 5, is greater than permitted\n",
      "[11:09:47] Explicit valence for atom # 5 C, 5, is greater than permitted\n",
      "[11:09:47] Explicit valence for atom # 4 C, 5, is greater than permitted\n",
      "[11:09:47] Explicit valence for atom # 4 C, 5, is greater than permitted\n",
      "[11:09:47] Explicit valence for atom # 4 C, 5, is greater than permitted\n",
      "[11:09:47] Explicit valence for atom # 3 C, 5, is greater than permitted\n",
      "[11:09:47] Explicit valence for atom # 4 C, 5, is greater than permitted\n",
      "[11:09:47] Explicit valence for atom # 5 C, 5, is greater than permitted\n",
      "[11:09:47] Explicit valence for atom # 5 C, 5, is greater than permitted\n",
      "[11:09:47] Explicit valence for atom # 5 C, 5, is greater than permitted\n",
      "[11:09:47] Explicit valence for atom # 5 C, 5, is greater than permitted\n",
      "[11:09:47] Explicit valence for atom # 4 C, 5, is greater than permitted\n",
      "[11:09:47] Explicit valence for atom # 5 C, 5, is greater than permitted\n",
      "[11:09:47] Explicit valence for atom # 4 C, 5, is greater than permitted\n",
      "[11:09:47] Explicit valence for atom # 4 C, 5, is greater than permitted\n",
      "[11:09:47] Explicit valence for atom # 4 C, 5, is greater than permitted\n",
      "Exception ignored in: <function _xla_gc_callback at 0x7f9a2812a820>\n",
      "Traceback (most recent call last):\n",
      "  File \"/usr/local/lib/python3.9/dist-packages/jax/_src/lib/__init__.py\", line 98, in _xla_gc_callback\n",
      "    def _xla_gc_callback(*args):\n",
      "KeyboardInterrupt: \n",
      "[11:09:48] Explicit valence for atom # 4 C, 5, is greater than permitted\n",
      "[11:09:48] Explicit valence for atom # 4 C, 5, is greater than permitted\n",
      "[11:09:48] Explicit valence for atom # 4 C, 5, is greater than permitted\n",
      "[11:09:48] Explicit valence for atom # 6 C, 5, is greater than permitted\n",
      "[11:09:48] Explicit valence for atom # 6 C, 5, is greater than permitted\n",
      "[11:09:48] Explicit valence for atom # 4 C, 5, is greater than permitted\n",
      "[11:09:48] Explicit valence for atom # 4 C, 5, is greater than permitted\n",
      "[11:09:48] Explicit valence for atom # 2 C, 5, is greater than permitted\n",
      "[11:09:48] Explicit valence for atom # 2 C, 5, is greater than permitted\n",
      "[11:09:48] Explicit valence for atom # 2 C, 5, is greater than permitted\n",
      "[11:09:48] Explicit valence for atom # 5 C, 5, is greater than permitted\n",
      "[11:09:48] Explicit valence for atom # 5 C, 5, is greater than permitted\n",
      "[11:09:48] Explicit valence for atom # 5 C, 5, is greater than permitted\n",
      "[11:09:48] Explicit valence for atom # 5 C, 5, is greater than permitted\n",
      "[11:09:48] Explicit valence for atom # 3 C, 5, is greater than permitted\n",
      "[11:09:48] Explicit valence for atom # 3 C, 5, is greater than permitted\n",
      "[11:09:48] Explicit valence for atom # 2 C, 5, is greater than permitted\n",
      "[11:09:48] Explicit valence for atom # 3 C, 5, is greater than permitted\n",
      "[11:09:48] Explicit valence for atom # 2 C, 5, is greater than permitted\n",
      "[11:09:48] Explicit valence for atom # 3 C, 5, is greater than permitted\n",
      "[11:09:48] Explicit valence for atom # 3 C, 5, is greater than permitted\n",
      "[11:09:48] Explicit valence for atom # 3 C, 5, is greater than permitted\n",
      "[11:09:48] Explicit valence for atom # 3 C, 5, is greater than permitted\n",
      "[11:09:48] Explicit valence for atom # 5 C, 5, is greater than permitted\n",
      "[11:09:48] Explicit valence for atom # 4 C, 5, is greater than permitted\n",
      "[11:09:48] Explicit valence for atom # 5 C, 5, is greater than permitted\n",
      "[11:09:48] Explicit valence for atom # 4 C, 5, is greater than permitted\n",
      "[11:09:48] Explicit valence for atom # 4 C, 5, is greater than permitted\n",
      "[11:09:48] Explicit valence for atom # 2 C, 5, is greater than permitted\n",
      "[11:09:48] Explicit valence for atom # 2 C, 5, is greater than permitted\n",
      "[11:09:48] Explicit valence for atom # 3 C, 5, is greater than permitted\n",
      "[11:09:48] Explicit valence for atom # 6 C, 5, is greater than permitted\n",
      "[11:09:48] Explicit valence for atom # 3 C, 5, is greater than permitted\n",
      "[11:09:48] Explicit valence for atom # 6 C, 5, is greater than permitted\n",
      "[11:09:48] Explicit valence for atom # 3 C, 5, is greater than permitted\n",
      "[11:09:48] Explicit valence for atom # 6 C, 5, is greater than permitted\n",
      "[11:09:48] Explicit valence for atom # 3 C, 5, is greater than permitted\n",
      "[11:09:48] Explicit valence for atom # 6 C, 5, is greater than permitted\n",
      "[11:09:48] Explicit valence for atom # 6 C, 5, is greater than permitted\n",
      "[11:09:48] Explicit valence for atom # 3 C, 5, is greater than permitted\n",
      "[11:09:48] Explicit valence for atom # 5 C, 5, is greater than permitted\n",
      "[11:09:48] Explicit valence for atom # 5 C, 5, is greater than permitted\n",
      "[11:09:48] Explicit valence for atom # 5 C, 5, is greater than permitted\n",
      "[11:09:48] Explicit valence for atom # 5 C, 5, is greater than permitted\n",
      "[11:09:48] Explicit valence for atom # 5 C, 5, is greater than permitted\n",
      "[11:09:48] Explicit valence for atom # 5 C, 5, is greater than permitted\n",
      "Exception ignored in: <function _xla_gc_callback at 0x7f9a2812a820>\n",
      "Traceback (most recent call last):\n",
      "  File \"/usr/local/lib/python3.9/dist-packages/jax/_src/lib/__init__.py\", line 98, in _xla_gc_callback\n",
      "    def _xla_gc_callback(*args):\n",
      "KeyboardInterrupt: \n",
      "[11:09:48] Explicit valence for atom # 2 C, 5, is greater than permitted\n",
      "[11:09:48] Explicit valence for atom # 2 C, 5, is greater than permitted\n",
      "[11:09:48] Explicit valence for atom # 2 C, 5, is greater than permitted\n",
      "[11:09:48] Explicit valence for atom # 2 C, 5, is greater than permitted\n",
      "[11:09:48] Explicit valence for atom # 2 C, 5, is greater than permitted\n",
      "[11:09:48] Explicit valence for atom # 2 C, 5, is greater than permitted\n",
      "[11:09:48] Explicit valence for atom # 3 C, 5, is greater than permitted\n",
      "[11:09:48] Explicit valence for atom # 2 C, 5, is greater than permitted\n",
      "[11:09:48] Explicit valence for atom # 3 C, 5, is greater than permitted\n",
      "[11:09:48] Explicit valence for atom # 2 C, 5, is greater than permitted\n",
      "[11:09:48] Explicit valence for atom # 3 C, 5, is greater than permitted\n",
      "[11:09:48] Explicit valence for atom # 3 C, 5, is greater than permitted\n",
      "[11:09:48] Explicit valence for atom # 2 C, 5, is greater than permitted\n",
      "[11:09:48] Explicit valence for atom # 2 C, 5, is greater than permitted\n",
      "[11:09:48] Explicit valence for atom # 3 C, 5, is greater than permitted\n",
      "[11:09:48] Explicit valence for atom # 2 C, 5, is greater than permitted\n",
      "[11:09:48] Explicit valence for atom # 2 C, 5, is greater than permitted\n",
      "[11:09:48] Explicit valence for atom # 2 C, 5, is greater than permitted\n",
      "[11:09:48] Explicit valence for atom # 2 C, 5, is greater than permitted\n",
      "[11:09:48] Explicit valence for atom # 2 C, 5, is greater than permitted\n",
      "[11:09:48] Explicit valence for atom # 3 C, 5, is greater than permitted\n",
      "[11:09:48] Explicit valence for atom # 2 C, 5, is greater than permitted\n",
      "[11:09:48] Explicit valence for atom # 3 C, 5, is greater than permitted\n",
      "[11:09:48] Explicit valence for atom # 2 C, 5, is greater than permitted\n",
      "[11:09:48] Explicit valence for atom # 3 C, 5, is greater than permitted\n",
      "[11:09:48] Explicit valence for atom # 2 C, 5, is greater than permitted\n",
      "[11:09:48] Explicit valence for atom # 2 C, 5, is greater than permitted\n",
      "[11:09:48] Explicit valence for atom # 2 C, 5, is greater than permitted\n",
      "[11:09:48] Explicit valence for atom # 2 C, 5, is greater than permitted\n",
      "[11:09:48] Explicit valence for atom # 3 C, 5, is greater than permitted\n",
      "[11:09:48] Explicit valence for atom # 2 C, 5, is greater than permitted\n",
      "[11:09:48] Explicit valence for atom # 2 C, 5, is greater than permitted\n",
      "[11:09:48] Explicit valence for atom # 2 C, 5, is greater than permitted\n",
      "[11:09:48] Explicit valence for atom # 2 C, 5, is greater than permitted\n",
      "[11:09:48] Explicit valence for atom # 2 C, 5, is greater than permitted\n",
      "[11:09:48] Explicit valence for atom # 2 C, 5, is greater than permitted\n",
      "[11:09:48] Explicit valence for atom # 4 C, 5, is greater than permitted\n",
      "[11:09:48] Explicit valence for atom # 2 C, 5, is greater than permitted\n",
      "[11:09:48] Explicit valence for atom # 4 C, 5, is greater than permitted\n",
      "[11:09:48] Explicit valence for atom # 2 C, 5, is greater than permitted\n",
      "[11:09:48] Explicit valence for atom # 4 C, 5, is greater than permitted\n",
      "[11:09:48] Explicit valence for atom # 4 C, 5, is greater than permitted\n",
      "[11:09:48] Explicit valence for atom # 4 C, 5, is greater than permitted\n",
      "[11:09:48] Explicit valence for atom # 2 C, 5, is greater than permitted\n",
      "[11:09:48] Explicit valence for atom # 4 C, 5, is greater than permitted\n",
      "[11:09:48] Explicit valence for atom # 4 C, 5, is greater than permitted\n",
      "[11:09:48] Explicit valence for atom # 2 C, 5, is greater than permitted\n",
      "[11:09:48] Explicit valence for atom # 2 C, 5, is greater than permitted\n",
      "[11:09:48] Explicit valence for atom # 2 C, 5, is greater than permitted\n",
      "[11:09:48] Explicit valence for atom # 2 C, 5, is greater than permitted\n",
      "[11:09:48] Explicit valence for atom # 2 C, 5, is greater than permitted\n",
      "[11:09:48] Explicit valence for atom # 4 C, 5, is greater than permitted\n",
      "[11:09:48] Explicit valence for atom # 4 C, 5, is greater than permitted\n",
      "[11:09:48] Explicit valence for atom # 2 C, 5, is greater than permitted\n",
      "[11:09:48] Explicit valence for atom # 4 C, 5, is greater than permitted\n",
      "[11:09:48] Explicit valence for atom # 2 C, 5, is greater than permitted\n",
      "[11:09:48] Explicit valence for atom # 2 C, 5, is greater than permitted\n",
      "[11:09:48] Explicit valence for atom # 2 C, 5, is greater than permitted\n",
      "[11:09:48] Explicit valence for atom # 2 C, 5, is greater than permitted\n",
      "[11:09:48] Explicit valence for atom # 2 C, 5, is greater than permitted\n",
      "[11:09:48] Explicit valence for atom # 2 C, 5, is greater than permitted\n",
      "[11:09:48] Explicit valence for atom # 4 C, 5, is greater than permitted\n",
      "[11:09:48] Explicit valence for atom # 2 C, 5, is greater than permitted\n",
      "[11:09:48] Explicit valence for atom # 4 C, 5, is greater than permitted\n",
      "[11:09:48] Explicit valence for atom # 4 C, 5, is greater than permitted\n",
      "[11:09:48] Explicit valence for atom # 4 C, 5, is greater than permitted\n",
      "[11:09:48] Explicit valence for atom # 4 C, 5, is greater than permitted\n",
      "[11:09:48] Explicit valence for atom # 4 C, 5, is greater than permitted\n",
      "[11:09:48] Explicit valence for atom # 2 C, 5, is greater than permitted\n",
      "Exception ignored in: <function _xla_gc_callback at 0x7f9a2812a820>\n",
      "Traceback (most recent call last):\n",
      "  File \"/usr/local/lib/python3.9/dist-packages/jax/_src/lib/__init__.py\", line 98, in _xla_gc_callback\n",
      "    def _xla_gc_callback(*args):\n",
      "KeyboardInterrupt: \n",
      "[11:09:48] Explicit valence for atom # 2 C, 5, is greater than permitted\n",
      "[11:09:48] Explicit valence for atom # 4 C, 5, is greater than permitted\n",
      "[11:09:48] Explicit valence for atom # 3 C, 5, is greater than permitted\n",
      "[11:09:48] Explicit valence for atom # 5 C, 5, is greater than permitted\n",
      "[11:09:48] Explicit valence for atom # 3 C, 5, is greater than permitted\n",
      "[11:09:48] Explicit valence for atom # 5 C, 5, is greater than permitted\n",
      "[11:09:48] Explicit valence for atom # 5 C, 5, is greater than permitted\n",
      "[11:09:48] Explicit valence for atom # 5 C, 5, is greater than permitted\n",
      "[11:09:48] Explicit valence for atom # 5 C, 5, is greater than permitted\n",
      "[11:09:48] Explicit valence for atom # 5 C, 5, is greater than permitted\n",
      "[11:09:48] Explicit valence for atom # 5 C, 5, is greater than permitted\n",
      "[11:09:48] Explicit valence for atom # 4 C, 5, is greater than permitted\n",
      "[11:09:48] Explicit valence for atom # 4 C, 5, is greater than permitted\n",
      "[11:09:48] Explicit valence for atom # 4 C, 5, is greater than permitted\n",
      "[11:09:48] Explicit valence for atom # 4 C, 5, is greater than permitted\n",
      "[11:09:48] Explicit valence for atom # 4 C, 5, is greater than permitted\n",
      "[11:09:48] Explicit valence for atom # 4 C, 5, is greater than permitted\n",
      "[11:09:48] Explicit valence for atom # 4 C, 5, is greater than permitted\n",
      "[11:09:48] Explicit valence for atom # 4 C, 5, is greater than permitted\n",
      "[11:09:48] Explicit valence for atom # 4 C, 5, is greater than permitted\n",
      "[11:09:48] Explicit valence for atom # 4 C, 5, is greater than permitted\n",
      "[11:09:48] Explicit valence for atom # 5 C, 5, is greater than permitted\n",
      "[11:09:48] Explicit valence for atom # 4 C, 5, is greater than permitted\n",
      "[11:09:48] Explicit valence for atom # 5 C, 5, is greater than permitted\n",
      "[11:09:48] Explicit valence for atom # 5 C, 5, is greater than permitted\n",
      "[11:09:48] Explicit valence for atom # 5 C, 5, is greater than permitted\n",
      "[11:09:48] Explicit valence for atom # 5 C, 5, is greater than permitted\n",
      "[11:09:48] Explicit valence for atom # 5 C, 5, is greater than permitted\n",
      "[11:09:48] Explicit valence for atom # 6 C, 5, is greater than permitted\n",
      "[11:09:48] Explicit valence for atom # 5 C, 5, is greater than permitted\n",
      "[11:09:48] Explicit valence for atom # 5 C, 5, is greater than permitted\n",
      "[11:09:48] Explicit valence for atom # 5 C, 5, is greater than permitted\n",
      "[11:09:48] Explicit valence for atom # 5 C, 5, is greater than permitted\n",
      "[11:09:48] Explicit valence for atom # 5 C, 5, is greater than permitted\n",
      "[11:09:48] Explicit valence for atom # 5 C, 5, is greater than permitted\n",
      "[11:09:48] Explicit valence for atom # 3 C, 5, is greater than permitted\n",
      "[11:09:48] Explicit valence for atom # 3 C, 5, is greater than permitted\n",
      "[11:09:48] Explicit valence for atom # 3 C, 5, is greater than permitted\n",
      "[11:09:48] Explicit valence for atom # 3 C, 5, is greater than permitted\n",
      "[11:09:48] Explicit valence for atom # 5 C, 5, is greater than permitted\n",
      "[11:09:48] Explicit valence for atom # 3 C, 5, is greater than permitted\n",
      "[11:09:48] Explicit valence for atom # 3 C, 5, is greater than permitted\n",
      "[11:09:48] Explicit valence for atom # 3 C, 5, is greater than permitted\n",
      "[11:09:48] Explicit valence for atom # 3 C, 5, is greater than permitted\n",
      "[11:09:48] Explicit valence for atom # 3 C, 5, is greater than permitted\n",
      "[11:09:48] Explicit valence for atom # 2 C, 5, is greater than permitted\n",
      "[11:09:48] Explicit valence for atom # 2 C, 5, is greater than permitted\n",
      "[11:09:48] Explicit valence for atom # 3 C, 5, is greater than permitted\n",
      "[11:09:48] Explicit valence for atom # 4 C, 5, is greater than permitted\n",
      "[11:09:48] Explicit valence for atom # 4 C, 5, is greater than permitted\n",
      "[11:09:48] Explicit valence for atom # 4 C, 5, is greater than permitted\n",
      "[11:09:48] Explicit valence for atom # 6 C, 5, is greater than permitted\n",
      "[11:09:48] Explicit valence for atom # 2 C, 5, is greater than permitted\n",
      "[11:09:48] Explicit valence for atom # 3 C, 5, is greater than permitted\n",
      "[11:09:48] Explicit valence for atom # 2 C, 5, is greater than permitted\n",
      "[11:09:48] Explicit valence for atom # 3 C, 5, is greater than permitted\n",
      "[11:09:48] Explicit valence for atom # 6 C, 5, is greater than permitted\n",
      "[11:09:48] Explicit valence for atom # 3 C, 5, is greater than permitted\n",
      "[11:09:48] Explicit valence for atom # 6 C, 5, is greater than permitted\n",
      "[11:09:48] Explicit valence for atom # 6 C, 5, is greater than permitted\n",
      "[11:09:48] Explicit valence for atom # 3 C, 5, is greater than permitted\n",
      "[11:09:48] Explicit valence for atom # 3 C, 5, is greater than permitted\n",
      "[11:09:48] Explicit valence for atom # 4 C, 5, is greater than permitted\n",
      "[11:09:48] Explicit valence for atom # 5 C, 5, is greater than permitted\n",
      "[11:09:48] Explicit valence for atom # 5 C, 5, is greater than permitted\n",
      "[11:09:48] Explicit valence for atom # 5 C, 5, is greater than permitted\n",
      "[11:09:48] Explicit valence for atom # 5 C, 5, is greater than permitted\n",
      "[11:09:48] Explicit valence for atom # 5 C, 5, is greater than permitted\n",
      "[11:09:48] Explicit valence for atom # 4 C, 5, is greater than permitted\n",
      "[11:09:48] Explicit valence for atom # 4 C, 5, is greater than permitted\n",
      "[11:09:48] Explicit valence for atom # 4 C, 5, is greater than permitted\n",
      "[11:09:48] Explicit valence for atom # 4 C, 5, is greater than permitted\n",
      "[11:09:48] Explicit valence for atom # 4 C, 5, is greater than permitted\n",
      "[11:09:48] Explicit valence for atom # 4 C, 5, is greater than permitted\n",
      "[11:09:48] Explicit valence for atom # 4 C, 5, is greater than permitted\n",
      "[11:09:48] Explicit valence for atom # 4 C, 5, is greater than permitted\n",
      "[11:09:48] Explicit valence for atom # 6 C, 5, is greater than permitted\n",
      "[11:09:48] Explicit valence for atom # 4 C, 5, is greater than permitted\n",
      "[11:09:48] Explicit valence for atom # 4 C, 5, is greater than permitted\n",
      "[11:09:48] Explicit valence for atom # 4 C, 5, is greater than permitted\n",
      "[11:09:48] Explicit valence for atom # 4 C, 5, is greater than permitted\n",
      "[11:09:48] Explicit valence for atom # 4 C, 5, is greater than permitted\n",
      "Exception ignored in: <function _xla_gc_callback at 0x7f9a2812a820>\n",
      "Traceback (most recent call last):\n",
      "  File \"/usr/local/lib/python3.9/dist-packages/jax/_src/lib/__init__.py\", line 98, in _xla_gc_callback\n",
      "    def _xla_gc_callback(*args):\n",
      "KeyboardInterrupt: \n",
      "[11:09:48] Explicit valence for atom # 5 C, 5, is greater than permitted\n",
      "[11:09:48] Explicit valence for atom # 5 C, 5, is greater than permitted\n",
      "[11:09:48] Explicit valence for atom # 5 C, 5, is greater than permitted\n",
      "[11:09:48] Explicit valence for atom # 5 C, 5, is greater than permitted\n",
      "[11:09:48] Explicit valence for atom # 5 C, 5, is greater than permitted\n",
      "[11:09:48] Explicit valence for atom # 5 C, 5, is greater than permitted\n",
      "[11:09:48] Explicit valence for atom # 5 C, 5, is greater than permitted\n",
      "[11:09:48] Explicit valence for atom # 4 C, 5, is greater than permitted\n",
      "[11:09:48] Explicit valence for atom # 4 C, 5, is greater than permitted\n",
      "[11:09:48] Explicit valence for atom # 4 C, 5, is greater than permitted\n",
      "[11:09:48] Explicit valence for atom # 5 C, 5, is greater than permitted\n",
      "[11:09:48] Explicit valence for atom # 5 C, 5, is greater than permitted\n",
      "[11:09:48] Explicit valence for atom # 5 C, 5, is greater than permitted\n",
      "[11:09:48] Explicit valence for atom # 5 C, 5, is greater than permitted\n",
      "[11:09:48] Explicit valence for atom # 5 C, 5, is greater than permitted\n",
      "[11:09:48] Explicit valence for atom # 5 C, 5, is greater than permitted\n",
      "[11:09:48] Explicit valence for atom # 5 C, 5, is greater than permitted\n",
      "[11:09:48] Explicit valence for atom # 5 C, 5, is greater than permitted\n",
      "[11:09:48] Explicit valence for atom # 5 C, 5, is greater than permitted\n",
      "[11:09:48] Explicit valence for atom # 5 C, 5, is greater than permitted\n",
      "[11:09:48] Explicit valence for atom # 5 C, 5, is greater than permitted\n",
      "[11:09:49] Explicit valence for atom # 5 C, 5, is greater than permitted\n",
      "[11:09:49] Explicit valence for atom # 5 C, 5, is greater than permitted\n",
      "[11:09:49] Explicit valence for atom # 4 C, 5, is greater than permitted\n",
      "[11:09:49] Explicit valence for atom # 4 C, 5, is greater than permitted\n",
      "[11:09:49] Explicit valence for atom # 5 C, 5, is greater than permitted\n",
      "[11:09:49] Explicit valence for atom # 5 C, 5, is greater than permitted\n",
      "[11:09:49] Explicit valence for atom # 4 C, 5, is greater than permitted\n",
      "[11:09:49] Explicit valence for atom # 3 C, 5, is greater than permitted\n",
      "[11:09:49] Explicit valence for atom # 4 C, 5, is greater than permitted\n",
      "[11:09:49] Explicit valence for atom # 4 C, 5, is greater than permitted\n",
      "[11:09:49] Explicit valence for atom # 5 C, 5, is greater than permitted\n",
      "[11:09:49] Explicit valence for atom # 4 C, 5, is greater than permitted\n",
      "[11:09:49] Explicit valence for atom # 5 C, 5, is greater than permitted\n",
      "[11:09:49] Explicit valence for atom # 5 C, 5, is greater than permitted\n",
      "[11:09:49] Explicit valence for atom # 4 C, 5, is greater than permitted\n",
      "[11:09:49] Explicit valence for atom # 4 C, 5, is greater than permitted\n",
      "[11:09:49] Explicit valence for atom # 4 C, 5, is greater than permitted\n",
      "[11:09:49] Explicit valence for atom # 4 C, 5, is greater than permitted\n",
      "[11:09:49] Explicit valence for atom # 4 C, 5, is greater than permitted\n",
      "[11:09:49] Explicit valence for atom # 5 C, 5, is greater than permitted\n",
      "[11:09:49] Explicit valence for atom # 5 C, 5, is greater than permitted\n",
      "[11:09:49] Explicit valence for atom # 5 C, 5, is greater than permitted\n",
      "[11:09:49] Explicit valence for atom # 5 C, 5, is greater than permitted\n",
      "[11:09:49] Explicit valence for atom # 5 C, 5, is greater than permitted\n",
      "Exception ignored in: <function _xla_gc_callback at 0x7f9a2812a820>\n",
      "Traceback (most recent call last):\n",
      "  File \"/usr/local/lib/python3.9/dist-packages/jax/_src/lib/__init__.py\", line 98, in _xla_gc_callback\n",
      "    def _xla_gc_callback(*args):\n",
      "KeyboardInterrupt: \n",
      "[11:09:49] Explicit valence for atom # 5 C, 5, is greater than permitted\n",
      "[11:09:49] Explicit valence for atom # 5 C, 5, is greater than permitted\n",
      "[11:09:49] Explicit valence for atom # 5 C, 5, is greater than permitted\n",
      "[11:09:49] Explicit valence for atom # 5 C, 5, is greater than permitted\n",
      "[11:09:49] Explicit valence for atom # 5 C, 5, is greater than permitted\n",
      "[11:09:49] Explicit valence for atom # 5 C, 5, is greater than permitted\n",
      "[11:09:49] Explicit valence for atom # 5 C, 5, is greater than permitted\n",
      "[11:09:49] Explicit valence for atom # 5 C, 5, is greater than permitted\n",
      "[11:09:49] Explicit valence for atom # 5 C, 5, is greater than permitted\n",
      "[11:09:49] Explicit valence for atom # 5 C, 5, is greater than permitted\n",
      "[11:09:49] Explicit valence for atom # 5 C, 5, is greater than permitted\n",
      "[11:09:49] Explicit valence for atom # 5 C, 5, is greater than permitted\n",
      "[11:09:49] Explicit valence for atom # 5 C, 5, is greater than permitted\n",
      "[11:09:49] Explicit valence for atom # 4 C, 5, is greater than permitted\n",
      "[11:09:49] Explicit valence for atom # 4 C, 5, is greater than permitted\n",
      "[11:09:49] Explicit valence for atom # 4 C, 5, is greater than permitted\n",
      "[11:09:49] Explicit valence for atom # 4 C, 5, is greater than permitted\n",
      "[11:09:49] Explicit valence for atom # 4 C, 5, is greater than permitted\n",
      "[11:09:49] Explicit valence for atom # 4 C, 5, is greater than permitted\n",
      "[11:09:49] Explicit valence for atom # 4 C, 5, is greater than permitted\n",
      "[11:09:49] Explicit valence for atom # 2 C, 5, is greater than permitted\n",
      "[11:09:49] Explicit valence for atom # 4 C, 5, is greater than permitted\n",
      "[11:09:49] Explicit valence for atom # 4 C, 5, is greater than permitted\n",
      "[11:09:49] Explicit valence for atom # 5 C, 5, is greater than permitted\n",
      "[11:09:49] Explicit valence for atom # 5 C, 5, is greater than permitted\n",
      "[11:09:49] Explicit valence for atom # 5 C, 5, is greater than permitted\n",
      "[11:09:49] Explicit valence for atom # 5 C, 5, is greater than permitted\n",
      "[11:09:49] Explicit valence for atom # 5 C, 5, is greater than permitted\n",
      "[11:09:49] Explicit valence for atom # 5 C, 5, is greater than permitted\n",
      "[11:09:49] Explicit valence for atom # 5 C, 5, is greater than permitted\n",
      "[11:09:49] Explicit valence for atom # 5 C, 5, is greater than permitted\n",
      "[11:09:49] Explicit valence for atom # 5 C, 5, is greater than permitted\n",
      "[11:09:49] Explicit valence for atom # 6 C, 5, is greater than permitted\n",
      "[11:09:49] Explicit valence for atom # 6 C, 5, is greater than permitted\n",
      "[11:09:49] Explicit valence for atom # 3 C, 5, is greater than permitted\n",
      "[11:09:49] Explicit valence for atom # 3 C, 5, is greater than permitted\n",
      "[11:09:49] Explicit valence for atom # 6 C, 5, is greater than permitted\n",
      "[11:09:49] Explicit valence for atom # 6 C, 5, is greater than permitted\n",
      "[11:09:49] Explicit valence for atom # 3 C, 5, is greater than permitted\n",
      "[11:09:49] Explicit valence for atom # 6 C, 5, is greater than permitted\n",
      "[11:09:49] Explicit valence for atom # 5 C, 5, is greater than permitted\n",
      "[11:09:49] Explicit valence for atom # 5 C, 5, is greater than permitted\n",
      "[11:09:49] Explicit valence for atom # 6 C, 5, is greater than permitted\n",
      "[11:09:49] Explicit valence for atom # 2 C, 5, is greater than permitted\n",
      "[11:09:49] Explicit valence for atom # 2 C, 5, is greater than permitted\n",
      "[11:09:49] Explicit valence for atom # 2 C, 5, is greater than permitted\n",
      "[11:09:49] Explicit valence for atom # 2 C, 5, is greater than permitted\n",
      "[11:09:49] Explicit valence for atom # 2 C, 5, is greater than permitted\n",
      "[11:09:49] Explicit valence for atom # 2 C, 5, is greater than permitted\n",
      "[11:09:49] Explicit valence for atom # 2 C, 5, is greater than permitted\n",
      "[11:09:49] Explicit valence for atom # 2 C, 5, is greater than permitted\n",
      "[11:09:49] Explicit valence for atom # 2 C, 5, is greater than permitted\n",
      "[11:09:49] Explicit valence for atom # 2 C, 5, is greater than permitted\n",
      "[11:09:49] Explicit valence for atom # 3 C, 5, is greater than permitted\n",
      "[11:09:49] Explicit valence for atom # 2 C, 5, is greater than permitted\n",
      "[11:09:49] Explicit valence for atom # 2 C, 5, is greater than permitted\n",
      "[11:09:49] Explicit valence for atom # 3 C, 5, is greater than permitted\n",
      "[11:09:49] Explicit valence for atom # 2 C, 5, is greater than permitted\n",
      "[11:09:49] Explicit valence for atom # 3 C, 5, is greater than permitted\n",
      "[11:09:49] Explicit valence for atom # 2 C, 5, is greater than permitted\n",
      "[11:09:49] Explicit valence for atom # 3 C, 5, is greater than permitted\n",
      "[11:09:49] Explicit valence for atom # 2 C, 5, is greater than permitted\n",
      "[11:09:49] Explicit valence for atom # 2 C, 5, is greater than permitted\n",
      "[11:09:49] Explicit valence for atom # 2 C, 5, is greater than permitted\n",
      "[11:09:49] Explicit valence for atom # 2 C, 5, is greater than permitted\n",
      "[11:09:49] Explicit valence for atom # 2 C, 5, is greater than permitted\n",
      "[11:09:49] Explicit valence for atom # 2 C, 5, is greater than permitted\n",
      "[11:09:49] Explicit valence for atom # 2 C, 5, is greater than permitted\n",
      "[11:09:49] Explicit valence for atom # 2 C, 5, is greater than permitted\n",
      "[11:09:49] Explicit valence for atom # 6 C, 5, is greater than permitted\n",
      "[11:09:49] Explicit valence for atom # 6 C, 5, is greater than permitted\n",
      "[11:09:49] Explicit valence for atom # 2 C, 5, is greater than permitted\n",
      "[11:09:49] Explicit valence for atom # 6 C, 5, is greater than permitted\n",
      "[11:09:49] Explicit valence for atom # 6 C, 5, is greater than permitted\n",
      "[11:09:49] Explicit valence for atom # 3 C, 5, is greater than permitted\n",
      "[11:09:49] Explicit valence for atom # 2 C, 5, is greater than permitted\n",
      "[11:09:49] Explicit valence for atom # 6 C, 5, is greater than permitted\n",
      "[11:09:49] Explicit valence for atom # 6 C, 5, is greater than permitted\n",
      "[11:09:49] Explicit valence for atom # 6 C, 5, is greater than permitted\n",
      "[11:09:49] Explicit valence for atom # 2 C, 5, is greater than permitted\n",
      "[11:09:49] Explicit valence for atom # 2 C, 5, is greater than permitted\n",
      "[11:09:49] Explicit valence for atom # 2 C, 5, is greater than permitted\n",
      "[11:09:49] Explicit valence for atom # 3 C, 5, is greater than permitted\n",
      "[11:09:49] Explicit valence for atom # 3 C, 5, is greater than permitted\n",
      "[11:09:49] Explicit valence for atom # 3 C, 5, is greater than permitted\n",
      "[11:09:49] Explicit valence for atom # 3 C, 5, is greater than permitted\n",
      "[11:09:49] Explicit valence for atom # 2 C, 5, is greater than permitted\n",
      "[11:09:49] Explicit valence for atom # 2 C, 5, is greater than permitted\n",
      "[11:09:49] Explicit valence for atom # 2 C, 5, is greater than permitted\n",
      "[11:09:49] Explicit valence for atom # 5 C, 5, is greater than permitted\n",
      "[11:09:49] Explicit valence for atom # 5 C, 5, is greater than permitted\n",
      "[11:09:49] Explicit valence for atom # 2 C, 5, is greater than permitted\n",
      "[11:09:49] Explicit valence for atom # 2 C, 5, is greater than permitted\n",
      "[11:09:49] Explicit valence for atom # 4 C, 5, is greater than permitted\n",
      "[11:09:49] Explicit valence for atom # 5 C, 5, is greater than permitted\n",
      "[11:09:49] Explicit valence for atom # 2 C, 5, is greater than permitted\n",
      "[11:09:49] Explicit valence for atom # 2 C, 5, is greater than permitted\n",
      "[11:09:49] Explicit valence for atom # 2 C, 5, is greater than permitted\n",
      "[11:09:49] Explicit valence for atom # 2 C, 5, is greater than permitted\n",
      "[11:09:49] Explicit valence for atom # 6 C, 5, is greater than permitted\n",
      "[11:09:49] Explicit valence for atom # 6 C, 5, is greater than permitted\n",
      "[11:09:49] Explicit valence for atom # 6 C, 5, is greater than permitted\n",
      "[11:09:49] Explicit valence for atom # 6 C, 5, is greater than permitted\n",
      "[11:09:49] Explicit valence for atom # 6 C, 5, is greater than permitted\n",
      "[11:09:49] Explicit valence for atom # 6 C, 5, is greater than permitted\n",
      "[11:09:49] Explicit valence for atom # 6 C, 5, is greater than permitted\n",
      "[11:09:49] Explicit valence for atom # 6 C, 5, is greater than permitted\n",
      "[11:09:49] Explicit valence for atom # 5 C, 5, is greater than permitted\n",
      "[11:09:49] Explicit valence for atom # 5 C, 5, is greater than permitted\n",
      "[11:09:49] Explicit valence for atom # 3 C, 5, is greater than permitted\n",
      "[11:09:49] Explicit valence for atom # 3 C, 5, is greater than permitted\n",
      "[11:09:49] Explicit valence for atom # 3 C, 5, is greater than permitted\n",
      "[11:09:49] Explicit valence for atom # 4 C, 5, is greater than permitted\n",
      "[11:09:49] Explicit valence for atom # 4 C, 5, is greater than permitted\n",
      "[11:09:49] Explicit valence for atom # 4 C, 5, is greater than permitted\n",
      "[11:09:49] Explicit valence for atom # 4 C, 5, is greater than permitted\n",
      "[11:09:49] Explicit valence for atom # 4 C, 5, is greater than permitted\n",
      "[11:09:49] Explicit valence for atom # 6 C, 5, is greater than permitted\n",
      "[11:09:49] Explicit valence for atom # 4 C, 5, is greater than permitted\n",
      "[11:09:49] Explicit valence for atom # 4 C, 5, is greater than permitted\n",
      "[11:09:49] Explicit valence for atom # 6 C, 5, is greater than permitted\n",
      "[11:09:49] Explicit valence for atom # 4 C, 5, is greater than permitted\n",
      "[11:09:49] Explicit valence for atom # 3 C, 5, is greater than permitted\n",
      "[11:09:49] Explicit valence for atom # 3 C, 5, is greater than permitted\n",
      "[11:09:49] Explicit valence for atom # 3 C, 5, is greater than permitted\n",
      "[11:09:49] Explicit valence for atom # 2 C, 5, is greater than permitted\n",
      "[11:09:49] Explicit valence for atom # 3 C, 5, is greater than permitted\n",
      "[11:09:49] Explicit valence for atom # 3 C, 5, is greater than permitted\n",
      "[11:09:49] Explicit valence for atom # 3 C, 5, is greater than permitted\n",
      "[11:09:49] Explicit valence for atom # 2 C, 5, is greater than permitted\n",
      "[11:09:49] Explicit valence for atom # 3 C, 5, is greater than permitted\n",
      "[11:09:49] Explicit valence for atom # 2 C, 5, is greater than permitted\n",
      "[11:09:49] Explicit valence for atom # 2 C, 5, is greater than permitted\n",
      "[11:09:49] Explicit valence for atom # 3 C, 5, is greater than permitted\n",
      "[11:09:49] Explicit valence for atom # 3 C, 5, is greater than permitted\n",
      "[11:09:49] Explicit valence for atom # 3 C, 5, is greater than permitted\n",
      "[11:09:49] Explicit valence for atom # 3 C, 5, is greater than permitted\n",
      "[11:09:49] Explicit valence for atom # 2 C, 5, is greater than permitted\n",
      "[11:09:49] Explicit valence for atom # 2 C, 5, is greater than permitted\n",
      "[11:09:49] Explicit valence for atom # 3 C, 5, is greater than permitted\n",
      "[11:09:49] Explicit valence for atom # 3 C, 5, is greater than permitted\n",
      "[11:09:49] Explicit valence for atom # 3 C, 5, is greater than permitted\n",
      "[11:09:49] Explicit valence for atom # 3 C, 5, is greater than permitted\n",
      "[11:09:49] Explicit valence for atom # 3 C, 5, is greater than permitted\n",
      "[11:09:49] Explicit valence for atom # 3 C, 5, is greater than permitted\n",
      "[11:09:49] Explicit valence for atom # 3 C, 5, is greater than permitted\n",
      "[11:09:49] Explicit valence for atom # 3 C, 5, is greater than permitted\n",
      "[11:09:49] Explicit valence for atom # 3 C, 5, is greater than permitted\n",
      "[11:09:49] Explicit valence for atom # 3 C, 5, is greater than permitted\n",
      "[11:09:49] Explicit valence for atom # 3 C, 5, is greater than permitted\n",
      "[11:09:49] Explicit valence for atom # 3 C, 5, is greater than permitted\n",
      "[11:09:49] Explicit valence for atom # 3 C, 5, is greater than permitted\n",
      "[11:09:49] Explicit valence for atom # 3 C, 5, is greater than permitted\n",
      "[11:09:49] Explicit valence for atom # 3 C, 5, is greater than permitted\n",
      "[11:09:49] Explicit valence for atom # 3 C, 5, is greater than permitted\n",
      "[11:09:49] Explicit valence for atom # 3 C, 5, is greater than permitted\n",
      "[11:09:49] Explicit valence for atom # 3 C, 5, is greater than permitted\n",
      "[11:09:49] Explicit valence for atom # 3 C, 5, is greater than permitted\n",
      "[11:09:49] Explicit valence for atom # 3 C, 5, is greater than permitted\n",
      "[11:09:49] Explicit valence for atom # 3 C, 5, is greater than permitted\n",
      "[11:09:49] Explicit valence for atom # 3 C, 5, is greater than permitted\n",
      "[11:09:49] Explicit valence for atom # 3 C, 5, is greater than permitted\n",
      "[11:09:49] Explicit valence for atom # 3 C, 5, is greater than permitted\n",
      "[11:09:49] Explicit valence for atom # 3 C, 5, is greater than permitted\n",
      "[11:09:49] Explicit valence for atom # 3 C, 5, is greater than permitted\n",
      "[11:09:49] Explicit valence for atom # 5 C, 5, is greater than permitted\n",
      "[11:09:49] Explicit valence for atom # 5 C, 5, is greater than permitted\n",
      "[11:09:49] Explicit valence for atom # 5 C, 5, is greater than permitted\n",
      "[11:09:49] Explicit valence for atom # 5 C, 5, is greater than permitted\n",
      "[11:09:49] Explicit valence for atom # 5 C, 5, is greater than permitted\n",
      "[11:09:49] Explicit valence for atom # 5 C, 5, is greater than permitted\n",
      "[11:09:49] Explicit valence for atom # 4 C, 5, is greater than permitted\n",
      "[11:09:49] Explicit valence for atom # 4 C, 5, is greater than permitted\n",
      "[11:09:49] Explicit valence for atom # 4 C, 5, is greater than permitted\n",
      "[11:09:49] Explicit valence for atom # 4 C, 5, is greater than permitted\n",
      "[11:09:49] Explicit valence for atom # 5 C, 5, is greater than permitted\n",
      "[11:09:49] Explicit valence for atom # 5 C, 5, is greater than permitted\n",
      "[11:09:49] Explicit valence for atom # 5 C, 5, is greater than permitted\n",
      "[11:09:49] Explicit valence for atom # 5 C, 5, is greater than permitted\n",
      "[11:09:49] Explicit valence for atom # 5 C, 5, is greater than permitted\n",
      "[11:09:49] Explicit valence for atom # 5 C, 5, is greater than permitted\n",
      "[11:09:49] Explicit valence for atom # 3 C, 5, is greater than permitted\n",
      "[11:09:50] Explicit valence for atom # 5 C, 5, is greater than permitted\n",
      "[11:09:50] Explicit valence for atom # 5 C, 5, is greater than permitted\n",
      "[11:09:50] Explicit valence for atom # 5 C, 5, is greater than permitted\n",
      "[11:09:50] Explicit valence for atom # 5 C, 5, is greater than permitted\n",
      "[11:09:50] Explicit valence for atom # 5 C, 5, is greater than permitted\n",
      "[11:09:50] Explicit valence for atom # 5 C, 5, is greater than permitted\n",
      "[11:09:50] Explicit valence for atom # 5 C, 5, is greater than permitted\n",
      "[11:09:50] Explicit valence for atom # 3 C, 5, is greater than permitted\n",
      "[11:09:50] Explicit valence for atom # 3 C, 5, is greater than permitted\n",
      "[11:09:50] Explicit valence for atom # 3 C, 5, is greater than permitted\n",
      "[11:09:50] Explicit valence for atom # 3 C, 5, is greater than permitted\n",
      "[11:09:50] Explicit valence for atom # 3 C, 5, is greater than permitted\n",
      "[11:09:50] Explicit valence for atom # 3 C, 5, is greater than permitted\n",
      "[11:09:50] Explicit valence for atom # 2 C, 5, is greater than permitted\n",
      "[11:09:50] Explicit valence for atom # 6 C, 5, is greater than permitted\n",
      "[11:09:50] Explicit valence for atom # 2 C, 5, is greater than permitted\n",
      "[11:09:50] Explicit valence for atom # 3 C, 5, is greater than permitted\n",
      "[11:09:50] Explicit valence for atom # 6 C, 5, is greater than permitted\n",
      "[11:09:50] Explicit valence for atom # 6 C, 5, is greater than permitted\n",
      "[11:09:50] Explicit valence for atom # 2 C, 5, is greater than permitted\n",
      "[11:09:50] Explicit valence for atom # 3 C, 5, is greater than permitted\n",
      "[11:09:50] Explicit valence for atom # 2 C, 5, is greater than permitted\n",
      "[11:09:50] Explicit valence for atom # 6 C, 5, is greater than permitted\n",
      "[11:09:50] Explicit valence for atom # 6 C, 5, is greater than permitted\n",
      "[11:09:50] Explicit valence for atom # 3 C, 5, is greater than permitted\n",
      "[11:09:50] Explicit valence for atom # 5 C, 5, is greater than permitted\n",
      "[11:09:50] Explicit valence for atom # 5 C, 5, is greater than permitted\n",
      "[11:09:50] Explicit valence for atom # 5 C, 5, is greater than permitted\n",
      "[11:09:50] Explicit valence for atom # 5 C, 5, is greater than permitted\n",
      "[11:09:50] Explicit valence for atom # 5 C, 5, is greater than permitted\n",
      "[11:09:50] Explicit valence for atom # 5 C, 5, is greater than permitted\n",
      "[11:09:50] Explicit valence for atom # 4 C, 5, is greater than permitted\n",
      "[11:09:50] Explicit valence for atom # 4 C, 5, is greater than permitted\n",
      "[11:09:50] Explicit valence for atom # 4 C, 5, is greater than permitted\n",
      "[11:09:50] Explicit valence for atom # 4 C, 5, is greater than permitted\n",
      "[11:09:50] Explicit valence for atom # 4 C, 5, is greater than permitted\n",
      "[11:09:50] Explicit valence for atom # 2 C, 5, is greater than permitted\n",
      "[11:09:50] Explicit valence for atom # 4 C, 5, is greater than permitted\n",
      "[11:09:50] Explicit valence for atom # 4 C, 5, is greater than permitted\n",
      "[11:09:50] Explicit valence for atom # 2 C, 5, is greater than permitted\n",
      "[11:09:50] Explicit valence for atom # 4 C, 5, is greater than permitted\n",
      "[11:09:50] Explicit valence for atom # 4 C, 5, is greater than permitted\n",
      "[11:09:50] Explicit valence for atom # 4 C, 5, is greater than permitted\n",
      "[11:09:50] Explicit valence for atom # 4 C, 5, is greater than permitted\n",
      "[11:09:50] Explicit valence for atom # 4 C, 5, is greater than permitted\n",
      "[11:09:50] Explicit valence for atom # 5 C, 5, is greater than permitted\n",
      "[11:09:50] Explicit valence for atom # 5 C, 5, is greater than permitted\n",
      "[11:09:50] Explicit valence for atom # 5 C, 5, is greater than permitted\n",
      "[11:09:50] Explicit valence for atom # 5 C, 5, is greater than permitted\n",
      "[11:09:50] Explicit valence for atom # 5 C, 5, is greater than permitted\n",
      "[11:09:50] Explicit valence for atom # 5 C, 5, is greater than permitted\n",
      "[11:09:50] Explicit valence for atom # 7 C, 5, is greater than permitted\n",
      "[11:09:50] Explicit valence for atom # 7 C, 5, is greater than permitted\n",
      "[11:09:50] Explicit valence for atom # 3 C, 5, is greater than permitted\n",
      "[11:09:50] Explicit valence for atom # 4 C, 5, is greater than permitted\n",
      "[11:09:50] Explicit valence for atom # 1 C, 5, is greater than permitted\n",
      "[11:09:50] Explicit valence for atom # 1 C, 5, is greater than permitted\n",
      "[11:09:50] Explicit valence for atom # 8 C, 5, is greater than permitted\n",
      "[11:09:50] Explicit valence for atom # 4 C, 5, is greater than permitted\n",
      "[11:09:50] Explicit valence for atom # 4 C, 5, is greater than permitted\n",
      "[11:09:50] Explicit valence for atom # 4 C, 5, is greater than permitted\n",
      "[11:09:50] Explicit valence for atom # 2 C, 5, is greater than permitted\n",
      "[11:09:50] Explicit valence for atom # 2 C, 5, is greater than permitted\n",
      "[11:09:50] Explicit valence for atom # 2 C, 5, is greater than permitted\n",
      "[11:09:50] Explicit valence for atom # 2 C, 5, is greater than permitted\n",
      "[11:09:50] Explicit valence for atom # 2 C, 5, is greater than permitted\n",
      "[11:09:50] Explicit valence for atom # 2 C, 5, is greater than permitted\n",
      "[11:09:50] Explicit valence for atom # 2 C, 5, is greater than permitted\n",
      "[11:09:50] Explicit valence for atom # 2 C, 5, is greater than permitted\n",
      "[11:09:50] Explicit valence for atom # 2 C, 5, is greater than permitted\n",
      "[11:09:50] Explicit valence for atom # 2 C, 5, is greater than permitted\n",
      "[11:09:50] Explicit valence for atom # 4 C, 5, is greater than permitted\n",
      "[11:09:50] Explicit valence for atom # 2 C, 5, is greater than permitted\n",
      "[11:09:50] Explicit valence for atom # 4 C, 5, is greater than permitted\n",
      "[11:09:50] Explicit valence for atom # 2 C, 5, is greater than permitted\n",
      "[11:09:50] Explicit valence for atom # 3 C, 5, is greater than permitted\n",
      "[11:09:50] Explicit valence for atom # 3 C, 5, is greater than permitted\n",
      "[11:09:50] Explicit valence for atom # 3 C, 5, is greater than permitted\n",
      "[11:09:50] Explicit valence for atom # 3 C, 5, is greater than permitted\n",
      "[11:09:50] Explicit valence for atom # 3 C, 5, is greater than permitted\n",
      "[11:09:50] Explicit valence for atom # 3 C, 5, is greater than permitted\n",
      "[11:09:50] Explicit valence for atom # 3 C, 5, is greater than permitted\n",
      "[11:09:50] Explicit valence for atom # 4 C, 5, is greater than permitted\n",
      "[11:09:50] Explicit valence for atom # 4 C, 5, is greater than permitted\n",
      "[11:09:50] Explicit valence for atom # 4 C, 5, is greater than permitted\n",
      "[11:09:50] Explicit valence for atom # 4 C, 5, is greater than permitted\n",
      "[11:09:50] Explicit valence for atom # 4 C, 5, is greater than permitted\n",
      "[11:09:50] Explicit valence for atom # 4 C, 5, is greater than permitted\n",
      "[11:09:50] Explicit valence for atom # 4 C, 5, is greater than permitted\n",
      "[11:09:50] Explicit valence for atom # 4 C, 5, is greater than permitted\n",
      "[11:09:50] Explicit valence for atom # 4 C, 5, is greater than permitted\n",
      "[11:09:50] Explicit valence for atom # 4 C, 5, is greater than permitted\n",
      "[11:09:50] Explicit valence for atom # 4 C, 5, is greater than permitted\n",
      "[11:09:50] Explicit valence for atom # 4 C, 5, is greater than permitted\n",
      "[11:09:50] Explicit valence for atom # 3 C, 5, is greater than permitted\n",
      "[11:09:50] Explicit valence for atom # 3 C, 5, is greater than permitted\n",
      "[11:09:50] Explicit valence for atom # 5 C, 5, is greater than permitted\n",
      "[11:09:50] Explicit valence for atom # 3 C, 5, is greater than permitted\n",
      "[11:09:50] Explicit valence for atom # 3 C, 5, is greater than permitted\n",
      "[11:09:50] Explicit valence for atom # 4 C, 5, is greater than permitted\n",
      "[11:09:50] Explicit valence for atom # 5 C, 5, is greater than permitted\n",
      "[11:09:50] Explicit valence for atom # 5 C, 5, is greater than permitted\n",
      "[11:09:50] Explicit valence for atom # 5 C, 5, is greater than permitted\n",
      "[11:09:50] Explicit valence for atom # 5 C, 5, is greater than permitted\n",
      "[11:09:50] Explicit valence for atom # 5 C, 5, is greater than permitted\n",
      "[11:09:50] Explicit valence for atom # 3 C, 5, is greater than permitted\n",
      "[11:09:50] Explicit valence for atom # 2 C, 5, is greater than permitted\n",
      "[11:09:50] Explicit valence for atom # 3 C, 5, is greater than permitted\n",
      "[11:09:50] Explicit valence for atom # 3 C, 5, is greater than permitted\n",
      "[11:09:50] Explicit valence for atom # 2 C, 5, is greater than permitted\n",
      "[11:09:50] Explicit valence for atom # 3 C, 5, is greater than permitted\n",
      "[11:09:50] Explicit valence for atom # 3 C, 5, is greater than permitted\n",
      "[11:09:50] Explicit valence for atom # 2 C, 5, is greater than permitted\n",
      "[11:09:50] Explicit valence for atom # 3 C, 5, is greater than permitted\n",
      "[11:09:50] Explicit valence for atom # 3 C, 5, is greater than permitted\n",
      "[11:09:50] Explicit valence for atom # 5 C, 5, is greater than permitted\n",
      "[11:09:50] Explicit valence for atom # 5 C, 5, is greater than permitted\n",
      "[11:09:50] Explicit valence for atom # 2 C, 5, is greater than permitted\n",
      "[11:09:50] Explicit valence for atom # 2 C, 5, is greater than permitted\n",
      "[11:09:50] Explicit valence for atom # 2 C, 5, is greater than permitted\n",
      "[11:09:50] Explicit valence for atom # 2 C, 5, is greater than permitted\n",
      "[11:09:50] Explicit valence for atom # 2 C, 5, is greater than permitted\n",
      "[11:09:50] Explicit valence for atom # 5 C, 5, is greater than permitted\n",
      "[11:09:50] Explicit valence for atom # 5 C, 5, is greater than permitted\n",
      "[11:09:50] Explicit valence for atom # 2 C, 5, is greater than permitted\n",
      "[11:09:50] Explicit valence for atom # 2 C, 5, is greater than permitted\n",
      "[11:09:50] Explicit valence for atom # 5 C, 5, is greater than permitted\n",
      "[11:09:50] Explicit valence for atom # 2 C, 5, is greater than permitted\n",
      "[11:09:50] Explicit valence for atom # 2 C, 5, is greater than permitted\n",
      "[11:09:50] Explicit valence for atom # 2 C, 5, is greater than permitted\n",
      "[11:09:50] Explicit valence for atom # 5 C, 5, is greater than permitted\n",
      "[11:09:50] Explicit valence for atom # 5 C, 5, is greater than permitted\n",
      "[11:09:50] Explicit valence for atom # 5 C, 5, is greater than permitted\n",
      "[11:09:50] Explicit valence for atom # 2 C, 5, is greater than permitted\n",
      "[11:09:50] Explicit valence for atom # 2 C, 5, is greater than permitted\n",
      "[11:09:50] Explicit valence for atom # 2 C, 5, is greater than permitted\n",
      "[11:09:50] Explicit valence for atom # 3 C, 5, is greater than permitted\n",
      "[11:09:50] Explicit valence for atom # 3 C, 5, is greater than permitted\n",
      "[11:09:50] Explicit valence for atom # 3 C, 5, is greater than permitted\n",
      "[11:09:50] Explicit valence for atom # 3 C, 5, is greater than permitted\n",
      "[11:09:50] Explicit valence for atom # 3 C, 5, is greater than permitted\n",
      "[11:09:50] Explicit valence for atom # 2 C, 5, is greater than permitted\n",
      "[11:09:50] Explicit valence for atom # 2 C, 5, is greater than permitted\n",
      "[11:09:50] Explicit valence for atom # 3 C, 5, is greater than permitted\n",
      "[11:09:50] Explicit valence for atom # 3 C, 5, is greater than permitted\n",
      "[11:09:50] Explicit valence for atom # 3 C, 5, is greater than permitted\n",
      "[11:09:50] Explicit valence for atom # 4 C, 5, is greater than permitted\n",
      "[11:09:50] Explicit valence for atom # 4 C, 5, is greater than permitted\n",
      "[11:09:50] Explicit valence for atom # 4 C, 5, is greater than permitted\n",
      "[11:09:50] Explicit valence for atom # 4 C, 5, is greater than permitted\n",
      "[11:09:50] Explicit valence for atom # 4 C, 5, is greater than permitted\n",
      "[11:09:50] Explicit valence for atom # 4 C, 5, is greater than permitted\n",
      "[11:09:50] Explicit valence for atom # 4 C, 5, is greater than permitted\n",
      "[11:09:50] Explicit valence for atom # 4 C, 5, is greater than permitted\n",
      "[11:09:50] Explicit valence for atom # 4 C, 5, is greater than permitted\n",
      "[11:09:50] Explicit valence for atom # 4 C, 5, is greater than permitted\n",
      "[11:09:50] Explicit valence for atom # 4 C, 5, is greater than permitted\n",
      "[11:09:50] Explicit valence for atom # 4 C, 5, is greater than permitted\n",
      "[11:09:50] Explicit valence for atom # 4 C, 5, is greater than permitted\n",
      "[11:09:50] Explicit valence for atom # 4 C, 5, is greater than permitted\n",
      "[11:09:50] Explicit valence for atom # 4 C, 5, is greater than permitted\n",
      "[11:09:50] Explicit valence for atom # 4 C, 5, is greater than permitted\n",
      "[11:09:50] Explicit valence for atom # 4 C, 5, is greater than permitted\n",
      "[11:09:50] Explicit valence for atom # 4 C, 5, is greater than permitted\n",
      "[11:09:50] Explicit valence for atom # 4 C, 5, is greater than permitted\n",
      "[11:09:50] Explicit valence for atom # 4 C, 5, is greater than permitted\n",
      "[11:09:50] Explicit valence for atom # 4 C, 5, is greater than permitted\n",
      "[11:09:50] Explicit valence for atom # 4 C, 5, is greater than permitted\n",
      "[11:09:50] Explicit valence for atom # 4 C, 5, is greater than permitted\n",
      "[11:09:50] Explicit valence for atom # 4 C, 5, is greater than permitted\n",
      "[11:09:50] Explicit valence for atom # 4 C, 5, is greater than permitted\n",
      "[11:09:51] Explicit valence for atom # 4 C, 5, is greater than permitted\n",
      "[11:09:51] Explicit valence for atom # 4 C, 5, is greater than permitted\n",
      "[11:09:51] Explicit valence for atom # 4 C, 5, is greater than permitted\n",
      "[11:09:51] Explicit valence for atom # 4 C, 5, is greater than permitted\n",
      "[11:09:51] Explicit valence for atom # 4 C, 5, is greater than permitted\n",
      "[11:09:51] Explicit valence for atom # 4 C, 5, is greater than permitted\n",
      "[11:09:51] Explicit valence for atom # 4 C, 5, is greater than permitted\n",
      "[11:09:51] Explicit valence for atom # 4 C, 5, is greater than permitted\n",
      "[11:09:51] Explicit valence for atom # 3 C, 5, is greater than permitted\n",
      "[11:09:51] Explicit valence for atom # 3 C, 5, is greater than permitted\n",
      "[11:09:51] Explicit valence for atom # 3 C, 5, is greater than permitted\n",
      "[11:09:51] Explicit valence for atom # 3 C, 5, is greater than permitted\n",
      "[11:09:51] Explicit valence for atom # 4 C, 5, is greater than permitted\n",
      "[11:09:51] Explicit valence for atom # 4 C, 5, is greater than permitted\n",
      "[11:09:51] Explicit valence for atom # 4 C, 5, is greater than permitted\n",
      "[11:09:51] Explicit valence for atom # 4 C, 5, is greater than permitted\n",
      "[11:09:51] Explicit valence for atom # 5 C, 5, is greater than permitted\n",
      "[11:09:51] Explicit valence for atom # 4 C, 5, is greater than permitted\n",
      "[11:09:51] Explicit valence for atom # 4 C, 5, is greater than permitted\n",
      "[11:09:51] Explicit valence for atom # 4 C, 5, is greater than permitted\n",
      "[11:09:51] Explicit valence for atom # 4 C, 5, is greater than permitted\n",
      "[11:09:51] Explicit valence for atom # 4 C, 5, is greater than permitted\n",
      "[11:09:51] Explicit valence for atom # 4 C, 5, is greater than permitted\n",
      "[11:09:51] Explicit valence for atom # 4 C, 5, is greater than permitted\n",
      "[11:09:51] Explicit valence for atom # 4 C, 5, is greater than permitted\n",
      "[11:09:51] Explicit valence for atom # 4 C, 5, is greater than permitted\n",
      "[11:09:51] Explicit valence for atom # 4 C, 5, is greater than permitted\n",
      "[11:09:51] Explicit valence for atom # 3 C, 5, is greater than permitted\n",
      "[11:09:51] Explicit valence for atom # 4 C, 5, is greater than permitted\n",
      "[11:09:51] Explicit valence for atom # 1 C, 5, is greater than permitted\n",
      "[11:09:51] Explicit valence for atom # 1 C, 5, is greater than permitted\n",
      "[11:09:51] Explicit valence for atom # 2 C, 5, is greater than permitted\n",
      "[11:09:51] Explicit valence for atom # 2 C, 5, is greater than permitted\n",
      "[11:09:51] Explicit valence for atom # 2 C, 5, is greater than permitted\n",
      "[11:09:51] Explicit valence for atom # 2 C, 5, is greater than permitted\n",
      "[11:09:51] Explicit valence for atom # 1 C, 5, is greater than permitted\n",
      "[11:09:51] Explicit valence for atom # 2 C, 5, is greater than permitted\n",
      "[11:09:51] Explicit valence for atom # 2 C, 5, is greater than permitted\n",
      "[11:09:51] Explicit valence for atom # 1 C, 5, is greater than permitted\n",
      "[11:09:51] Explicit valence for atom # 2 C, 5, is greater than permitted\n",
      "[11:09:51] Explicit valence for atom # 2 C, 5, is greater than permitted\n",
      "[11:09:51] Explicit valence for atom # 2 C, 5, is greater than permitted\n",
      "[11:09:51] Explicit valence for atom # 3 C, 5, is greater than permitted\n",
      "[11:09:51] Explicit valence for atom # 3 C, 5, is greater than permitted\n",
      "[11:09:51] Explicit valence for atom # 2 C, 5, is greater than permitted\n",
      "[11:09:51] Explicit valence for atom # 2 C, 5, is greater than permitted\n",
      "[11:09:51] Explicit valence for atom # 4 C, 5, is greater than permitted\n",
      "[11:09:51] Explicit valence for atom # 2 C, 5, is greater than permitted\n",
      "[11:09:51] Explicit valence for atom # 2 C, 5, is greater than permitted\n",
      "[11:09:51] Explicit valence for atom # 2 C, 5, is greater than permitted\n",
      "[11:09:51] Explicit valence for atom # 4 C, 5, is greater than permitted\n",
      "[11:09:51] Explicit valence for atom # 3 C, 5, is greater than permitted\n",
      "[11:09:51] Explicit valence for atom # 1 C, 5, is greater than permitted\n",
      "[11:09:51] Explicit valence for atom # 3 C, 5, is greater than permitted\n",
      "[11:09:51] Explicit valence for atom # 3 C, 5, is greater than permitted\n",
      "[11:09:51] Explicit valence for atom # 3 C, 5, is greater than permitted\n",
      "[11:09:51] Explicit valence for atom # 3 C, 5, is greater than permitted\n",
      "[11:09:51] Explicit valence for atom # 3 C, 5, is greater than permitted\n",
      "[11:09:51] Explicit valence for atom # 3 C, 5, is greater than permitted\n",
      "[11:09:51] Explicit valence for atom # 3 C, 5, is greater than permitted\n",
      "[11:09:51] Explicit valence for atom # 3 C, 5, is greater than permitted\n",
      "[11:09:51] Explicit valence for atom # 3 C, 5, is greater than permitted\n",
      "[11:09:51] Explicit valence for atom # 3 C, 5, is greater than permitted\n",
      "[11:09:51] Explicit valence for atom # 3 C, 5, is greater than permitted\n",
      "[11:09:51] Explicit valence for atom # 3 C, 5, is greater than permitted\n",
      "[11:09:51] Explicit valence for atom # 2 C, 5, is greater than permitted\n",
      "[11:09:51] Explicit valence for atom # 2 C, 5, is greater than permitted\n",
      "[11:09:51] Explicit valence for atom # 1 C, 5, is greater than permitted\n",
      "[11:09:51] Explicit valence for atom # 2 C, 5, is greater than permitted\n",
      "[11:09:51] Explicit valence for atom # 2 C, 5, is greater than permitted\n",
      "[11:09:51] Explicit valence for atom # 2 C, 5, is greater than permitted\n",
      "[11:09:51] Explicit valence for atom # 2 C, 5, is greater than permitted\n",
      "[11:09:51] Explicit valence for atom # 2 C, 5, is greater than permitted\n",
      "[11:09:51] Explicit valence for atom # 3 C, 5, is greater than permitted\n",
      "[11:09:51] Explicit valence for atom # 3 C, 5, is greater than permitted\n",
      "[11:09:51] Explicit valence for atom # 1 C, 5, is greater than permitted\n",
      "[11:09:51] Explicit valence for atom # 3 C, 5, is greater than permitted\n",
      "[11:09:51] Explicit valence for atom # 3 C, 5, is greater than permitted\n",
      "[11:09:51] Explicit valence for atom # 3 C, 5, is greater than permitted\n",
      "[11:09:51] Explicit valence for atom # 3 C, 5, is greater than permitted\n",
      "[11:09:51] Explicit valence for atom # 3 C, 5, is greater than permitted\n",
      "[11:09:51] Explicit valence for atom # 3 C, 5, is greater than permitted\n",
      "[11:09:51] Explicit valence for atom # 3 C, 5, is greater than permitted\n",
      "[11:09:51] Explicit valence for atom # 3 C, 5, is greater than permitted\n",
      "[11:09:51] Explicit valence for atom # 3 C, 5, is greater than permitted\n",
      "[11:09:51] Explicit valence for atom # 3 C, 5, is greater than permitted\n",
      "[11:09:51] Explicit valence for atom # 3 C, 5, is greater than permitted\n",
      "[11:09:51] Explicit valence for atom # 3 C, 5, is greater than permitted\n",
      "[11:09:51] Explicit valence for atom # 3 C, 5, is greater than permitted\n",
      "[11:09:51] Explicit valence for atom # 3 C, 5, is greater than permitted\n",
      "[11:09:51] Explicit valence for atom # 3 C, 5, is greater than permitted\n",
      "[11:09:51] Explicit valence for atom # 3 C, 5, is greater than permitted\n",
      "[11:09:51] Explicit valence for atom # 5 C, 5, is greater than permitted\n",
      "[11:09:51] Explicit valence for atom # 5 C, 5, is greater than permitted\n",
      "[11:09:51] Explicit valence for atom # 3 C, 5, is greater than permitted\n",
      "[11:09:51] Explicit valence for atom # 2 C, 5, is greater than permitted\n",
      "[11:09:51] Explicit valence for atom # 5 C, 5, is greater than permitted\n",
      "[11:09:51] Explicit valence for atom # 4 C, 5, is greater than permitted\n",
      "[11:09:51] Explicit valence for atom # 4 C, 5, is greater than permitted\n",
      "[11:09:51] Explicit valence for atom # 3 C, 5, is greater than permitted\n",
      "[11:09:51] Explicit valence for atom # 3 C, 5, is greater than permitted\n",
      "[11:09:51] Explicit valence for atom # 4 C, 5, is greater than permitted\n",
      "[11:09:51] Explicit valence for atom # 3 C, 5, is greater than permitted\n",
      "[11:09:51] Explicit valence for atom # 3 C, 5, is greater than permitted\n",
      "[11:09:51] Explicit valence for atom # 3 C, 5, is greater than permitted\n",
      "CUDA backend failed to initialize: Unable to load CUDA. Is it installed? (Set TF_CPP_MIN_LOG_LEVEL=0 and rerun for more info.)\n"
     ]
    }
   ],
   "source": [
    "_, _, _, full_mean, full_mad = load_and_preprocess_data(\"full.csv\", \"bpe.tokenizer.json\")\n"
   ]
  },
  {
   "cell_type": "code",
   "execution_count": 36,
   "id": "b317bf52-7273-42dd-af76-53d0c87b0aa7",
   "metadata": {
    "execution": {
     "iopub.execute_input": "2024-03-24T10:34:22.590368Z",
     "iopub.status.busy": "2024-03-24T10:34:22.589819Z",
     "iopub.status.idle": "2024-03-24T10:34:22.593796Z",
     "shell.execute_reply": "2024-03-24T10:34:22.593432Z",
     "shell.execute_reply.started": "2024-03-24T10:34:22.590348Z"
    }
   },
   "outputs": [
    {
     "name": "stdout",
     "output_type": "stream",
     "text": [
      "0 2.6766443\n",
      "1 75.30363\n",
      "2 -6.537431\n",
      "3 0.31492442\n",
      "4 6.8523517\n",
      "5 1190.8451\n",
      "6 4.058648\n",
      "7 -76.14261\n",
      "8 -76.60702\n",
      "9 -77.044914\n",
      "10 -70.862175\n",
      "11 31.640858\n"
     ]
    }
   ],
   "source": [
    "for i, t in enumerate(full_mean):\n",
    "    print(i, t)"
   ]
  },
  {
   "cell_type": "code",
   "execution_count": 37,
   "id": "41974099-c1ff-4f49-bac7-48de99de4cb1",
   "metadata": {
    "execution": {
     "iopub.execute_input": "2024-03-24T10:34:22.595030Z",
     "iopub.status.busy": "2024-03-24T10:34:22.594365Z",
     "iopub.status.idle": "2024-03-24T10:34:22.598092Z",
     "shell.execute_reply": "2024-03-24T10:34:22.597718Z",
     "shell.execute_reply.started": "2024-03-24T10:34:22.595030Z"
    }
   },
   "outputs": [
    {
     "name": "stdout",
     "output_type": "stream",
     "text": [
      "0 1.1725483\n",
      "1 6.3008146\n",
      "2 0.44153383\n",
      "3 1.0494833\n",
      "4 1.0737883\n",
      "5 202.8534\n",
      "6 0.71872246\n",
      "7 8.135128\n",
      "8 8.208882\n",
      "9 8.267922\n",
      "10 7.479108\n",
      "11 3.2092192\n"
     ]
    }
   ],
   "source": [
    "for i, t in enumerate(full_mad):\n",
    "    print(i, t)"
   ]
  },
  {
   "cell_type": "code",
   "execution_count": 12,
   "id": "9fb05a0c-9d02-4a9d-a899-6fcfbae19191",
   "metadata": {
    "execution": {
     "iopub.execute_input": "2024-03-27T14:08:22.593365Z",
     "iopub.status.busy": "2024-03-27T14:08:22.592929Z",
     "iopub.status.idle": "2024-03-27T14:08:41.350504Z",
     "shell.execute_reply": "2024-03-27T14:08:41.349764Z",
     "shell.execute_reply.started": "2024-03-27T14:08:22.593339Z"
    }
   },
   "outputs": [
    {
     "name": "stderr",
     "output_type": "stream",
     "text": [
      "[14:08:23] Explicit valence for atom # 5 C, 5, is greater than permitted\n",
      "[14:08:23] Explicit valence for atom # 5 C, 5, is greater than permitted\n",
      "[14:08:23] Explicit valence for atom # 5 C, 5, is greater than permitted\n",
      "[14:08:23] Explicit valence for atom # 4 C, 5, is greater than permitted\n",
      "[14:08:23] Explicit valence for atom # 4 C, 5, is greater than permitted\n",
      "[14:08:23] Explicit valence for atom # 6 C, 5, is greater than permitted\n",
      "[14:08:23] Explicit valence for atom # 4 C, 5, is greater than permitted\n",
      "[14:08:23] Explicit valence for atom # 2 C, 5, is greater than permitted\n",
      "[14:08:23] Explicit valence for atom # 5 C, 5, is greater than permitted\n",
      "[14:08:23] Explicit valence for atom # 6 C, 5, is greater than permitted\n",
      "[14:08:23] Explicit valence for atom # 4 C, 5, is greater than permitted\n",
      "[14:08:23] Explicit valence for atom # 5 C, 5, is greater than permitted\n",
      "[14:08:23] Explicit valence for atom # 4 C, 5, is greater than permitted\n",
      "[14:08:23] Explicit valence for atom # 8 C, 5, is greater than permitted\n",
      "[14:08:23] Explicit valence for atom # 2 C, 5, is greater than permitted\n",
      "[14:08:23] Explicit valence for atom # 7 C, 5, is greater than permitted\n",
      "[14:08:23] Explicit valence for atom # 2 C, 5, is greater than permitted\n",
      "[14:08:23] Explicit valence for atom # 6 C, 5, is greater than permitted\n",
      "[14:08:23] Explicit valence for atom # 3 C, 5, is greater than permitted\n",
      "[14:08:23] Explicit valence for atom # 5 C, 5, is greater than permitted\n",
      "[14:08:23] Explicit valence for atom # 4 C, 5, is greater than permitted\n",
      "[14:08:23] Explicit valence for atom # 5 C, 5, is greater than permitted\n",
      "[14:08:23] Explicit valence for atom # 4 C, 5, is greater than permitted\n",
      "[14:08:23] Explicit valence for atom # 5 C, 5, is greater than permitted\n",
      "[14:08:23] Explicit valence for atom # 3 C, 5, is greater than permitted\n",
      "[14:08:23] Explicit valence for atom # 4 C, 5, is greater than permitted\n",
      "[14:08:23] Explicit valence for atom # 2 C, 5, is greater than permitted\n",
      "[14:08:23] Explicit valence for atom # 5 C, 5, is greater than permitted\n",
      "[14:08:23] Explicit valence for atom # 3 C, 5, is greater than permitted\n",
      "[14:08:23] Explicit valence for atom # 3 C, 5, is greater than permitted\n",
      "[14:08:23] Explicit valence for atom # 5 C, 5, is greater than permitted\n",
      "[14:08:23] Explicit valence for atom # 4 C, 5, is greater than permitted\n",
      "[14:08:23] Explicit valence for atom # 2 C, 5, is greater than permitted\n",
      "[14:08:23] Explicit valence for atom # 4 C, 5, is greater than permitted\n",
      "[14:08:23] Explicit valence for atom # 5 C, 5, is greater than permitted\n",
      "[14:08:23] Explicit valence for atom # 3 C, 5, is greater than permitted\n",
      "[14:08:23] Explicit valence for atom # 6 C, 5, is greater than permitted\n",
      "[14:08:23] Explicit valence for atom # 1 C, 5, is greater than permitted\n",
      "[14:08:23] Explicit valence for atom # 3 C, 5, is greater than permitted\n",
      "[14:08:23] Explicit valence for atom # 4 C, 5, is greater than permitted\n",
      "[14:08:23] Explicit valence for atom # 3 C, 5, is greater than permitted\n",
      "[14:08:23] Explicit valence for atom # 4 C, 5, is greater than permitted\n",
      "[14:08:23] Explicit valence for atom # 4 C, 5, is greater than permitted\n",
      "[14:08:23] Explicit valence for atom # 5 C, 5, is greater than permitted\n",
      "[14:08:23] Explicit valence for atom # 4 C, 5, is greater than permitted\n",
      "[14:08:23] Explicit valence for atom # 4 C, 5, is greater than permitted\n",
      "[14:08:23] Explicit valence for atom # 5 C, 5, is greater than permitted\n",
      "[14:08:23] Explicit valence for atom # 6 C, 5, is greater than permitted\n",
      "[14:08:23] Explicit valence for atom # 4 C, 5, is greater than permitted\n",
      "[14:08:23] Explicit valence for atom # 5 C, 5, is greater than permitted\n",
      "[14:08:23] Explicit valence for atom # 3 C, 5, is greater than permitted\n",
      "[14:08:23] Explicit valence for atom # 5 C, 5, is greater than permitted\n",
      "[14:08:23] Explicit valence for atom # 4 C, 5, is greater than permitted\n",
      "[14:08:23] Explicit valence for atom # 5 C, 5, is greater than permitted\n",
      "[14:08:23] Explicit valence for atom # 4 C, 5, is greater than permitted\n",
      "[14:08:23] Explicit valence for atom # 2 C, 5, is greater than permitted\n",
      "[14:08:23] Explicit valence for atom # 6 C, 5, is greater than permitted\n",
      "[14:08:23] Explicit valence for atom # 4 C, 5, is greater than permitted\n",
      "[14:08:23] Explicit valence for atom # 3 C, 5, is greater than permitted\n",
      "[14:08:23] Explicit valence for atom # 5 C, 5, is greater than permitted\n",
      "[14:08:23] Explicit valence for atom # 2 C, 5, is greater than permitted\n",
      "[14:08:23] Explicit valence for atom # 5 C, 5, is greater than permitted\n",
      "[14:08:23] Explicit valence for atom # 6 C, 5, is greater than permitted\n",
      "[14:08:23] Explicit valence for atom # 4 C, 5, is greater than permitted\n",
      "[14:08:23] Explicit valence for atom # 5 C, 5, is greater than permitted\n",
      "[14:08:23] Explicit valence for atom # 4 C, 5, is greater than permitted\n",
      "[14:08:23] Explicit valence for atom # 4 C, 5, is greater than permitted\n",
      "[14:08:23] Explicit valence for atom # 6 C, 5, is greater than permitted\n",
      "[14:08:23] Explicit valence for atom # 5 C, 5, is greater than permitted\n",
      "[14:08:23] Explicit valence for atom # 3 C, 5, is greater than permitted\n",
      "[14:08:23] Explicit valence for atom # 2 C, 5, is greater than permitted\n",
      "[14:08:23] Explicit valence for atom # 6 C, 5, is greater than permitted\n",
      "[14:08:23] Explicit valence for atom # 5 C, 5, is greater than permitted\n",
      "[14:08:23] Explicit valence for atom # 4 C, 5, is greater than permitted\n",
      "[14:08:23] Explicit valence for atom # 5 C, 5, is greater than permitted\n",
      "[14:08:23] Explicit valence for atom # 4 C, 5, is greater than permitted\n",
      "[14:08:23] Explicit valence for atom # 4 C, 5, is greater than permitted\n",
      "[14:08:23] Explicit valence for atom # 5 C, 5, is greater than permitted\n",
      "[14:08:23] Explicit valence for atom # 2 C, 5, is greater than permitted\n",
      "[14:08:23] Explicit valence for atom # 3 C, 5, is greater than permitted\n",
      "[14:08:23] Explicit valence for atom # 4 C, 5, is greater than permitted\n",
      "[14:08:23] Explicit valence for atom # 6 C, 5, is greater than permitted\n",
      "[14:08:23] Explicit valence for atom # 3 C, 5, is greater than permitted\n",
      "[14:08:23] Explicit valence for atom # 2 C, 5, is greater than permitted\n",
      "[14:08:23] Explicit valence for atom # 5 C, 5, is greater than permitted\n",
      "[14:08:23] Explicit valence for atom # 5 C, 5, is greater than permitted\n",
      "[14:08:23] Explicit valence for atom # 3 C, 5, is greater than permitted\n",
      "[14:08:23] Explicit valence for atom # 3 C, 5, is greater than permitted\n",
      "[14:08:23] Explicit valence for atom # 5 C, 5, is greater than permitted\n",
      "[14:08:23] Explicit valence for atom # 5 C, 5, is greater than permitted\n",
      "[14:08:23] Explicit valence for atom # 3 C, 5, is greater than permitted\n",
      "[14:08:23] Explicit valence for atom # 3 C, 5, is greater than permitted\n",
      "[14:08:23] Explicit valence for atom # 2 C, 5, is greater than permitted\n",
      "[14:08:23] Explicit valence for atom # 6 C, 5, is greater than permitted\n",
      "[14:08:23] Explicit valence for atom # 3 C, 5, is greater than permitted\n",
      "[14:08:23] Explicit valence for atom # 5 C, 5, is greater than permitted\n",
      "[14:08:23] Explicit valence for atom # 5 C, 5, is greater than permitted\n",
      "[14:08:23] Explicit valence for atom # 2 C, 5, is greater than permitted\n",
      "[14:08:23] Explicit valence for atom # 4 C, 5, is greater than permitted\n",
      "[14:08:23] Explicit valence for atom # 5 C, 5, is greater than permitted\n",
      "[14:08:23] Explicit valence for atom # 3 C, 5, is greater than permitted\n",
      "[14:08:23] Explicit valence for atom # 3 C, 5, is greater than permitted\n",
      "[14:08:23] Explicit valence for atom # 3 C, 5, is greater than permitted\n",
      "[14:08:23] Explicit valence for atom # 5 C, 5, is greater than permitted\n",
      "[14:08:23] Explicit valence for atom # 5 C, 5, is greater than permitted\n",
      "[14:08:23] Explicit valence for atom # 5 C, 5, is greater than permitted\n",
      "[14:08:23] Explicit valence for atom # 3 C, 5, is greater than permitted\n",
      "[14:08:23] Explicit valence for atom # 5 C, 5, is greater than permitted\n",
      "[14:08:23] Explicit valence for atom # 4 C, 5, is greater than permitted\n",
      "[14:08:23] Explicit valence for atom # 5 C, 5, is greater than permitted\n",
      "[14:08:23] Explicit valence for atom # 4 C, 5, is greater than permitted\n",
      "[14:08:23] Explicit valence for atom # 2 C, 5, is greater than permitted\n",
      "[14:08:23] Explicit valence for atom # 4 C, 5, is greater than permitted\n",
      "[14:08:23] Explicit valence for atom # 3 C, 5, is greater than permitted\n",
      "[14:08:23] Explicit valence for atom # 4 C, 5, is greater than permitted\n",
      "[14:08:23] Explicit valence for atom # 2 C, 5, is greater than permitted\n",
      "[14:08:23] Explicit valence for atom # 2 C, 5, is greater than permitted\n",
      "[14:08:23] Explicit valence for atom # 3 C, 5, is greater than permitted\n",
      "[14:08:23] Explicit valence for atom # 3 C, 5, is greater than permitted\n",
      "[14:08:23] Explicit valence for atom # 5 C, 5, is greater than permitted\n",
      "[14:08:23] Explicit valence for atom # 5 C, 5, is greater than permitted\n",
      "[14:08:23] Explicit valence for atom # 3 C, 5, is greater than permitted\n",
      "[14:08:23] Explicit valence for atom # 1 C, 5, is greater than permitted\n",
      "[14:08:23] Explicit valence for atom # 3 C, 5, is greater than permitted\n",
      "[14:08:23] Explicit valence for atom # 2 C, 5, is greater than permitted\n",
      "[14:08:23] Explicit valence for atom # 3 C, 5, is greater than permitted\n",
      "[14:08:23] Explicit valence for atom # 5 C, 5, is greater than permitted\n",
      "[14:08:23] Explicit valence for atom # 5 C, 5, is greater than permitted\n",
      "[14:08:23] Explicit valence for atom # 4 C, 5, is greater than permitted\n",
      "[14:08:23] Explicit valence for atom # 4 C, 5, is greater than permitted\n",
      "[14:08:23] Explicit valence for atom # 2 C, 5, is greater than permitted\n",
      "[14:08:23] Explicit valence for atom # 4 C, 5, is greater than permitted\n",
      "[14:08:23] Explicit valence for atom # 5 C, 5, is greater than permitted\n",
      "[14:08:23] Explicit valence for atom # 3 C, 5, is greater than permitted\n",
      "[14:08:23] Explicit valence for atom # 4 C, 5, is greater than permitted\n",
      "[14:08:23] Explicit valence for atom # 6 C, 5, is greater than permitted\n",
      "[14:08:23] Explicit valence for atom # 4 C, 5, is greater than permitted\n",
      "[14:08:23] Explicit valence for atom # 2 C, 5, is greater than permitted\n",
      "[14:08:23] Explicit valence for atom # 3 C, 5, is greater than permitted\n",
      "[14:08:23] Explicit valence for atom # 2 C, 5, is greater than permitted\n",
      "[14:08:23] Explicit valence for atom # 3 C, 5, is greater than permitted\n",
      "[14:08:23] Explicit valence for atom # 5 C, 5, is greater than permitted\n",
      "[14:08:23] Explicit valence for atom # 4 C, 5, is greater than permitted\n",
      "[14:08:23] Explicit valence for atom # 3 C, 5, is greater than permitted\n",
      "[14:08:23] Explicit valence for atom # 5 C, 5, is greater than permitted\n",
      "[14:08:23] Explicit valence for atom # 5 C, 5, is greater than permitted\n",
      "[14:08:23] Explicit valence for atom # 5 C, 5, is greater than permitted\n",
      "[14:08:23] Explicit valence for atom # 2 C, 5, is greater than permitted\n",
      "[14:08:23] Explicit valence for atom # 5 C, 5, is greater than permitted\n",
      "[14:08:23] Explicit valence for atom # 3 C, 5, is greater than permitted\n",
      "[14:08:23] Explicit valence for atom # 4 C, 5, is greater than permitted\n",
      "[14:08:23] Explicit valence for atom # 4 C, 5, is greater than permitted\n",
      "[14:08:23] Explicit valence for atom # 3 C, 5, is greater than permitted\n",
      "[14:08:23] Explicit valence for atom # 5 C, 5, is greater than permitted\n",
      "[14:08:23] Explicit valence for atom # 4 C, 5, is greater than permitted\n",
      "[14:08:23] Explicit valence for atom # 3 C, 5, is greater than permitted\n",
      "[14:08:23] Explicit valence for atom # 6 C, 5, is greater than permitted\n",
      "[14:08:23] Explicit valence for atom # 6 C, 5, is greater than permitted\n",
      "[14:08:23] Explicit valence for atom # 4 C, 5, is greater than permitted\n",
      "[14:08:23] Explicit valence for atom # 3 C, 5, is greater than permitted\n",
      "[14:08:23] Explicit valence for atom # 3 C, 5, is greater than permitted\n",
      "[14:08:23] Explicit valence for atom # 5 C, 5, is greater than permitted\n",
      "[14:08:23] Explicit valence for atom # 4 C, 5, is greater than permitted\n",
      "[14:08:23] Explicit valence for atom # 4 C, 5, is greater than permitted\n",
      "[14:08:23] Explicit valence for atom # 4 C, 5, is greater than permitted\n",
      "[14:08:24] Explicit valence for atom # 3 C, 5, is greater than permitted\n",
      "[14:08:24] Explicit valence for atom # 5 C, 5, is greater than permitted\n",
      "[14:08:24] Explicit valence for atom # 4 C, 5, is greater than permitted\n",
      "[14:08:24] Explicit valence for atom # 3 C, 5, is greater than permitted\n",
      "[14:08:24] Explicit valence for atom # 3 C, 5, is greater than permitted\n",
      "[14:08:24] Explicit valence for atom # 4 C, 5, is greater than permitted\n",
      "[14:08:24] Explicit valence for atom # 5 C, 5, is greater than permitted\n",
      "[14:08:24] Explicit valence for atom # 4 C, 5, is greater than permitted\n",
      "[14:08:24] Explicit valence for atom # 5 C, 5, is greater than permitted\n",
      "[14:08:24] Explicit valence for atom # 2 C, 5, is greater than permitted\n",
      "[14:08:24] Explicit valence for atom # 3 C, 5, is greater than permitted\n",
      "[14:08:24] Explicit valence for atom # 5 C, 5, is greater than permitted\n",
      "[14:08:24] Explicit valence for atom # 2 C, 5, is greater than permitted\n",
      "[14:08:24] Explicit valence for atom # 5 C, 5, is greater than permitted\n",
      "[14:08:24] Explicit valence for atom # 6 C, 5, is greater than permitted\n",
      "[14:08:24] Explicit valence for atom # 3 C, 5, is greater than permitted\n",
      "[14:08:24] Explicit valence for atom # 3 C, 5, is greater than permitted\n",
      "[14:08:24] Explicit valence for atom # 5 C, 5, is greater than permitted\n",
      "[14:08:24] Explicit valence for atom # 5 C, 5, is greater than permitted\n",
      "[14:08:24] Explicit valence for atom # 3 C, 5, is greater than permitted\n",
      "[14:08:24] Explicit valence for atom # 5 C, 5, is greater than permitted\n",
      "[14:08:24] Explicit valence for atom # 5 C, 5, is greater than permitted\n",
      "[14:08:24] Explicit valence for atom # 6 C, 5, is greater than permitted\n",
      "[14:08:24] Explicit valence for atom # 5 C, 5, is greater than permitted\n",
      "[14:08:24] Explicit valence for atom # 3 C, 5, is greater than permitted\n",
      "[14:08:24] Explicit valence for atom # 3 C, 5, is greater than permitted\n",
      "[14:08:24] Explicit valence for atom # 2 C, 5, is greater than permitted\n",
      "[14:08:24] Explicit valence for atom # 5 C, 5, is greater than permitted\n",
      "[14:08:24] Explicit valence for atom # 5 C, 5, is greater than permitted\n",
      "[14:08:24] Explicit valence for atom # 4 C, 5, is greater than permitted\n",
      "[14:08:24] Explicit valence for atom # 5 C, 5, is greater than permitted\n",
      "[14:08:24] Explicit valence for atom # 3 C, 5, is greater than permitted\n",
      "[14:08:24] Explicit valence for atom # 6 C, 5, is greater than permitted\n",
      "[14:08:24] Explicit valence for atom # 2 C, 5, is greater than permitted\n",
      "[14:08:24] Explicit valence for atom # 4 C, 5, is greater than permitted\n",
      "[14:08:24] Explicit valence for atom # 3 C, 5, is greater than permitted\n",
      "[14:08:24] Explicit valence for atom # 4 C, 5, is greater than permitted\n",
      "[14:08:24] Explicit valence for atom # 2 C, 5, is greater than permitted\n",
      "[14:08:24] Explicit valence for atom # 2 C, 5, is greater than permitted\n",
      "[14:08:24] Explicit valence for atom # 3 C, 5, is greater than permitted\n",
      "[14:08:24] Explicit valence for atom # 6 C, 5, is greater than permitted\n",
      "[14:08:24] Explicit valence for atom # 4 C, 5, is greater than permitted\n",
      "[14:08:24] Explicit valence for atom # 6 C, 5, is greater than permitted\n",
      "[14:08:24] Explicit valence for atom # 5 C, 5, is greater than permitted\n",
      "[14:08:24] Explicit valence for atom # 3 C, 5, is greater than permitted\n",
      "[14:08:24] Explicit valence for atom # 4 C, 5, is greater than permitted\n",
      "[14:08:24] Explicit valence for atom # 4 C, 5, is greater than permitted\n",
      "[14:08:24] Explicit valence for atom # 2 C, 5, is greater than permitted\n",
      "[14:08:24] Explicit valence for atom # 2 C, 5, is greater than permitted\n",
      "[14:08:24] Explicit valence for atom # 3 C, 5, is greater than permitted\n",
      "[14:08:24] Explicit valence for atom # 3 C, 5, is greater than permitted\n",
      "[14:08:24] Explicit valence for atom # 6 C, 5, is greater than permitted\n",
      "[14:08:24] Explicit valence for atom # 2 C, 5, is greater than permitted\n",
      "[14:08:24] Explicit valence for atom # 5 C, 5, is greater than permitted\n",
      "[14:08:24] Explicit valence for atom # 6 C, 5, is greater than permitted\n",
      "[14:08:24] Explicit valence for atom # 5 C, 5, is greater than permitted\n",
      "[14:08:24] Explicit valence for atom # 6 C, 5, is greater than permitted\n",
      "[14:08:24] Explicit valence for atom # 6 C, 5, is greater than permitted\n",
      "[14:08:24] Explicit valence for atom # 3 C, 5, is greater than permitted\n",
      "[14:08:24] Explicit valence for atom # 5 C, 5, is greater than permitted\n",
      "[14:08:24] Explicit valence for atom # 3 C, 5, is greater than permitted\n",
      "[14:08:24] Explicit valence for atom # 4 C, 5, is greater than permitted\n",
      "[14:08:24] Explicit valence for atom # 6 C, 5, is greater than permitted\n",
      "[14:08:24] Explicit valence for atom # 3 C, 5, is greater than permitted\n",
      "[14:08:24] Explicit valence for atom # 5 C, 5, is greater than permitted\n",
      "[14:08:24] Explicit valence for atom # 2 C, 5, is greater than permitted\n",
      "[14:08:24] Explicit valence for atom # 2 C, 5, is greater than permitted\n",
      "[14:08:24] Explicit valence for atom # 4 C, 5, is greater than permitted\n",
      "[14:08:24] Explicit valence for atom # 5 C, 5, is greater than permitted\n",
      "[14:08:24] Explicit valence for atom # 6 C, 5, is greater than permitted\n",
      "[14:08:24] Explicit valence for atom # 6 C, 5, is greater than permitted\n",
      "[14:08:24] Explicit valence for atom # 2 C, 5, is greater than permitted\n",
      "[14:08:24] Explicit valence for atom # 6 C, 5, is greater than permitted\n",
      "[14:08:24] Explicit valence for atom # 5 C, 5, is greater than permitted\n",
      "[14:08:24] Explicit valence for atom # 6 C, 5, is greater than permitted\n",
      "[14:08:24] Explicit valence for atom # 5 C, 5, is greater than permitted\n",
      "[14:08:24] Explicit valence for atom # 4 C, 5, is greater than permitted\n",
      "[14:08:24] Explicit valence for atom # 4 C, 5, is greater than permitted\n",
      "[14:08:24] Explicit valence for atom # 2 C, 5, is greater than permitted\n",
      "[14:08:24] Explicit valence for atom # 5 C, 5, is greater than permitted\n",
      "[14:08:24] Explicit valence for atom # 3 C, 5, is greater than permitted\n",
      "[14:08:24] Explicit valence for atom # 2 C, 5, is greater than permitted\n",
      "[14:08:24] Explicit valence for atom # 2 C, 5, is greater than permitted\n",
      "[14:08:24] Explicit valence for atom # 4 C, 5, is greater than permitted\n",
      "[14:08:24] Explicit valence for atom # 4 C, 5, is greater than permitted\n",
      "[14:08:24] Explicit valence for atom # 5 C, 5, is greater than permitted\n",
      "[14:08:24] Explicit valence for atom # 3 C, 5, is greater than permitted\n",
      "[14:08:24] Explicit valence for atom # 2 C, 5, is greater than permitted\n",
      "[14:08:24] Explicit valence for atom # 2 C, 5, is greater than permitted\n",
      "[14:08:24] Explicit valence for atom # 3 C, 5, is greater than permitted\n",
      "[14:08:24] Explicit valence for atom # 4 C, 5, is greater than permitted\n",
      "[14:08:24] Explicit valence for atom # 5 C, 5, is greater than permitted\n",
      "[14:08:24] Explicit valence for atom # 3 C, 5, is greater than permitted\n",
      "[14:08:24] Explicit valence for atom # 3 C, 5, is greater than permitted\n",
      "[14:08:24] Explicit valence for atom # 4 C, 5, is greater than permitted\n",
      "[14:08:24] Explicit valence for atom # 3 C, 5, is greater than permitted\n",
      "[14:08:24] Explicit valence for atom # 4 C, 5, is greater than permitted\n",
      "[14:08:24] Explicit valence for atom # 2 C, 5, is greater than permitted\n",
      "[14:08:24] Explicit valence for atom # 5 C, 5, is greater than permitted\n",
      "[14:08:24] Explicit valence for atom # 2 C, 5, is greater than permitted\n",
      "[14:08:24] Explicit valence for atom # 1 C, 5, is greater than permitted\n",
      "[14:08:24] Explicit valence for atom # 4 C, 5, is greater than permitted\n",
      "[14:08:24] Explicit valence for atom # 3 C, 5, is greater than permitted\n",
      "[14:08:24] Explicit valence for atom # 6 C, 5, is greater than permitted\n",
      "[14:08:24] Explicit valence for atom # 3 C, 5, is greater than permitted\n",
      "[14:08:24] Explicit valence for atom # 5 C, 5, is greater than permitted\n",
      "[14:08:24] Explicit valence for atom # 5 C, 5, is greater than permitted\n",
      "[14:08:24] Explicit valence for atom # 2 C, 5, is greater than permitted\n",
      "[14:08:24] Explicit valence for atom # 5 C, 5, is greater than permitted\n",
      "[14:08:24] Explicit valence for atom # 5 C, 5, is greater than permitted\n",
      "[14:08:24] Explicit valence for atom # 4 C, 5, is greater than permitted\n",
      "[14:08:24] Explicit valence for atom # 6 C, 5, is greater than permitted\n",
      "[14:08:24] Explicit valence for atom # 5 C, 5, is greater than permitted\n",
      "[14:08:24] Explicit valence for atom # 3 C, 5, is greater than permitted\n",
      "[14:08:24] Explicit valence for atom # 4 C, 5, is greater than permitted\n",
      "[14:08:24] Explicit valence for atom # 3 C, 5, is greater than permitted\n",
      "[14:08:24] Explicit valence for atom # 5 C, 5, is greater than permitted\n",
      "[14:08:24] Explicit valence for atom # 3 C, 5, is greater than permitted\n",
      "[14:08:24] Explicit valence for atom # 2 C, 5, is greater than permitted\n",
      "[14:08:24] Explicit valence for atom # 5 C, 5, is greater than permitted\n",
      "[14:08:24] Explicit valence for atom # 6 C, 5, is greater than permitted\n",
      "[14:08:24] Explicit valence for atom # 3 C, 5, is greater than permitted\n",
      "[14:08:24] Explicit valence for atom # 3 C, 5, is greater than permitted\n",
      "[14:08:24] Explicit valence for atom # 4 C, 5, is greater than permitted\n",
      "[14:08:24] Explicit valence for atom # 4 C, 5, is greater than permitted\n",
      "[14:08:24] Explicit valence for atom # 3 C, 5, is greater than permitted\n",
      "[14:08:24] Explicit valence for atom # 3 C, 5, is greater than permitted\n",
      "[14:08:24] Explicit valence for atom # 2 C, 5, is greater than permitted\n",
      "[14:08:24] Explicit valence for atom # 4 C, 5, is greater than permitted\n",
      "[14:08:24] Explicit valence for atom # 4 C, 5, is greater than permitted\n",
      "[14:08:24] Explicit valence for atom # 4 C, 5, is greater than permitted\n",
      "[14:08:24] Explicit valence for atom # 5 C, 5, is greater than permitted\n",
      "[14:08:24] Explicit valence for atom # 5 C, 5, is greater than permitted\n",
      "[14:08:24] Explicit valence for atom # 5 C, 5, is greater than permitted\n",
      "[14:08:24] Explicit valence for atom # 3 C, 5, is greater than permitted\n",
      "[14:08:24] Explicit valence for atom # 5 C, 5, is greater than permitted\n",
      "[14:08:24] Explicit valence for atom # 4 C, 5, is greater than permitted\n",
      "[14:08:24] Explicit valence for atom # 4 C, 5, is greater than permitted\n",
      "[14:08:24] Explicit valence for atom # 4 C, 5, is greater than permitted\n",
      "[14:08:24] Explicit valence for atom # 4 C, 5, is greater than permitted\n",
      "[14:08:24] Explicit valence for atom # 4 C, 5, is greater than permitted\n",
      "[14:08:24] Explicit valence for atom # 2 C, 5, is greater than permitted\n",
      "[14:08:24] Explicit valence for atom # 6 C, 5, is greater than permitted\n",
      "[14:08:24] Explicit valence for atom # 3 C, 5, is greater than permitted\n",
      "[14:08:24] Explicit valence for atom # 4 C, 5, is greater than permitted\n",
      "[14:08:24] Explicit valence for atom # 3 C, 5, is greater than permitted\n",
      "[14:08:24] Explicit valence for atom # 4 C, 5, is greater than permitted\n",
      "[14:08:24] Explicit valence for atom # 5 C, 5, is greater than permitted\n",
      "[14:08:24] Explicit valence for atom # 2 C, 5, is greater than permitted\n",
      "[14:08:24] Explicit valence for atom # 4 C, 5, is greater than permitted\n",
      "[14:08:24] Explicit valence for atom # 6 C, 5, is greater than permitted\n",
      "[14:08:24] Explicit valence for atom # 3 C, 5, is greater than permitted\n",
      "[14:08:24] Explicit valence for atom # 5 C, 5, is greater than permitted\n",
      "[14:08:24] Explicit valence for atom # 5 C, 5, is greater than permitted\n",
      "[14:08:24] Explicit valence for atom # 4 C, 5, is greater than permitted\n",
      "[14:08:24] Explicit valence for atom # 6 C, 5, is greater than permitted\n",
      "[14:08:24] Explicit valence for atom # 3 C, 5, is greater than permitted\n",
      "[14:08:24] Explicit valence for atom # 5 C, 5, is greater than permitted\n",
      "[14:08:24] Explicit valence for atom # 5 C, 5, is greater than permitted\n",
      "[14:08:24] Explicit valence for atom # 2 C, 5, is greater than permitted\n",
      "[14:08:24] Explicit valence for atom # 1 C, 5, is greater than permitted\n",
      "[14:08:24] Explicit valence for atom # 5 C, 5, is greater than permitted\n",
      "[14:08:24] Explicit valence for atom # 2 C, 5, is greater than permitted\n",
      "[14:08:24] Explicit valence for atom # 2 C, 5, is greater than permitted\n",
      "[14:08:24] Explicit valence for atom # 4 C, 5, is greater than permitted\n",
      "[14:08:24] Explicit valence for atom # 5 C, 5, is greater than permitted\n",
      "[14:08:24] Explicit valence for atom # 4 C, 5, is greater than permitted\n",
      "[14:08:24] Explicit valence for atom # 5 C, 5, is greater than permitted\n",
      "[14:08:24] Explicit valence for atom # 5 C, 5, is greater than permitted\n",
      "[14:08:24] Explicit valence for atom # 4 C, 5, is greater than permitted\n",
      "[14:08:24] Explicit valence for atom # 5 C, 5, is greater than permitted\n",
      "[14:08:24] Explicit valence for atom # 4 C, 5, is greater than permitted\n",
      "[14:08:24] Explicit valence for atom # 3 C, 5, is greater than permitted\n",
      "[14:08:24] Explicit valence for atom # 4 C, 5, is greater than permitted\n",
      "[14:08:24] Explicit valence for atom # 3 C, 5, is greater than permitted\n",
      "[14:08:24] Explicit valence for atom # 4 C, 5, is greater than permitted\n",
      "[14:08:24] Explicit valence for atom # 5 C, 5, is greater than permitted\n",
      "[14:08:24] Explicit valence for atom # 2 C, 5, is greater than permitted\n",
      "[14:08:24] Explicit valence for atom # 3 C, 5, is greater than permitted\n",
      "[14:08:24] Explicit valence for atom # 2 C, 5, is greater than permitted\n",
      "[14:08:24] Explicit valence for atom # 4 C, 5, is greater than permitted\n",
      "[14:08:24] Explicit valence for atom # 2 C, 5, is greater than permitted\n",
      "[14:08:24] Explicit valence for atom # 5 C, 5, is greater than permitted\n",
      "[14:08:24] Explicit valence for atom # 4 C, 5, is greater than permitted\n",
      "[14:08:24] Explicit valence for atom # 2 C, 5, is greater than permitted\n",
      "[14:08:24] Explicit valence for atom # 4 C, 5, is greater than permitted\n",
      "[14:08:24] Explicit valence for atom # 4 C, 5, is greater than permitted\n",
      "[14:08:24] Explicit valence for atom # 4 C, 5, is greater than permitted\n",
      "[14:08:24] Explicit valence for atom # 3 C, 5, is greater than permitted\n",
      "[14:08:24] Explicit valence for atom # 5 C, 5, is greater than permitted\n",
      "[14:08:24] Explicit valence for atom # 3 C, 5, is greater than permitted\n",
      "[14:08:24] Explicit valence for atom # 5 C, 5, is greater than permitted\n",
      "[14:08:24] Explicit valence for atom # 5 C, 5, is greater than permitted\n",
      "[14:08:24] Explicit valence for atom # 3 C, 5, is greater than permitted\n",
      "[14:08:24] Explicit valence for atom # 2 C, 5, is greater than permitted\n",
      "[14:08:24] Explicit valence for atom # 2 C, 5, is greater than permitted\n",
      "[14:08:24] Explicit valence for atom # 5 C, 5, is greater than permitted\n",
      "[14:08:24] Explicit valence for atom # 4 C, 5, is greater than permitted\n",
      "[14:08:24] Explicit valence for atom # 6 C, 5, is greater than permitted\n",
      "[14:08:24] Explicit valence for atom # 4 C, 5, is greater than permitted\n",
      "[14:08:25] Explicit valence for atom # 2 C, 5, is greater than permitted\n",
      "[14:08:25] Explicit valence for atom # 2 C, 5, is greater than permitted\n",
      "[14:08:25] Explicit valence for atom # 3 C, 5, is greater than permitted\n",
      "[14:08:25] Explicit valence for atom # 5 C, 5, is greater than permitted\n",
      "[14:08:25] Explicit valence for atom # 5 C, 5, is greater than permitted\n",
      "[14:08:25] Explicit valence for atom # 4 C, 5, is greater than permitted\n",
      "[14:08:25] Explicit valence for atom # 4 C, 5, is greater than permitted\n",
      "[14:08:25] Explicit valence for atom # 5 C, 5, is greater than permitted\n",
      "[14:08:25] Explicit valence for atom # 5 C, 5, is greater than permitted\n",
      "[14:08:25] Explicit valence for atom # 5 C, 5, is greater than permitted\n",
      "[14:08:25] Explicit valence for atom # 4 C, 5, is greater than permitted\n",
      "[14:08:25] Explicit valence for atom # 4 C, 5, is greater than permitted\n",
      "[14:08:25] Explicit valence for atom # 3 C, 5, is greater than permitted\n",
      "[14:08:25] Explicit valence for atom # 4 C, 5, is greater than permitted\n",
      "[14:08:25] Explicit valence for atom # 6 C, 5, is greater than permitted\n",
      "[14:08:25] Explicit valence for atom # 4 C, 5, is greater than permitted\n",
      "[14:08:25] Explicit valence for atom # 3 C, 5, is greater than permitted\n",
      "[14:08:25] Explicit valence for atom # 2 C, 5, is greater than permitted\n",
      "[14:08:25] Explicit valence for atom # 3 C, 5, is greater than permitted\n",
      "[14:08:25] Explicit valence for atom # 4 C, 5, is greater than permitted\n",
      "[14:08:25] Explicit valence for atom # 5 C, 5, is greater than permitted\n",
      "[14:08:25] Explicit valence for atom # 5 C, 5, is greater than permitted\n",
      "[14:08:25] Explicit valence for atom # 5 C, 5, is greater than permitted\n",
      "[14:08:25] Explicit valence for atom # 3 C, 5, is greater than permitted\n",
      "[14:08:25] Explicit valence for atom # 2 C, 5, is greater than permitted\n",
      "[14:08:25] Explicit valence for atom # 5 C, 5, is greater than permitted\n",
      "[14:08:25] Explicit valence for atom # 3 C, 5, is greater than permitted\n",
      "[14:08:25] Explicit valence for atom # 5 C, 5, is greater than permitted\n",
      "[14:08:25] Explicit valence for atom # 5 C, 5, is greater than permitted\n",
      "[14:08:25] Explicit valence for atom # 2 C, 5, is greater than permitted\n",
      "[14:08:25] Explicit valence for atom # 3 C, 5, is greater than permitted\n",
      "[14:08:25] Explicit valence for atom # 6 C, 5, is greater than permitted\n",
      "[14:08:25] Explicit valence for atom # 3 C, 5, is greater than permitted\n",
      "[14:08:25] Explicit valence for atom # 4 C, 5, is greater than permitted\n",
      "[14:08:25] Explicit valence for atom # 4 C, 5, is greater than permitted\n",
      "[14:08:25] Explicit valence for atom # 3 C, 5, is greater than permitted\n",
      "[14:08:25] Explicit valence for atom # 4 C, 5, is greater than permitted\n",
      "[14:08:25] Explicit valence for atom # 6 C, 5, is greater than permitted\n",
      "[14:08:25] Explicit valence for atom # 5 C, 5, is greater than permitted\n",
      "[14:08:25] Explicit valence for atom # 4 C, 5, is greater than permitted\n",
      "[14:08:25] Explicit valence for atom # 5 C, 5, is greater than permitted\n",
      "[14:08:25] Explicit valence for atom # 5 C, 5, is greater than permitted\n",
      "[14:08:25] Explicit valence for atom # 1 C, 5, is greater than permitted\n",
      "[14:08:25] Explicit valence for atom # 3 C, 5, is greater than permitted\n",
      "[14:08:25] Explicit valence for atom # 4 C, 5, is greater than permitted\n",
      "[14:08:25] Explicit valence for atom # 4 C, 5, is greater than permitted\n",
      "[14:08:25] Explicit valence for atom # 6 C, 5, is greater than permitted\n",
      "[14:08:25] Explicit valence for atom # 5 C, 5, is greater than permitted\n",
      "[14:08:25] Explicit valence for atom # 5 C, 5, is greater than permitted\n",
      "[14:08:25] Explicit valence for atom # 5 C, 5, is greater than permitted\n",
      "[14:08:25] Explicit valence for atom # 5 C, 5, is greater than permitted\n",
      "[14:08:25] Explicit valence for atom # 3 C, 5, is greater than permitted\n",
      "[14:08:25] Explicit valence for atom # 1 C, 5, is greater than permitted\n",
      "[14:08:25] Explicit valence for atom # 5 C, 5, is greater than permitted\n",
      "[14:08:25] Explicit valence for atom # 3 C, 5, is greater than permitted\n",
      "[14:08:25] Explicit valence for atom # 4 C, 5, is greater than permitted\n",
      "[14:08:25] Explicit valence for atom # 4 C, 5, is greater than permitted\n",
      "[14:08:25] Explicit valence for atom # 6 C, 5, is greater than permitted\n",
      "[14:08:25] Explicit valence for atom # 4 C, 5, is greater than permitted\n",
      "[14:08:25] Explicit valence for atom # 5 C, 5, is greater than permitted\n",
      "[14:08:25] Explicit valence for atom # 5 C, 5, is greater than permitted\n",
      "[14:08:25] Explicit valence for atom # 3 C, 5, is greater than permitted\n",
      "[14:08:25] Explicit valence for atom # 6 C, 5, is greater than permitted\n",
      "[14:08:25] Explicit valence for atom # 6 C, 5, is greater than permitted\n",
      "[14:08:25] Explicit valence for atom # 3 C, 5, is greater than permitted\n",
      "[14:08:25] Explicit valence for atom # 5 C, 5, is greater than permitted\n",
      "[14:08:25] Explicit valence for atom # 5 C, 5, is greater than permitted\n",
      "[14:08:25] Explicit valence for atom # 3 C, 5, is greater than permitted\n",
      "[14:08:25] Explicit valence for atom # 4 C, 5, is greater than permitted\n",
      "[14:08:25] Explicit valence for atom # 5 C, 5, is greater than permitted\n",
      "[14:08:25] Explicit valence for atom # 5 C, 5, is greater than permitted\n",
      "[14:08:25] Explicit valence for atom # 5 C, 5, is greater than permitted\n",
      "[14:08:25] Explicit valence for atom # 5 C, 5, is greater than permitted\n",
      "[14:08:25] Explicit valence for atom # 5 C, 5, is greater than permitted\n",
      "[14:08:25] Explicit valence for atom # 5 C, 5, is greater than permitted\n",
      "[14:08:25] Explicit valence for atom # 2 C, 5, is greater than permitted\n",
      "[14:08:25] Explicit valence for atom # 2 C, 5, is greater than permitted\n",
      "[14:08:25] Explicit valence for atom # 2 C, 5, is greater than permitted\n",
      "[14:08:25] Explicit valence for atom # 3 C, 5, is greater than permitted\n",
      "[14:08:25] Explicit valence for atom # 3 C, 5, is greater than permitted\n",
      "[14:08:25] Explicit valence for atom # 5 C, 5, is greater than permitted\n",
      "[14:08:25] Explicit valence for atom # 4 C, 5, is greater than permitted\n",
      "[14:08:25] Explicit valence for atom # 3 C, 5, is greater than permitted\n",
      "[14:08:25] Explicit valence for atom # 4 C, 5, is greater than permitted\n",
      "[14:08:25] Explicit valence for atom # 4 C, 5, is greater than permitted\n",
      "[14:08:25] Explicit valence for atom # 2 C, 5, is greater than permitted\n",
      "[14:08:25] Explicit valence for atom # 4 C, 5, is greater than permitted\n",
      "[14:08:25] Explicit valence for atom # 2 C, 5, is greater than permitted\n",
      "[14:08:25] Explicit valence for atom # 2 C, 5, is greater than permitted\n",
      "[14:08:25] Explicit valence for atom # 6 C, 5, is greater than permitted\n",
      "[14:08:25] Explicit valence for atom # 5 C, 5, is greater than permitted\n",
      "[14:08:25] Explicit valence for atom # 4 C, 5, is greater than permitted\n",
      "[14:08:25] Explicit valence for atom # 5 C, 5, is greater than permitted\n",
      "[14:08:25] Explicit valence for atom # 4 C, 5, is greater than permitted\n",
      "[14:08:25] Explicit valence for atom # 4 C, 5, is greater than permitted\n",
      "[14:08:25] Explicit valence for atom # 4 C, 5, is greater than permitted\n",
      "[14:08:25] Explicit valence for atom # 5 C, 5, is greater than permitted\n",
      "[14:08:25] Explicit valence for atom # 2 C, 5, is greater than permitted\n",
      "[14:08:25] Explicit valence for atom # 2 C, 5, is greater than permitted\n",
      "[14:08:25] Explicit valence for atom # 3 C, 5, is greater than permitted\n",
      "[14:08:25] Explicit valence for atom # 2 C, 5, is greater than permitted\n",
      "[14:08:25] Explicit valence for atom # 2 C, 5, is greater than permitted\n",
      "[14:08:25] Explicit valence for atom # 4 C, 5, is greater than permitted\n",
      "[14:08:25] Explicit valence for atom # 4 C, 5, is greater than permitted\n",
      "[14:08:25] Explicit valence for atom # 5 C, 5, is greater than permitted\n",
      "[14:08:25] Explicit valence for atom # 5 C, 5, is greater than permitted\n",
      "[14:08:25] Explicit valence for atom # 4 C, 5, is greater than permitted\n",
      "[14:08:25] Explicit valence for atom # 6 C, 5, is greater than permitted\n",
      "[14:08:25] Explicit valence for atom # 3 C, 5, is greater than permitted\n",
      "[14:08:25] Explicit valence for atom # 3 C, 5, is greater than permitted\n",
      "[14:08:25] Explicit valence for atom # 5 C, 5, is greater than permitted\n",
      "[14:08:25] Explicit valence for atom # 5 C, 5, is greater than permitted\n",
      "[14:08:25] Explicit valence for atom # 4 C, 5, is greater than permitted\n",
      "[14:08:25] Explicit valence for atom # 4 C, 5, is greater than permitted\n",
      "[14:08:25] Explicit valence for atom # 5 C, 5, is greater than permitted\n",
      "[14:08:25] Explicit valence for atom # 5 C, 5, is greater than permitted\n",
      "[14:08:25] Explicit valence for atom # 2 C, 5, is greater than permitted\n",
      "[14:08:25] Explicit valence for atom # 2 C, 5, is greater than permitted\n",
      "[14:08:25] Explicit valence for atom # 2 C, 5, is greater than permitted\n",
      "[14:08:25] Explicit valence for atom # 2 C, 5, is greater than permitted\n",
      "[14:08:25] Explicit valence for atom # 2 C, 5, is greater than permitted\n",
      "[14:08:25] Explicit valence for atom # 3 C, 5, is greater than permitted\n",
      "[14:08:25] Explicit valence for atom # 4 C, 5, is greater than permitted\n",
      "[14:08:25] Explicit valence for atom # 5 C, 5, is greater than permitted\n",
      "[14:08:25] Explicit valence for atom # 3 C, 5, is greater than permitted\n",
      "[14:08:25] Explicit valence for atom # 4 C, 5, is greater than permitted\n",
      "[14:08:25] Explicit valence for atom # 6 C, 5, is greater than permitted\n",
      "[14:08:25] Explicit valence for atom # 3 C, 5, is greater than permitted\n",
      "[14:08:25] Explicit valence for atom # 2 C, 5, is greater than permitted\n",
      "[14:08:25] Explicit valence for atom # 2 C, 5, is greater than permitted\n",
      "[14:08:25] Explicit valence for atom # 5 C, 5, is greater than permitted\n",
      "[14:08:25] Explicit valence for atom # 2 C, 5, is greater than permitted\n",
      "[14:08:25] Explicit valence for atom # 5 C, 5, is greater than permitted\n",
      "[14:08:25] Explicit valence for atom # 5 C, 5, is greater than permitted\n",
      "[14:08:25] Explicit valence for atom # 2 C, 5, is greater than permitted\n",
      "[14:08:25] Explicit valence for atom # 6 C, 5, is greater than permitted\n",
      "[14:08:25] Explicit valence for atom # 2 C, 5, is greater than permitted\n",
      "[14:08:25] Explicit valence for atom # 3 C, 5, is greater than permitted\n",
      "[14:08:25] Explicit valence for atom # 3 C, 5, is greater than permitted\n",
      "[14:08:25] Explicit valence for atom # 2 C, 5, is greater than permitted\n",
      "[14:08:25] Explicit valence for atom # 5 C, 5, is greater than permitted\n",
      "[14:08:25] Explicit valence for atom # 3 C, 5, is greater than permitted\n",
      "[14:08:25] Explicit valence for atom # 2 C, 5, is greater than permitted\n",
      "[14:08:25] Explicit valence for atom # 3 C, 5, is greater than permitted\n",
      "[14:08:25] Explicit valence for atom # 3 C, 5, is greater than permitted\n",
      "[14:08:25] Explicit valence for atom # 2 C, 5, is greater than permitted\n",
      "[14:08:25] Explicit valence for atom # 2 C, 5, is greater than permitted\n",
      "[14:08:25] Explicit valence for atom # 2 C, 5, is greater than permitted\n",
      "[14:08:25] Explicit valence for atom # 2 C, 5, is greater than permitted\n",
      "[14:08:25] Explicit valence for atom # 3 C, 5, is greater than permitted\n",
      "[14:08:25] Explicit valence for atom # 5 C, 5, is greater than permitted\n",
      "[14:08:25] Explicit valence for atom # 5 C, 5, is greater than permitted\n",
      "[14:08:25] Explicit valence for atom # 1 C, 5, is greater than permitted\n",
      "[14:08:25] Explicit valence for atom # 5 C, 5, is greater than permitted\n",
      "[14:08:25] Explicit valence for atom # 5 C, 5, is greater than permitted\n",
      "[14:08:25] Explicit valence for atom # 6 C, 5, is greater than permitted\n",
      "[14:08:25] Explicit valence for atom # 4 C, 5, is greater than permitted\n",
      "[14:08:25] Explicit valence for atom # 5 C, 5, is greater than permitted\n",
      "[14:08:25] Explicit valence for atom # 5 C, 5, is greater than permitted\n",
      "[14:08:25] Explicit valence for atom # 1 C, 5, is greater than permitted\n",
      "[14:08:25] Explicit valence for atom # 6 C, 5, is greater than permitted\n",
      "[14:08:25] Explicit valence for atom # 3 C, 5, is greater than permitted\n",
      "[14:08:25] Explicit valence for atom # 4 C, 5, is greater than permitted\n",
      "[14:08:25] Explicit valence for atom # 4 C, 5, is greater than permitted\n",
      "[14:08:25] Explicit valence for atom # 5 C, 5, is greater than permitted\n",
      "[14:08:25] Explicit valence for atom # 3 C, 5, is greater than permitted\n",
      "[14:08:25] Explicit valence for atom # 5 C, 5, is greater than permitted\n",
      "[14:08:25] Explicit valence for atom # 5 C, 5, is greater than permitted\n",
      "[14:08:25] Explicit valence for atom # 5 C, 5, is greater than permitted\n",
      "[14:08:25] Explicit valence for atom # 3 C, 5, is greater than permitted\n",
      "[14:08:25] Explicit valence for atom # 5 C, 5, is greater than permitted\n",
      "[14:08:25] Explicit valence for atom # 4 C, 5, is greater than permitted\n",
      "[14:08:25] Explicit valence for atom # 5 C, 5, is greater than permitted\n",
      "[14:08:25] Explicit valence for atom # 4 C, 5, is greater than permitted\n",
      "[14:08:25] Explicit valence for atom # 6 C, 5, is greater than permitted\n",
      "[14:08:25] Explicit valence for atom # 3 C, 5, is greater than permitted\n",
      "[14:08:25] Explicit valence for atom # 6 C, 5, is greater than permitted\n",
      "[14:08:25] Explicit valence for atom # 3 C, 5, is greater than permitted\n",
      "[14:08:25] Explicit valence for atom # 3 C, 5, is greater than permitted\n",
      "[14:08:25] Explicit valence for atom # 4 C, 5, is greater than permitted\n",
      "[14:08:25] Explicit valence for atom # 3 C, 5, is greater than permitted\n",
      "[14:08:25] Explicit valence for atom # 4 C, 5, is greater than permitted\n",
      "[14:08:25] Explicit valence for atom # 4 C, 5, is greater than permitted\n",
      "[14:08:25] Explicit valence for atom # 2 C, 5, is greater than permitted\n",
      "[14:08:25] Explicit valence for atom # 5 C, 5, is greater than permitted\n",
      "[14:08:25] Explicit valence for atom # 3 C, 5, is greater than permitted\n",
      "[14:08:25] Explicit valence for atom # 4 C, 5, is greater than permitted\n",
      "[14:08:25] Explicit valence for atom # 2 C, 5, is greater than permitted\n",
      "[14:08:25] Explicit valence for atom # 5 C, 5, is greater than permitted\n",
      "[14:08:25] Explicit valence for atom # 6 C, 5, is greater than permitted\n",
      "[14:08:26] Explicit valence for atom # 2 C, 5, is greater than permitted\n",
      "[14:08:26] Explicit valence for atom # 6 C, 5, is greater than permitted\n",
      "[14:08:26] Explicit valence for atom # 4 C, 5, is greater than permitted\n",
      "[14:08:26] Explicit valence for atom # 4 C, 5, is greater than permitted\n",
      "[14:08:26] Explicit valence for atom # 5 C, 5, is greater than permitted\n",
      "[14:08:26] Explicit valence for atom # 5 C, 5, is greater than permitted\n",
      "[14:08:26] Explicit valence for atom # 3 C, 5, is greater than permitted\n",
      "[14:08:26] Explicit valence for atom # 2 C, 5, is greater than permitted\n",
      "[14:08:26] Explicit valence for atom # 4 C, 5, is greater than permitted\n",
      "[14:08:26] Explicit valence for atom # 5 C, 5, is greater than permitted\n",
      "[14:08:26] Explicit valence for atom # 5 C, 5, is greater than permitted\n",
      "[14:08:26] Explicit valence for atom # 5 C, 5, is greater than permitted\n",
      "[14:08:26] Explicit valence for atom # 2 C, 5, is greater than permitted\n",
      "[14:08:26] Explicit valence for atom # 5 C, 5, is greater than permitted\n",
      "[14:08:26] Explicit valence for atom # 4 C, 5, is greater than permitted\n",
      "[14:08:26] Explicit valence for atom # 2 C, 5, is greater than permitted\n",
      "[14:08:26] Explicit valence for atom # 5 C, 5, is greater than permitted\n",
      "[14:08:26] Explicit valence for atom # 5 C, 5, is greater than permitted\n",
      "[14:08:26] Explicit valence for atom # 3 C, 5, is greater than permitted\n",
      "[14:08:26] Explicit valence for atom # 4 C, 5, is greater than permitted\n",
      "[14:08:26] Explicit valence for atom # 5 C, 5, is greater than permitted\n",
      "[14:08:26] Explicit valence for atom # 5 C, 5, is greater than permitted\n",
      "[14:08:26] Explicit valence for atom # 3 C, 5, is greater than permitted\n",
      "[14:08:26] Explicit valence for atom # 4 C, 5, is greater than permitted\n",
      "[14:08:26] Explicit valence for atom # 3 C, 5, is greater than permitted\n",
      "[14:08:26] Explicit valence for atom # 1 C, 5, is greater than permitted\n",
      "[14:08:26] Explicit valence for atom # 6 C, 5, is greater than permitted\n",
      "[14:08:26] Explicit valence for atom # 2 C, 5, is greater than permitted\n",
      "[14:08:26] Explicit valence for atom # 4 C, 5, is greater than permitted\n",
      "[14:08:26] Explicit valence for atom # 4 C, 5, is greater than permitted\n",
      "[14:08:26] Explicit valence for atom # 2 C, 5, is greater than permitted\n",
      "[14:08:26] Explicit valence for atom # 4 C, 5, is greater than permitted\n",
      "[14:08:26] Explicit valence for atom # 5 C, 5, is greater than permitted\n",
      "[14:08:26] Explicit valence for atom # 5 C, 5, is greater than permitted\n",
      "[14:08:26] Explicit valence for atom # 4 C, 5, is greater than permitted\n",
      "[14:08:26] Explicit valence for atom # 3 C, 5, is greater than permitted\n",
      "[14:08:26] Explicit valence for atom # 2 C, 5, is greater than permitted\n",
      "[14:08:26] Explicit valence for atom # 4 C, 5, is greater than permitted\n",
      "[14:08:26] Explicit valence for atom # 2 C, 5, is greater than permitted\n",
      "[14:08:26] Explicit valence for atom # 5 C, 5, is greater than permitted\n",
      "[14:08:26] Explicit valence for atom # 4 C, 5, is greater than permitted\n",
      "[14:08:26] Explicit valence for atom # 2 C, 5, is greater than permitted\n",
      "[14:08:26] Explicit valence for atom # 5 C, 5, is greater than permitted\n",
      "[14:08:26] Explicit valence for atom # 4 C, 5, is greater than permitted\n",
      "[14:08:26] Explicit valence for atom # 2 C, 5, is greater than permitted\n",
      "[14:08:26] Explicit valence for atom # 2 C, 5, is greater than permitted\n",
      "[14:08:26] Explicit valence for atom # 3 C, 5, is greater than permitted\n",
      "[14:08:26] Explicit valence for atom # 4 C, 5, is greater than permitted\n",
      "[14:08:26] Explicit valence for atom # 2 C, 5, is greater than permitted\n",
      "[14:08:26] Explicit valence for atom # 3 C, 5, is greater than permitted\n",
      "[14:08:26] Explicit valence for atom # 4 C, 5, is greater than permitted\n",
      "[14:08:26] Explicit valence for atom # 4 C, 5, is greater than permitted\n",
      "[14:08:26] Explicit valence for atom # 4 C, 5, is greater than permitted\n",
      "[14:08:26] Explicit valence for atom # 3 C, 5, is greater than permitted\n",
      "[14:08:26] Explicit valence for atom # 3 C, 5, is greater than permitted\n",
      "[14:08:26] Explicit valence for atom # 6 C, 5, is greater than permitted\n",
      "[14:08:26] Explicit valence for atom # 4 C, 5, is greater than permitted\n",
      "[14:08:26] Explicit valence for atom # 5 C, 5, is greater than permitted\n",
      "[14:08:26] Explicit valence for atom # 4 C, 5, is greater than permitted\n",
      "[14:08:26] Explicit valence for atom # 3 C, 5, is greater than permitted\n",
      "[14:08:26] Explicit valence for atom # 4 C, 5, is greater than permitted\n",
      "[14:08:26] Explicit valence for atom # 5 C, 5, is greater than permitted\n",
      "[14:08:26] Explicit valence for atom # 3 C, 5, is greater than permitted\n",
      "[14:08:26] Explicit valence for atom # 1 C, 5, is greater than permitted\n",
      "[14:08:26] Explicit valence for atom # 5 C, 5, is greater than permitted\n",
      "[14:08:26] Explicit valence for atom # 2 C, 5, is greater than permitted\n",
      "[14:08:26] Explicit valence for atom # 5 C, 5, is greater than permitted\n",
      "[14:08:26] Explicit valence for atom # 2 C, 5, is greater than permitted\n",
      "[14:08:26] Explicit valence for atom # 2 C, 5, is greater than permitted\n",
      "[14:08:26] Explicit valence for atom # 3 C, 5, is greater than permitted\n",
      "[14:08:26] Explicit valence for atom # 5 C, 5, is greater than permitted\n",
      "[14:08:26] Explicit valence for atom # 3 C, 5, is greater than permitted\n",
      "[14:08:26] Explicit valence for atom # 4 C, 5, is greater than permitted\n",
      "[14:08:26] Explicit valence for atom # 4 C, 5, is greater than permitted\n",
      "[14:08:26] Explicit valence for atom # 4 C, 5, is greater than permitted\n",
      "[14:08:26] Explicit valence for atom # 5 C, 5, is greater than permitted\n",
      "[14:08:26] Explicit valence for atom # 5 C, 5, is greater than permitted\n",
      "[14:08:26] Explicit valence for atom # 4 C, 5, is greater than permitted\n",
      "[14:08:26] Explicit valence for atom # 4 C, 5, is greater than permitted\n",
      "[14:08:26] Explicit valence for atom # 3 C, 5, is greater than permitted\n",
      "[14:08:26] Explicit valence for atom # 4 C, 5, is greater than permitted\n",
      "[14:08:26] Explicit valence for atom # 4 C, 5, is greater than permitted\n",
      "[14:08:26] Explicit valence for atom # 5 C, 5, is greater than permitted\n",
      "[14:08:26] Explicit valence for atom # 2 C, 5, is greater than permitted\n",
      "[14:08:26] Explicit valence for atom # 3 C, 5, is greater than permitted\n",
      "[14:08:26] Explicit valence for atom # 5 C, 5, is greater than permitted\n",
      "[14:08:26] Explicit valence for atom # 4 C, 5, is greater than permitted\n",
      "[14:08:26] Explicit valence for atom # 3 C, 5, is greater than permitted\n",
      "[14:08:26] Explicit valence for atom # 3 C, 5, is greater than permitted\n",
      "[14:08:26] Explicit valence for atom # 4 C, 5, is greater than permitted\n",
      "[14:08:26] Explicit valence for atom # 4 C, 5, is greater than permitted\n",
      "[14:08:26] Explicit valence for atom # 3 C, 5, is greater than permitted\n",
      "[14:08:26] Explicit valence for atom # 2 C, 5, is greater than permitted\n",
      "[14:08:26] Explicit valence for atom # 5 C, 5, is greater than permitted\n",
      "[14:08:26] Explicit valence for atom # 5 C, 5, is greater than permitted\n",
      "[14:08:26] Explicit valence for atom # 6 C, 5, is greater than permitted\n",
      "[14:08:26] Explicit valence for atom # 6 C, 5, is greater than permitted\n",
      "[14:08:26] Explicit valence for atom # 4 C, 5, is greater than permitted\n",
      "[14:08:26] Explicit valence for atom # 2 C, 5, is greater than permitted\n",
      "[14:08:26] Explicit valence for atom # 5 C, 5, is greater than permitted\n",
      "[14:08:26] Explicit valence for atom # 4 C, 5, is greater than permitted\n",
      "[14:08:26] Explicit valence for atom # 6 C, 5, is greater than permitted\n",
      "[14:08:26] Explicit valence for atom # 7 C, 5, is greater than permitted\n",
      "[14:08:26] Explicit valence for atom # 5 C, 5, is greater than permitted\n",
      "[14:08:26] Explicit valence for atom # 6 C, 5, is greater than permitted\n",
      "[14:08:26] Explicit valence for atom # 4 C, 5, is greater than permitted\n",
      "[14:08:26] Explicit valence for atom # 3 C, 5, is greater than permitted\n",
      "[14:08:26] Explicit valence for atom # 4 C, 5, is greater than permitted\n",
      "[14:08:26] Explicit valence for atom # 3 C, 5, is greater than permitted\n",
      "[14:08:26] Explicit valence for atom # 5 C, 5, is greater than permitted\n",
      "[14:08:26] Explicit valence for atom # 5 C, 5, is greater than permitted\n",
      "[14:08:26] Explicit valence for atom # 2 C, 5, is greater than permitted\n",
      "[14:08:26] Explicit valence for atom # 4 C, 5, is greater than permitted\n",
      "[14:08:26] Explicit valence for atom # 3 C, 5, is greater than permitted\n",
      "[14:08:26] Explicit valence for atom # 6 C, 5, is greater than permitted\n",
      "[14:08:26] Explicit valence for atom # 5 C, 5, is greater than permitted\n",
      "[14:08:26] Explicit valence for atom # 4 C, 5, is greater than permitted\n",
      "[14:08:26] Explicit valence for atom # 3 C, 5, is greater than permitted\n",
      "[14:08:26] Explicit valence for atom # 3 C, 5, is greater than permitted\n",
      "[14:08:26] Explicit valence for atom # 5 C, 5, is greater than permitted\n",
      "[14:08:26] Explicit valence for atom # 5 C, 5, is greater than permitted\n",
      "[14:08:26] Explicit valence for atom # 4 C, 5, is greater than permitted\n",
      "[14:08:26] Explicit valence for atom # 5 C, 5, is greater than permitted\n",
      "[14:08:26] Explicit valence for atom # 2 C, 5, is greater than permitted\n",
      "[14:08:26] Explicit valence for atom # 5 C, 5, is greater than permitted\n",
      "[14:08:26] Explicit valence for atom # 4 C, 5, is greater than permitted\n",
      "[14:08:26] Explicit valence for atom # 4 C, 5, is greater than permitted\n",
      "[14:08:26] Explicit valence for atom # 5 C, 5, is greater than permitted\n",
      "[14:08:26] Explicit valence for atom # 3 C, 5, is greater than permitted\n",
      "[14:08:26] Explicit valence for atom # 3 C, 5, is greater than permitted\n",
      "[14:08:26] Explicit valence for atom # 3 C, 5, is greater than permitted\n",
      "[14:08:26] Explicit valence for atom # 5 C, 5, is greater than permitted\n",
      "[14:08:26] Explicit valence for atom # 2 C, 5, is greater than permitted\n",
      "[14:08:26] Explicit valence for atom # 2 C, 5, is greater than permitted\n",
      "[14:08:26] Explicit valence for atom # 3 C, 5, is greater than permitted\n",
      "[14:08:26] Explicit valence for atom # 2 C, 5, is greater than permitted\n",
      "[14:08:26] Explicit valence for atom # 3 C, 5, is greater than permitted\n",
      "[14:08:26] Explicit valence for atom # 2 C, 5, is greater than permitted\n",
      "[14:08:26] Explicit valence for atom # 6 C, 5, is greater than permitted\n",
      "[14:08:26] Explicit valence for atom # 6 C, 5, is greater than permitted\n",
      "[14:08:26] Explicit valence for atom # 3 C, 5, is greater than permitted\n",
      "[14:08:26] Explicit valence for atom # 3 C, 5, is greater than permitted\n",
      "[14:08:26] Explicit valence for atom # 3 C, 5, is greater than permitted\n",
      "[14:08:26] Explicit valence for atom # 6 C, 5, is greater than permitted\n",
      "[14:08:26] Explicit valence for atom # 4 C, 5, is greater than permitted\n",
      "[14:08:26] Explicit valence for atom # 3 C, 5, is greater than permitted\n",
      "[14:08:26] Explicit valence for atom # 4 C, 5, is greater than permitted\n",
      "[14:08:26] Explicit valence for atom # 3 C, 5, is greater than permitted\n",
      "[14:08:26] Explicit valence for atom # 4 C, 5, is greater than permitted\n",
      "[14:08:26] Explicit valence for atom # 4 C, 5, is greater than permitted\n",
      "[14:08:26] Explicit valence for atom # 4 C, 5, is greater than permitted\n",
      "[14:08:26] Explicit valence for atom # 3 C, 5, is greater than permitted\n",
      "[14:08:26] Explicit valence for atom # 5 C, 5, is greater than permitted\n",
      "[14:08:26] Explicit valence for atom # 3 C, 5, is greater than permitted\n",
      "[14:08:26] Explicit valence for atom # 4 C, 5, is greater than permitted\n",
      "[14:08:26] Explicit valence for atom # 3 C, 5, is greater than permitted\n",
      "[14:08:26] Explicit valence for atom # 2 C, 5, is greater than permitted\n",
      "[14:08:26] Explicit valence for atom # 1 C, 5, is greater than permitted\n",
      "[14:08:26] Explicit valence for atom # 6 C, 5, is greater than permitted\n",
      "[14:08:26] Explicit valence for atom # 5 C, 5, is greater than permitted\n",
      "[14:08:26] Explicit valence for atom # 2 C, 5, is greater than permitted\n",
      "[14:08:26] Explicit valence for atom # 5 C, 5, is greater than permitted\n",
      "[14:08:26] Explicit valence for atom # 4 C, 5, is greater than permitted\n",
      "[14:08:26] Explicit valence for atom # 3 C, 5, is greater than permitted\n",
      "[14:08:26] Explicit valence for atom # 3 C, 5, is greater than permitted\n",
      "[14:08:26] Explicit valence for atom # 3 C, 5, is greater than permitted\n",
      "[14:08:26] Explicit valence for atom # 2 C, 5, is greater than permitted\n",
      "[14:08:26] Explicit valence for atom # 3 C, 5, is greater than permitted\n",
      "[14:08:26] Explicit valence for atom # 4 C, 5, is greater than permitted\n",
      "[14:08:26] Explicit valence for atom # 2 C, 5, is greater than permitted\n",
      "[14:08:26] Explicit valence for atom # 3 C, 5, is greater than permitted\n",
      "[14:08:27] Explicit valence for atom # 2 C, 5, is greater than permitted\n",
      "[14:08:27] Explicit valence for atom # 5 C, 5, is greater than permitted\n",
      "[14:08:27] Explicit valence for atom # 4 C, 5, is greater than permitted\n",
      "[14:08:27] Explicit valence for atom # 3 C, 5, is greater than permitted\n",
      "[14:08:27] Explicit valence for atom # 3 C, 5, is greater than permitted\n",
      "[14:08:27] Explicit valence for atom # 2 C, 5, is greater than permitted\n",
      "[14:08:27] Explicit valence for atom # 2 C, 5, is greater than permitted\n",
      "[14:08:27] Explicit valence for atom # 1 C, 5, is greater than permitted\n",
      "[14:08:27] Explicit valence for atom # 4 C, 5, is greater than permitted\n",
      "[14:08:27] Explicit valence for atom # 2 C, 5, is greater than permitted\n",
      "[14:08:27] Explicit valence for atom # 5 C, 5, is greater than permitted\n",
      "[14:08:27] Explicit valence for atom # 3 C, 5, is greater than permitted\n",
      "[14:08:27] Explicit valence for atom # 4 C, 5, is greater than permitted\n",
      "[14:08:27] Explicit valence for atom # 3 C, 5, is greater than permitted\n",
      "[14:08:27] Explicit valence for atom # 6 C, 5, is greater than permitted\n",
      "[14:08:27] Explicit valence for atom # 6 C, 5, is greater than permitted\n",
      "[14:08:27] Explicit valence for atom # 5 C, 5, is greater than permitted\n",
      "[14:08:27] Explicit valence for atom # 6 C, 5, is greater than permitted\n",
      "[14:08:27] Explicit valence for atom # 3 C, 5, is greater than permitted\n",
      "[14:08:27] Explicit valence for atom # 4 C, 5, is greater than permitted\n",
      "[14:08:27] Explicit valence for atom # 3 C, 5, is greater than permitted\n",
      "[14:08:27] Explicit valence for atom # 5 C, 5, is greater than permitted\n",
      "[14:08:27] Explicit valence for atom # 5 C, 5, is greater than permitted\n",
      "[14:08:27] Explicit valence for atom # 5 C, 5, is greater than permitted\n",
      "[14:08:27] Explicit valence for atom # 4 C, 5, is greater than permitted\n",
      "[14:08:27] Explicit valence for atom # 5 C, 5, is greater than permitted\n",
      "[14:08:27] Explicit valence for atom # 4 C, 5, is greater than permitted\n",
      "[14:08:27] Explicit valence for atom # 4 C, 5, is greater than permitted\n",
      "[14:08:27] Explicit valence for atom # 6 C, 5, is greater than permitted\n",
      "[14:08:27] Explicit valence for atom # 3 C, 5, is greater than permitted\n",
      "[14:08:27] Explicit valence for atom # 4 C, 5, is greater than permitted\n",
      "[14:08:27] Explicit valence for atom # 4 C, 5, is greater than permitted\n",
      "[14:08:27] Explicit valence for atom # 4 C, 5, is greater than permitted\n",
      "[14:08:27] Explicit valence for atom # 6 C, 5, is greater than permitted\n",
      "[14:08:27] Explicit valence for atom # 3 C, 5, is greater than permitted\n",
      "[14:08:27] Explicit valence for atom # 4 C, 5, is greater than permitted\n",
      "[14:08:27] Explicit valence for atom # 1 C, 5, is greater than permitted\n",
      "[14:08:27] Explicit valence for atom # 2 C, 5, is greater than permitted\n",
      "[14:08:27] Explicit valence for atom # 5 C, 5, is greater than permitted\n",
      "[14:08:27] Explicit valence for atom # 3 C, 5, is greater than permitted\n",
      "[14:08:27] Explicit valence for atom # 3 C, 5, is greater than permitted\n",
      "[14:08:27] Explicit valence for atom # 4 C, 5, is greater than permitted\n",
      "[14:08:27] Explicit valence for atom # 4 C, 5, is greater than permitted\n",
      "[14:08:27] Explicit valence for atom # 3 C, 5, is greater than permitted\n",
      "[14:08:27] Explicit valence for atom # 2 C, 5, is greater than permitted\n",
      "[14:08:27] Explicit valence for atom # 5 C, 5, is greater than permitted\n",
      "[14:08:27] Explicit valence for atom # 3 C, 5, is greater than permitted\n",
      "[14:08:27] Explicit valence for atom # 4 C, 5, is greater than permitted\n",
      "[14:08:27] Explicit valence for atom # 4 C, 5, is greater than permitted\n",
      "[14:08:27] Explicit valence for atom # 4 C, 5, is greater than permitted\n",
      "[14:08:27] Explicit valence for atom # 4 C, 5, is greater than permitted\n",
      "[14:08:27] Explicit valence for atom # 2 C, 5, is greater than permitted\n",
      "[14:08:27] Explicit valence for atom # 4 C, 5, is greater than permitted\n",
      "[14:08:27] Explicit valence for atom # 4 C, 5, is greater than permitted\n",
      "[14:08:27] Explicit valence for atom # 3 C, 5, is greater than permitted\n",
      "[14:08:27] Explicit valence for atom # 3 C, 5, is greater than permitted\n",
      "[14:08:27] Explicit valence for atom # 2 C, 5, is greater than permitted\n",
      "[14:08:27] Explicit valence for atom # 5 C, 5, is greater than permitted\n",
      "[14:08:27] Explicit valence for atom # 4 C, 5, is greater than permitted\n",
      "[14:08:27] Explicit valence for atom # 5 C, 5, is greater than permitted\n",
      "[14:08:27] Explicit valence for atom # 5 C, 5, is greater than permitted\n",
      "[14:08:27] Explicit valence for atom # 3 C, 5, is greater than permitted\n",
      "[14:08:27] Explicit valence for atom # 4 C, 5, is greater than permitted\n",
      "[14:08:27] Explicit valence for atom # 3 C, 5, is greater than permitted\n",
      "[14:08:27] Explicit valence for atom # 3 C, 5, is greater than permitted\n",
      "[14:08:27] Explicit valence for atom # 4 C, 5, is greater than permitted\n",
      "[14:08:27] Explicit valence for atom # 3 C, 5, is greater than permitted\n",
      "[14:08:27] Explicit valence for atom # 2 C, 5, is greater than permitted\n",
      "[14:08:27] Explicit valence for atom # 4 C, 5, is greater than permitted\n",
      "[14:08:27] Explicit valence for atom # 4 C, 5, is greater than permitted\n",
      "[14:08:27] Explicit valence for atom # 4 C, 5, is greater than permitted\n",
      "[14:08:27] Explicit valence for atom # 2 C, 5, is greater than permitted\n",
      "[14:08:27] Explicit valence for atom # 5 C, 5, is greater than permitted\n",
      "[14:08:27] Explicit valence for atom # 5 C, 5, is greater than permitted\n",
      "[14:08:27] Explicit valence for atom # 5 C, 5, is greater than permitted\n",
      "[14:08:27] Explicit valence for atom # 2 C, 5, is greater than permitted\n",
      "[14:08:27] Explicit valence for atom # 2 C, 5, is greater than permitted\n",
      "[14:08:27] Explicit valence for atom # 6 C, 5, is greater than permitted\n",
      "[14:08:27] Explicit valence for atom # 3 C, 5, is greater than permitted\n",
      "[14:08:27] Explicit valence for atom # 2 C, 5, is greater than permitted\n",
      "[14:08:27] Explicit valence for atom # 5 C, 5, is greater than permitted\n",
      "[14:08:27] Explicit valence for atom # 5 C, 5, is greater than permitted\n",
      "[14:08:27] Explicit valence for atom # 3 C, 5, is greater than permitted\n",
      "[14:08:27] Explicit valence for atom # 5 C, 5, is greater than permitted\n",
      "[14:08:27] Explicit valence for atom # 6 C, 5, is greater than permitted\n",
      "[14:08:27] Explicit valence for atom # 3 C, 5, is greater than permitted\n",
      "[14:08:27] Explicit valence for atom # 1 C, 5, is greater than permitted\n",
      "[14:08:27] Explicit valence for atom # 3 C, 5, is greater than permitted\n",
      "[14:08:27] Explicit valence for atom # 2 C, 5, is greater than permitted\n",
      "[14:08:27] Explicit valence for atom # 4 C, 5, is greater than permitted\n",
      "[14:08:27] Explicit valence for atom # 4 C, 5, is greater than permitted\n",
      "[14:08:27] Explicit valence for atom # 2 C, 5, is greater than permitted\n",
      "[14:08:27] Explicit valence for atom # 6 C, 5, is greater than permitted\n",
      "[14:08:27] Explicit valence for atom # 3 C, 5, is greater than permitted\n",
      "[14:08:27] Explicit valence for atom # 4 C, 5, is greater than permitted\n",
      "[14:08:27] Explicit valence for atom # 4 C, 5, is greater than permitted\n",
      "[14:08:27] Explicit valence for atom # 5 C, 5, is greater than permitted\n",
      "[14:08:27] Explicit valence for atom # 5 C, 5, is greater than permitted\n",
      "[14:08:27] Explicit valence for atom # 5 C, 5, is greater than permitted\n",
      "[14:08:27] Explicit valence for atom # 6 C, 5, is greater than permitted\n",
      "[14:08:27] Explicit valence for atom # 4 C, 5, is greater than permitted\n",
      "[14:08:27] Explicit valence for atom # 6 C, 5, is greater than permitted\n",
      "[14:08:27] Explicit valence for atom # 4 C, 5, is greater than permitted\n",
      "[14:08:27] Explicit valence for atom # 5 C, 5, is greater than permitted\n",
      "[14:08:27] Explicit valence for atom # 5 C, 5, is greater than permitted\n",
      "[14:08:27] Explicit valence for atom # 4 C, 5, is greater than permitted\n",
      "[14:08:27] Explicit valence for atom # 6 C, 5, is greater than permitted\n",
      "[14:08:27] Explicit valence for atom # 3 C, 5, is greater than permitted\n",
      "[14:08:27] Explicit valence for atom # 3 C, 5, is greater than permitted\n",
      "[14:08:27] Explicit valence for atom # 5 C, 5, is greater than permitted\n",
      "[14:08:27] Explicit valence for atom # 6 C, 5, is greater than permitted\n",
      "[14:08:27] Explicit valence for atom # 5 C, 5, is greater than permitted\n",
      "[14:08:27] Explicit valence for atom # 4 C, 5, is greater than permitted\n",
      "[14:08:27] Explicit valence for atom # 4 C, 5, is greater than permitted\n",
      "[14:08:27] Explicit valence for atom # 5 C, 5, is greater than permitted\n",
      "[14:08:27] Explicit valence for atom # 5 C, 5, is greater than permitted\n",
      "[14:08:27] Explicit valence for atom # 6 C, 5, is greater than permitted\n",
      "[14:08:27] Explicit valence for atom # 5 C, 5, is greater than permitted\n",
      "[14:08:27] Explicit valence for atom # 5 C, 5, is greater than permitted\n",
      "[14:08:27] Explicit valence for atom # 4 C, 5, is greater than permitted\n",
      "[14:08:27] Explicit valence for atom # 3 C, 5, is greater than permitted\n",
      "[14:08:27] Explicit valence for atom # 6 C, 5, is greater than permitted\n",
      "[14:08:27] Explicit valence for atom # 6 C, 5, is greater than permitted\n",
      "[14:08:27] Explicit valence for atom # 4 C, 5, is greater than permitted\n",
      "[14:08:27] Explicit valence for atom # 4 C, 5, is greater than permitted\n",
      "[14:08:27] Explicit valence for atom # 5 C, 5, is greater than permitted\n",
      "[14:08:27] Explicit valence for atom # 5 C, 5, is greater than permitted\n",
      "[14:08:27] Explicit valence for atom # 2 C, 5, is greater than permitted\n",
      "[14:08:27] Explicit valence for atom # 3 C, 5, is greater than permitted\n",
      "[14:08:27] Explicit valence for atom # 2 C, 5, is greater than permitted\n",
      "[14:08:27] Explicit valence for atom # 4 C, 5, is greater than permitted\n",
      "[14:08:27] Explicit valence for atom # 5 C, 5, is greater than permitted\n",
      "[14:08:27] Explicit valence for atom # 5 C, 5, is greater than permitted\n",
      "[14:08:27] Explicit valence for atom # 3 C, 5, is greater than permitted\n",
      "[14:08:27] Explicit valence for atom # 4 C, 5, is greater than permitted\n",
      "[14:08:27] Explicit valence for atom # 4 C, 5, is greater than permitted\n",
      "[14:08:27] Explicit valence for atom # 3 C, 5, is greater than permitted\n",
      "[14:08:27] Explicit valence for atom # 2 C, 5, is greater than permitted\n",
      "[14:08:27] Explicit valence for atom # 4 C, 5, is greater than permitted\n",
      "[14:08:27] Explicit valence for atom # 3 C, 5, is greater than permitted\n",
      "[14:08:27] Explicit valence for atom # 6 C, 5, is greater than permitted\n",
      "[14:08:27] Explicit valence for atom # 5 C, 5, is greater than permitted\n",
      "[14:08:27] Explicit valence for atom # 4 C, 5, is greater than permitted\n",
      "[14:08:27] Explicit valence for atom # 1 C, 5, is greater than permitted\n",
      "[14:08:27] Explicit valence for atom # 2 C, 5, is greater than permitted\n",
      "[14:08:27] Explicit valence for atom # 5 C, 5, is greater than permitted\n",
      "[14:08:27] Explicit valence for atom # 3 C, 5, is greater than permitted\n",
      "[14:08:27] Explicit valence for atom # 2 C, 5, is greater than permitted\n",
      "[14:08:27] Explicit valence for atom # 5 C, 5, is greater than permitted\n",
      "[14:08:27] Explicit valence for atom # 3 C, 5, is greater than permitted\n",
      "[14:08:27] Explicit valence for atom # 5 C, 5, is greater than permitted\n",
      "[14:08:27] Explicit valence for atom # 4 C, 5, is greater than permitted\n",
      "[14:08:27] Explicit valence for atom # 4 C, 5, is greater than permitted\n",
      "[14:08:27] Explicit valence for atom # 5 C, 5, is greater than permitted\n",
      "[14:08:27] Explicit valence for atom # 4 C, 5, is greater than permitted\n",
      "[14:08:27] Explicit valence for atom # 5 C, 5, is greater than permitted\n",
      "[14:08:27] Explicit valence for atom # 3 C, 5, is greater than permitted\n",
      "[14:08:27] Explicit valence for atom # 6 C, 5, is greater than permitted\n",
      "[14:08:27] Explicit valence for atom # 5 C, 5, is greater than permitted\n",
      "[14:08:27] Explicit valence for atom # 4 C, 5, is greater than permitted\n",
      "[14:08:27] Explicit valence for atom # 3 C, 5, is greater than permitted\n",
      "[14:08:27] Explicit valence for atom # 1 C, 5, is greater than permitted\n",
      "[14:08:27] Explicit valence for atom # 3 C, 5, is greater than permitted\n",
      "[14:08:27] Explicit valence for atom # 6 C, 5, is greater than permitted\n",
      "[14:08:27] Explicit valence for atom # 3 C, 5, is greater than permitted\n",
      "[14:08:27] Explicit valence for atom # 4 C, 5, is greater than permitted\n",
      "[14:08:27] Explicit valence for atom # 4 C, 5, is greater than permitted\n",
      "[14:08:27] Explicit valence for atom # 3 C, 5, is greater than permitted\n",
      "[14:08:27] Explicit valence for atom # 3 C, 5, is greater than permitted\n",
      "[14:08:27] Explicit valence for atom # 2 C, 5, is greater than permitted\n",
      "[14:08:27] Explicit valence for atom # 3 C, 5, is greater than permitted\n",
      "[14:08:27] Explicit valence for atom # 4 C, 5, is greater than permitted\n",
      "[14:08:27] Explicit valence for atom # 2 C, 5, is greater than permitted\n",
      "[14:08:27] Explicit valence for atom # 4 C, 5, is greater than permitted\n",
      "[14:08:27] Explicit valence for atom # 4 C, 5, is greater than permitted\n",
      "[14:08:27] Explicit valence for atom # 4 C, 5, is greater than permitted\n",
      "[14:08:27] Explicit valence for atom # 5 C, 5, is greater than permitted\n",
      "[14:08:27] Explicit valence for atom # 4 C, 5, is greater than permitted\n",
      "[14:08:27] Explicit valence for atom # 2 C, 5, is greater than permitted\n",
      "[14:08:27] Explicit valence for atom # 3 C, 5, is greater than permitted\n",
      "[14:08:27] Explicit valence for atom # 3 C, 5, is greater than permitted\n",
      "[14:08:27] Explicit valence for atom # 4 C, 5, is greater than permitted\n",
      "[14:08:27] Explicit valence for atom # 4 C, 5, is greater than permitted\n",
      "[14:08:27] Explicit valence for atom # 6 C, 5, is greater than permitted\n",
      "[14:08:27] Explicit valence for atom # 5 C, 5, is greater than permitted\n",
      "[14:08:27] Explicit valence for atom # 3 C, 5, is greater than permitted\n",
      "[14:08:27] Explicit valence for atom # 3 C, 5, is greater than permitted\n",
      "[14:08:27] Explicit valence for atom # 3 C, 5, is greater than permitted\n",
      "[14:08:27] Explicit valence for atom # 4 C, 5, is greater than permitted\n",
      "[14:08:27] Explicit valence for atom # 2 C, 5, is greater than permitted\n",
      "[14:08:27] Explicit valence for atom # 3 C, 5, is greater than permitted\n",
      "[14:08:27] Explicit valence for atom # 3 C, 5, is greater than permitted\n",
      "[14:08:27] Explicit valence for atom # 5 C, 5, is greater than permitted\n",
      "[14:08:27] Explicit valence for atom # 5 C, 5, is greater than permitted\n",
      "[14:08:27] Explicit valence for atom # 6 C, 5, is greater than permitted\n",
      "[14:08:27] Explicit valence for atom # 5 C, 5, is greater than permitted\n",
      "[14:08:27] Explicit valence for atom # 4 C, 5, is greater than permitted\n",
      "[14:08:27] Explicit valence for atom # 4 C, 5, is greater than permitted\n",
      "[14:08:27] Explicit valence for atom # 4 C, 5, is greater than permitted\n",
      "[14:08:27] Explicit valence for atom # 3 C, 5, is greater than permitted\n",
      "[14:08:27] Explicit valence for atom # 5 C, 5, is greater than permitted\n",
      "[14:08:27] Explicit valence for atom # 5 C, 5, is greater than permitted\n",
      "[14:08:27] Explicit valence for atom # 2 C, 5, is greater than permitted\n",
      "[14:08:27] Explicit valence for atom # 2 C, 5, is greater than permitted\n",
      "[14:08:27] Explicit valence for atom # 4 C, 5, is greater than permitted\n",
      "[14:08:27] Explicit valence for atom # 6 C, 5, is greater than permitted\n",
      "[14:08:27] Explicit valence for atom # 5 C, 5, is greater than permitted\n",
      "[14:08:27] Explicit valence for atom # 5 C, 5, is greater than permitted\n",
      "[14:08:27] Explicit valence for atom # 4 C, 5, is greater than permitted\n",
      "[14:08:28] Explicit valence for atom # 3 C, 5, is greater than permitted\n",
      "[14:08:28] Explicit valence for atom # 5 C, 5, is greater than permitted\n",
      "[14:08:28] Explicit valence for atom # 3 C, 5, is greater than permitted\n",
      "[14:08:28] Explicit valence for atom # 2 C, 5, is greater than permitted\n",
      "[14:08:28] Explicit valence for atom # 3 C, 5, is greater than permitted\n",
      "[14:08:28] Explicit valence for atom # 3 C, 5, is greater than permitted\n",
      "[14:08:28] Explicit valence for atom # 4 C, 5, is greater than permitted\n",
      "[14:08:28] Explicit valence for atom # 3 C, 5, is greater than permitted\n",
      "[14:08:28] Explicit valence for atom # 2 C, 5, is greater than permitted\n",
      "[14:08:28] Explicit valence for atom # 3 C, 5, is greater than permitted\n",
      "[14:08:28] Explicit valence for atom # 2 C, 5, is greater than permitted\n",
      "[14:08:28] Explicit valence for atom # 5 C, 5, is greater than permitted\n",
      "[14:08:28] Explicit valence for atom # 2 C, 5, is greater than permitted\n",
      "[14:08:28] Explicit valence for atom # 3 C, 5, is greater than permitted\n",
      "[14:08:28] Explicit valence for atom # 4 C, 5, is greater than permitted\n",
      "[14:08:28] Explicit valence for atom # 4 C, 5, is greater than permitted\n",
      "[14:08:28] Explicit valence for atom # 4 C, 5, is greater than permitted\n",
      "[14:08:28] Explicit valence for atom # 2 C, 5, is greater than permitted\n",
      "[14:08:28] Explicit valence for atom # 5 C, 5, is greater than permitted\n",
      "[14:08:28] Explicit valence for atom # 5 C, 5, is greater than permitted\n",
      "[14:08:28] Explicit valence for atom # 4 C, 5, is greater than permitted\n",
      "[14:08:28] Explicit valence for atom # 3 C, 5, is greater than permitted\n",
      "[14:08:28] Explicit valence for atom # 3 C, 5, is greater than permitted\n",
      "[14:08:28] Explicit valence for atom # 6 C, 5, is greater than permitted\n",
      "[14:08:28] Explicit valence for atom # 2 C, 5, is greater than permitted\n",
      "[14:08:28] Explicit valence for atom # 4 C, 5, is greater than permitted\n",
      "[14:08:28] Explicit valence for atom # 6 C, 5, is greater than permitted\n",
      "[14:08:28] Explicit valence for atom # 4 C, 5, is greater than permitted\n",
      "[14:08:28] Explicit valence for atom # 2 C, 5, is greater than permitted\n",
      "[14:08:28] Explicit valence for atom # 4 C, 5, is greater than permitted\n",
      "[14:08:28] Explicit valence for atom # 2 C, 5, is greater than permitted\n",
      "[14:08:28] Explicit valence for atom # 3 C, 5, is greater than permitted\n",
      "[14:08:28] Explicit valence for atom # 3 C, 5, is greater than permitted\n",
      "[14:08:28] Explicit valence for atom # 3 C, 5, is greater than permitted\n",
      "[14:08:28] Explicit valence for atom # 2 C, 5, is greater than permitted\n",
      "[14:08:28] Explicit valence for atom # 3 C, 5, is greater than permitted\n",
      "[14:08:28] Explicit valence for atom # 6 C, 5, is greater than permitted\n",
      "[14:08:28] Explicit valence for atom # 4 C, 5, is greater than permitted\n",
      "[14:08:28] Explicit valence for atom # 3 C, 5, is greater than permitted\n",
      "[14:08:28] Explicit valence for atom # 3 C, 5, is greater than permitted\n",
      "[14:08:28] Explicit valence for atom # 5 C, 5, is greater than permitted\n",
      "[14:08:28] Explicit valence for atom # 3 C, 5, is greater than permitted\n",
      "[14:08:28] Explicit valence for atom # 4 C, 5, is greater than permitted\n",
      "[14:08:28] Explicit valence for atom # 5 C, 5, is greater than permitted\n",
      "[14:08:28] Explicit valence for atom # 4 C, 5, is greater than permitted\n",
      "[14:08:28] Explicit valence for atom # 3 C, 5, is greater than permitted\n",
      "[14:08:28] Explicit valence for atom # 6 C, 5, is greater than permitted\n",
      "[14:08:28] Explicit valence for atom # 3 C, 5, is greater than permitted\n",
      "[14:08:28] Explicit valence for atom # 3 C, 5, is greater than permitted\n",
      "[14:08:28] Explicit valence for atom # 6 C, 5, is greater than permitted\n",
      "[14:08:28] Explicit valence for atom # 5 C, 5, is greater than permitted\n",
      "[14:08:28] Explicit valence for atom # 2 C, 5, is greater than permitted\n",
      "[14:08:28] Explicit valence for atom # 4 C, 5, is greater than permitted\n",
      "[14:08:28] Explicit valence for atom # 3 C, 5, is greater than permitted\n",
      "[14:08:28] Explicit valence for atom # 3 C, 5, is greater than permitted\n",
      "[14:08:28] Explicit valence for atom # 3 C, 5, is greater than permitted\n",
      "[14:08:28] Explicit valence for atom # 5 C, 5, is greater than permitted\n",
      "[14:08:28] Explicit valence for atom # 2 C, 5, is greater than permitted\n",
      "[14:08:28] Explicit valence for atom # 5 C, 5, is greater than permitted\n",
      "[14:08:28] Explicit valence for atom # 2 C, 5, is greater than permitted\n",
      "[14:08:28] Explicit valence for atom # 5 C, 5, is greater than permitted\n",
      "[14:08:28] Explicit valence for atom # 5 C, 5, is greater than permitted\n",
      "[14:08:28] Explicit valence for atom # 4 C, 5, is greater than permitted\n",
      "[14:08:28] Explicit valence for atom # 6 C, 5, is greater than permitted\n",
      "[14:08:28] Explicit valence for atom # 4 C, 5, is greater than permitted\n",
      "[14:08:28] Explicit valence for atom # 4 C, 5, is greater than permitted\n",
      "[14:08:28] Explicit valence for atom # 3 C, 5, is greater than permitted\n",
      "[14:08:28] Explicit valence for atom # 3 C, 5, is greater than permitted\n",
      "[14:08:28] Explicit valence for atom # 6 C, 5, is greater than permitted\n",
      "[14:08:28] Explicit valence for atom # 3 C, 5, is greater than permitted\n",
      "[14:08:28] Explicit valence for atom # 6 C, 5, is greater than permitted\n",
      "[14:08:28] Explicit valence for atom # 5 C, 5, is greater than permitted\n",
      "[14:08:28] Explicit valence for atom # 6 C, 5, is greater than permitted\n",
      "[14:08:28] Explicit valence for atom # 2 C, 5, is greater than permitted\n",
      "[14:08:28] Explicit valence for atom # 2 C, 5, is greater than permitted\n",
      "[14:08:28] Explicit valence for atom # 3 C, 5, is greater than permitted\n",
      "[14:08:28] Explicit valence for atom # 2 C, 5, is greater than permitted\n",
      "[14:08:28] Explicit valence for atom # 5 C, 5, is greater than permitted\n",
      "[14:08:28] Explicit valence for atom # 4 C, 5, is greater than permitted\n",
      "[14:08:28] Explicit valence for atom # 3 C, 5, is greater than permitted\n",
      "[14:08:28] Explicit valence for atom # 5 C, 5, is greater than permitted\n",
      "[14:08:28] Explicit valence for atom # 3 C, 5, is greater than permitted\n",
      "[14:08:28] Explicit valence for atom # 2 C, 5, is greater than permitted\n",
      "[14:08:28] Explicit valence for atom # 4 C, 5, is greater than permitted\n",
      "[14:08:28] Explicit valence for atom # 5 C, 5, is greater than permitted\n",
      "[14:08:28] Explicit valence for atom # 5 C, 5, is greater than permitted\n",
      "[14:08:28] Explicit valence for atom # 5 C, 5, is greater than permitted\n",
      "[14:08:28] Explicit valence for atom # 4 C, 5, is greater than permitted\n",
      "[14:08:28] Explicit valence for atom # 4 C, 5, is greater than permitted\n",
      "[14:08:28] Explicit valence for atom # 3 C, 5, is greater than permitted\n",
      "[14:08:28] Explicit valence for atom # 4 C, 5, is greater than permitted\n",
      "[14:08:28] Explicit valence for atom # 5 C, 5, is greater than permitted\n",
      "[14:08:28] Explicit valence for atom # 5 C, 5, is greater than permitted\n",
      "[14:08:28] Explicit valence for atom # 4 C, 5, is greater than permitted\n",
      "[14:08:28] Explicit valence for atom # 5 C, 5, is greater than permitted\n",
      "[14:08:28] Explicit valence for atom # 3 C, 5, is greater than permitted\n",
      "[14:08:28] Explicit valence for atom # 5 C, 5, is greater than permitted\n",
      "[14:08:28] Explicit valence for atom # 3 C, 5, is greater than permitted\n",
      "[14:08:28] Explicit valence for atom # 3 C, 5, is greater than permitted\n",
      "[14:08:28] Explicit valence for atom # 2 C, 5, is greater than permitted\n",
      "[14:08:28] Explicit valence for atom # 3 C, 5, is greater than permitted\n",
      "[14:08:28] Explicit valence for atom # 5 C, 5, is greater than permitted\n",
      "[14:08:28] Explicit valence for atom # 2 C, 5, is greater than permitted\n",
      "[14:08:28] Explicit valence for atom # 2 C, 5, is greater than permitted\n",
      "[14:08:28] Explicit valence for atom # 2 C, 5, is greater than permitted\n",
      "[14:08:28] Explicit valence for atom # 3 C, 5, is greater than permitted\n",
      "[14:08:28] Explicit valence for atom # 4 C, 5, is greater than permitted\n",
      "[14:08:28] Explicit valence for atom # 5 C, 5, is greater than permitted\n",
      "[14:08:28] Explicit valence for atom # 5 C, 5, is greater than permitted\n",
      "[14:08:28] Explicit valence for atom # 4 C, 5, is greater than permitted\n",
      "[14:08:28] Explicit valence for atom # 4 C, 5, is greater than permitted\n",
      "[14:08:28] Explicit valence for atom # 3 C, 5, is greater than permitted\n",
      "[14:08:28] Explicit valence for atom # 3 C, 5, is greater than permitted\n",
      "[14:08:28] Explicit valence for atom # 3 C, 5, is greater than permitted\n",
      "[14:08:28] Explicit valence for atom # 3 C, 5, is greater than permitted\n",
      "[14:08:28] Explicit valence for atom # 2 C, 5, is greater than permitted\n",
      "[14:08:28] Explicit valence for atom # 4 C, 5, is greater than permitted\n",
      "[14:08:28] Explicit valence for atom # 4 C, 5, is greater than permitted\n",
      "[14:08:28] Explicit valence for atom # 4 C, 5, is greater than permitted\n",
      "[14:08:28] Explicit valence for atom # 4 C, 5, is greater than permitted\n",
      "[14:08:28] Explicit valence for atom # 5 C, 5, is greater than permitted\n",
      "[14:08:28] Explicit valence for atom # 4 C, 5, is greater than permitted\n",
      "[14:08:28] Explicit valence for atom # 4 C, 5, is greater than permitted\n",
      "[14:08:28] Explicit valence for atom # 4 C, 5, is greater than permitted\n",
      "[14:08:28] Explicit valence for atom # 5 C, 5, is greater than permitted\n",
      "[14:08:28] Explicit valence for atom # 5 C, 5, is greater than permitted\n",
      "[14:08:28] Explicit valence for atom # 2 C, 5, is greater than permitted\n",
      "[14:08:28] Explicit valence for atom # 5 C, 5, is greater than permitted\n",
      "[14:08:28] Explicit valence for atom # 4 C, 5, is greater than permitted\n",
      "[14:08:28] Explicit valence for atom # 5 C, 5, is greater than permitted\n",
      "[14:08:28] Explicit valence for atom # 4 C, 5, is greater than permitted\n",
      "[14:08:28] Explicit valence for atom # 5 C, 5, is greater than permitted\n",
      "[14:08:28] Explicit valence for atom # 4 C, 5, is greater than permitted\n",
      "[14:08:28] Explicit valence for atom # 6 C, 5, is greater than permitted\n",
      "[14:08:28] Explicit valence for atom # 6 C, 5, is greater than permitted\n",
      "[14:08:28] Explicit valence for atom # 5 C, 5, is greater than permitted\n",
      "[14:08:28] Explicit valence for atom # 4 C, 5, is greater than permitted\n",
      "[14:08:28] Explicit valence for atom # 4 C, 5, is greater than permitted\n",
      "[14:08:28] Explicit valence for atom # 5 C, 5, is greater than permitted\n",
      "[14:08:28] Explicit valence for atom # 5 C, 5, is greater than permitted\n",
      "[14:08:28] Explicit valence for atom # 5 C, 5, is greater than permitted\n",
      "[14:08:28] Explicit valence for atom # 5 C, 5, is greater than permitted\n",
      "[14:08:28] Explicit valence for atom # 5 C, 5, is greater than permitted\n",
      "[14:08:28] Explicit valence for atom # 3 C, 5, is greater than permitted\n",
      "[14:08:28] Explicit valence for atom # 5 C, 5, is greater than permitted\n",
      "[14:08:28] Explicit valence for atom # 5 C, 5, is greater than permitted\n",
      "[14:08:28] Explicit valence for atom # 4 C, 5, is greater than permitted\n",
      "[14:08:28] Explicit valence for atom # 5 C, 5, is greater than permitted\n",
      "[14:08:28] Explicit valence for atom # 3 C, 5, is greater than permitted\n",
      "[14:08:28] Explicit valence for atom # 4 C, 5, is greater than permitted\n",
      "[14:08:28] Explicit valence for atom # 2 C, 5, is greater than permitted\n",
      "[14:08:28] Explicit valence for atom # 2 C, 5, is greater than permitted\n",
      "[14:08:28] Explicit valence for atom # 4 C, 5, is greater than permitted\n",
      "[14:08:28] Explicit valence for atom # 5 C, 5, is greater than permitted\n",
      "[14:08:28] Explicit valence for atom # 3 C, 5, is greater than permitted\n",
      "[14:08:28] Explicit valence for atom # 5 C, 5, is greater than permitted\n",
      "[14:08:28] Explicit valence for atom # 3 C, 5, is greater than permitted\n",
      "[14:08:28] Explicit valence for atom # 2 C, 5, is greater than permitted\n",
      "[14:08:28] Explicit valence for atom # 5 C, 5, is greater than permitted\n",
      "[14:08:28] Explicit valence for atom # 4 C, 5, is greater than permitted\n",
      "[14:08:28] Explicit valence for atom # 5 C, 5, is greater than permitted\n",
      "[14:08:28] Explicit valence for atom # 6 C, 5, is greater than permitted\n",
      "[14:08:28] Explicit valence for atom # 5 C, 5, is greater than permitted\n",
      "[14:08:28] Explicit valence for atom # 3 C, 5, is greater than permitted\n",
      "[14:08:28] Explicit valence for atom # 6 C, 5, is greater than permitted\n",
      "[14:08:28] Explicit valence for atom # 3 C, 5, is greater than permitted\n",
      "[14:08:28] Explicit valence for atom # 5 C, 5, is greater than permitted\n",
      "[14:08:28] Explicit valence for atom # 4 C, 5, is greater than permitted\n",
      "[14:08:28] Explicit valence for atom # 3 C, 5, is greater than permitted\n",
      "[14:08:28] Explicit valence for atom # 5 C, 5, is greater than permitted\n",
      "[14:08:28] Explicit valence for atom # 4 C, 5, is greater than permitted\n",
      "[14:08:28] Explicit valence for atom # 5 C, 5, is greater than permitted\n",
      "[14:08:28] Explicit valence for atom # 4 C, 5, is greater than permitted\n",
      "[14:08:28] Explicit valence for atom # 4 C, 5, is greater than permitted\n",
      "[14:08:28] Explicit valence for atom # 3 C, 5, is greater than permitted\n",
      "[14:08:28] Explicit valence for atom # 3 C, 5, is greater than permitted\n",
      "[14:08:28] Explicit valence for atom # 4 C, 5, is greater than permitted\n",
      "[14:08:28] Explicit valence for atom # 5 C, 5, is greater than permitted\n",
      "[14:08:28] Explicit valence for atom # 3 C, 5, is greater than permitted\n",
      "[14:08:28] Explicit valence for atom # 5 C, 5, is greater than permitted\n",
      "[14:08:28] Explicit valence for atom # 3 C, 5, is greater than permitted\n",
      "[14:08:28] Explicit valence for atom # 6 C, 5, is greater than permitted\n",
      "[14:08:28] Explicit valence for atom # 3 C, 5, is greater than permitted\n",
      "[14:08:28] Explicit valence for atom # 4 C, 5, is greater than permitted\n",
      "[14:08:29] Explicit valence for atom # 4 C, 5, is greater than permitted\n",
      "[14:08:29] Explicit valence for atom # 4 C, 5, is greater than permitted\n",
      "[14:08:29] Explicit valence for atom # 5 C, 5, is greater than permitted\n",
      "[14:08:29] Explicit valence for atom # 3 C, 5, is greater than permitted\n",
      "[14:08:29] Explicit valence for atom # 3 C, 5, is greater than permitted\n",
      "[14:08:29] Explicit valence for atom # 4 C, 5, is greater than permitted\n",
      "[14:08:29] Explicit valence for atom # 2 C, 5, is greater than permitted\n",
      "[14:08:29] Explicit valence for atom # 2 C, 5, is greater than permitted\n",
      "[14:08:29] Explicit valence for atom # 4 C, 5, is greater than permitted\n",
      "[14:08:29] Explicit valence for atom # 5 C, 5, is greater than permitted\n",
      "[14:08:29] Explicit valence for atom # 6 C, 5, is greater than permitted\n",
      "[14:08:29] Explicit valence for atom # 3 C, 5, is greater than permitted\n",
      "[14:08:29] Explicit valence for atom # 5 C, 5, is greater than permitted\n",
      "[14:08:29] Explicit valence for atom # 5 C, 5, is greater than permitted\n",
      "[14:08:29] Explicit valence for atom # 2 C, 5, is greater than permitted\n",
      "[14:08:29] Explicit valence for atom # 4 C, 5, is greater than permitted\n",
      "[14:08:29] Explicit valence for atom # 5 C, 5, is greater than permitted\n",
      "[14:08:29] Explicit valence for atom # 3 C, 5, is greater than permitted\n",
      "[14:08:29] Explicit valence for atom # 3 C, 5, is greater than permitted\n",
      "[14:08:29] Explicit valence for atom # 5 C, 5, is greater than permitted\n",
      "[14:08:29] Explicit valence for atom # 2 C, 5, is greater than permitted\n",
      "[14:08:29] Explicit valence for atom # 6 C, 5, is greater than permitted\n",
      "[14:08:29] Explicit valence for atom # 5 C, 5, is greater than permitted\n",
      "[14:08:29] Explicit valence for atom # 4 C, 5, is greater than permitted\n",
      "[14:08:29] Explicit valence for atom # 2 C, 5, is greater than permitted\n",
      "[14:08:29] Explicit valence for atom # 3 C, 5, is greater than permitted\n",
      "[14:08:29] Explicit valence for atom # 4 C, 5, is greater than permitted\n",
      "[14:08:29] Explicit valence for atom # 2 C, 5, is greater than permitted\n",
      "[14:08:29] Explicit valence for atom # 4 C, 5, is greater than permitted\n",
      "[14:08:29] Explicit valence for atom # 4 C, 5, is greater than permitted\n",
      "[14:08:29] Explicit valence for atom # 3 C, 5, is greater than permitted\n",
      "[14:08:29] Explicit valence for atom # 3 C, 5, is greater than permitted\n",
      "[14:08:29] Explicit valence for atom # 4 C, 5, is greater than permitted\n",
      "[14:08:29] Explicit valence for atom # 3 C, 5, is greater than permitted\n",
      "[14:08:29] Explicit valence for atom # 3 C, 5, is greater than permitted\n",
      "[14:08:29] Explicit valence for atom # 3 C, 5, is greater than permitted\n",
      "[14:08:29] Explicit valence for atom # 5 C, 5, is greater than permitted\n",
      "[14:08:29] Explicit valence for atom # 2 C, 5, is greater than permitted\n",
      "[14:08:29] Explicit valence for atom # 6 C, 5, is greater than permitted\n",
      "[14:08:29] Explicit valence for atom # 5 C, 5, is greater than permitted\n",
      "[14:08:29] Explicit valence for atom # 5 C, 5, is greater than permitted\n",
      "[14:08:29] Explicit valence for atom # 2 C, 5, is greater than permitted\n",
      "[14:08:29] Explicit valence for atom # 3 C, 5, is greater than permitted\n",
      "[14:08:29] Explicit valence for atom # 5 C, 5, is greater than permitted\n",
      "[14:08:29] Explicit valence for atom # 5 C, 5, is greater than permitted\n",
      "[14:08:29] Explicit valence for atom # 2 C, 5, is greater than permitted\n",
      "[14:08:29] Explicit valence for atom # 5 C, 5, is greater than permitted\n",
      "[14:08:29] Explicit valence for atom # 4 C, 5, is greater than permitted\n",
      "[14:08:29] Explicit valence for atom # 4 C, 5, is greater than permitted\n",
      "[14:08:29] Explicit valence for atom # 6 C, 5, is greater than permitted\n",
      "[14:08:29] Explicit valence for atom # 2 C, 5, is greater than permitted\n",
      "[14:08:29] Explicit valence for atom # 4 C, 5, is greater than permitted\n",
      "[14:08:29] Explicit valence for atom # 2 C, 5, is greater than permitted\n",
      "[14:08:29] Explicit valence for atom # 3 C, 5, is greater than permitted\n",
      "[14:08:29] Explicit valence for atom # 5 C, 5, is greater than permitted\n",
      "[14:08:29] Explicit valence for atom # 5 C, 5, is greater than permitted\n",
      "[14:08:29] Explicit valence for atom # 2 C, 5, is greater than permitted\n",
      "[14:08:29] Explicit valence for atom # 6 C, 5, is greater than permitted\n",
      "[14:08:29] Explicit valence for atom # 4 C, 5, is greater than permitted\n",
      "[14:08:29] Explicit valence for atom # 3 C, 5, is greater than permitted\n",
      "[14:08:29] Explicit valence for atom # 5 C, 5, is greater than permitted\n",
      "[14:08:29] Explicit valence for atom # 4 C, 5, is greater than permitted\n",
      "[14:08:29] Explicit valence for atom # 5 C, 5, is greater than permitted\n",
      "[14:08:29] Explicit valence for atom # 5 C, 5, is greater than permitted\n",
      "[14:08:29] Explicit valence for atom # 2 C, 5, is greater than permitted\n",
      "[14:08:29] Explicit valence for atom # 5 C, 5, is greater than permitted\n",
      "[14:08:29] Explicit valence for atom # 2 C, 5, is greater than permitted\n",
      "[14:08:29] Explicit valence for atom # 6 C, 5, is greater than permitted\n",
      "[14:08:29] Explicit valence for atom # 5 C, 5, is greater than permitted\n",
      "[14:08:29] Explicit valence for atom # 4 C, 5, is greater than permitted\n",
      "[14:08:29] Explicit valence for atom # 5 C, 5, is greater than permitted\n",
      "[14:08:29] Explicit valence for atom # 5 C, 5, is greater than permitted\n",
      "[14:08:29] Explicit valence for atom # 2 C, 5, is greater than permitted\n",
      "[14:08:29] Explicit valence for atom # 5 C, 5, is greater than permitted\n",
      "[14:08:29] Explicit valence for atom # 1 C, 5, is greater than permitted\n",
      "[14:08:29] Explicit valence for atom # 6 C, 5, is greater than permitted\n",
      "[14:08:29] Explicit valence for atom # 2 C, 5, is greater than permitted\n",
      "[14:08:29] Explicit valence for atom # 2 C, 5, is greater than permitted\n",
      "[14:08:29] Explicit valence for atom # 3 C, 5, is greater than permitted\n",
      "[14:08:29] Explicit valence for atom # 3 C, 5, is greater than permitted\n",
      "[14:08:29] Explicit valence for atom # 2 C, 5, is greater than permitted\n",
      "[14:08:29] Explicit valence for atom # 5 C, 5, is greater than permitted\n",
      "[14:08:29] Explicit valence for atom # 2 C, 5, is greater than permitted\n",
      "[14:08:29] Explicit valence for atom # 3 C, 5, is greater than permitted\n",
      "[14:08:29] Explicit valence for atom # 5 C, 5, is greater than permitted\n",
      "[14:08:29] Explicit valence for atom # 2 C, 5, is greater than permitted\n",
      "[14:08:29] Explicit valence for atom # 2 C, 5, is greater than permitted\n",
      "[14:08:29] Explicit valence for atom # 5 C, 5, is greater than permitted\n",
      "[14:08:38] Explicit valence for atom # 3 C, 5, is greater than permitted\n",
      "[14:08:38] Explicit valence for atom # 5 C, 5, is greater than permitted\n",
      "[14:08:38] Explicit valence for atom # 3 C, 5, is greater than permitted\n",
      "[14:08:38] Explicit valence for atom # 6 C, 5, is greater than permitted\n",
      "[14:08:38] Explicit valence for atom # 3 C, 5, is greater than permitted\n",
      "[14:08:38] Explicit valence for atom # 6 C, 5, is greater than permitted\n",
      "[14:08:38] Explicit valence for atom # 2 C, 5, is greater than permitted\n",
      "[14:08:38] Explicit valence for atom # 6 C, 5, is greater than permitted\n",
      "[14:08:38] Explicit valence for atom # 2 C, 5, is greater than permitted\n",
      "[14:08:38] Explicit valence for atom # 6 C, 5, is greater than permitted\n",
      "[14:08:38] Explicit valence for atom # 2 C, 5, is greater than permitted\n",
      "[14:08:38] Explicit valence for atom # 5 C, 5, is greater than permitted\n",
      "[14:08:38] Explicit valence for atom # 6 C, 5, is greater than permitted\n",
      "[14:08:38] Explicit valence for atom # 6 C, 5, is greater than permitted\n",
      "[14:08:38] Explicit valence for atom # 4 C, 5, is greater than permitted\n",
      "[14:08:38] Explicit valence for atom # 2 C, 5, is greater than permitted\n",
      "[14:08:38] Explicit valence for atom # 2 C, 5, is greater than permitted\n",
      "[14:08:38] Explicit valence for atom # 4 C, 5, is greater than permitted\n",
      "[14:08:38] Explicit valence for atom # 4 C, 5, is greater than permitted\n",
      "[14:08:38] Explicit valence for atom # 5 C, 5, is greater than permitted\n",
      "[14:08:38] Explicit valence for atom # 3 C, 5, is greater than permitted\n",
      "[14:08:38] Explicit valence for atom # 5 C, 5, is greater than permitted\n",
      "[14:08:38] Explicit valence for atom # 4 C, 5, is greater than permitted\n",
      "[14:08:38] Explicit valence for atom # 3 C, 5, is greater than permitted\n",
      "[14:08:38] Explicit valence for atom # 3 C, 5, is greater than permitted\n",
      "[14:08:38] Explicit valence for atom # 5 C, 5, is greater than permitted\n",
      "[14:08:38] Explicit valence for atom # 4 C, 5, is greater than permitted\n",
      "[14:08:38] Explicit valence for atom # 2 C, 5, is greater than permitted\n",
      "[14:08:38] Explicit valence for atom # 4 C, 5, is greater than permitted\n",
      "[14:08:38] Explicit valence for atom # 5 C, 5, is greater than permitted\n",
      "[14:08:38] Explicit valence for atom # 6 C, 5, is greater than permitted\n",
      "[14:08:38] Explicit valence for atom # 4 C, 5, is greater than permitted\n",
      "[14:08:38] Explicit valence for atom # 3 C, 5, is greater than permitted\n",
      "[14:08:38] Explicit valence for atom # 3 C, 5, is greater than permitted\n",
      "[14:08:38] Explicit valence for atom # 5 C, 5, is greater than permitted\n",
      "[14:08:38] Explicit valence for atom # 4 C, 5, is greater than permitted\n",
      "[14:08:38] Explicit valence for atom # 2 C, 5, is greater than permitted\n",
      "[14:08:38] Explicit valence for atom # 4 C, 5, is greater than permitted\n",
      "[14:08:38] Explicit valence for atom # 5 C, 5, is greater than permitted\n",
      "[14:08:38] Explicit valence for atom # 2 C, 5, is greater than permitted\n",
      "[14:08:38] Explicit valence for atom # 5 C, 5, is greater than permitted\n",
      "[14:08:38] Explicit valence for atom # 5 C, 5, is greater than permitted\n",
      "[14:08:38] Explicit valence for atom # 3 C, 5, is greater than permitted\n",
      "[14:08:38] Explicit valence for atom # 4 C, 5, is greater than permitted\n",
      "[14:08:38] Explicit valence for atom # 6 C, 5, is greater than permitted\n",
      "[14:08:38] Explicit valence for atom # 4 C, 5, is greater than permitted\n",
      "[14:08:38] Explicit valence for atom # 6 C, 5, is greater than permitted\n",
      "[14:08:38] Explicit valence for atom # 2 C, 5, is greater than permitted\n",
      "[14:08:38] Explicit valence for atom # 4 C, 5, is greater than permitted\n",
      "[14:08:38] Explicit valence for atom # 5 C, 5, is greater than permitted\n",
      "[14:08:38] Explicit valence for atom # 3 C, 5, is greater than permitted\n",
      "[14:08:38] Explicit valence for atom # 4 C, 5, is greater than permitted\n",
      "[14:08:38] Explicit valence for atom # 2 C, 5, is greater than permitted\n",
      "[14:08:38] Explicit valence for atom # 5 C, 5, is greater than permitted\n",
      "[14:08:38] Explicit valence for atom # 2 C, 5, is greater than permitted\n",
      "[14:08:38] Explicit valence for atom # 4 C, 5, is greater than permitted\n",
      "[14:08:38] Explicit valence for atom # 4 C, 5, is greater than permitted\n",
      "[14:08:38] Explicit valence for atom # 5 C, 5, is greater than permitted\n",
      "[14:08:38] Explicit valence for atom # 3 C, 5, is greater than permitted\n",
      "[14:08:38] Explicit valence for atom # 5 C, 5, is greater than permitted\n",
      "[14:08:38] Explicit valence for atom # 4 C, 5, is greater than permitted\n",
      "[14:08:38] Explicit valence for atom # 6 C, 5, is greater than permitted\n",
      "[14:08:38] Explicit valence for atom # 4 C, 5, is greater than permitted\n",
      "[14:08:38] Explicit valence for atom # 5 C, 5, is greater than permitted\n",
      "[14:08:38] Explicit valence for atom # 2 C, 5, is greater than permitted\n",
      "[14:08:38] Explicit valence for atom # 5 C, 5, is greater than permitted\n",
      "[14:08:38] Explicit valence for atom # 5 C, 5, is greater than permitted\n",
      "[14:08:38] Explicit valence for atom # 5 C, 5, is greater than permitted\n",
      "[14:08:38] Explicit valence for atom # 3 C, 5, is greater than permitted\n",
      "[14:08:38] Explicit valence for atom # 5 C, 5, is greater than permitted\n",
      "[14:08:38] Explicit valence for atom # 5 C, 5, is greater than permitted\n",
      "[14:08:38] Explicit valence for atom # 3 C, 5, is greater than permitted\n",
      "[14:08:38] Explicit valence for atom # 2 C, 5, is greater than permitted\n",
      "[14:08:38] Explicit valence for atom # 4 C, 5, is greater than permitted\n",
      "[14:08:38] Explicit valence for atom # 3 C, 5, is greater than permitted\n",
      "[14:08:38] Explicit valence for atom # 5 C, 5, is greater than permitted\n",
      "[14:08:38] Explicit valence for atom # 5 C, 5, is greater than permitted\n",
      "[14:08:38] Explicit valence for atom # 4 C, 5, is greater than permitted\n",
      "[14:08:38] Explicit valence for atom # 2 C, 5, is greater than permitted\n",
      "[14:08:38] Explicit valence for atom # 6 C, 5, is greater than permitted\n",
      "[14:08:38] Explicit valence for atom # 5 C, 5, is greater than permitted\n",
      "[14:08:38] Explicit valence for atom # 6 C, 5, is greater than permitted\n",
      "[14:08:39] Explicit valence for atom # 5 C, 5, is greater than permitted\n",
      "[14:08:39] Explicit valence for atom # 6 C, 5, is greater than permitted\n",
      "[14:08:39] Explicit valence for atom # 5 C, 5, is greater than permitted\n",
      "[14:08:39] Explicit valence for atom # 2 C, 5, is greater than permitted\n",
      "[14:08:39] Explicit valence for atom # 4 C, 5, is greater than permitted\n",
      "[14:08:39] Explicit valence for atom # 6 C, 5, is greater than permitted\n",
      "[14:08:39] Explicit valence for atom # 4 C, 5, is greater than permitted\n",
      "[14:08:39] Explicit valence for atom # 6 C, 5, is greater than permitted\n",
      "[14:08:39] Explicit valence for atom # 6 C, 5, is greater than permitted\n",
      "[14:08:39] Explicit valence for atom # 3 C, 5, is greater than permitted\n",
      "[14:08:39] Explicit valence for atom # 5 C, 5, is greater than permitted\n",
      "[14:08:39] Explicit valence for atom # 6 C, 5, is greater than permitted\n",
      "[14:08:39] Explicit valence for atom # 3 C, 5, is greater than permitted\n",
      "[14:08:39] Explicit valence for atom # 1 C, 5, is greater than permitted\n",
      "[14:08:39] Explicit valence for atom # 4 C, 5, is greater than permitted\n",
      "[14:08:39] Explicit valence for atom # 2 C, 5, is greater than permitted\n",
      "[14:08:39] Explicit valence for atom # 2 C, 5, is greater than permitted\n",
      "[14:08:39] Explicit valence for atom # 5 C, 5, is greater than permitted\n",
      "[14:08:39] Explicit valence for atom # 3 C, 5, is greater than permitted\n",
      "[14:08:39] Explicit valence for atom # 4 C, 5, is greater than permitted\n",
      "[14:08:39] Explicit valence for atom # 6 C, 5, is greater than permitted\n",
      "[14:08:39] Explicit valence for atom # 5 C, 5, is greater than permitted\n",
      "[14:08:39] Explicit valence for atom # 5 C, 5, is greater than permitted\n",
      "[14:08:39] Explicit valence for atom # 2 C, 5, is greater than permitted\n",
      "[14:08:39] Explicit valence for atom # 4 C, 5, is greater than permitted\n",
      "[14:08:39] Explicit valence for atom # 3 C, 5, is greater than permitted\n",
      "[14:08:39] Explicit valence for atom # 2 C, 5, is greater than permitted\n",
      "[14:08:39] Explicit valence for atom # 4 C, 5, is greater than permitted\n",
      "[14:08:39] Explicit valence for atom # 6 C, 5, is greater than permitted\n",
      "[14:08:39] Explicit valence for atom # 6 C, 5, is greater than permitted\n",
      "[14:08:39] Explicit valence for atom # 5 C, 5, is greater than permitted\n",
      "[14:08:39] Explicit valence for atom # 2 C, 5, is greater than permitted\n",
      "[14:08:39] Explicit valence for atom # 4 C, 5, is greater than permitted\n",
      "[14:08:39] Explicit valence for atom # 5 C, 5, is greater than permitted\n",
      "[14:08:39] Explicit valence for atom # 2 C, 5, is greater than permitted\n",
      "[14:08:39] Explicit valence for atom # 2 C, 5, is greater than permitted\n",
      "[14:08:39] Explicit valence for atom # 2 C, 5, is greater than permitted\n",
      "[14:08:39] Explicit valence for atom # 5 C, 5, is greater than permitted\n",
      "[14:08:39] Explicit valence for atom # 5 C, 5, is greater than permitted\n",
      "[14:08:39] Explicit valence for atom # 5 C, 5, is greater than permitted\n",
      "[14:08:39] Explicit valence for atom # 2 C, 5, is greater than permitted\n",
      "[14:08:39] Explicit valence for atom # 5 C, 5, is greater than permitted\n",
      "[14:08:39] Explicit valence for atom # 2 C, 5, is greater than permitted\n",
      "[14:08:39] Explicit valence for atom # 3 C, 5, is greater than permitted\n",
      "[14:08:39] Explicit valence for atom # 4 C, 5, is greater than permitted\n",
      "[14:08:39] Explicit valence for atom # 6 C, 5, is greater than permitted\n",
      "[14:08:40] Explicit valence for atom # 3 C, 5, is greater than permitted\n",
      "[14:08:40] Explicit valence for atom # 2 C, 5, is greater than permitted\n",
      "[14:08:40] Explicit valence for atom # 2 C, 5, is greater than permitted\n",
      "[14:08:40] Explicit valence for atom # 2 C, 5, is greater than permitted\n",
      "[14:08:40] Explicit valence for atom # 5 C, 5, is greater than permitted\n",
      "[14:08:40] Explicit valence for atom # 5 C, 5, is greater than permitted\n",
      "[14:08:40] Explicit valence for atom # 4 C, 5, is greater than permitted\n",
      "[14:08:40] Explicit valence for atom # 3 C, 5, is greater than permitted\n",
      "[14:08:40] Explicit valence for atom # 5 C, 5, is greater than permitted\n",
      "[14:08:40] Explicit valence for atom # 7 C, 5, is greater than permitted\n",
      "[14:08:40] Explicit valence for atom # 7 C, 5, is greater than permitted\n",
      "[14:08:40] Explicit valence for atom # 3 C, 5, is greater than permitted\n",
      "[14:08:40] Explicit valence for atom # 3 C, 5, is greater than permitted\n",
      "[14:08:40] Explicit valence for atom # 4 C, 5, is greater than permitted\n",
      "[14:08:40] Explicit valence for atom # 4 C, 5, is greater than permitted\n",
      "[14:08:40] Explicit valence for atom # 3 C, 5, is greater than permitted\n",
      "[14:08:40] Explicit valence for atom # 3 C, 5, is greater than permitted\n",
      "[14:08:40] Explicit valence for atom # 3 C, 5, is greater than permitted\n",
      "[14:08:40] Explicit valence for atom # 3 C, 5, is greater than permitted\n",
      "[14:08:40] Explicit valence for atom # 4 C, 5, is greater than permitted\n",
      "[14:08:40] Explicit valence for atom # 4 C, 5, is greater than permitted\n",
      "[14:08:40] Explicit valence for atom # 4 C, 5, is greater than permitted\n",
      "[14:08:40] Explicit valence for atom # 2 C, 5, is greater than permitted\n",
      "[14:08:40] Explicit valence for atom # 4 C, 5, is greater than permitted\n",
      "[14:08:40] Explicit valence for atom # 2 C, 5, is greater than permitted\n",
      "[14:08:40] Explicit valence for atom # 5 C, 5, is greater than permitted\n",
      "[14:08:40] Explicit valence for atom # 4 C, 5, is greater than permitted\n",
      "[14:08:40] Explicit valence for atom # 4 C, 5, is greater than permitted\n",
      "[14:08:40] Explicit valence for atom # 3 C, 5, is greater than permitted\n",
      "[14:08:40] Explicit valence for atom # 8 C, 5, is greater than permitted\n",
      "[14:08:40] Explicit valence for atom # 5 C, 5, is greater than permitted\n",
      "[14:08:40] Explicit valence for atom # 5 C, 5, is greater than permitted\n",
      "[14:08:40] Explicit valence for atom # 6 C, 5, is greater than permitted\n",
      "[14:08:40] Explicit valence for atom # 3 C, 5, is greater than permitted\n",
      "[14:08:40] Explicit valence for atom # 3 C, 5, is greater than permitted\n",
      "[14:08:40] Explicit valence for atom # 5 C, 5, is greater than permitted\n",
      "[14:08:40] Explicit valence for atom # 4 C, 5, is greater than permitted\n",
      "[14:08:40] Explicit valence for atom # 5 C, 5, is greater than permitted\n",
      "[14:08:40] Explicit valence for atom # 4 C, 5, is greater than permitted\n",
      "[14:08:40] Explicit valence for atom # 3 C, 5, is greater than permitted\n",
      "[14:08:40] Explicit valence for atom # 4 C, 5, is greater than permitted\n",
      "[14:08:40] Explicit valence for atom # 3 C, 5, is greater than permitted\n",
      "[14:08:40] Explicit valence for atom # 4 C, 5, is greater than permitted\n",
      "[14:08:40] Explicit valence for atom # 2 C, 5, is greater than permitted\n",
      "[14:08:40] Explicit valence for atom # 6 C, 5, is greater than permitted\n",
      "[14:08:40] Explicit valence for atom # 5 C, 5, is greater than permitted\n",
      "[14:08:40] Explicit valence for atom # 5 C, 5, is greater than permitted\n",
      "[14:08:40] Explicit valence for atom # 3 C, 5, is greater than permitted\n",
      "[14:08:40] Explicit valence for atom # 5 C, 5, is greater than permitted\n",
      "[14:08:40] Explicit valence for atom # 2 C, 5, is greater than permitted\n",
      "[14:08:40] Explicit valence for atom # 5 C, 5, is greater than permitted\n",
      "[14:08:40] Explicit valence for atom # 5 C, 5, is greater than permitted\n",
      "[14:08:40] Explicit valence for atom # 5 C, 5, is greater than permitted\n",
      "[14:08:40] Explicit valence for atom # 4 C, 5, is greater than permitted\n",
      "[14:08:40] Explicit valence for atom # 2 C, 5, is greater than permitted\n",
      "[14:08:40] Explicit valence for atom # 5 C, 5, is greater than permitted\n",
      "[14:08:40] Explicit valence for atom # 3 C, 5, is greater than permitted\n",
      "[14:08:40] Explicit valence for atom # 2 C, 5, is greater than permitted\n",
      "[14:08:40] Explicit valence for atom # 2 C, 5, is greater than permitted\n",
      "[14:08:40] Explicit valence for atom # 1 C, 5, is greater than permitted\n",
      "[14:08:40] Explicit valence for atom # 5 C, 5, is greater than permitted\n",
      "[14:08:40] Explicit valence for atom # 6 C, 5, is greater than permitted\n",
      "[14:08:40] Explicit valence for atom # 2 C, 5, is greater than permitted\n",
      "[14:08:40] Explicit valence for atom # 5 C, 5, is greater than permitted\n",
      "[14:08:40] Explicit valence for atom # 6 C, 5, is greater than permitted\n",
      "[14:08:40] Explicit valence for atom # 5 C, 5, is greater than permitted\n",
      "[14:08:40] Explicit valence for atom # 2 C, 5, is greater than permitted\n",
      "[14:08:40] Explicit valence for atom # 2 C, 5, is greater than permitted\n"
     ]
    }
   ],
   "source": [
    "TRAIN_X, TRAIN_M, TRAIN_Y, TRAIN_MEAN, TRAIN_MAD = load_and_preprocess_data(\"train.csv\", \"bpe.tokenizer.json\")\n",
    "VAL_X, VAL_M, VAL_Y, _, _ = load_and_preprocess_data(\"val.csv\", \"bpe.tokenizer.json\", False)\n",
    "TEST_X, TEST_M, TEST_Y, _, _ = load_and_preprocess_data(\"test.csv\", \"bpe.tokenizer.json\", False)\n",
    "VAL_Y = (VAL_Y - TRAIN_MEAN) / TRAIN_MAD\n",
    "TEST_Y = (TEST_Y - TRAIN_MEAN) / TRAIN_MAD"
   ]
  },
  {
   "cell_type": "code",
   "execution_count": 13,
   "id": "b4e986ec-f132-4fd5-ba3a-f856a34bd729",
   "metadata": {
    "execution": {
     "iopub.execute_input": "2024-03-27T14:08:53.885138Z",
     "iopub.status.busy": "2024-03-27T14:08:53.884318Z",
     "iopub.status.idle": "2024-03-27T14:08:53.890904Z",
     "shell.execute_reply": "2024-03-27T14:08:53.889863Z",
     "shell.execute_reply.started": "2024-03-27T14:08:53.885101Z"
    }
   },
   "outputs": [
    {
     "data": {
      "text/plain": [
       "{cuda(id=0)}"
      ]
     },
     "execution_count": 13,
     "metadata": {},
     "output_type": "execute_result"
    }
   ],
   "source": [
    "TRAIN_X.devices()"
   ]
  },
  {
   "cell_type": "code",
   "execution_count": 15,
   "id": "2f824c31-2fc1-471f-8552-3a64457424cf",
   "metadata": {
    "execution": {
     "iopub.execute_input": "2024-03-27T14:08:59.633408Z",
     "iopub.status.busy": "2024-03-27T14:08:59.632797Z",
     "iopub.status.idle": "2024-03-27T14:08:59.638277Z",
     "shell.execute_reply": "2024-03-27T14:08:59.637569Z",
     "shell.execute_reply.started": "2024-03-27T14:08:59.633385Z"
    }
   },
   "outputs": [
    {
     "data": {
      "text/plain": [
       "(109624, 12)"
      ]
     },
     "execution_count": 15,
     "metadata": {},
     "output_type": "execute_result"
    }
   ],
   "source": [
    "TRAIN_Y.shape"
   ]
  },
  {
   "cell_type": "code",
   "execution_count": 14,
   "id": "5ad51224-9f62-4680-859f-23a34ca1c50c",
   "metadata": {
    "execution": {
     "iopub.execute_input": "2024-03-27T14:08:57.259208Z",
     "iopub.status.busy": "2024-03-27T14:08:57.258499Z",
     "iopub.status.idle": "2024-03-27T14:08:57.264362Z",
     "shell.execute_reply": "2024-03-27T14:08:57.263585Z",
     "shell.execute_reply.started": "2024-03-27T14:08:57.259179Z"
    }
   },
   "outputs": [
    {
     "data": {
      "text/plain": [
       "(9918, 20)"
      ]
     },
     "execution_count": 14,
     "metadata": {},
     "output_type": "execute_result"
    }
   ],
   "source": [
    "VAL_X.shape"
   ]
  },
  {
   "cell_type": "code",
   "execution_count": 16,
   "id": "58b7c72b-313c-46dd-a9bd-15a9ba941240",
   "metadata": {
    "execution": {
     "iopub.execute_input": "2024-03-27T14:09:03.787853Z",
     "iopub.status.busy": "2024-03-27T14:09:03.787273Z",
     "iopub.status.idle": "2024-03-27T14:09:03.853222Z",
     "shell.execute_reply": "2024-03-27T14:09:03.852533Z",
     "shell.execute_reply.started": "2024-03-27T14:09:03.787824Z"
    }
   },
   "outputs": [
    {
     "name": "stdout",
     "output_type": "stream",
     "text": [
      "0 2.6760945\n",
      "1 75.30747\n",
      "2 -6.537358\n",
      "3 0.3136518\n",
      "4 6.851002\n",
      "5 1191.1666\n",
      "6 4.0578184\n",
      "7 -76.13918\n",
      "8 -76.60351\n",
      "9 -77.04136\n",
      "10 -70.85925\n",
      "11 31.642263\n"
     ]
    }
   ],
   "source": [
    "for i, t in enumerate(TRAIN_MEAN):\n",
    "    print(i, t)"
   ]
  },
  {
   "cell_type": "code",
   "execution_count": 18,
   "id": "e0da2045-05ce-4923-b228-6b637b313ef2",
   "metadata": {
    "execution": {
     "iopub.execute_input": "2024-03-27T14:09:15.164245Z",
     "iopub.status.busy": "2024-03-27T14:09:15.163704Z",
     "iopub.status.idle": "2024-03-27T14:09:15.169818Z",
     "shell.execute_reply": "2024-03-27T14:09:15.169281Z",
     "shell.execute_reply.started": "2024-03-27T14:09:15.164223Z"
    }
   },
   "outputs": [
    {
     "name": "stdout",
     "output_type": "stream",
     "text": [
      "0 1.1707302\n",
      "1 6.3042417\n",
      "2 0.4412381\n",
      "3 1.0495086\n",
      "4 1.0732853\n",
      "5 202.96431\n",
      "6 0.7195255\n",
      "7 8.142434\n",
      "8 8.216277\n",
      "9 8.2753935\n",
      "10 7.4855447\n",
      "11 3.2098126\n"
     ]
    }
   ],
   "source": [
    "for i, s in enumerate(TRAIN_MAD):\n",
    "    print(i, s)"
   ]
  },
  {
   "cell_type": "markdown",
   "id": "5a90cd44-2d94-493f-bd8b-977d54930f3c",
   "metadata": {},
   "source": [
    "## Instantiate SMILES Transformer and train it"
   ]
  },
  {
   "cell_type": "code",
   "execution_count": 19,
   "id": "5fe0063b",
   "metadata": {
    "execution": {
     "iopub.execute_input": "2024-03-27T14:10:02.298590Z",
     "iopub.status.busy": "2024-03-27T14:10:02.298075Z",
     "iopub.status.idle": "2024-03-27T14:10:06.329746Z",
     "shell.execute_reply": "2024-03-27T14:10:06.328819Z",
     "shell.execute_reply.started": "2024-03-27T14:10:02.298563Z"
    }
   },
   "outputs": [],
   "source": [
    "st_config = TransformerConfig(\n",
    "    vocab_size = 250,\n",
    "    output_vocab_size = 250, # make this programmatic.\n",
    "    emb_dim = 256,\n",
    "    num_heads = 16,\n",
    "    num_layers = 4,\n",
    "    qkv_dim = 256,\n",
    "    mlp_dim = 256,\n",
    "    max_len = 24,\n",
    "    deterministic = False\n",
    ")\n",
    "\n",
    "ST = Transformer(st_config)\n",
    "\n",
    "sample_rng = jax.random.PRNGKey(0)\n",
    "# uncomment below and modify training loop to use dropout in training.\n",
    "init_rngs = {'params': jax.random.PRNGKey(0), 'dropout': jax.random.PRNGKey(1)}\n",
    "\n",
    "\n",
    "sample_batches = shuffler(TRAIN_X, 128)(TRAIN_X, sample_rng)\n",
    "\n",
    "st_params = jax.jit(ST.init)(init_rngs, sample_batches[0], sample_batches[0])"
   ]
  },
  {
   "cell_type": "code",
   "execution_count": 16,
   "id": "8c56e92f-a627-461f-8f4b-60b802e063ed",
   "metadata": {
    "execution": {
     "iopub.execute_input": "2024-03-27T11:23:05.646487Z",
     "iopub.status.busy": "2024-03-27T11:23:05.645879Z",
     "iopub.status.idle": "2024-03-27T11:23:05.650419Z",
     "shell.execute_reply": "2024-03-27T11:23:05.649909Z",
     "shell.execute_reply.started": "2024-03-27T11:23:05.646463Z"
    }
   },
   "outputs": [
    {
     "data": {
      "text/plain": [
       "(109643, 23)"
      ]
     },
     "execution_count": 16,
     "metadata": {},
     "output_type": "execute_result"
    }
   ],
   "source": [
    "TRAIN_X.shape"
   ]
  },
  {
   "cell_type": "code",
   "execution_count": 20,
   "id": "fa50565e-b628-4a49-bd11-4199e2f6c390",
   "metadata": {
    "execution": {
     "iopub.execute_input": "2024-03-27T14:10:11.401286Z",
     "iopub.status.busy": "2024-03-27T14:10:11.400678Z",
     "iopub.status.idle": "2024-03-27T14:10:11.411403Z",
     "shell.execute_reply": "2024-03-27T14:10:11.410797Z",
     "shell.execute_reply.started": "2024-03-27T14:10:11.401258Z"
    }
   },
   "outputs": [],
   "source": [
    "\n",
    "# The ST paper trained for 5 epochs on 860k molecules, so we'll train for 3 epochs on 110k molecules\n",
    "def pretrain_smiles_transformer(net, net_params, epochs=40, batch_size=128, schedule=3e-4):\n",
    "\n",
    "    ################################################\n",
    "    ### Create our optimizer and other utilities ###\n",
    "    ################################################\n",
    "\n",
    "    # create optimizer\n",
    "    opt = optax.adam(learning_rate = schedule)\n",
    "    # create and initialize the optimizer\n",
    "    opt_state = opt.init(net_params)\n",
    "    \n",
    "    shuffle = shuffler(TRAIN_X, 128)\n",
    "    \n",
    "    ######################################################################\n",
    "    ### Define our ST forward pass/gradient computation                ###\n",
    "    ######################################################################\n",
    "    def _net_eval(smoothing=0.0):\n",
    "        V_size = 250 #tokenizer.get_vocab_size() # fix this in a moment\n",
    "        \n",
    "        def _loss(weights, data, apply_rng):\n",
    "            logits = net.apply(weights, data, data, rngs={\"dropout\":apply_rng})\n",
    "            labels = optax.smooth_labels(jax.nn.one_hot(data, V_size), smoothing)\n",
    "            return jnp.mean(optax.softmax_cross_entropy(logits, labels))\n",
    "            \n",
    "        return jax.jit(_loss)\n",
    "\n",
    "    net_eval = jax.value_and_grad(_net_eval())\n",
    "    \n",
    "    #########################################################################\n",
    "    ### Define our train step function that computes grad and updates opt ###\n",
    "    #########################################################################\n",
    "    \n",
    "    @jax.jit\n",
    "    def train_step(state, data):\n",
    "        # unpack the parameters and optimizer state\n",
    "        grad_params, opt_state, local_rng = state\n",
    "        local_rng, apply_rng = jax.random.split(local_rng)\n",
    "        # compute loss and gradient\n",
    "        loss, grads = net_eval(grad_params, data, apply_rng)\n",
    "        # generate updates based on the gradients and optimizer\n",
    "        updates, opt_state = opt.update(grads, opt_state, grad_params)\n",
    "        # return the updated parameters\n",
    "        new_state = [optax.apply_updates(grad_params, updates), opt_state, local_rng]\n",
    "        return new_state, loss\n",
    "    \n",
    "    \n",
    "    #####################################################################\n",
    "    ### Define our val step function that computes validation metrics ###\n",
    "    #####################################################################\n",
    "    \n",
    "    # For validation epochs, do the same as before but compute the\n",
    "    # accuracy (no gradients needed)\n",
    "    # maybe adjust this to just compute on full Val batch all at once... (may not need adjusted)\n",
    "    @jax.jit\n",
    "    def eval_step(grad_params, data):\n",
    "        # apply the network to the data\n",
    "        logits = net.apply(grad_params, data, data, rngs={\"dropout\":jax.random.PRNGKey(0)})\n",
    "        # compute accuracy, predictions, and loss\n",
    "        acc = jnp.mean(jnp.argmax(logits, axis=-1) == data)\n",
    "        # we return the parameters here because of how jax.scan is structured.\n",
    "        return acc\n",
    "    \n",
    "    \n",
    "    ##################################################################################\n",
    "    ### Define our epoch function which will run the training step and compute acc ###\n",
    "    ##################################################################################\n",
    "    \n",
    "    rng = jax.random.PRNGKey(0)\n",
    "    \n",
    "    @scan_tqdm(epochs)\n",
    "    def epoch(epoch_state, epoch_num):\n",
    "        curr_params, curr_opt_state = epoch_state\n",
    "\n",
    "        # Shuffle the data\n",
    "        shuffle_rng = jax.random.fold_in(rng, epoch_num)\n",
    "        epoch_rng, shuffle_rng = jax.random.split(shuffle_rng)\n",
    "        train_data = shuffle(TRAIN_X, shuffle_rng)\n",
    "\n",
    "        # train epoch\n",
    "        end_state, train_loss = jax.lax.scan(\n",
    "            train_step,# our function which computes and updates gradients for one batch\n",
    "            [curr_params, curr_opt_state, epoch_rng], # initialize with parameters and optimizer state of current epoch\n",
    "            train_data,# pass the newly shuffled training data\n",
    "        )\n",
    "\n",
    "        new_params, _, _ = end_state\n",
    "\n",
    "        # val epoch\n",
    "        val_metrics = eval_step(new_params, VAL_X)\n",
    "\n",
    "\n",
    "        return end_state[:-1], jnp.array([jnp.mean(train_loss), val_metrics])\n",
    "    # end epoch\n",
    "\n",
    "    ##################################################################################\n",
    "    ### Invoke our training loop by scanning the epoch function over the data!     ###\n",
    "    ##################################################################################\n",
    "\n",
    "    final_state, metrics = jax.lax.scan(\n",
    "        epoch,\n",
    "        [net_params, opt_state], # metric arrays\n",
    "        jnp.arange(epochs), #\n",
    "    )\n",
    "\n",
    "\n",
    "    final_params, final_optimizer_state = final_state\n",
    "\n",
    "    # return our final, optimized network.\n",
    "    return final_params, metrics"
   ]
  },
  {
   "cell_type": "code",
   "execution_count": 21,
   "id": "908b3d6c",
   "metadata": {
    "execution": {
     "iopub.execute_input": "2024-03-27T14:10:15.224208Z",
     "iopub.status.busy": "2024-03-27T14:10:15.223254Z",
     "iopub.status.idle": "2024-03-27T14:11:25.244982Z",
     "shell.execute_reply": "2024-03-27T14:11:25.244298Z",
     "shell.execute_reply.started": "2024-03-27T14:10:15.224175Z"
    }
   },
   "outputs": [
    {
     "data": {
      "application/vnd.jupyter.widget-view+json": {
       "model_id": "41d10f4a3785437e829847f909329c87",
       "version_major": 2,
       "version_minor": 0
      },
      "text/plain": [
       "  0%|          | 0/3 [00:00<?, ?it/s]"
      ]
     },
     "metadata": {},
     "output_type": "display_data"
    }
   ],
   "source": [
    "optimized_st_params, metrics = pretrain_smiles_transformer(ST, st_params, epochs=3, batch_size=256)"
   ]
  },
  {
   "cell_type": "code",
   "execution_count": 22,
   "id": "1d5274f2",
   "metadata": {
    "execution": {
     "iopub.execute_input": "2024-03-27T14:11:25.247315Z",
     "iopub.status.busy": "2024-03-27T14:11:25.247099Z",
     "iopub.status.idle": "2024-03-27T14:11:25.459217Z",
     "shell.execute_reply": "2024-03-27T14:11:25.458595Z",
     "shell.execute_reply.started": "2024-03-27T14:11:25.247295Z"
    },
    "scrolled": true
   },
   "outputs": [
    {
     "data": {
      "image/png": "[encoded data removed]",
      "text/plain": [
       "<Figure size 640x480 with 1 Axes>"
      ]
     },
     "metadata": {},
     "output_type": "display_data"
    }
   ],
   "source": [
    "plt.plot(metrics)\n",
    "plt.show()"
   ]
  },
  {
   "cell_type": "code",
   "execution_count": 23,
   "id": "3f213cb3",
   "metadata": {
    "execution": {
     "iopub.execute_input": "2024-03-27T14:11:30.232287Z",
     "iopub.status.busy": "2024-03-27T14:11:30.231993Z",
     "iopub.status.idle": "2024-03-27T14:11:30.237970Z",
     "shell.execute_reply": "2024-03-27T14:11:30.237266Z",
     "shell.execute_reply.started": "2024-03-27T14:11:30.232260Z"
    }
   },
   "outputs": [
    {
     "data": {
      "text/plain": [
       "Array([[0.3253091 , 0.9935421 ],\n",
       "       [0.01395133, 0.9978373 ],\n",
       "       [0.00691125, 0.9980944 ]], dtype=float32)"
      ]
     },
     "execution_count": 23,
     "metadata": {},
     "output_type": "execute_result"
    }
   ],
   "source": [
    "metrics"
   ]
  },
  {
   "cell_type": "markdown",
   "id": "9bf86703-003e-496a-869f-e40a8bd8610b",
   "metadata": {},
   "source": [
    "## Build 3 \\& 4 layer encoders to generate neural fingerprints"
   ]
  },
  {
   "cell_type": "code",
   "execution_count": 24,
   "id": "71f90a4a-417b-4670-ba7b-72583efa99e5",
   "metadata": {
    "execution": {
     "iopub.execute_input": "2024-03-27T14:11:35.783192Z",
     "iopub.status.busy": "2024-03-27T14:11:35.782583Z",
     "iopub.status.idle": "2024-03-27T14:11:35.787126Z",
     "shell.execute_reply": "2024-03-27T14:11:35.786242Z",
     "shell.execute_reply.started": "2024-03-27T14:11:35.783168Z"
    }
   },
   "outputs": [],
   "source": [
    "def drop_layer(original_dict, keys_to_remove):\n",
    "    return {key: value for key, value in original_dict.items() if key not in keys_to_remove}"
   ]
  },
  {
   "cell_type": "code",
   "execution_count": 25,
   "id": "692e1140-9224-4e3f-8d73-3e0d9feba457",
   "metadata": {
    "execution": {
     "iopub.execute_input": "2024-03-27T14:11:36.736009Z",
     "iopub.status.busy": "2024-03-27T14:11:36.735390Z",
     "iopub.status.idle": "2024-03-27T14:11:36.739312Z",
     "shell.execute_reply": "2024-03-27T14:11:36.738725Z",
     "shell.execute_reply.started": "2024-03-27T14:11:36.735986Z"
    }
   },
   "outputs": [],
   "source": [
    "enc_params_A = {\"params\" : optimized_st_params[\"params\"][\"encoder\"]}\n",
    "enc_params_B = {\"params\" : drop_layer(optimized_st_params[\"params\"][\"encoder\"], [\"encoderblock_3\"])}"
   ]
  },
  {
   "cell_type": "code",
   "execution_count": 26,
   "id": "7b424bc0",
   "metadata": {
    "execution": {
     "iopub.execute_input": "2024-03-27T14:11:38.625883Z",
     "iopub.status.busy": "2024-03-27T14:11:38.625571Z",
     "iopub.status.idle": "2024-03-27T14:11:38.630230Z",
     "shell.execute_reply": "2024-03-27T14:11:38.629653Z",
     "shell.execute_reply.started": "2024-03-27T14:11:38.625861Z"
    }
   },
   "outputs": [],
   "source": [
    "@jax.jit\n",
    "def to_fingerprint(embedding_sequences):\n",
    "    mean_pool = jnp.mean(embedding_sequences, axis=-2)\n",
    "    max_pool = jnp.max(embedding_sequences, axis=-2)\n",
    "    return jnp.concatenate([mean_pool, max_pool], axis=-1)"
   ]
  },
  {
   "cell_type": "code",
   "execution_count": 27,
   "id": "bb62e6ea-936e-4ac3-beb6-b960ce43e116",
   "metadata": {
    "execution": {
     "iopub.execute_input": "2024-03-27T14:11:42.044505Z",
     "iopub.status.busy": "2024-03-27T14:11:42.043769Z",
     "iopub.status.idle": "2024-03-27T14:11:51.933105Z",
     "shell.execute_reply": "2024-03-27T14:11:51.932281Z",
     "shell.execute_reply.started": "2024-03-27T14:11:42.044473Z"
    }
   },
   "outputs": [],
   "source": [
    "# clean this up and turn into a function/routine.\n",
    "# need to put encoder in deterministic mode...\n",
    "enc_config_A = TransformerConfig(\n",
    "    #dtype=jnp.float16,\n",
    "    vocab_size = 250,\n",
    "    output_vocab_size = 250, # make this programmatic.\n",
    "    emb_dim = 256,\n",
    "    num_heads = 16,\n",
    "    num_layers = 4,\n",
    "    qkv_dim = 256,\n",
    "    mlp_dim = 256,\n",
    "    max_len = 24,\n",
    "    deterministic = True\n",
    ")\n",
    "\n",
    "enc_config_B = TransformerConfig(\n",
    "    #dtype=jnp.float16,\n",
    "    vocab_size = 250,\n",
    "    output_vocab_size = 250, # make this programmatic.\n",
    "    emb_dim = 256,\n",
    "    num_heads = 16,\n",
    "    num_layers = 3,\n",
    "    qkv_dim = 256,\n",
    "    mlp_dim = 256,\n",
    "    max_len = 24,\n",
    "    deterministic = True\n",
    ")\n",
    "\n",
    "\n",
    "E1 = Encoder(enc_config_A)\n",
    "E2 = Encoder(enc_config_B)\n",
    "\n",
    "# TRAIN_X = data, TRAIN_M = attention masks\n",
    "TRAIN_X_ENC_A = to_fingerprint(E1.apply(enc_params_A, TRAIN_X, encoder_mask=TRAIN_M))\n",
    "TRAIN_X_ENC_B = to_fingerprint(E2.apply(enc_params_B, TRAIN_X, encoder_mask=TRAIN_M))\n",
    "\n",
    "TRAIN_FPRINTS = jnp.concatenate([TRAIN_X_ENC_A, TRAIN_X_ENC_B], axis=-1)\n",
    "\n",
    "VAL_X_ENC_A = to_fingerprint(E1.apply(enc_params_A, VAL_X, encoder_mask=VAL_M))\n",
    "VAL_X_ENC_B = to_fingerprint(E2.apply(enc_params_B, VAL_X, encoder_mask=VAL_M))\n",
    "\n",
    "VAL_FPRINTS = jnp.concatenate([VAL_X_ENC_A, VAL_X_ENC_B], axis=-1)\n",
    "\n",
    "TEST_X_ENC_A = to_fingerprint(E1.apply(enc_params_A, TEST_X, encoder_mask=TEST_M))\n",
    "TEST_X_ENC_B = to_fingerprint(E2.apply(enc_params_B, TEST_X, encoder_mask=TEST_M))\n",
    "\n",
    "TEST_FPRINTS = jnp.concatenate([TEST_X_ENC_A, TEST_X_ENC_B], axis=-1)"
   ]
  },
  {
   "cell_type": "code",
   "execution_count": 28,
   "id": "1180def0-1141-49d3-b388-53584d1c169b",
   "metadata": {
    "execution": {
     "iopub.execute_input": "2024-03-27T14:11:51.934271Z",
     "iopub.status.busy": "2024-03-27T14:11:51.934090Z",
     "iopub.status.idle": "2024-03-27T14:11:51.939362Z",
     "shell.execute_reply": "2024-03-27T14:11:51.938425Z",
     "shell.execute_reply.started": "2024-03-27T14:11:51.934251Z"
    }
   },
   "outputs": [
    {
     "data": {
      "text/plain": [
       "(109624, 1024)"
      ]
     },
     "execution_count": 28,
     "metadata": {},
     "output_type": "execute_result"
    }
   ],
   "source": [
    "TRAIN_FPRINTS.shape"
   ]
  },
  {
   "cell_type": "markdown",
   "id": "d48bc175-4655-4256-b10a-02be1f2adc62",
   "metadata": {},
   "source": [
    "## Train MLP regression models for each DFT target"
   ]
  },
  {
   "cell_type": "code",
   "execution_count": 29,
   "id": "a497e7c1-bc10-4728-9124-812f1a251f30",
   "metadata": {
    "execution": {
     "iopub.execute_input": "2024-03-27T14:12:03.074550Z",
     "iopub.status.busy": "2024-03-27T14:12:03.073877Z",
     "iopub.status.idle": "2024-03-27T14:12:05.230102Z",
     "shell.execute_reply": "2024-03-27T14:12:05.229130Z",
     "shell.execute_reply.started": "2024-03-27T14:12:03.074520Z"
    }
   },
   "outputs": [],
   "source": [
    "class MLP(nn.Module):                    # notsure if this is a good architecture. maybe add skip connections??\n",
    "    out_dims: int\n",
    "\n",
    "    @nn.compact\n",
    "    def __call__(self, x, train):\n",
    "        x = x.reshape((x.shape[0], -1))\n",
    "        x = nn.Dense(512)(x)                 # create inline Flax Module submodules\n",
    "        x = nn.Dropout(0.2, deterministic=not train)(x)\n",
    "        x = nn.relu(x)\n",
    "        x = nn.Dense(512)(x)                 # create inline Flax Module submodules\n",
    "        x = nn.Dropout(0.2, deterministic=not train)(x)\n",
    "        x = nn.relu(x)\n",
    "        x = nn.Dense(512)(x)                 # create inline Flax Module submodules\n",
    "        x = nn.Dropout(0.2, deterministic=not train)(x)\n",
    "        x = nn.relu(x)\n",
    "        x = nn.Dense(self.out_dims)(x)       # shape inference\n",
    "        return x\n",
    "\n",
    "QM9_net = MLP(out_dims=1)                 # instantiate the MLP model\n",
    "\n",
    "sample_batches = shuffler(TRAIN_FPRINTS, 128, pretraining=False)((TRAIN_FPRINTS,TRAIN_Y),\n",
    "                                                                 jax.random.PRNGKey(0))[0]\n",
    "QM9_params = QM9_net.init(jax.random.PRNGKey(42), sample_batches[0], train=False)"
   ]
  },
  {
   "cell_type": "code",
   "execution_count": 30,
   "id": "cb510f97-6a9e-4006-b606-cdb83ca74077",
   "metadata": {
    "execution": {
     "iopub.execute_input": "2024-03-27T14:12:09.862467Z",
     "iopub.status.busy": "2024-03-27T14:12:09.861819Z",
     "iopub.status.idle": "2024-03-27T14:12:09.871770Z",
     "shell.execute_reply": "2024-03-27T14:12:09.871130Z",
     "shell.execute_reply.started": "2024-03-27T14:12:09.862444Z"
    }
   },
   "outputs": [],
   "source": [
    "# The ST paper trained for 5 epochs on 860k molecules, so we'll train for 4 epochs on 110k molecules\n",
    "def train_QM9_predictor(net, net_params, TARGET_LABEL = 0, eval_tgt_x=VAL_FPRINTS, eval_tgt_y=VAL_Y, epochs=40, batch_size=128, schedule=2e-4):\n",
    "\n",
    "    ################################################\n",
    "    ### Create our optimizer and other utilities ###\n",
    "    ################################################\n",
    "\n",
    "    # create optimizer\n",
    "    opt = optax.chain(\n",
    "        optax.adam(learning_rate=schedule),\n",
    "    )\n",
    "    # create and initialize the optimizer\n",
    "    opt_state = opt.init(net_params)\n",
    "    \n",
    "    shuffle = shuffler(TRAIN_FPRINTS, batch_size, pretraining=False)\n",
    "    \n",
    "    ######################################################################\n",
    "    ### Define our MLP forward pass/gradient computation               ###\n",
    "    ######################################################################\n",
    "    def _net_eval(weights, fingerprints, properties, step_rng):\n",
    "        logits = net.apply(weights, fingerprints, train=True, rngs={\"dropout\":step_rng})\n",
    "        return jnp.mean(optax.squared_error(logits, properties))\n",
    "            \n",
    "    net_eval = jax.value_and_grad(_net_eval)\n",
    "    \n",
    "    #########################################################################\n",
    "    ### Define our train step function that computes grad and updates opt ###\n",
    "    #########################################################################\n",
    "    \n",
    "    @jax.jit\n",
    "    def train_step(state, data):\n",
    "        # unpack the parameters and optimizer state\n",
    "        grad_params, opt_state, train_rng = state\n",
    "        train_rng, next_rng = jax.random.split(train_rng)\n",
    "        # unpack data\n",
    "        fingerprints, properties = data\n",
    "        # compute loss and gradient\n",
    "        loss, grads = net_eval(grad_params, fingerprints, properties, train_rng)\n",
    "        # generate updates based on the gradients and optimizer\n",
    "        updates, opt_state = opt.update(grads, opt_state, grad_params)\n",
    "        # return the updated parameters\n",
    "        new_state = [optax.apply_updates(grad_params, updates), opt_state, next_rng]\n",
    "        return new_state, loss\n",
    "    \n",
    "    \n",
    "    #####################################################################\n",
    "    ### Define our val step function that computes validation MAE     ###\n",
    "    #####################################################################\n",
    "    \n",
    "    # For validation epochs, do the same as before but compute the\n",
    "    # accuracy (no gradients needed)\n",
    "    @jax.jit\n",
    "    def eval_step(grad_params, data, targets):\n",
    "        # apply the network to the data\n",
    "        logits = net.apply(grad_params, data, train=False)\n",
    "        # compute accuracy, predictions, and loss\n",
    "        acc = TRAIN_MAD[TARGET_LABEL] * jnp.mean(jnp.abs(targets - logits), axis=0)\n",
    "        # we return the parameters here because of how jax.scan is structured.\n",
    "        return acc\n",
    "    \n",
    "    \n",
    "    ##################################################################################\n",
    "    ### Define our epoch function which will run the training step and compute acc ###\n",
    "    ##################################################################################\n",
    "    \n",
    "    rng = jax.random.PRNGKey(0)\n",
    "    \n",
    "    @scan_tqdm(epochs)\n",
    "    def epoch(epoch_state, epoch_num):\n",
    "        curr_params, curr_opt_state = epoch_state\n",
    "\n",
    "        shuffle_rng = jax.random.fold_in(rng, epoch_num)\n",
    "        train_data = shuffle((TRAIN_FPRINTS, jnp.expand_dims(TRAIN_Y[:,TARGET_LABEL],1)), shuffle_rng)\n",
    "        drop_rng, shuffle_rng = jax.random.split(shuffle_rng)\n",
    "\n",
    "        # train epoch\n",
    "        end_state, train_loss = jax.lax.scan(\n",
    "            train_step,# our function which computes and updates gradients for one batch\n",
    "            [curr_params, curr_opt_state, drop_rng], # initialize with parameters and optimizer state of current epoch\n",
    "            train_data,# pass the newly shuffled training data\n",
    "        )\n",
    "\n",
    "        new_params, _, _ = end_state\n",
    "\n",
    "        # val epoch\n",
    "        val_metrics = eval_step(new_params, eval_tgt_x, jnp.expand_dims(eval_tgt_y[:,TARGET_LABEL],1))\n",
    "        return end_state[:2], jnp.array([jnp.mean(train_loss), jnp.mean(val_metrics)])\n",
    "    # end epoch\n",
    "\n",
    "    ##################################################################################\n",
    "    ### Invoke our training loop by scanning the epoch function over the data!     ###\n",
    "    ##################################################################################\n",
    "\n",
    "    final_state, metrics = jax.lax.scan(\n",
    "        epoch,\n",
    "        [net_params, opt_state], # metric arrays\n",
    "        jnp.arange(epochs), #\n",
    "    )\n",
    "\n",
    "\n",
    "    final_params, final_optimizer_state = final_state\n",
    "\n",
    "    # return our final, optimized network.\n",
    "    return final_params, metrics"
   ]
  },
  {
   "cell_type": "code",
   "execution_count": 31,
   "id": "a49e4c42",
   "metadata": {
    "execution": {
     "iopub.execute_input": "2024-03-27T14:12:16.360552Z",
     "iopub.status.busy": "2024-03-27T14:12:16.360280Z",
     "iopub.status.idle": "2024-03-27T14:12:16.371962Z",
     "shell.execute_reply": "2024-03-27T14:12:16.371346Z",
     "shell.execute_reply.started": "2024-03-27T14:12:16.360532Z"
    }
   },
   "outputs": [],
   "source": [
    "chemical_accuracy = jnp.array([\n",
    "    0.1, # mu\n",
    "    0.1, # alpha\n",
    "    0.043, # HOMO\n",
    "    0.043, # LUMO\n",
    "    0.043, # gap\n",
    "    1.2, # R2\n",
    "    .0012, # ZPVE\n",
    "    .043, # U0\n",
    "    .043, # U\n",
    "    .043, # H\n",
    "    .043, # G\n",
    "    .050, # Cv\n",
    "])\n"
   ]
  },
  {
   "cell_type": "code",
   "execution_count": 39,
   "id": "182ea856-79d8-4da3-b9f3-a94a8588bcce",
   "metadata": {
    "execution": {
     "iopub.execute_input": "2024-03-27T15:30:49.570832Z",
     "iopub.status.busy": "2024-03-27T15:30:49.570224Z",
     "iopub.status.idle": "2024-03-27T15:34:13.336639Z",
     "shell.execute_reply": "2024-03-27T15:34:13.336090Z",
     "shell.execute_reply.started": "2024-03-27T15:30:49.570804Z"
    }
   },
   "outputs": [
    {
     "data": {
      "application/vnd.jupyter.widget-view+json": {
       "model_id": "68b7ef59a5c2447d9a8b4cbc35d24111",
       "version_major": 2,
       "version_minor": 0
      },
      "text/plain": [
       "  0%|          | 0/150 [00:00<?, ?it/s]"
      ]
     },
     "metadata": {},
     "output_type": "display_data"
    },
    {
     "name": "stdout",
     "output_type": "stream",
     "text": [
      "TARGET: 0 Error Ratio: [5.700665]\n"
     ]
    },
    {
     "data": {
      "application/vnd.jupyter.widget-view+json": {
       "model_id": "fa7cc73f1ee448b189446252d0c47ab0",
       "version_major": 2,
       "version_minor": 0
      },
      "text/plain": [
       "  0%|          | 0/150 [00:00<?, ?it/s]"
      ]
     },
     "metadata": {},
     "output_type": "display_data"
    },
    {
     "name": "stdout",
     "output_type": "stream",
     "text": [
      "TARGET: 1 Error Ratio: [24.670408]\n"
     ]
    },
    {
     "data": {
      "application/vnd.jupyter.widget-view+json": {
       "model_id": "dccb86e9a5c541108c05a5cd8ac42d84",
       "version_major": 2,
       "version_minor": 0
      },
      "text/plain": [
       "  0%|          | 0/150 [00:00<?, ?it/s]"
      ]
     },
     "metadata": {},
     "output_type": "display_data"
    },
    {
     "name": "stdout",
     "output_type": "stream",
     "text": [
      "TARGET: 2 Error Ratio: [3.490187]\n"
     ]
    },
    {
     "data": {
      "application/vnd.jupyter.widget-view+json": {
       "model_id": "c2adb83b1fca42a99552ae4701ad1511",
       "version_major": 2,
       "version_minor": 0
      },
      "text/plain": [
       "  0%|          | 0/150 [00:00<?, ?it/s]"
      ]
     },
     "metadata": {},
     "output_type": "display_data"
    },
    {
     "name": "stdout",
     "output_type": "stream",
     "text": [
      "TARGET: 3 Error Ratio: [4.281887]\n"
     ]
    },
    {
     "data": {
      "application/vnd.jupyter.widget-view+json": {
       "model_id": "1328a99b42a642f29413e30208f3c7cd",
       "version_major": 2,
       "version_minor": 0
      },
      "text/plain": [
       "  0%|          | 0/150 [00:00<?, ?it/s]"
      ]
     },
     "metadata": {},
     "output_type": "display_data"
    },
    {
     "name": "stdout",
     "output_type": "stream",
     "text": [
      "TARGET: 4 Error Ratio: [5.0336456]\n"
     ]
    },
    {
     "data": {
      "application/vnd.jupyter.widget-view+json": {
       "model_id": "9a796c0c6abf473a8ecd300e4abd6fb8",
       "version_major": 2,
       "version_minor": 0
      },
      "text/plain": [
       "  0%|          | 0/150 [00:00<?, ?it/s]"
      ]
     },
     "metadata": {},
     "output_type": "display_data"
    },
    {
     "name": "stdout",
     "output_type": "stream",
     "text": [
      "TARGET: 5 Error Ratio: [66.13099]\n"
     ]
    },
    {
     "data": {
      "application/vnd.jupyter.widget-view+json": {
       "model_id": "d1f664c0053a48f1bf01f14ee9401519",
       "version_major": 2,
       "version_minor": 0
      },
      "text/plain": [
       "  0%|          | 0/150 [00:00<?, ?it/s]"
      ]
     },
     "metadata": {},
     "output_type": "display_data"
    },
    {
     "name": "stdout",
     "output_type": "stream",
     "text": [
      "TARGET: 6 Error Ratio: [155.24644]\n"
     ]
    },
    {
     "data": {
      "application/vnd.jupyter.widget-view+json": {
       "model_id": "6c3d1dbbf16f485ebc4c8a105abe80e1",
       "version_major": 2,
       "version_minor": 0
      },
      "text/plain": [
       "  0%|          | 0/150 [00:00<?, ?it/s]"
      ]
     },
     "metadata": {},
     "output_type": "display_data"
    },
    {
     "name": "stdout",
     "output_type": "stream",
     "text": [
      "TARGET: 7 Error Ratio: [62.0215]\n"
     ]
    },
    {
     "data": {
      "application/vnd.jupyter.widget-view+json": {
       "model_id": "167876b5fdd446009abc59439f67229e",
       "version_major": 2,
       "version_minor": 0
      },
      "text/plain": [
       "  0%|          | 0/150 [00:00<?, ?it/s]"
      ]
     },
     "metadata": {},
     "output_type": "display_data"
    },
    {
     "name": "stdout",
     "output_type": "stream",
     "text": [
      "TARGET: 8 Error Ratio: [62.484703]\n"
     ]
    },
    {
     "data": {
      "application/vnd.jupyter.widget-view+json": {
       "model_id": "9785ba349caa4187866fd300f2bb4d05",
       "version_major": 2,
       "version_minor": 0
      },
      "text/plain": [
       "  0%|          | 0/150 [00:00<?, ?it/s]"
      ]
     },
     "metadata": {},
     "output_type": "display_data"
    },
    {
     "name": "stdout",
     "output_type": "stream",
     "text": [
      "TARGET: 9 Error Ratio: [62.880703]\n"
     ]
    },
    {
     "data": {
      "application/vnd.jupyter.widget-view+json": {
       "model_id": "19f2a115e4ca4b7b88f010d0efd5b11e",
       "version_major": 2,
       "version_minor": 0
      },
      "text/plain": [
       "  0%|          | 0/150 [00:00<?, ?it/s]"
      ]
     },
     "metadata": {},
     "output_type": "display_data"
    },
    {
     "name": "stdout",
     "output_type": "stream",
     "text": [
      "TARGET: 10 Error Ratio: [57.31453]\n"
     ]
    },
    {
     "data": {
      "application/vnd.jupyter.widget-view+json": {
       "model_id": "a2b4e04fbdf040269dee65735ea6d967",
       "version_major": 2,
       "version_minor": 0
      },
      "text/plain": [
       "  0%|          | 0/150 [00:00<?, ?it/s]"
      ]
     },
     "metadata": {},
     "output_type": "display_data"
    },
    {
     "name": "stdout",
     "output_type": "stream",
     "text": [
      "TARGET: 11 Error Ratio: [22.365158]\n"
     ]
    }
   ],
   "source": [
    "err_curves = []\n",
    "for i in range(12):\n",
    "    _, QM9_metrics = train_QM9_predictor(QM9_net, QM9_params, eval_tgt_x=VAL_FPRINTS, eval_tgt_y=VAL_Y,\n",
    "                                         TARGET_LABEL=i, epochs=150, batch_size=256, schedule=2.5e-5)\n",
    "    train_loss, val_acc = QM9_metrics[:,0], QM9_metrics[:,1:]\n",
    "    error_ratios = val_acc / chemical_accuracy[i]\n",
    "    err_curves.append(error_ratios)\n",
    "    print(\"TARGET:\",i,\"Error Ratio:\", error_ratios[-1])"
   ]
  },
  {
   "cell_type": "code",
   "execution_count": 41,
   "id": "46585a07-b519-442d-894a-c37fa1223fac",
   "metadata": {
    "execution": {
     "iopub.execute_input": "2024-03-27T15:36:32.379596Z",
     "iopub.status.busy": "2024-03-27T15:36:32.379304Z",
     "iopub.status.idle": "2024-03-27T15:39:53.109140Z",
     "shell.execute_reply": "2024-03-27T15:39:53.108488Z",
     "shell.execute_reply.started": "2024-03-27T15:36:32.379575Z"
    }
   },
   "outputs": [
    {
     "data": {
      "application/vnd.jupyter.widget-view+json": {
       "model_id": "5215d421d3a0485186b1c0ef42107ac8",
       "version_major": 2,
       "version_minor": 0
      },
      "text/plain": [
       "  0%|          | 0/150 [00:00<?, ?it/s]"
      ]
     },
     "metadata": {},
     "output_type": "display_data"
    },
    {
     "name": "stdout",
     "output_type": "stream",
     "text": [
      "TARGET: 0 Error Ratio: [5.7318087]\n"
     ]
    },
    {
     "data": {
      "application/vnd.jupyter.widget-view+json": {
       "model_id": "f5f782876d5c4d19af74cb218b16fb55",
       "version_major": 2,
       "version_minor": 0
      },
      "text/plain": [
       "  0%|          | 0/150 [00:00<?, ?it/s]"
      ]
     },
     "metadata": {},
     "output_type": "display_data"
    },
    {
     "name": "stdout",
     "output_type": "stream",
     "text": [
      "TARGET: 1 Error Ratio: [25.19616]\n"
     ]
    },
    {
     "data": {
      "application/vnd.jupyter.widget-view+json": {
       "model_id": "4a10583fb9074215921e783ce414037e",
       "version_major": 2,
       "version_minor": 0
      },
      "text/plain": [
       "  0%|          | 0/150 [00:00<?, ?it/s]"
      ]
     },
     "metadata": {},
     "output_type": "display_data"
    },
    {
     "name": "stdout",
     "output_type": "stream",
     "text": [
      "TARGET: 2 Error Ratio: [3.5214412]\n"
     ]
    },
    {
     "data": {
      "application/vnd.jupyter.widget-view+json": {
       "model_id": "0151c1bdc6b94fa980fc705a8d145468",
       "version_major": 2,
       "version_minor": 0
      },
      "text/plain": [
       "  0%|          | 0/150 [00:00<?, ?it/s]"
      ]
     },
     "metadata": {},
     "output_type": "display_data"
    },
    {
     "name": "stdout",
     "output_type": "stream",
     "text": [
      "TARGET: 3 Error Ratio: [4.3396254]\n"
     ]
    },
    {
     "data": {
      "application/vnd.jupyter.widget-view+json": {
       "model_id": "1082a547c3bf443db0f6d4f9cfbc06cf",
       "version_major": 2,
       "version_minor": 0
      },
      "text/plain": [
       "  0%|          | 0/150 [00:00<?, ?it/s]"
      ]
     },
     "metadata": {},
     "output_type": "display_data"
    },
    {
     "name": "stdout",
     "output_type": "stream",
     "text": [
      "TARGET: 4 Error Ratio: [5.096123]\n"
     ]
    },
    {
     "data": {
      "application/vnd.jupyter.widget-view+json": {
       "model_id": "f419f281cf794b04ab9d65229d5ce493",
       "version_major": 2,
       "version_minor": 0
      },
      "text/plain": [
       "  0%|          | 0/150 [00:00<?, ?it/s]"
      ]
     },
     "metadata": {},
     "output_type": "display_data"
    },
    {
     "name": "stdout",
     "output_type": "stream",
     "text": [
      "TARGET: 5 Error Ratio: [67.64996]\n"
     ]
    },
    {
     "data": {
      "application/vnd.jupyter.widget-view+json": {
       "model_id": "fc1d8d3c071d4375ad0caf9c973b8ae7",
       "version_major": 2,
       "version_minor": 0
      },
      "text/plain": [
       "  0%|          | 0/150 [00:00<?, ?it/s]"
      ]
     },
     "metadata": {},
     "output_type": "display_data"
    },
    {
     "name": "stdout",
     "output_type": "stream",
     "text": [
      "TARGET: 6 Error Ratio: [157.36256]\n"
     ]
    },
    {
     "data": {
      "application/vnd.jupyter.widget-view+json": {
       "model_id": "75b093b459be4f01844786ebfa70108f",
       "version_major": 2,
       "version_minor": 0
      },
      "text/plain": [
       "  0%|          | 0/150 [00:00<?, ?it/s]"
      ]
     },
     "metadata": {},
     "output_type": "display_data"
    },
    {
     "name": "stdout",
     "output_type": "stream",
     "text": [
      "TARGET: 7 Error Ratio: [63.34794]\n"
     ]
    },
    {
     "data": {
      "application/vnd.jupyter.widget-view+json": {
       "model_id": "6a343603c7d44290b2ce1455ac4e1177",
       "version_major": 2,
       "version_minor": 0
      },
      "text/plain": [
       "  0%|          | 0/150 [00:00<?, ?it/s]"
      ]
     },
     "metadata": {},
     "output_type": "display_data"
    },
    {
     "name": "stdout",
     "output_type": "stream",
     "text": [
      "TARGET: 8 Error Ratio: [63.807438]\n"
     ]
    },
    {
     "data": {
      "application/vnd.jupyter.widget-view+json": {
       "model_id": "3158124a2ae345419a741bdd6fb08614",
       "version_major": 2,
       "version_minor": 0
      },
      "text/plain": [
       "  0%|          | 0/150 [00:00<?, ?it/s]"
      ]
     },
     "metadata": {},
     "output_type": "display_data"
    },
    {
     "name": "stdout",
     "output_type": "stream",
     "text": [
      "TARGET: 9 Error Ratio: [64.22366]\n"
     ]
    },
    {
     "data": {
      "application/vnd.jupyter.widget-view+json": {
       "model_id": "b753526feb2c4781807b23ebcd95b0cd",
       "version_major": 2,
       "version_minor": 0
      },
      "text/plain": [
       "  0%|          | 0/150 [00:00<?, ?it/s]"
      ]
     },
     "metadata": {},
     "output_type": "display_data"
    },
    {
     "name": "stdout",
     "output_type": "stream",
     "text": [
      "TARGET: 10 Error Ratio: [58.53461]\n"
     ]
    },
    {
     "data": {
      "application/vnd.jupyter.widget-view+json": {
       "model_id": "30f98074a81d474a8a286514e4faef99",
       "version_major": 2,
       "version_minor": 0
      },
      "text/plain": [
       "  0%|          | 0/150 [00:00<?, ?it/s]"
      ]
     },
     "metadata": {},
     "output_type": "display_data"
    },
    {
     "name": "stdout",
     "output_type": "stream",
     "text": [
      "TARGET: 11 Error Ratio: [22.840633]\n"
     ]
    }
   ],
   "source": [
    "err_curves = []\n",
    "for i in range(12):\n",
    "    _, QM9_metrics = train_QM9_predictor(QM9_net, QM9_params, eval_tgt_x=VAL_FPRINTS, eval_tgt_y=VAL_Y,\n",
    "                                         TARGET_LABEL=i, epochs=150, batch_size=256, schedule=2e-5)\n",
    "    train_loss, val_acc = QM9_metrics[:,0], QM9_metrics[:,1:]\n",
    "    error_ratios = val_acc / chemical_accuracy[i]\n",
    "    err_curves.append(error_ratios)\n",
    "    print(\"TARGET:\",i,\"Error Ratio:\", error_ratios[-1])"
   ]
  },
  {
   "cell_type": "code",
   "execution_count": 42,
   "id": "35964be4-8d07-4be6-add0-5bc7277f0d4f",
   "metadata": {
    "execution": {
     "iopub.execute_input": "2024-03-27T15:44:37.228161Z",
     "iopub.status.busy": "2024-03-27T15:44:37.227234Z",
     "iopub.status.idle": "2024-03-27T15:47:56.019524Z",
     "shell.execute_reply": "2024-03-27T15:47:56.018985Z",
     "shell.execute_reply.started": "2024-03-27T15:44:37.228129Z"
    }
   },
   "outputs": [
    {
     "data": {
      "application/vnd.jupyter.widget-view+json": {
       "model_id": "bcbb9946257449a2889c423976c6df51",
       "version_major": 2,
       "version_minor": 0
      },
      "text/plain": [
       "  0%|          | 0/150 [00:00<?, ?it/s]"
      ]
     },
     "metadata": {},
     "output_type": "display_data"
    },
    {
     "name": "stdout",
     "output_type": "stream",
     "text": [
      "TARGET: 0 Error Ratio: [5.678249]\n"
     ]
    },
    {
     "data": {
      "application/vnd.jupyter.widget-view+json": {
       "model_id": "0978408b802b4422b3a43315a2c34646",
       "version_major": 2,
       "version_minor": 0
      },
      "text/plain": [
       "  0%|          | 0/150 [00:00<?, ?it/s]"
      ]
     },
     "metadata": {},
     "output_type": "display_data"
    },
    {
     "name": "stdout",
     "output_type": "stream",
     "text": [
      "TARGET: 1 Error Ratio: [24.268883]\n"
     ]
    },
    {
     "data": {
      "application/vnd.jupyter.widget-view+json": {
       "model_id": "c59ac48ecba04863b4bee8c5362589d7",
       "version_major": 2,
       "version_minor": 0
      },
      "text/plain": [
       "  0%|          | 0/150 [00:00<?, ?it/s]"
      ]
     },
     "metadata": {},
     "output_type": "display_data"
    },
    {
     "name": "stdout",
     "output_type": "stream",
     "text": [
      "TARGET: 2 Error Ratio: [3.4694996]\n"
     ]
    },
    {
     "data": {
      "application/vnd.jupyter.widget-view+json": {
       "model_id": "9e3cda4931c84653a44433a029ea5006",
       "version_major": 2,
       "version_minor": 0
      },
      "text/plain": [
       "  0%|          | 0/150 [00:00<?, ?it/s]"
      ]
     },
     "metadata": {},
     "output_type": "display_data"
    },
    {
     "name": "stdout",
     "output_type": "stream",
     "text": [
      "TARGET: 3 Error Ratio: [4.2405434]\n"
     ]
    },
    {
     "data": {
      "application/vnd.jupyter.widget-view+json": {
       "model_id": "597d978391084d30911b0126d1ca0861",
       "version_major": 2,
       "version_minor": 0
      },
      "text/plain": [
       "  0%|          | 0/150 [00:00<?, ?it/s]"
      ]
     },
     "metadata": {},
     "output_type": "display_data"
    },
    {
     "name": "stdout",
     "output_type": "stream",
     "text": [
      "TARGET: 4 Error Ratio: [4.967331]\n"
     ]
    },
    {
     "data": {
      "application/vnd.jupyter.widget-view+json": {
       "model_id": "ee253763d99f4132ba52acec020e2dfb",
       "version_major": 2,
       "version_minor": 0
      },
      "text/plain": [
       "  0%|          | 0/150 [00:00<?, ?it/s]"
      ]
     },
     "metadata": {},
     "output_type": "display_data"
    },
    {
     "name": "stdout",
     "output_type": "stream",
     "text": [
      "TARGET: 5 Error Ratio: [64.847]\n"
     ]
    },
    {
     "data": {
      "application/vnd.jupyter.widget-view+json": {
       "model_id": "51131946d6b34bcebdfd1722f4e4af3a",
       "version_major": 2,
       "version_minor": 0
      },
      "text/plain": [
       "  0%|          | 0/150 [00:00<?, ?it/s]"
      ]
     },
     "metadata": {},
     "output_type": "display_data"
    },
    {
     "name": "stdout",
     "output_type": "stream",
     "text": [
      "TARGET: 6 Error Ratio: [153.59447]\n"
     ]
    },
    {
     "data": {
      "application/vnd.jupyter.widget-view+json": {
       "model_id": "04f17d692b244d20b52106a52405f96c",
       "version_major": 2,
       "version_minor": 0
      },
      "text/plain": [
       "  0%|          | 0/150 [00:00<?, ?it/s]"
      ]
     },
     "metadata": {},
     "output_type": "display_data"
    },
    {
     "name": "stdout",
     "output_type": "stream",
     "text": [
      "TARGET: 7 Error Ratio: [61.086414]\n"
     ]
    },
    {
     "data": {
      "application/vnd.jupyter.widget-view+json": {
       "model_id": "8e93ace9f44e4b8daba16aeb59b9c05c",
       "version_major": 2,
       "version_minor": 0
      },
      "text/plain": [
       "  0%|          | 0/150 [00:00<?, ?it/s]"
      ]
     },
     "metadata": {},
     "output_type": "display_data"
    },
    {
     "name": "stdout",
     "output_type": "stream",
     "text": [
      "TARGET: 8 Error Ratio: [61.555656]\n"
     ]
    },
    {
     "data": {
      "application/vnd.jupyter.widget-view+json": {
       "model_id": "5b55fa0294b847668d93658a60bc518f",
       "version_major": 2,
       "version_minor": 0
      },
      "text/plain": [
       "  0%|          | 0/150 [00:00<?, ?it/s]"
      ]
     },
     "metadata": {},
     "output_type": "display_data"
    },
    {
     "name": "stdout",
     "output_type": "stream",
     "text": [
      "TARGET: 9 Error Ratio: [61.919617]\n"
     ]
    },
    {
     "data": {
      "application/vnd.jupyter.widget-view+json": {
       "model_id": "8215b24c797345d8aa23447812ba0528",
       "version_major": 2,
       "version_minor": 0
      },
      "text/plain": [
       "  0%|          | 0/150 [00:00<?, ?it/s]"
      ]
     },
     "metadata": {},
     "output_type": "display_data"
    },
    {
     "name": "stdout",
     "output_type": "stream",
     "text": [
      "TARGET: 10 Error Ratio: [56.459785]\n"
     ]
    },
    {
     "data": {
      "application/vnd.jupyter.widget-view+json": {
       "model_id": "b4f63adf8a04417e9cfbe70f516ab8ba",
       "version_major": 2,
       "version_minor": 0
      },
      "text/plain": [
       "  0%|          | 0/150 [00:00<?, ?it/s]"
      ]
     },
     "metadata": {},
     "output_type": "display_data"
    },
    {
     "name": "stdout",
     "output_type": "stream",
     "text": [
      "TARGET: 11 Error Ratio: [21.953764]\n"
     ]
    }
   ],
   "source": [
    "err_curves = []\n",
    "for i in range(12):\n",
    "    _, QM9_metrics = train_QM9_predictor(QM9_net, QM9_params, eval_tgt_x=VAL_FPRINTS, eval_tgt_y=VAL_Y,\n",
    "                                         TARGET_LABEL=i, epochs=150, batch_size=256, schedule=3e-5)\n",
    "    train_loss, val_acc = QM9_metrics[:,0], QM9_metrics[:,1:]\n",
    "    error_ratios = val_acc / chemical_accuracy[i]\n",
    "    err_curves.append(error_ratios)\n",
    "    print(\"TARGET:\",i,\"Error Ratio:\", error_ratios[-1])"
   ]
  },
  {
   "cell_type": "code",
   "execution_count": 43,
   "id": "e8813d36-9e68-447c-b9f1-2b54398671e8",
   "metadata": {
    "execution": {
     "iopub.execute_input": "2024-03-27T15:49:05.710817Z",
     "iopub.status.busy": "2024-03-27T15:49:05.710170Z",
     "iopub.status.idle": "2024-03-27T15:52:25.330335Z",
     "shell.execute_reply": "2024-03-27T15:52:25.329656Z",
     "shell.execute_reply.started": "2024-03-27T15:49:05.710792Z"
    }
   },
   "outputs": [
    {
     "data": {
      "application/vnd.jupyter.widget-view+json": {
       "model_id": "d5be2ef730db42009e3722854e58b5ab",
       "version_major": 2,
       "version_minor": 0
      },
      "text/plain": [
       "  0%|          | 0/150 [00:00<?, ?it/s]"
      ]
     },
     "metadata": {},
     "output_type": "display_data"
    },
    {
     "name": "stdout",
     "output_type": "stream",
     "text": [
      "TARGET: 0 Error Ratio: [5.648218]\n"
     ]
    },
    {
     "data": {
      "application/vnd.jupyter.widget-view+json": {
       "model_id": "a18f093277754d639c4da393c244294a",
       "version_major": 2,
       "version_minor": 0
      },
      "text/plain": [
       "  0%|          | 0/150 [00:00<?, ?it/s]"
      ]
     },
     "metadata": {},
     "output_type": "display_data"
    },
    {
     "name": "stdout",
     "output_type": "stream",
     "text": [
      "TARGET: 1 Error Ratio: [23.956543]\n"
     ]
    },
    {
     "data": {
      "application/vnd.jupyter.widget-view+json": {
       "model_id": "2067c017f2fc4a73bff0399bfb9ada64",
       "version_major": 2,
       "version_minor": 0
      },
      "text/plain": [
       "  0%|          | 0/150 [00:00<?, ?it/s]"
      ]
     },
     "metadata": {},
     "output_type": "display_data"
    },
    {
     "name": "stdout",
     "output_type": "stream",
     "text": [
      "TARGET: 2 Error Ratio: [3.4585054]\n"
     ]
    },
    {
     "data": {
      "application/vnd.jupyter.widget-view+json": {
       "model_id": "04543f09e9dc469a86e1d63e94436208",
       "version_major": 2,
       "version_minor": 0
      },
      "text/plain": [
       "  0%|          | 0/150 [00:00<?, ?it/s]"
      ]
     },
     "metadata": {},
     "output_type": "display_data"
    },
    {
     "name": "stdout",
     "output_type": "stream",
     "text": [
      "TARGET: 3 Error Ratio: [4.1956296]\n"
     ]
    },
    {
     "data": {
      "application/vnd.jupyter.widget-view+json": {
       "model_id": "42a3e1ae75644619a0ef50aa05899377",
       "version_major": 2,
       "version_minor": 0
      },
      "text/plain": [
       "  0%|          | 0/150 [00:00<?, ?it/s]"
      ]
     },
     "metadata": {},
     "output_type": "display_data"
    },
    {
     "name": "stdout",
     "output_type": "stream",
     "text": [
      "TARGET: 4 Error Ratio: [4.933931]\n"
     ]
    },
    {
     "data": {
      "application/vnd.jupyter.widget-view+json": {
       "model_id": "6e32ae780c13498382fd1b023336d7cf",
       "version_major": 2,
       "version_minor": 0
      },
      "text/plain": [
       "  0%|          | 0/150 [00:00<?, ?it/s]"
      ]
     },
     "metadata": {},
     "output_type": "display_data"
    },
    {
     "name": "stdout",
     "output_type": "stream",
     "text": [
      "TARGET: 5 Error Ratio: [63.595203]\n"
     ]
    },
    {
     "data": {
      "application/vnd.jupyter.widget-view+json": {
       "model_id": "d115e705db284ec9ba6a122ad5d0da0b",
       "version_major": 2,
       "version_minor": 0
      },
      "text/plain": [
       "  0%|          | 0/150 [00:00<?, ?it/s]"
      ]
     },
     "metadata": {},
     "output_type": "display_data"
    },
    {
     "name": "stdout",
     "output_type": "stream",
     "text": [
      "TARGET: 6 Error Ratio: [152.15788]\n"
     ]
    },
    {
     "data": {
      "application/vnd.jupyter.widget-view+json": {
       "model_id": "78dedc01fb7a429297967a49592c860b",
       "version_major": 2,
       "version_minor": 0
      },
      "text/plain": [
       "  0%|          | 0/150 [00:00<?, ?it/s]"
      ]
     },
     "metadata": {},
     "output_type": "display_data"
    },
    {
     "name": "stdout",
     "output_type": "stream",
     "text": [
      "TARGET: 7 Error Ratio: [60.343887]\n"
     ]
    },
    {
     "data": {
      "application/vnd.jupyter.widget-view+json": {
       "model_id": "81cb831898ba4069a8cd072c7ecda616",
       "version_major": 2,
       "version_minor": 0
      },
      "text/plain": [
       "  0%|          | 0/150 [00:00<?, ?it/s]"
      ]
     },
     "metadata": {},
     "output_type": "display_data"
    },
    {
     "name": "stdout",
     "output_type": "stream",
     "text": [
      "TARGET: 8 Error Ratio: [60.73525]\n"
     ]
    },
    {
     "data": {
      "application/vnd.jupyter.widget-view+json": {
       "model_id": "8ddb221b9da14585a36d0013e3b3e9d2",
       "version_major": 2,
       "version_minor": 0
      },
      "text/plain": [
       "  0%|          | 0/150 [00:00<?, ?it/s]"
      ]
     },
     "metadata": {},
     "output_type": "display_data"
    },
    {
     "name": "stdout",
     "output_type": "stream",
     "text": [
      "TARGET: 9 Error Ratio: [61.176216]\n"
     ]
    },
    {
     "data": {
      "application/vnd.jupyter.widget-view+json": {
       "model_id": "1ce6e33ab7914d2e874d8dee62f673f5",
       "version_major": 2,
       "version_minor": 0
      },
      "text/plain": [
       "  0%|          | 0/150 [00:00<?, ?it/s]"
      ]
     },
     "metadata": {},
     "output_type": "display_data"
    },
    {
     "name": "stdout",
     "output_type": "stream",
     "text": [
      "TARGET: 10 Error Ratio: [55.707233]\n"
     ]
    },
    {
     "data": {
      "application/vnd.jupyter.widget-view+json": {
       "model_id": "3086d699aa874150894dff6d475764de",
       "version_major": 2,
       "version_minor": 0
      },
      "text/plain": [
       "  0%|          | 0/150 [00:00<?, ?it/s]"
      ]
     },
     "metadata": {},
     "output_type": "display_data"
    },
    {
     "name": "stdout",
     "output_type": "stream",
     "text": [
      "TARGET: 11 Error Ratio: [21.672424]\n"
     ]
    }
   ],
   "source": [
    "err_curves = []\n",
    "for i in range(12):\n",
    "    _, QM9_metrics = train_QM9_predictor(QM9_net, QM9_params, eval_tgt_x=VAL_FPRINTS, eval_tgt_y=VAL_Y,\n",
    "                                         TARGET_LABEL=i, epochs=150, batch_size=256, schedule=3.5e-5)\n",
    "    train_loss, val_acc = QM9_metrics[:,0], QM9_metrics[:,1:]\n",
    "    error_ratios = val_acc / chemical_accuracy[i]\n",
    "    err_curves.append(error_ratios)\n",
    "    print(\"TARGET:\",i,\"Error Ratio:\", error_ratios[-1])"
   ]
  },
  {
   "cell_type": "code",
   "execution_count": 44,
   "id": "394b9e09-45a6-4c4d-8a9a-cde73fb927f2",
   "metadata": {
    "execution": {
     "iopub.execute_input": "2024-03-27T15:56:06.169851Z",
     "iopub.status.busy": "2024-03-27T15:56:06.168845Z",
     "iopub.status.idle": "2024-03-27T15:59:25.638793Z",
     "shell.execute_reply": "2024-03-27T15:59:25.638269Z",
     "shell.execute_reply.started": "2024-03-27T15:56:06.169813Z"
    }
   },
   "outputs": [
    {
     "data": {
      "application/vnd.jupyter.widget-view+json": {
       "model_id": "7006195856834a9aa68151d52b1d6c72",
       "version_major": 2,
       "version_minor": 0
      },
      "text/plain": [
       "  0%|          | 0/150 [00:00<?, ?it/s]"
      ]
     },
     "metadata": {},
     "output_type": "display_data"
    },
    {
     "name": "stdout",
     "output_type": "stream",
     "text": [
      "TARGET: 0 Error Ratio: [5.601755]\n"
     ]
    },
    {
     "data": {
      "application/vnd.jupyter.widget-view+json": {
       "model_id": "eed4711c0c0a42e7b8e5d399b7c56f06",
       "version_major": 2,
       "version_minor": 0
      },
      "text/plain": [
       "  0%|          | 0/150 [00:00<?, ?it/s]"
      ]
     },
     "metadata": {},
     "output_type": "display_data"
    },
    {
     "name": "stdout",
     "output_type": "stream",
     "text": [
      "TARGET: 1 Error Ratio: [23.656494]\n"
     ]
    },
    {
     "data": {
      "application/vnd.jupyter.widget-view+json": {
       "model_id": "add6f0f1605e43cfa76a99419b2e5815",
       "version_major": 2,
       "version_minor": 0
      },
      "text/plain": [
       "  0%|          | 0/150 [00:00<?, ?it/s]"
      ]
     },
     "metadata": {},
     "output_type": "display_data"
    },
    {
     "name": "stdout",
     "output_type": "stream",
     "text": [
      "TARGET: 2 Error Ratio: [3.4165592]\n"
     ]
    },
    {
     "data": {
      "application/vnd.jupyter.widget-view+json": {
       "model_id": "5f574ec74b1f46e1a57ab3f186d4e705",
       "version_major": 2,
       "version_minor": 0
      },
      "text/plain": [
       "  0%|          | 0/150 [00:00<?, ?it/s]"
      ]
     },
     "metadata": {},
     "output_type": "display_data"
    },
    {
     "name": "stdout",
     "output_type": "stream",
     "text": [
      "TARGET: 3 Error Ratio: [4.152091]\n"
     ]
    },
    {
     "data": {
      "application/vnd.jupyter.widget-view+json": {
       "model_id": "0fcd31b8a9944f1f8102d4fcf8e9d264",
       "version_major": 2,
       "version_minor": 0
      },
      "text/plain": [
       "  0%|          | 0/150 [00:00<?, ?it/s]"
      ]
     },
     "metadata": {},
     "output_type": "display_data"
    },
    {
     "name": "stdout",
     "output_type": "stream",
     "text": [
      "TARGET: 4 Error Ratio: [4.9943604]\n"
     ]
    },
    {
     "data": {
      "application/vnd.jupyter.widget-view+json": {
       "model_id": "672e8ca856e344a69caaeab6ee250040",
       "version_major": 2,
       "version_minor": 0
      },
      "text/plain": [
       "  0%|          | 0/150 [00:00<?, ?it/s]"
      ]
     },
     "metadata": {},
     "output_type": "display_data"
    },
    {
     "name": "stdout",
     "output_type": "stream",
     "text": [
      "TARGET: 5 Error Ratio: [63.37252]\n"
     ]
    },
    {
     "data": {
      "application/vnd.jupyter.widget-view+json": {
       "model_id": "f66aaa69116d4d6e8e297d2b269f670b",
       "version_major": 2,
       "version_minor": 0
      },
      "text/plain": [
       "  0%|          | 0/150 [00:00<?, ?it/s]"
      ]
     },
     "metadata": {},
     "output_type": "display_data"
    },
    {
     "name": "stdout",
     "output_type": "stream",
     "text": [
      "TARGET: 6 Error Ratio: [151.74803]\n"
     ]
    },
    {
     "data": {
      "application/vnd.jupyter.widget-view+json": {
       "model_id": "23b1830e4b5e4928b2d0d9625053e1f4",
       "version_major": 2,
       "version_minor": 0
      },
      "text/plain": [
       "  0%|          | 0/150 [00:00<?, ?it/s]"
      ]
     },
     "metadata": {},
     "output_type": "display_data"
    },
    {
     "name": "stdout",
     "output_type": "stream",
     "text": [
      "TARGET: 7 Error Ratio: [59.948666]\n"
     ]
    },
    {
     "data": {
      "application/vnd.jupyter.widget-view+json": {
       "model_id": "80f8e238e3884278b59d73b89627bc72",
       "version_major": 2,
       "version_minor": 0
      },
      "text/plain": [
       "  0%|          | 0/150 [00:00<?, ?it/s]"
      ]
     },
     "metadata": {},
     "output_type": "display_data"
    },
    {
     "name": "stdout",
     "output_type": "stream",
     "text": [
      "TARGET: 8 Error Ratio: [60.47714]\n"
     ]
    },
    {
     "data": {
      "application/vnd.jupyter.widget-view+json": {
       "model_id": "6b74d1ac9a884b2d90166ecab8727a04",
       "version_major": 2,
       "version_minor": 0
      },
      "text/plain": [
       "  0%|          | 0/150 [00:00<?, ?it/s]"
      ]
     },
     "metadata": {},
     "output_type": "display_data"
    },
    {
     "name": "stdout",
     "output_type": "stream",
     "text": [
      "TARGET: 9 Error Ratio: [60.815792]\n"
     ]
    },
    {
     "data": {
      "application/vnd.jupyter.widget-view+json": {
       "model_id": "3d4d3ddbfaed446cb4527704eb2df0d9",
       "version_major": 2,
       "version_minor": 0
      },
      "text/plain": [
       "  0%|          | 0/150 [00:00<?, ?it/s]"
      ]
     },
     "metadata": {},
     "output_type": "display_data"
    },
    {
     "name": "stdout",
     "output_type": "stream",
     "text": [
      "TARGET: 10 Error Ratio: [55.35364]\n"
     ]
    },
    {
     "data": {
      "application/vnd.jupyter.widget-view+json": {
       "model_id": "ab609d1c7af0411e8bf006d9c5813f2f",
       "version_major": 2,
       "version_minor": 0
      },
      "text/plain": [
       "  0%|          | 0/150 [00:00<?, ?it/s]"
      ]
     },
     "metadata": {},
     "output_type": "display_data"
    },
    {
     "name": "stdout",
     "output_type": "stream",
     "text": [
      "TARGET: 11 Error Ratio: [21.387054]\n"
     ]
    }
   ],
   "source": [
    "err_curves = []\n",
    "for i in range(12):\n",
    "    _, QM9_metrics = train_QM9_predictor(QM9_net, QM9_params, eval_tgt_x=TEST_FPRINTS, eval_tgt_y=TEST_Y,\n",
    "                                         TARGET_LABEL=i, epochs=150, batch_size=256, schedule=3.5e-5)\n",
    "    train_loss, val_acc = QM9_metrics[:,0], QM9_metrics[:,1:]\n",
    "    error_ratios = val_acc / chemical_accuracy[i]\n",
    "    err_curves.append(error_ratios)\n",
    "    print(\"TARGET:\",i,\"Error Ratio:\", error_ratios[-1])"
   ]
  },
  {
   "cell_type": "code",
   "execution_count": 45,
   "id": "57f8d159-6fc3-4194-9b93-5439d98269fe",
   "metadata": {
    "execution": {
     "iopub.execute_input": "2024-03-27T15:59:48.350361Z",
     "iopub.status.busy": "2024-03-27T15:59:48.349894Z",
     "iopub.status.idle": "2024-03-27T15:59:48.672772Z",
     "shell.execute_reply": "2024-03-27T15:59:48.672286Z",
     "shell.execute_reply.started": "2024-03-27T15:59:48.350343Z"
    }
   },
   "outputs": [
    {
     "data": {
      "image/png": "[encoded data removed]",
      "text/plain": [
       "<Figure size 640x480 with 1 Axes>"
      ]
     },
     "metadata": {},
     "output_type": "display_data"
    }
   ],
   "source": [
    "for i, p in enumerate(err_curves):\n",
    "    plt.plot(p, label=\"Target #\"+str(i))\n",
    "plt.title(\"ST Test Error Ratio Curves\")\n",
    "plt.xlabel(\"Epoch\")\n",
    "plt.ylabel(\"Error Ratio (Log Scale)\")\n",
    "plt.yscale('log')\n",
    "plt.legend(loc='upper center', bbox_to_anchor=(0.5, -0.1), shadow=True, ncol=2)\n",
    "plt.show()"
   ]
  },
  {
   "cell_type": "markdown",
   "id": "2de9852d-ba12-4e32-a0f6-5f0cc853784c",
   "metadata": {},
   "source": [
    "## Learning Rate Grid Search"
   ]
  },
  {
   "cell_type": "code",
   "execution_count": 28,
   "id": "9f61ac07",
   "metadata": {
    "execution": {
     "iopub.execute_input": "2024-03-24T17:38:44.736766Z",
     "iopub.status.busy": "2024-03-24T17:38:44.736470Z",
     "iopub.status.idle": "2024-03-24T18:09:24.665878Z",
     "shell.execute_reply": "2024-03-24T18:09:24.665132Z",
     "shell.execute_reply.started": "2024-03-24T17:38:44.736743Z"
    }
   },
   "outputs": [
    {
     "data": {
      "application/vnd.jupyter.widget-view+json": {
       "model_id": "ade077f4cc214cd18dc87b446104ed4d",
       "version_major": 2,
       "version_minor": 0
      },
      "text/plain": [
       "  0%|          | 0/150 [00:00<?, ?it/s]"
      ]
     },
     "metadata": {},
     "output_type": "display_data"
    },
    {
     "name": "stdout",
     "output_type": "stream",
     "text": [
      "TARGET: 0 Error Ratio: [10.554051]\n"
     ]
    },
    {
     "data": {
      "application/vnd.jupyter.widget-view+json": {
       "model_id": "2ec54b4af1e54b2baf5157b902ab52cb",
       "version_major": 2,
       "version_minor": 0
      },
      "text/plain": [
       "  0%|          | 0/150 [00:00<?, ?it/s]"
      ]
     },
     "metadata": {},
     "output_type": "display_data"
    },
    {
     "name": "stdout",
     "output_type": "stream",
     "text": [
      "TARGET: 1 Error Ratio: [88.63844]\n"
     ]
    },
    {
     "data": {
      "application/vnd.jupyter.widget-view+json": {
       "model_id": "ed05ca04e33e47c09e2163e279585154",
       "version_major": 2,
       "version_minor": 0
      },
      "text/plain": [
       "  0%|          | 0/150 [00:00<?, ?it/s]"
      ]
     },
     "metadata": {},
     "output_type": "display_data"
    },
    {
     "name": "stdout",
     "output_type": "stream",
     "text": [
      "TARGET: 2 Error Ratio: [6.765303]\n"
     ]
    },
    {
     "data": {
      "application/vnd.jupyter.widget-view+json": {
       "model_id": "2d4d06e3dbe94cfcb0cd013b19b5f5df",
       "version_major": 2,
       "version_minor": 0
      },
      "text/plain": [
       "  0%|          | 0/150 [00:00<?, ?it/s]"
      ]
     },
     "metadata": {},
     "output_type": "display_data"
    },
    {
     "name": "stdout",
     "output_type": "stream",
     "text": [
      "TARGET: 3 Error Ratio: [13.440478]\n"
     ]
    },
    {
     "data": {
      "application/vnd.jupyter.widget-view+json": {
       "model_id": "4c1b57b372e24e138215294c879745dd",
       "version_major": 2,
       "version_minor": 0
      },
      "text/plain": [
       "  0%|          | 0/150 [00:00<?, ?it/s]"
      ]
     },
     "metadata": {},
     "output_type": "display_data"
    },
    {
     "name": "stdout",
     "output_type": "stream",
     "text": [
      "TARGET: 4 Error Ratio: [15.101503]\n"
     ]
    },
    {
     "data": {
      "application/vnd.jupyter.widget-view+json": {
       "model_id": "8f981d01433143d284bfea071d16aa6d",
       "version_major": 2,
       "version_minor": 0
      },
      "text/plain": [
       "  0%|          | 0/150 [00:00<?, ?it/s]"
      ]
     },
     "metadata": {},
     "output_type": "display_data"
    },
    {
     "name": "stdout",
     "output_type": "stream",
     "text": [
      "TARGET: 5 Error Ratio: [139.35402]\n"
     ]
    },
    {
     "data": {
      "application/vnd.jupyter.widget-view+json": {
       "model_id": "09bfe53cbf004e95b0cc462837f242f8",
       "version_major": 2,
       "version_minor": 0
      },
      "text/plain": [
       "  0%|          | 0/150 [00:00<?, ?it/s]"
      ]
     },
     "metadata": {},
     "output_type": "display_data"
    },
    {
     "name": "stdout",
     "output_type": "stream",
     "text": [
      "TARGET: 6 Error Ratio: [264.80072]\n"
     ]
    },
    {
     "data": {
      "application/vnd.jupyter.widget-view+json": {
       "model_id": "776b1e1417624102894fb08f2dc0330d",
       "version_major": 2,
       "version_minor": 0
      },
      "text/plain": [
       "  0%|          | 0/150 [00:00<?, ?it/s]"
      ]
     },
     "metadata": {},
     "output_type": "display_data"
    },
    {
     "name": "stdout",
     "output_type": "stream",
     "text": [
      "TARGET: 7 Error Ratio: [63.612442]\n"
     ]
    },
    {
     "data": {
      "application/vnd.jupyter.widget-view+json": {
       "model_id": "68d9b73967494b97968a98318a43358b",
       "version_major": 2,
       "version_minor": 0
      },
      "text/plain": [
       "  0%|          | 0/150 [00:00<?, ?it/s]"
      ]
     },
     "metadata": {},
     "output_type": "display_data"
    },
    {
     "name": "stdout",
     "output_type": "stream",
     "text": [
      "TARGET: 8 Error Ratio: [64.294785]\n"
     ]
    },
    {
     "data": {
      "application/vnd.jupyter.widget-view+json": {
       "model_id": "739c1c99fa134868bc2f1e4c22dd1085",
       "version_major": 2,
       "version_minor": 0
      },
      "text/plain": [
       "  0%|          | 0/150 [00:00<?, ?it/s]"
      ]
     },
     "metadata": {},
     "output_type": "display_data"
    },
    {
     "name": "stdout",
     "output_type": "stream",
     "text": [
      "TARGET: 9 Error Ratio: [64.977]\n"
     ]
    },
    {
     "data": {
      "application/vnd.jupyter.widget-view+json": {
       "model_id": "7a4d27137b0947629c7e3f88f1103513",
       "version_major": 2,
       "version_minor": 0
      },
      "text/plain": [
       "  0%|          | 0/150 [00:00<?, ?it/s]"
      ]
     },
     "metadata": {},
     "output_type": "display_data"
    },
    {
     "name": "stdout",
     "output_type": "stream",
     "text": [
      "TARGET: 10 Error Ratio: [59.0388]\n"
     ]
    },
    {
     "data": {
      "application/vnd.jupyter.widget-view+json": {
       "model_id": "8a62685605884337b241423eaeb0fa94",
       "version_major": 2,
       "version_minor": 0
      },
      "text/plain": [
       "  0%|          | 0/150 [00:00<?, ?it/s]"
      ]
     },
     "metadata": {},
     "output_type": "display_data"
    },
    {
     "name": "stdout",
     "output_type": "stream",
     "text": [
      "TARGET: 11 Error Ratio: [47.41336]\n"
     ]
    },
    {
     "data": {
      "application/vnd.jupyter.widget-view+json": {
       "model_id": "3a5d73139f944990b17f14a2fc85432e",
       "version_major": 2,
       "version_minor": 0
      },
      "text/plain": [
       "  0%|          | 0/150 [00:00<?, ?it/s]"
      ]
     },
     "metadata": {},
     "output_type": "display_data"
    },
    {
     "name": "stdout",
     "output_type": "stream",
     "text": [
      "TARGET: 0 Error Ratio: [10.233465]\n"
     ]
    },
    {
     "data": {
      "application/vnd.jupyter.widget-view+json": {
       "model_id": "45ef04fec1e54cd1be2f142e723062ea",
       "version_major": 2,
       "version_minor": 0
      },
      "text/plain": [
       "  0%|          | 0/150 [00:00<?, ?it/s]"
      ]
     },
     "metadata": {},
     "output_type": "display_data"
    },
    {
     "name": "stdout",
     "output_type": "stream",
     "text": [
      "TARGET: 1 Error Ratio: [91.307915]\n"
     ]
    },
    {
     "data": {
      "application/vnd.jupyter.widget-view+json": {
       "model_id": "c3b8a59e5c4f41a29c5dabb0a90fc8fb",
       "version_major": 2,
       "version_minor": 0
      },
      "text/plain": [
       "  0%|          | 0/150 [00:00<?, ?it/s]"
      ]
     },
     "metadata": {},
     "output_type": "display_data"
    },
    {
     "name": "stdout",
     "output_type": "stream",
     "text": [
      "TARGET: 2 Error Ratio: [6.58284]\n"
     ]
    },
    {
     "data": {
      "application/vnd.jupyter.widget-view+json": {
       "model_id": "98e32fd783954688bfaf9ae11d2ede43",
       "version_major": 2,
       "version_minor": 0
      },
      "text/plain": [
       "  0%|          | 0/150 [00:00<?, ?it/s]"
      ]
     },
     "metadata": {},
     "output_type": "display_data"
    },
    {
     "name": "stdout",
     "output_type": "stream",
     "text": [
      "TARGET: 3 Error Ratio: [14.238322]\n"
     ]
    },
    {
     "data": {
      "application/vnd.jupyter.widget-view+json": {
       "model_id": "95aa7b1aab8547ecbc637a123391162b",
       "version_major": 2,
       "version_minor": 0
      },
      "text/plain": [
       "  0%|          | 0/150 [00:00<?, ?it/s]"
      ]
     },
     "metadata": {},
     "output_type": "display_data"
    },
    {
     "name": "stdout",
     "output_type": "stream",
     "text": [
      "TARGET: 4 Error Ratio: [16.138279]\n"
     ]
    },
    {
     "data": {
      "application/vnd.jupyter.widget-view+json": {
       "model_id": "bbb57cba5450421b8aae394d9b0b136f",
       "version_major": 2,
       "version_minor": 0
      },
      "text/plain": [
       "  0%|          | 0/150 [00:00<?, ?it/s]"
      ]
     },
     "metadata": {},
     "output_type": "display_data"
    },
    {
     "name": "stdout",
     "output_type": "stream",
     "text": [
      "TARGET: 5 Error Ratio: [135.58022]\n"
     ]
    },
    {
     "data": {
      "application/vnd.jupyter.widget-view+json": {
       "model_id": "da95a84cfba641c8a697a0f536cc7ca8",
       "version_major": 2,
       "version_minor": 0
      },
      "text/plain": [
       "  0%|          | 0/150 [00:00<?, ?it/s]"
      ]
     },
     "metadata": {},
     "output_type": "display_data"
    },
    {
     "name": "stdout",
     "output_type": "stream",
     "text": [
      "TARGET: 6 Error Ratio: [250.25516]\n"
     ]
    },
    {
     "data": {
      "application/vnd.jupyter.widget-view+json": {
       "model_id": "fd89224fc54f4d4ea0ea095573f02dcd",
       "version_major": 2,
       "version_minor": 0
      },
      "text/plain": [
       "  0%|          | 0/150 [00:00<?, ?it/s]"
      ]
     },
     "metadata": {},
     "output_type": "display_data"
    },
    {
     "name": "stdout",
     "output_type": "stream",
     "text": [
      "TARGET: 7 Error Ratio: [60.53234]\n"
     ]
    },
    {
     "data": {
      "application/vnd.jupyter.widget-view+json": {
       "model_id": "4b5c9227ff12494ca71b552f63a7c755",
       "version_major": 2,
       "version_minor": 0
      },
      "text/plain": [
       "  0%|          | 0/150 [00:00<?, ?it/s]"
      ]
     },
     "metadata": {},
     "output_type": "display_data"
    },
    {
     "name": "stdout",
     "output_type": "stream",
     "text": [
      "TARGET: 8 Error Ratio: [59.604927]\n"
     ]
    },
    {
     "data": {
      "application/vnd.jupyter.widget-view+json": {
       "model_id": "b4ffe9425ec34d629018b9fa579bc946",
       "version_major": 2,
       "version_minor": 0
      },
      "text/plain": [
       "  0%|          | 0/150 [00:00<?, ?it/s]"
      ]
     },
     "metadata": {},
     "output_type": "display_data"
    },
    {
     "name": "stdout",
     "output_type": "stream",
     "text": [
      "TARGET: 9 Error Ratio: [60.455315]\n"
     ]
    },
    {
     "data": {
      "application/vnd.jupyter.widget-view+json": {
       "model_id": "a3912aa5540745879828cc3bd51ef9ed",
       "version_major": 2,
       "version_minor": 0
      },
      "text/plain": [
       "  0%|          | 0/150 [00:00<?, ?it/s]"
      ]
     },
     "metadata": {},
     "output_type": "display_data"
    },
    {
     "name": "stdout",
     "output_type": "stream",
     "text": [
      "TARGET: 10 Error Ratio: [54.945812]\n"
     ]
    },
    {
     "data": {
      "application/vnd.jupyter.widget-view+json": {
       "model_id": "c66b1bec97d14c488fcd571980a6cd9d",
       "version_major": 2,
       "version_minor": 0
      },
      "text/plain": [
       "  0%|          | 0/150 [00:00<?, ?it/s]"
      ]
     },
     "metadata": {},
     "output_type": "display_data"
    },
    {
     "name": "stdout",
     "output_type": "stream",
     "text": [
      "TARGET: 11 Error Ratio: [48.166103]\n"
     ]
    },
    {
     "data": {
      "application/vnd.jupyter.widget-view+json": {
       "model_id": "f9d903bde948478b9a9075cb558f71d4",
       "version_major": 2,
       "version_minor": 0
      },
      "text/plain": [
       "  0%|          | 0/150 [00:00<?, ?it/s]"
      ]
     },
     "metadata": {},
     "output_type": "display_data"
    },
    {
     "name": "stdout",
     "output_type": "stream",
     "text": [
      "TARGET: 0 Error Ratio: [9.4615135]\n"
     ]
    },
    {
     "data": {
      "application/vnd.jupyter.widget-view+json": {
       "model_id": "a4094169dd4e4c9582a8cf2696f565f4",
       "version_major": 2,
       "version_minor": 0
      },
      "text/plain": [
       "  0%|          | 0/150 [00:00<?, ?it/s]"
      ]
     },
     "metadata": {},
     "output_type": "display_data"
    },
    {
     "name": "stdout",
     "output_type": "stream",
     "text": [
      "TARGET: 1 Error Ratio: [92.09975]\n"
     ]
    },
    {
     "data": {
      "application/vnd.jupyter.widget-view+json": {
       "model_id": "77672b0bbbf24cb59a7d4b19ae003633",
       "version_major": 2,
       "version_minor": 0
      },
      "text/plain": [
       "  0%|          | 0/150 [00:00<?, ?it/s]"
      ]
     },
     "metadata": {},
     "output_type": "display_data"
    },
    {
     "name": "stdout",
     "output_type": "stream",
     "text": [
      "TARGET: 2 Error Ratio: [6.2952104]\n"
     ]
    },
    {
     "data": {
      "application/vnd.jupyter.widget-view+json": {
       "model_id": "4d0127aff8544599a2c1d05f9f04eb5f",
       "version_major": 2,
       "version_minor": 0
      },
      "text/plain": [
       "  0%|          | 0/150 [00:00<?, ?it/s]"
      ]
     },
     "metadata": {},
     "output_type": "display_data"
    },
    {
     "name": "stdout",
     "output_type": "stream",
     "text": [
      "TARGET: 3 Error Ratio: [15.200705]\n"
     ]
    },
    {
     "data": {
      "application/vnd.jupyter.widget-view+json": {
       "model_id": "74944648bf8a429792d2ff0974696074",
       "version_major": 2,
       "version_minor": 0
      },
      "text/plain": [
       "  0%|          | 0/150 [00:00<?, ?it/s]"
      ]
     },
     "metadata": {},
     "output_type": "display_data"
    },
    {
     "name": "stdout",
     "output_type": "stream",
     "text": [
      "TARGET: 4 Error Ratio: [16.173038]\n"
     ]
    },
    {
     "data": {
      "application/vnd.jupyter.widget-view+json": {
       "model_id": "ea9a9428876b4d4ea2ef75c5bfb040f6",
       "version_major": 2,
       "version_minor": 0
      },
      "text/plain": [
       "  0%|          | 0/150 [00:00<?, ?it/s]"
      ]
     },
     "metadata": {},
     "output_type": "display_data"
    },
    {
     "name": "stdout",
     "output_type": "stream",
     "text": [
      "TARGET: 5 Error Ratio: [133.45396]\n"
     ]
    },
    {
     "data": {
      "application/vnd.jupyter.widget-view+json": {
       "model_id": "dc13185cba844c3ead53689a46f6c70e",
       "version_major": 2,
       "version_minor": 0
      },
      "text/plain": [
       "  0%|          | 0/150 [00:00<?, ?it/s]"
      ]
     },
     "metadata": {},
     "output_type": "display_data"
    },
    {
     "name": "stdout",
     "output_type": "stream",
     "text": [
      "TARGET: 6 Error Ratio: [234.81155]\n"
     ]
    },
    {
     "data": {
      "application/vnd.jupyter.widget-view+json": {
       "model_id": "098d495c36ba48ba96f259d2e0b7c547",
       "version_major": 2,
       "version_minor": 0
      },
      "text/plain": [
       "  0%|          | 0/150 [00:00<?, ?it/s]"
      ]
     },
     "metadata": {},
     "output_type": "display_data"
    },
    {
     "name": "stdout",
     "output_type": "stream",
     "text": [
      "TARGET: 7 Error Ratio: [54.854275]\n"
     ]
    },
    {
     "data": {
      "application/vnd.jupyter.widget-view+json": {
       "model_id": "ad060cdd99804d988bda1da0585f39c1",
       "version_major": 2,
       "version_minor": 0
      },
      "text/plain": [
       "  0%|          | 0/150 [00:00<?, ?it/s]"
      ]
     },
     "metadata": {},
     "output_type": "display_data"
    },
    {
     "name": "stdout",
     "output_type": "stream",
     "text": [
      "TARGET: 8 Error Ratio: [55.71133]\n"
     ]
    },
    {
     "data": {
      "application/vnd.jupyter.widget-view+json": {
       "model_id": "4af09311dc164497898465a105d3c9d8",
       "version_major": 2,
       "version_minor": 0
      },
      "text/plain": [
       "  0%|          | 0/150 [00:00<?, ?it/s]"
      ]
     },
     "metadata": {},
     "output_type": "display_data"
    },
    {
     "name": "stdout",
     "output_type": "stream",
     "text": [
      "TARGET: 9 Error Ratio: [56.1783]\n"
     ]
    },
    {
     "data": {
      "application/vnd.jupyter.widget-view+json": {
       "model_id": "79d8ec0648784c7b8db177671f323f23",
       "version_major": 2,
       "version_minor": 0
      },
      "text/plain": [
       "  0%|          | 0/150 [00:00<?, ?it/s]"
      ]
     },
     "metadata": {},
     "output_type": "display_data"
    },
    {
     "name": "stdout",
     "output_type": "stream",
     "text": [
      "TARGET: 10 Error Ratio: [52.440548]\n"
     ]
    },
    {
     "data": {
      "application/vnd.jupyter.widget-view+json": {
       "model_id": "a7dd7a5cb2e14954b0fef3e6bc240a13",
       "version_major": 2,
       "version_minor": 0
      },
      "text/plain": [
       "  0%|          | 0/150 [00:00<?, ?it/s]"
      ]
     },
     "metadata": {},
     "output_type": "display_data"
    },
    {
     "name": "stdout",
     "output_type": "stream",
     "text": [
      "TARGET: 11 Error Ratio: [50.99604]\n"
     ]
    },
    {
     "data": {
      "application/vnd.jupyter.widget-view+json": {
       "model_id": "1dda5d057dc04dfba8a1e8d71ade808c",
       "version_major": 2,
       "version_minor": 0
      },
      "text/plain": [
       "  0%|          | 0/150 [00:00<?, ?it/s]"
      ]
     },
     "metadata": {},
     "output_type": "display_data"
    },
    {
     "name": "stdout",
     "output_type": "stream",
     "text": [
      "TARGET: 0 Error Ratio: [9.186853]\n"
     ]
    },
    {
     "data": {
      "application/vnd.jupyter.widget-view+json": {
       "model_id": "1aa3e8b717bb45f687a6271efee07ea8",
       "version_major": 2,
       "version_minor": 0
      },
      "text/plain": [
       "  0%|          | 0/150 [00:00<?, ?it/s]"
      ]
     },
     "metadata": {},
     "output_type": "display_data"
    },
    {
     "name": "stdout",
     "output_type": "stream",
     "text": [
      "TARGET: 1 Error Ratio: [90.56274]\n"
     ]
    },
    {
     "data": {
      "application/vnd.jupyter.widget-view+json": {
       "model_id": "85f68454e64d4123bbd0b726a0df9cac",
       "version_major": 2,
       "version_minor": 0
      },
      "text/plain": [
       "  0%|          | 0/150 [00:00<?, ?it/s]"
      ]
     },
     "metadata": {},
     "output_type": "display_data"
    },
    {
     "name": "stdout",
     "output_type": "stream",
     "text": [
      "TARGET: 2 Error Ratio: [6.122982]\n"
     ]
    },
    {
     "data": {
      "application/vnd.jupyter.widget-view+json": {
       "model_id": "1216bd75c4cc440398d4b589ad5f0bbb",
       "version_major": 2,
       "version_minor": 0
      },
      "text/plain": [
       "  0%|          | 0/150 [00:00<?, ?it/s]"
      ]
     },
     "metadata": {},
     "output_type": "display_data"
    },
    {
     "name": "stdout",
     "output_type": "stream",
     "text": [
      "TARGET: 3 Error Ratio: [15.240334]\n"
     ]
    },
    {
     "data": {
      "application/vnd.jupyter.widget-view+json": {
       "model_id": "8083b1e9c1db4b8eb2b8c15895d0e1e4",
       "version_major": 2,
       "version_minor": 0
      },
      "text/plain": [
       "  0%|          | 0/150 [00:00<?, ?it/s]"
      ]
     },
     "metadata": {},
     "output_type": "display_data"
    },
    {
     "name": "stdout",
     "output_type": "stream",
     "text": [
      "TARGET: 4 Error Ratio: [16.878801]\n"
     ]
    },
    {
     "data": {
      "application/vnd.jupyter.widget-view+json": {
       "model_id": "66c6830f8ac945ac942e2c6ac49a3646",
       "version_major": 2,
       "version_minor": 0
      },
      "text/plain": [
       "  0%|          | 0/150 [00:00<?, ?it/s]"
      ]
     },
     "metadata": {},
     "output_type": "display_data"
    },
    {
     "name": "stdout",
     "output_type": "stream",
     "text": [
      "TARGET: 5 Error Ratio: [139.18051]\n"
     ]
    },
    {
     "data": {
      "application/vnd.jupyter.widget-view+json": {
       "model_id": "858baac76e3c492d92d8f723eb26825d",
       "version_major": 2,
       "version_minor": 0
      },
      "text/plain": [
       "  0%|          | 0/150 [00:00<?, ?it/s]"
      ]
     },
     "metadata": {},
     "output_type": "display_data"
    },
    {
     "name": "stdout",
     "output_type": "stream",
     "text": [
      "TARGET: 6 Error Ratio: [227.01483]\n"
     ]
    },
    {
     "data": {
      "application/vnd.jupyter.widget-view+json": {
       "model_id": "d9a00702bc8549b4a22627e6eb44e214",
       "version_major": 2,
       "version_minor": 0
      },
      "text/plain": [
       "  0%|          | 0/150 [00:00<?, ?it/s]"
      ]
     },
     "metadata": {},
     "output_type": "display_data"
    },
    {
     "name": "stdout",
     "output_type": "stream",
     "text": [
      "TARGET: 7 Error Ratio: [53.611156]\n"
     ]
    },
    {
     "data": {
      "application/vnd.jupyter.widget-view+json": {
       "model_id": "09d134bb3f924ba99766fd262cc09068",
       "version_major": 2,
       "version_minor": 0
      },
      "text/plain": [
       "  0%|          | 0/150 [00:00<?, ?it/s]"
      ]
     },
     "metadata": {},
     "output_type": "display_data"
    },
    {
     "name": "stdout",
     "output_type": "stream",
     "text": [
      "TARGET: 8 Error Ratio: [54.696747]\n"
     ]
    },
    {
     "data": {
      "application/vnd.jupyter.widget-view+json": {
       "model_id": "ace7f81b6c494907a0c1b4136b3e4ac1",
       "version_major": 2,
       "version_minor": 0
      },
      "text/plain": [
       "  0%|          | 0/150 [00:00<?, ?it/s]"
      ]
     },
     "metadata": {},
     "output_type": "display_data"
    },
    {
     "name": "stdout",
     "output_type": "stream",
     "text": [
      "TARGET: 9 Error Ratio: [55.610905]\n"
     ]
    },
    {
     "data": {
      "application/vnd.jupyter.widget-view+json": {
       "model_id": "3752ce8ffcdf43469bdf304b6ce0fd4c",
       "version_major": 2,
       "version_minor": 0
      },
      "text/plain": [
       "  0%|          | 0/150 [00:00<?, ?it/s]"
      ]
     },
     "metadata": {},
     "output_type": "display_data"
    },
    {
     "name": "stdout",
     "output_type": "stream",
     "text": [
      "TARGET: 10 Error Ratio: [51.050224]\n"
     ]
    },
    {
     "data": {
      "application/vnd.jupyter.widget-view+json": {
       "model_id": "9f15652bf8b2436c84ffc1e4974cc863",
       "version_major": 2,
       "version_minor": 0
      },
      "text/plain": [
       "  0%|          | 0/150 [00:00<?, ?it/s]"
      ]
     },
     "metadata": {},
     "output_type": "display_data"
    },
    {
     "name": "stdout",
     "output_type": "stream",
     "text": [
      "TARGET: 11 Error Ratio: [46.230713]\n"
     ]
    },
    {
     "data": {
      "application/vnd.jupyter.widget-view+json": {
       "model_id": "2593ba2fcce24deb811e3df91e8f97c6",
       "version_major": 2,
       "version_minor": 0
      },
      "text/plain": [
       "  0%|          | 0/150 [00:00<?, ?it/s]"
      ]
     },
     "metadata": {},
     "output_type": "display_data"
    },
    {
     "name": "stdout",
     "output_type": "stream",
     "text": [
      "TARGET: 0 Error Ratio: [10.052409]\n"
     ]
    },
    {
     "data": {
      "application/vnd.jupyter.widget-view+json": {
       "model_id": "1cdd912e9488490c9011a496801ff605",
       "version_major": 2,
       "version_minor": 0
      },
      "text/plain": [
       "  0%|          | 0/150 [00:00<?, ?it/s]"
      ]
     },
     "metadata": {},
     "output_type": "display_data"
    },
    {
     "name": "stdout",
     "output_type": "stream",
     "text": [
      "TARGET: 1 Error Ratio: [90.73502]\n"
     ]
    },
    {
     "data": {
      "application/vnd.jupyter.widget-view+json": {
       "model_id": "8d6a3ea18836461f81d91bdca31c03b1",
       "version_major": 2,
       "version_minor": 0
      },
      "text/plain": [
       "  0%|          | 0/150 [00:00<?, ?it/s]"
      ]
     },
     "metadata": {},
     "output_type": "display_data"
    },
    {
     "name": "stdout",
     "output_type": "stream",
     "text": [
      "TARGET: 2 Error Ratio: [6.1307783]\n"
     ]
    },
    {
     "data": {
      "application/vnd.jupyter.widget-view+json": {
       "model_id": "eb2cf5a22f2c4e24ba2c0d2f17ec0808",
       "version_major": 2,
       "version_minor": 0
      },
      "text/plain": [
       "  0%|          | 0/150 [00:00<?, ?it/s]"
      ]
     },
     "metadata": {},
     "output_type": "display_data"
    },
    {
     "name": "stdout",
     "output_type": "stream",
     "text": [
      "TARGET: 3 Error Ratio: [14.6491585]\n"
     ]
    },
    {
     "data": {
      "application/vnd.jupyter.widget-view+json": {
       "model_id": "f9c69fbe3361472b81bf73a0e1fe436f",
       "version_major": 2,
       "version_minor": 0
      },
      "text/plain": [
       "  0%|          | 0/150 [00:00<?, ?it/s]"
      ]
     },
     "metadata": {},
     "output_type": "display_data"
    },
    {
     "name": "stdout",
     "output_type": "stream",
     "text": [
      "TARGET: 4 Error Ratio: [16.925667]\n"
     ]
    },
    {
     "data": {
      "application/vnd.jupyter.widget-view+json": {
       "model_id": "8ca375b6d5c34e1eb3ed65a288a93db3",
       "version_major": 2,
       "version_minor": 0
      },
      "text/plain": [
       "  0%|          | 0/150 [00:00<?, ?it/s]"
      ]
     },
     "metadata": {},
     "output_type": "display_data"
    },
    {
     "name": "stdout",
     "output_type": "stream",
     "text": [
      "TARGET: 5 Error Ratio: [148.28555]\n"
     ]
    },
    {
     "data": {
      "application/vnd.jupyter.widget-view+json": {
       "model_id": "4a086bc929e748a5b1e73869a5c3e885",
       "version_major": 2,
       "version_minor": 0
      },
      "text/plain": [
       "  0%|          | 0/150 [00:00<?, ?it/s]"
      ]
     },
     "metadata": {},
     "output_type": "display_data"
    },
    {
     "name": "stdout",
     "output_type": "stream",
     "text": [
      "TARGET: 6 Error Ratio: [223.35571]\n"
     ]
    },
    {
     "data": {
      "application/vnd.jupyter.widget-view+json": {
       "model_id": "de63f4f8172247a5a8c2b99269785bdc",
       "version_major": 2,
       "version_minor": 0
      },
      "text/plain": [
       "  0%|          | 0/150 [00:00<?, ?it/s]"
      ]
     },
     "metadata": {},
     "output_type": "display_data"
    },
    {
     "name": "stdout",
     "output_type": "stream",
     "text": [
      "TARGET: 7 Error Ratio: [53.864662]\n"
     ]
    },
    {
     "data": {
      "application/vnd.jupyter.widget-view+json": {
       "model_id": "563bc10b524b413994898439988700fb",
       "version_major": 2,
       "version_minor": 0
      },
      "text/plain": [
       "  0%|          | 0/150 [00:00<?, ?it/s]"
      ]
     },
     "metadata": {},
     "output_type": "display_data"
    },
    {
     "name": "stdout",
     "output_type": "stream",
     "text": [
      "TARGET: 8 Error Ratio: [53.226265]\n"
     ]
    },
    {
     "data": {
      "application/vnd.jupyter.widget-view+json": {
       "model_id": "cf8fb444dd4848bfb9573b4922b01580",
       "version_major": 2,
       "version_minor": 0
      },
      "text/plain": [
       "  0%|          | 0/150 [00:00<?, ?it/s]"
      ]
     },
     "metadata": {},
     "output_type": "display_data"
    },
    {
     "name": "stdout",
     "output_type": "stream",
     "text": [
      "TARGET: 9 Error Ratio: [53.470493]\n"
     ]
    },
    {
     "data": {
      "application/vnd.jupyter.widget-view+json": {
       "model_id": "525df0bbe3f643309559b9f7cca905d8",
       "version_major": 2,
       "version_minor": 0
      },
      "text/plain": [
       "  0%|          | 0/150 [00:00<?, ?it/s]"
      ]
     },
     "metadata": {},
     "output_type": "display_data"
    },
    {
     "name": "stdout",
     "output_type": "stream",
     "text": [
      "TARGET: 10 Error Ratio: [49.92472]\n"
     ]
    },
    {
     "data": {
      "application/vnd.jupyter.widget-view+json": {
       "model_id": "fa3517f9af49469db49da590d4955472",
       "version_major": 2,
       "version_minor": 0
      },
      "text/plain": [
       "  0%|          | 0/150 [00:00<?, ?it/s]"
      ]
     },
     "metadata": {},
     "output_type": "display_data"
    },
    {
     "name": "stdout",
     "output_type": "stream",
     "text": [
      "TARGET: 11 Error Ratio: [46.682987]\n"
     ]
    },
    {
     "data": {
      "application/vnd.jupyter.widget-view+json": {
       "model_id": "9fa9654f6d1c4475b6651899ef281df6",
       "version_major": 2,
       "version_minor": 0
      },
      "text/plain": [
       "  0%|          | 0/150 [00:00<?, ?it/s]"
      ]
     },
     "metadata": {},
     "output_type": "display_data"
    },
    {
     "name": "stdout",
     "output_type": "stream",
     "text": [
      "TARGET: 0 Error Ratio: [10.067356]\n"
     ]
    },
    {
     "data": {
      "application/vnd.jupyter.widget-view+json": {
       "model_id": "481db893f21e4539ad30d822bdd3c2df",
       "version_major": 2,
       "version_minor": 0
      },
      "text/plain": [
       "  0%|          | 0/150 [00:00<?, ?it/s]"
      ]
     },
     "metadata": {},
     "output_type": "display_data"
    },
    {
     "name": "stdout",
     "output_type": "stream",
     "text": [
      "TARGET: 1 Error Ratio: [91.16823]\n"
     ]
    },
    {
     "data": {
      "application/vnd.jupyter.widget-view+json": {
       "model_id": "48fa775217724d26a4390ddb2dbe8d3c",
       "version_major": 2,
       "version_minor": 0
      },
      "text/plain": [
       "  0%|          | 0/150 [00:00<?, ?it/s]"
      ]
     },
     "metadata": {},
     "output_type": "display_data"
    },
    {
     "name": "stdout",
     "output_type": "stream",
     "text": [
      "TARGET: 2 Error Ratio: [6.2059536]\n"
     ]
    },
    {
     "data": {
      "application/vnd.jupyter.widget-view+json": {
       "model_id": "9e216b46c7f043acb5117e62f877d17f",
       "version_major": 2,
       "version_minor": 0
      },
      "text/plain": [
       "  0%|          | 0/150 [00:00<?, ?it/s]"
      ]
     },
     "metadata": {},
     "output_type": "display_data"
    },
    {
     "name": "stdout",
     "output_type": "stream",
     "text": [
      "TARGET: 3 Error Ratio: [14.490461]\n"
     ]
    },
    {
     "data": {
      "application/vnd.jupyter.widget-view+json": {
       "model_id": "e1f0f53d02264563ab3678ab9a733201",
       "version_major": 2,
       "version_minor": 0
      },
      "text/plain": [
       "  0%|          | 0/150 [00:00<?, ?it/s]"
      ]
     },
     "metadata": {},
     "output_type": "display_data"
    },
    {
     "name": "stdout",
     "output_type": "stream",
     "text": [
      "TARGET: 4 Error Ratio: [17.76072]\n"
     ]
    },
    {
     "data": {
      "application/vnd.jupyter.widget-view+json": {
       "model_id": "2021861c7594452e8a6e62bd68616323",
       "version_major": 2,
       "version_minor": 0
      },
      "text/plain": [
       "  0%|          | 0/150 [00:00<?, ?it/s]"
      ]
     },
     "metadata": {},
     "output_type": "display_data"
    },
    {
     "name": "stdout",
     "output_type": "stream",
     "text": [
      "TARGET: 5 Error Ratio: [144.8446]\n"
     ]
    },
    {
     "data": {
      "application/vnd.jupyter.widget-view+json": {
       "model_id": "eda132ba57ef401eb2b0815308400553",
       "version_major": 2,
       "version_minor": 0
      },
      "text/plain": [
       "  0%|          | 0/150 [00:00<?, ?it/s]"
      ]
     },
     "metadata": {},
     "output_type": "display_data"
    },
    {
     "name": "stdout",
     "output_type": "stream",
     "text": [
      "TARGET: 6 Error Ratio: [236.4212]\n"
     ]
    },
    {
     "data": {
      "application/vnd.jupyter.widget-view+json": {
       "model_id": "fb65196ff0dc4fcea04e246e33885394",
       "version_major": 2,
       "version_minor": 0
      },
      "text/plain": [
       "  0%|          | 0/150 [00:00<?, ?it/s]"
      ]
     },
     "metadata": {},
     "output_type": "display_data"
    },
    {
     "name": "stdout",
     "output_type": "stream",
     "text": [
      "TARGET: 7 Error Ratio: [51.47559]\n"
     ]
    },
    {
     "data": {
      "application/vnd.jupyter.widget-view+json": {
       "model_id": "04ae1272f72440978a12a2a7ef4dc438",
       "version_major": 2,
       "version_minor": 0
      },
      "text/plain": [
       "  0%|          | 0/150 [00:00<?, ?it/s]"
      ]
     },
     "metadata": {},
     "output_type": "display_data"
    },
    {
     "name": "stdout",
     "output_type": "stream",
     "text": [
      "TARGET: 8 Error Ratio: [51.910892]\n"
     ]
    },
    {
     "data": {
      "application/vnd.jupyter.widget-view+json": {
       "model_id": "7ba9d765519145f0ba3d07ab65fc51b4",
       "version_major": 2,
       "version_minor": 0
      },
      "text/plain": [
       "  0%|          | 0/150 [00:00<?, ?it/s]"
      ]
     },
     "metadata": {},
     "output_type": "display_data"
    },
    {
     "name": "stdout",
     "output_type": "stream",
     "text": [
      "TARGET: 9 Error Ratio: [52.33507]\n"
     ]
    },
    {
     "data": {
      "application/vnd.jupyter.widget-view+json": {
       "model_id": "546a1b1e4e1d4d468f11c7a784daa2bc",
       "version_major": 2,
       "version_minor": 0
      },
      "text/plain": [
       "  0%|          | 0/150 [00:00<?, ?it/s]"
      ]
     },
     "metadata": {},
     "output_type": "display_data"
    },
    {
     "name": "stdout",
     "output_type": "stream",
     "text": [
      "TARGET: 10 Error Ratio: [45.65701]\n"
     ]
    },
    {
     "data": {
      "application/vnd.jupyter.widget-view+json": {
       "model_id": "59894c44330c486ba736cb5a97a54abc",
       "version_major": 2,
       "version_minor": 0
      },
      "text/plain": [
       "  0%|          | 0/150 [00:00<?, ?it/s]"
      ]
     },
     "metadata": {},
     "output_type": "display_data"
    },
    {
     "name": "stdout",
     "output_type": "stream",
     "text": [
      "TARGET: 11 Error Ratio: [44.26392]\n"
     ]
    },
    {
     "data": {
      "application/vnd.jupyter.widget-view+json": {
       "model_id": "4633ebe854e04cd7bef803bfde7be42b",
       "version_major": 2,
       "version_minor": 0
      },
      "text/plain": [
       "  0%|          | 0/150 [00:00<?, ?it/s]"
      ]
     },
     "metadata": {},
     "output_type": "display_data"
    },
    {
     "name": "stdout",
     "output_type": "stream",
     "text": [
      "TARGET: 0 Error Ratio: [10.12876]\n"
     ]
    },
    {
     "data": {
      "application/vnd.jupyter.widget-view+json": {
       "model_id": "165e464e456149bbb1cd06b52b2f770d",
       "version_major": 2,
       "version_minor": 0
      },
      "text/plain": [
       "  0%|          | 0/150 [00:00<?, ?it/s]"
      ]
     },
     "metadata": {},
     "output_type": "display_data"
    },
    {
     "name": "stdout",
     "output_type": "stream",
     "text": [
      "TARGET: 1 Error Ratio: [91.72639]\n"
     ]
    },
    {
     "data": {
      "application/vnd.jupyter.widget-view+json": {
       "model_id": "488dcf75c19b410e924bc80d576b7a9e",
       "version_major": 2,
       "version_minor": 0
      },
      "text/plain": [
       "  0%|          | 0/150 [00:00<?, ?it/s]"
      ]
     },
     "metadata": {},
     "output_type": "display_data"
    },
    {
     "name": "stdout",
     "output_type": "stream",
     "text": [
      "TARGET: 2 Error Ratio: [6.0836825]\n"
     ]
    },
    {
     "data": {
      "application/vnd.jupyter.widget-view+json": {
       "model_id": "3a536fa1643246d3a620fa0def395979",
       "version_major": 2,
       "version_minor": 0
      },
      "text/plain": [
       "  0%|          | 0/150 [00:00<?, ?it/s]"
      ]
     },
     "metadata": {},
     "output_type": "display_data"
    },
    {
     "name": "stdout",
     "output_type": "stream",
     "text": [
      "TARGET: 3 Error Ratio: [14.563806]\n"
     ]
    },
    {
     "data": {
      "application/vnd.jupyter.widget-view+json": {
       "model_id": "16f15c688abd4c7cb17eec5576f393ba",
       "version_major": 2,
       "version_minor": 0
      },
      "text/plain": [
       "  0%|          | 0/150 [00:00<?, ?it/s]"
      ]
     },
     "metadata": {},
     "output_type": "display_data"
    },
    {
     "name": "stdout",
     "output_type": "stream",
     "text": [
      "TARGET: 4 Error Ratio: [18.147827]\n"
     ]
    },
    {
     "data": {
      "application/vnd.jupyter.widget-view+json": {
       "model_id": "a240cf4cc9a04800afc4a8f6d78644c5",
       "version_major": 2,
       "version_minor": 0
      },
      "text/plain": [
       "  0%|          | 0/150 [00:00<?, ?it/s]"
      ]
     },
     "metadata": {},
     "output_type": "display_data"
    },
    {
     "name": "stdout",
     "output_type": "stream",
     "text": [
      "TARGET: 5 Error Ratio: [153.86215]\n"
     ]
    },
    {
     "data": {
      "application/vnd.jupyter.widget-view+json": {
       "model_id": "26478ed0ac384067a9dc14e8db62c800",
       "version_major": 2,
       "version_minor": 0
      },
      "text/plain": [
       "  0%|          | 0/150 [00:00<?, ?it/s]"
      ]
     },
     "metadata": {},
     "output_type": "display_data"
    },
    {
     "name": "stdout",
     "output_type": "stream",
     "text": [
      "TARGET: 6 Error Ratio: [233.22517]\n"
     ]
    },
    {
     "data": {
      "application/vnd.jupyter.widget-view+json": {
       "model_id": "30709762682a48639410c5130105c16b",
       "version_major": 2,
       "version_minor": 0
      },
      "text/plain": [
       "  0%|          | 0/150 [00:00<?, ?it/s]"
      ]
     },
     "metadata": {},
     "output_type": "display_data"
    },
    {
     "name": "stdout",
     "output_type": "stream",
     "text": [
      "TARGET: 7 Error Ratio: [48.092415]\n"
     ]
    },
    {
     "data": {
      "application/vnd.jupyter.widget-view+json": {
       "model_id": "ced4f9e135f146e39c750f1a6b5503b2",
       "version_major": 2,
       "version_minor": 0
      },
      "text/plain": [
       "  0%|          | 0/150 [00:00<?, ?it/s]"
      ]
     },
     "metadata": {},
     "output_type": "display_data"
    },
    {
     "name": "stdout",
     "output_type": "stream",
     "text": [
      "TARGET: 8 Error Ratio: [50.07257]\n"
     ]
    },
    {
     "data": {
      "application/vnd.jupyter.widget-view+json": {
       "model_id": "76a95308ca994f518f791b9fc25d8941",
       "version_major": 2,
       "version_minor": 0
      },
      "text/plain": [
       "  0%|          | 0/150 [00:00<?, ?it/s]"
      ]
     },
     "metadata": {},
     "output_type": "display_data"
    },
    {
     "name": "stdout",
     "output_type": "stream",
     "text": [
      "TARGET: 9 Error Ratio: [48.150677]\n"
     ]
    },
    {
     "data": {
      "application/vnd.jupyter.widget-view+json": {
       "model_id": "3a752d5eea1f4afbb22269f20f1c1d7e",
       "version_major": 2,
       "version_minor": 0
      },
      "text/plain": [
       "  0%|          | 0/150 [00:00<?, ?it/s]"
      ]
     },
     "metadata": {},
     "output_type": "display_data"
    },
    {
     "name": "stdout",
     "output_type": "stream",
     "text": [
      "TARGET: 10 Error Ratio: [45.791225]\n"
     ]
    },
    {
     "data": {
      "application/vnd.jupyter.widget-view+json": {
       "model_id": "138f0d57979b4007ac4efcaa35681d51",
       "version_major": 2,
       "version_minor": 0
      },
      "text/plain": [
       "  0%|          | 0/150 [00:00<?, ?it/s]"
      ]
     },
     "metadata": {},
     "output_type": "display_data"
    },
    {
     "name": "stdout",
     "output_type": "stream",
     "text": [
      "TARGET: 11 Error Ratio: [44.141296]\n"
     ]
    },
    {
     "data": {
      "application/vnd.jupyter.widget-view+json": {
       "model_id": "ec4938aec3d34e6a828ac58a9e589721",
       "version_major": 2,
       "version_minor": 0
      },
      "text/plain": [
       "  0%|          | 0/150 [00:00<?, ?it/s]"
      ]
     },
     "metadata": {},
     "output_type": "display_data"
    },
    {
     "name": "stdout",
     "output_type": "stream",
     "text": [
      "TARGET: 0 Error Ratio: [9.019812]\n"
     ]
    },
    {
     "data": {
      "application/vnd.jupyter.widget-view+json": {
       "model_id": "c8b5f2aef954471b826ead51497f77f3",
       "version_major": 2,
       "version_minor": 0
      },
      "text/plain": [
       "  0%|          | 0/150 [00:00<?, ?it/s]"
      ]
     },
     "metadata": {},
     "output_type": "display_data"
    },
    {
     "name": "stdout",
     "output_type": "stream",
     "text": [
      "TARGET: 1 Error Ratio: [90.05022]\n"
     ]
    },
    {
     "data": {
      "application/vnd.jupyter.widget-view+json": {
       "model_id": "7ddabfb8dcaf4b0b908aff3e3470b4b1",
       "version_major": 2,
       "version_minor": 0
      },
      "text/plain": [
       "  0%|          | 0/150 [00:00<?, ?it/s]"
      ]
     },
     "metadata": {},
     "output_type": "display_data"
    },
    {
     "name": "stdout",
     "output_type": "stream",
     "text": [
      "TARGET: 2 Error Ratio: [6.180863]\n"
     ]
    },
    {
     "data": {
      "application/vnd.jupyter.widget-view+json": {
       "model_id": "f9dc686cde174f77b5759b56293604f6",
       "version_major": 2,
       "version_minor": 0
      },
      "text/plain": [
       "  0%|          | 0/150 [00:00<?, ?it/s]"
      ]
     },
     "metadata": {},
     "output_type": "display_data"
    },
    {
     "name": "stdout",
     "output_type": "stream",
     "text": [
      "TARGET: 3 Error Ratio: [14.522864]\n"
     ]
    },
    {
     "data": {
      "application/vnd.jupyter.widget-view+json": {
       "model_id": "4fe2a7d670224744a02130ab3f19a081",
       "version_major": 2,
       "version_minor": 0
      },
      "text/plain": [
       "  0%|          | 0/150 [00:00<?, ?it/s]"
      ]
     },
     "metadata": {},
     "output_type": "display_data"
    },
    {
     "name": "stdout",
     "output_type": "stream",
     "text": [
      "TARGET: 4 Error Ratio: [18.004364]\n"
     ]
    },
    {
     "data": {
      "application/vnd.jupyter.widget-view+json": {
       "model_id": "df7ad18e141c4fef8508736cc83add77",
       "version_major": 2,
       "version_minor": 0
      },
      "text/plain": [
       "  0%|          | 0/150 [00:00<?, ?it/s]"
      ]
     },
     "metadata": {},
     "output_type": "display_data"
    },
    {
     "name": "stdout",
     "output_type": "stream",
     "text": [
      "TARGET: 5 Error Ratio: [154.99055]\n"
     ]
    },
    {
     "data": {
      "application/vnd.jupyter.widget-view+json": {
       "model_id": "244df18f28ff47ac81c4ab31f087005f",
       "version_major": 2,
       "version_minor": 0
      },
      "text/plain": [
       "  0%|          | 0/150 [00:00<?, ?it/s]"
      ]
     },
     "metadata": {},
     "output_type": "display_data"
    },
    {
     "name": "stdout",
     "output_type": "stream",
     "text": [
      "TARGET: 6 Error Ratio: [223.36743]\n"
     ]
    },
    {
     "data": {
      "application/vnd.jupyter.widget-view+json": {
       "model_id": "300b8a0832f943e08c1522383cca95ae",
       "version_major": 2,
       "version_minor": 0
      },
      "text/plain": [
       "  0%|          | 0/150 [00:00<?, ?it/s]"
      ]
     },
     "metadata": {},
     "output_type": "display_data"
    },
    {
     "name": "stdout",
     "output_type": "stream",
     "text": [
      "TARGET: 7 Error Ratio: [50.624126]\n"
     ]
    },
    {
     "data": {
      "application/vnd.jupyter.widget-view+json": {
       "model_id": "00b7a7ec0c4746cba97c676fa6785095",
       "version_major": 2,
       "version_minor": 0
      },
      "text/plain": [
       "  0%|          | 0/150 [00:00<?, ?it/s]"
      ]
     },
     "metadata": {},
     "output_type": "display_data"
    },
    {
     "name": "stdout",
     "output_type": "stream",
     "text": [
      "TARGET: 8 Error Ratio: [47.496784]\n"
     ]
    },
    {
     "data": {
      "application/vnd.jupyter.widget-view+json": {
       "model_id": "ceff6e8039804b2b833c0c0fb52cb51e",
       "version_major": 2,
       "version_minor": 0
      },
      "text/plain": [
       "  0%|          | 0/150 [00:00<?, ?it/s]"
      ]
     },
     "metadata": {},
     "output_type": "display_data"
    },
    {
     "name": "stdout",
     "output_type": "stream",
     "text": [
      "TARGET: 9 Error Ratio: [47.510746]\n"
     ]
    },
    {
     "data": {
      "application/vnd.jupyter.widget-view+json": {
       "model_id": "1c8f0beec0c74ee8b88e815e6cf5865e",
       "version_major": 2,
       "version_minor": 0
      },
      "text/plain": [
       "  0%|          | 0/150 [00:00<?, ?it/s]"
      ]
     },
     "metadata": {},
     "output_type": "display_data"
    },
    {
     "name": "stdout",
     "output_type": "stream",
     "text": [
      "TARGET: 10 Error Ratio: [44.739967]\n"
     ]
    },
    {
     "data": {
      "application/vnd.jupyter.widget-view+json": {
       "model_id": "bc56e3dadb5546a98dc7bfdb5fca3243",
       "version_major": 2,
       "version_minor": 0
      },
      "text/plain": [
       "  0%|          | 0/150 [00:00<?, ?it/s]"
      ]
     },
     "metadata": {},
     "output_type": "display_data"
    },
    {
     "name": "stdout",
     "output_type": "stream",
     "text": [
      "TARGET: 11 Error Ratio: [41.379704]\n"
     ]
    },
    {
     "data": {
      "application/vnd.jupyter.widget-view+json": {
       "model_id": "9bdbaa38f4d9407fa5d8c2d30faf5839",
       "version_major": 2,
       "version_minor": 0
      },
      "text/plain": [
       "  0%|          | 0/150 [00:00<?, ?it/s]"
      ]
     },
     "metadata": {},
     "output_type": "display_data"
    },
    {
     "name": "stdout",
     "output_type": "stream",
     "text": [
      "TARGET: 0 Error Ratio: [9.180248]\n"
     ]
    },
    {
     "data": {
      "application/vnd.jupyter.widget-view+json": {
       "model_id": "c6b60506fe7d4ed78aa1baec2328d027",
       "version_major": 2,
       "version_minor": 0
      },
      "text/plain": [
       "  0%|          | 0/150 [00:00<?, ?it/s]"
      ]
     },
     "metadata": {},
     "output_type": "display_data"
    },
    {
     "name": "stdout",
     "output_type": "stream",
     "text": [
      "TARGET: 1 Error Ratio: [87.61504]\n"
     ]
    },
    {
     "data": {
      "application/vnd.jupyter.widget-view+json": {
       "model_id": "d3f7ab739e004d1d9b01280bc9d5cc94",
       "version_major": 2,
       "version_minor": 0
      },
      "text/plain": [
       "  0%|          | 0/150 [00:00<?, ?it/s]"
      ]
     },
     "metadata": {},
     "output_type": "display_data"
    },
    {
     "name": "stdout",
     "output_type": "stream",
     "text": [
      "TARGET: 2 Error Ratio: [6.426798]\n"
     ]
    },
    {
     "data": {
      "application/vnd.jupyter.widget-view+json": {
       "model_id": "8e5b4586694e4fbb9a3a15b5f94b74f0",
       "version_major": 2,
       "version_minor": 0
      },
      "text/plain": [
       "  0%|          | 0/150 [00:00<?, ?it/s]"
      ]
     },
     "metadata": {},
     "output_type": "display_data"
    },
    {
     "name": "stdout",
     "output_type": "stream",
     "text": [
      "TARGET: 3 Error Ratio: [16.250835]\n"
     ]
    },
    {
     "data": {
      "application/vnd.jupyter.widget-view+json": {
       "model_id": "444c6d04f72844fe8ffdf47c07e03d45",
       "version_major": 2,
       "version_minor": 0
      },
      "text/plain": [
       "  0%|          | 0/150 [00:00<?, ?it/s]"
      ]
     },
     "metadata": {},
     "output_type": "display_data"
    },
    {
     "name": "stdout",
     "output_type": "stream",
     "text": [
      "TARGET: 4 Error Ratio: [17.60443]\n"
     ]
    },
    {
     "data": {
      "application/vnd.jupyter.widget-view+json": {
       "model_id": "02719c6cb0b042e8b3bf99e621d86c68",
       "version_major": 2,
       "version_minor": 0
      },
      "text/plain": [
       "  0%|          | 0/150 [00:00<?, ?it/s]"
      ]
     },
     "metadata": {},
     "output_type": "display_data"
    },
    {
     "name": "stdout",
     "output_type": "stream",
     "text": [
      "TARGET: 5 Error Ratio: [148.46107]\n"
     ]
    },
    {
     "data": {
      "application/vnd.jupyter.widget-view+json": {
       "model_id": "23840396aa89428c965aa2555cab873a",
       "version_major": 2,
       "version_minor": 0
      },
      "text/plain": [
       "  0%|          | 0/150 [00:00<?, ?it/s]"
      ]
     },
     "metadata": {},
     "output_type": "display_data"
    },
    {
     "name": "stdout",
     "output_type": "stream",
     "text": [
      "TARGET: 6 Error Ratio: [218.22261]\n"
     ]
    },
    {
     "data": {
      "application/vnd.jupyter.widget-view+json": {
       "model_id": "2eb2dbe7a5cf4d3ebb786c8ae8cf95db",
       "version_major": 2,
       "version_minor": 0
      },
      "text/plain": [
       "  0%|          | 0/150 [00:00<?, ?it/s]"
      ]
     },
     "metadata": {},
     "output_type": "display_data"
    },
    {
     "name": "stdout",
     "output_type": "stream",
     "text": [
      "TARGET: 7 Error Ratio: [47.78252]\n"
     ]
    },
    {
     "data": {
      "application/vnd.jupyter.widget-view+json": {
       "model_id": "8d0ab8f5df5b49c78d66f6e74fdf5f15",
       "version_major": 2,
       "version_minor": 0
      },
      "text/plain": [
       "  0%|          | 0/150 [00:00<?, ?it/s]"
      ]
     },
     "metadata": {},
     "output_type": "display_data"
    },
    {
     "name": "stdout",
     "output_type": "stream",
     "text": [
      "TARGET: 8 Error Ratio: [48.92607]\n"
     ]
    },
    {
     "data": {
      "application/vnd.jupyter.widget-view+json": {
       "model_id": "dd83ad8c615549ec822a94c528ff0e6c",
       "version_major": 2,
       "version_minor": 0
      },
      "text/plain": [
       "  0%|          | 0/150 [00:00<?, ?it/s]"
      ]
     },
     "metadata": {},
     "output_type": "display_data"
    },
    {
     "name": "stdout",
     "output_type": "stream",
     "text": [
      "TARGET: 9 Error Ratio: [46.8531]\n"
     ]
    },
    {
     "data": {
      "application/vnd.jupyter.widget-view+json": {
       "model_id": "e76f3ce905094aebad104a5dbf50d1b8",
       "version_major": 2,
       "version_minor": 0
      },
      "text/plain": [
       "  0%|          | 0/150 [00:00<?, ?it/s]"
      ]
     },
     "metadata": {},
     "output_type": "display_data"
    },
    {
     "name": "stdout",
     "output_type": "stream",
     "text": [
      "TARGET: 10 Error Ratio: [47.772945]\n"
     ]
    },
    {
     "data": {
      "application/vnd.jupyter.widget-view+json": {
       "model_id": "85b15d8d1c814ce6b9e5261fa6ef6e17",
       "version_major": 2,
       "version_minor": 0
      },
      "text/plain": [
       "  0%|          | 0/150 [00:00<?, ?it/s]"
      ]
     },
     "metadata": {},
     "output_type": "display_data"
    },
    {
     "name": "stdout",
     "output_type": "stream",
     "text": [
      "TARGET: 11 Error Ratio: [42.98751]\n"
     ]
    }
   ],
   "source": [
    "lrs = [5e-6, 1e-5, 1.5e-5, 2e-5, 2.5e-5, 3e-5, 3.5e-5, 4e-5, 4.5e-5]\n",
    "results = {}\n",
    "for l in lrs:\n",
    "    batch_results = []\n",
    "    for i in range(12):\n",
    "        _, QM9_metrics = train_QM9_predictor(QM9_net, QM9_params, TARGET_LABEL=i, epochs=150, batch_size=256, schedule=l)\n",
    "        train_loss, val_acc = QM9_metrics[:,0], QM9_metrics[:,1:]\n",
    "        error_ratios = val_acc / chemical_accuracy[i]\n",
    "        print(\"TARGET:\",i,\"Error Ratio:\", error_ratios[-1])\n",
    "        batch_results.append(error_ratios[-1])\n",
    "    results[l] = batch_results"
   ]
  },
  {
   "cell_type": "code",
   "execution_count": 32,
   "id": "777ef238-fbe5-4d2d-b18d-3953bfa1982b",
   "metadata": {
    "execution": {
     "iopub.execute_input": "2024-03-24T18:17:32.410031Z",
     "iopub.status.busy": "2024-03-24T18:17:32.409745Z",
     "iopub.status.idle": "2024-03-24T18:41:24.372899Z",
     "shell.execute_reply": "2024-03-24T18:41:24.372280Z",
     "shell.execute_reply.started": "2024-03-24T18:17:32.410009Z"
    }
   },
   "outputs": [
    {
     "data": {
      "application/vnd.jupyter.widget-view+json": {
       "model_id": "567a941be6ba45ccba9c006f654f5865",
       "version_major": 2,
       "version_minor": 0
      },
      "text/plain": [
       "  0%|          | 0/150 [00:00<?, ?it/s]"
      ]
     },
     "metadata": {},
     "output_type": "display_data"
    },
    {
     "name": "stdout",
     "output_type": "stream",
     "text": [
      "TARGET: 0 Error Ratio: [9.586275]\n"
     ]
    },
    {
     "data": {
      "application/vnd.jupyter.widget-view+json": {
       "model_id": "c496bbc862344baeb1db4d697538da5f",
       "version_major": 2,
       "version_minor": 0
      },
      "text/plain": [
       "  0%|          | 0/150 [00:00<?, ?it/s]"
      ]
     },
     "metadata": {},
     "output_type": "display_data"
    },
    {
     "name": "stdout",
     "output_type": "stream",
     "text": [
      "TARGET: 1 Error Ratio: [90.68943]\n"
     ]
    },
    {
     "data": {
      "application/vnd.jupyter.widget-view+json": {
       "model_id": "5137658e832a42e894bd810b56a0e6c1",
       "version_major": 2,
       "version_minor": 0
      },
      "text/plain": [
       "  0%|          | 0/150 [00:00<?, ?it/s]"
      ]
     },
     "metadata": {},
     "output_type": "display_data"
    },
    {
     "name": "stdout",
     "output_type": "stream",
     "text": [
      "TARGET: 2 Error Ratio: [6.039441]\n"
     ]
    },
    {
     "data": {
      "application/vnd.jupyter.widget-view+json": {
       "model_id": "25a357744892477f9f8ed9bb08efcf88",
       "version_major": 2,
       "version_minor": 0
      },
      "text/plain": [
       "  0%|          | 0/150 [00:00<?, ?it/s]"
      ]
     },
     "metadata": {},
     "output_type": "display_data"
    },
    {
     "name": "stdout",
     "output_type": "stream",
     "text": [
      "TARGET: 3 Error Ratio: [14.351629]\n"
     ]
    },
    {
     "data": {
      "application/vnd.jupyter.widget-view+json": {
       "model_id": "6b30e2de26784faea90e79f1d41e5411",
       "version_major": 2,
       "version_minor": 0
      },
      "text/plain": [
       "  0%|          | 0/150 [00:00<?, ?it/s]"
      ]
     },
     "metadata": {},
     "output_type": "display_data"
    },
    {
     "name": "stdout",
     "output_type": "stream",
     "text": [
      "TARGET: 4 Error Ratio: [17.720654]\n"
     ]
    },
    {
     "data": {
      "application/vnd.jupyter.widget-view+json": {
       "model_id": "88472cc5eb8f4060b971fde48af673ad",
       "version_major": 2,
       "version_minor": 0
      },
      "text/plain": [
       "  0%|          | 0/150 [00:00<?, ?it/s]"
      ]
     },
     "metadata": {},
     "output_type": "display_data"
    },
    {
     "name": "stdout",
     "output_type": "stream",
     "text": [
      "TARGET: 5 Error Ratio: [145.33214]\n"
     ]
    },
    {
     "data": {
      "application/vnd.jupyter.widget-view+json": {
       "model_id": "1da083e067cf4dbba880236f7ad58a36",
       "version_major": 2,
       "version_minor": 0
      },
      "text/plain": [
       "  0%|          | 0/150 [00:00<?, ?it/s]"
      ]
     },
     "metadata": {},
     "output_type": "display_data"
    },
    {
     "name": "stdout",
     "output_type": "stream",
     "text": [
      "TARGET: 6 Error Ratio: [223.02545]\n"
     ]
    },
    {
     "data": {
      "application/vnd.jupyter.widget-view+json": {
       "model_id": "5709974ec84247c194f33aa0c13f73a7",
       "version_major": 2,
       "version_minor": 0
      },
      "text/plain": [
       "  0%|          | 0/150 [00:00<?, ?it/s]"
      ]
     },
     "metadata": {},
     "output_type": "display_data"
    },
    {
     "name": "stdout",
     "output_type": "stream",
     "text": [
      "TARGET: 7 Error Ratio: [47.90964]\n"
     ]
    },
    {
     "data": {
      "application/vnd.jupyter.widget-view+json": {
       "model_id": "56bb695c8a194b2590fa4ead1da788b0",
       "version_major": 2,
       "version_minor": 0
      },
      "text/plain": [
       "  0%|          | 0/150 [00:00<?, ?it/s]"
      ]
     },
     "metadata": {},
     "output_type": "display_data"
    },
    {
     "name": "stdout",
     "output_type": "stream",
     "text": [
      "TARGET: 8 Error Ratio: [50.66745]\n"
     ]
    },
    {
     "data": {
      "application/vnd.jupyter.widget-view+json": {
       "model_id": "c4c6d85c21c14f10a6ff81a9a63618f0",
       "version_major": 2,
       "version_minor": 0
      },
      "text/plain": [
       "  0%|          | 0/150 [00:00<?, ?it/s]"
      ]
     },
     "metadata": {},
     "output_type": "display_data"
    },
    {
     "name": "stdout",
     "output_type": "stream",
     "text": [
      "TARGET: 9 Error Ratio: [50.04042]\n"
     ]
    },
    {
     "data": {
      "application/vnd.jupyter.widget-view+json": {
       "model_id": "3accde5b3ea84310b5ab0144938c46ea",
       "version_major": 2,
       "version_minor": 0
      },
      "text/plain": [
       "  0%|          | 0/150 [00:00<?, ?it/s]"
      ]
     },
     "metadata": {},
     "output_type": "display_data"
    },
    {
     "name": "stdout",
     "output_type": "stream",
     "text": [
      "TARGET: 10 Error Ratio: [47.730568]\n"
     ]
    },
    {
     "data": {
      "application/vnd.jupyter.widget-view+json": {
       "model_id": "263fa8593c8d46a8aa1f91643cf1baa2",
       "version_major": 2,
       "version_minor": 0
      },
      "text/plain": [
       "  0%|          | 0/150 [00:00<?, ?it/s]"
      ]
     },
     "metadata": {},
     "output_type": "display_data"
    },
    {
     "name": "stdout",
     "output_type": "stream",
     "text": [
      "TARGET: 11 Error Ratio: [44.118805]\n"
     ]
    },
    {
     "data": {
      "application/vnd.jupyter.widget-view+json": {
       "model_id": "5776f42bbf5d49e1a6d05e8493ab886c",
       "version_major": 2,
       "version_minor": 0
      },
      "text/plain": [
       "  0%|          | 0/150 [00:00<?, ?it/s]"
      ]
     },
     "metadata": {},
     "output_type": "display_data"
    },
    {
     "name": "stdout",
     "output_type": "stream",
     "text": [
      "TARGET: 0 Error Ratio: [9.4276495]\n"
     ]
    },
    {
     "data": {
      "application/vnd.jupyter.widget-view+json": {
       "model_id": "a9b9fe5f75704cddbad9c6e2afe19b08",
       "version_major": 2,
       "version_minor": 0
      },
      "text/plain": [
       "  0%|          | 0/150 [00:00<?, ?it/s]"
      ]
     },
     "metadata": {},
     "output_type": "display_data"
    },
    {
     "name": "stdout",
     "output_type": "stream",
     "text": [
      "TARGET: 1 Error Ratio: [92.45834]\n"
     ]
    },
    {
     "data": {
      "application/vnd.jupyter.widget-view+json": {
       "model_id": "32d8f11fa39a4a94be89688665240652",
       "version_major": 2,
       "version_minor": 0
      },
      "text/plain": [
       "  0%|          | 0/150 [00:00<?, ?it/s]"
      ]
     },
     "metadata": {},
     "output_type": "display_data"
    },
    {
     "name": "stdout",
     "output_type": "stream",
     "text": [
      "TARGET: 2 Error Ratio: [6.147587]\n"
     ]
    },
    {
     "data": {
      "application/vnd.jupyter.widget-view+json": {
       "model_id": "96c71d4128534150adae0c9276e4e259",
       "version_major": 2,
       "version_minor": 0
      },
      "text/plain": [
       "  0%|          | 0/150 [00:00<?, ?it/s]"
      ]
     },
     "metadata": {},
     "output_type": "display_data"
    },
    {
     "name": "stdout",
     "output_type": "stream",
     "text": [
      "TARGET: 3 Error Ratio: [14.833796]\n"
     ]
    },
    {
     "data": {
      "application/vnd.jupyter.widget-view+json": {
       "model_id": "11edb112142b40f392ea6687daf8652a",
       "version_major": 2,
       "version_minor": 0
      },
      "text/plain": [
       "  0%|          | 0/150 [00:00<?, ?it/s]"
      ]
     },
     "metadata": {},
     "output_type": "display_data"
    },
    {
     "name": "stdout",
     "output_type": "stream",
     "text": [
      "TARGET: 4 Error Ratio: [18.064001]\n"
     ]
    },
    {
     "data": {
      "application/vnd.jupyter.widget-view+json": {
       "model_id": "6c72f3c012b94b3d831ba2159a9d14b3",
       "version_major": 2,
       "version_minor": 0
      },
      "text/plain": [
       "  0%|          | 0/150 [00:00<?, ?it/s]"
      ]
     },
     "metadata": {},
     "output_type": "display_data"
    },
    {
     "name": "stdout",
     "output_type": "stream",
     "text": [
      "TARGET: 5 Error Ratio: [155.2584]\n"
     ]
    },
    {
     "data": {
      "application/vnd.jupyter.widget-view+json": {
       "model_id": "c5cd0cd3bc0242b7a137658c4089fda8",
       "version_major": 2,
       "version_minor": 0
      },
      "text/plain": [
       "  0%|          | 0/150 [00:00<?, ?it/s]"
      ]
     },
     "metadata": {},
     "output_type": "display_data"
    },
    {
     "name": "stdout",
     "output_type": "stream",
     "text": [
      "TARGET: 6 Error Ratio: [221.43666]\n"
     ]
    },
    {
     "data": {
      "application/vnd.jupyter.widget-view+json": {
       "model_id": "7f4ee91e862a4bb1ad735082bb882ede",
       "version_major": 2,
       "version_minor": 0
      },
      "text/plain": [
       "  0%|          | 0/150 [00:00<?, ?it/s]"
      ]
     },
     "metadata": {},
     "output_type": "display_data"
    },
    {
     "name": "stdout",
     "output_type": "stream",
     "text": [
      "TARGET: 7 Error Ratio: [50.18539]\n"
     ]
    },
    {
     "data": {
      "application/vnd.jupyter.widget-view+json": {
       "model_id": "9b9a00a87e174a409105a09daca995ec",
       "version_major": 2,
       "version_minor": 0
      },
      "text/plain": [
       "  0%|          | 0/150 [00:00<?, ?it/s]"
      ]
     },
     "metadata": {},
     "output_type": "display_data"
    },
    {
     "name": "stdout",
     "output_type": "stream",
     "text": [
      "TARGET: 8 Error Ratio: [51.31859]\n"
     ]
    },
    {
     "data": {
      "application/vnd.jupyter.widget-view+json": {
       "model_id": "dd9e8323a43b4cc3a8c55a22e054761e",
       "version_major": 2,
       "version_minor": 0
      },
      "text/plain": [
       "  0%|          | 0/150 [00:00<?, ?it/s]"
      ]
     },
     "metadata": {},
     "output_type": "display_data"
    },
    {
     "name": "stdout",
     "output_type": "stream",
     "text": [
      "TARGET: 9 Error Ratio: [50.104507]\n"
     ]
    },
    {
     "data": {
      "application/vnd.jupyter.widget-view+json": {
       "model_id": "f7ae1d4508d9465881a193355ae68934",
       "version_major": 2,
       "version_minor": 0
      },
      "text/plain": [
       "  0%|          | 0/150 [00:00<?, ?it/s]"
      ]
     },
     "metadata": {},
     "output_type": "display_data"
    },
    {
     "name": "stdout",
     "output_type": "stream",
     "text": [
      "TARGET: 10 Error Ratio: [44.27478]\n"
     ]
    },
    {
     "data": {
      "application/vnd.jupyter.widget-view+json": {
       "model_id": "df733a06636e45ba8ca89fbf11afecdc",
       "version_major": 2,
       "version_minor": 0
      },
      "text/plain": [
       "  0%|          | 0/150 [00:00<?, ?it/s]"
      ]
     },
     "metadata": {},
     "output_type": "display_data"
    },
    {
     "name": "stdout",
     "output_type": "stream",
     "text": [
      "TARGET: 11 Error Ratio: [44.67112]\n"
     ]
    },
    {
     "data": {
      "application/vnd.jupyter.widget-view+json": {
       "model_id": "cbf1fbc1dae74176b0e35fd0cc27acad",
       "version_major": 2,
       "version_minor": 0
      },
      "text/plain": [
       "  0%|          | 0/150 [00:00<?, ?it/s]"
      ]
     },
     "metadata": {},
     "output_type": "display_data"
    },
    {
     "name": "stdout",
     "output_type": "stream",
     "text": [
      "TARGET: 0 Error Ratio: [9.9313545]\n"
     ]
    },
    {
     "data": {
      "application/vnd.jupyter.widget-view+json": {
       "model_id": "4f9aa94581ab4e9c825e89616008cabd",
       "version_major": 2,
       "version_minor": 0
      },
      "text/plain": [
       "  0%|          | 0/150 [00:00<?, ?it/s]"
      ]
     },
     "metadata": {},
     "output_type": "display_data"
    },
    {
     "name": "stdout",
     "output_type": "stream",
     "text": [
      "TARGET: 1 Error Ratio: [94.480576]\n"
     ]
    },
    {
     "data": {
      "application/vnd.jupyter.widget-view+json": {
       "model_id": "82baa6315e594230832d1f7e0596a53f",
       "version_major": 2,
       "version_minor": 0
      },
      "text/plain": [
       "  0%|          | 0/150 [00:00<?, ?it/s]"
      ]
     },
     "metadata": {},
     "output_type": "display_data"
    },
    {
     "name": "stdout",
     "output_type": "stream",
     "text": [
      "TARGET: 2 Error Ratio: [6.439823]\n"
     ]
    },
    {
     "data": {
      "application/vnd.jupyter.widget-view+json": {
       "model_id": "adb447b468574c9f9172450b5e5844f4",
       "version_major": 2,
       "version_minor": 0
      },
      "text/plain": [
       "  0%|          | 0/150 [00:00<?, ?it/s]"
      ]
     },
     "metadata": {},
     "output_type": "display_data"
    },
    {
     "name": "stdout",
     "output_type": "stream",
     "text": [
      "TARGET: 3 Error Ratio: [16.345682]\n"
     ]
    },
    {
     "data": {
      "application/vnd.jupyter.widget-view+json": {
       "model_id": "62b4876dd94a409881531d09feccd33b",
       "version_major": 2,
       "version_minor": 0
      },
      "text/plain": [
       "  0%|          | 0/150 [00:00<?, ?it/s]"
      ]
     },
     "metadata": {},
     "output_type": "display_data"
    },
    {
     "name": "stdout",
     "output_type": "stream",
     "text": [
      "TARGET: 4 Error Ratio: [18.1709]\n"
     ]
    },
    {
     "data": {
      "application/vnd.jupyter.widget-view+json": {
       "model_id": "e39fdb5fb58d41d0b6eef22f56c08528",
       "version_major": 2,
       "version_minor": 0
      },
      "text/plain": [
       "  0%|          | 0/150 [00:00<?, ?it/s]"
      ]
     },
     "metadata": {},
     "output_type": "display_data"
    },
    {
     "name": "stdout",
     "output_type": "stream",
     "text": [
      "TARGET: 5 Error Ratio: [145.28293]\n"
     ]
    },
    {
     "data": {
      "application/vnd.jupyter.widget-view+json": {
       "model_id": "09fbd2409f9e46518fc2034da32360be",
       "version_major": 2,
       "version_minor": 0
      },
      "text/plain": [
       "  0%|          | 0/150 [00:00<?, ?it/s]"
      ]
     },
     "metadata": {},
     "output_type": "display_data"
    },
    {
     "name": "stdout",
     "output_type": "stream",
     "text": [
      "TARGET: 6 Error Ratio: [250.58913]\n"
     ]
    },
    {
     "data": {
      "application/vnd.jupyter.widget-view+json": {
       "model_id": "a7c2bb4e0da04d9eb5a5ceca53187860",
       "version_major": 2,
       "version_minor": 0
      },
      "text/plain": [
       "  0%|          | 0/150 [00:00<?, ?it/s]"
      ]
     },
     "metadata": {},
     "output_type": "display_data"
    },
    {
     "name": "stdout",
     "output_type": "stream",
     "text": [
      "TARGET: 7 Error Ratio: [47.324436]\n"
     ]
    },
    {
     "data": {
      "application/vnd.jupyter.widget-view+json": {
       "model_id": "e160085da9a4439f86513962f22c65dd",
       "version_major": 2,
       "version_minor": 0
      },
      "text/plain": [
       "  0%|          | 0/150 [00:00<?, ?it/s]"
      ]
     },
     "metadata": {},
     "output_type": "display_data"
    },
    {
     "name": "stdout",
     "output_type": "stream",
     "text": [
      "TARGET: 8 Error Ratio: [47.14949]\n"
     ]
    },
    {
     "data": {
      "application/vnd.jupyter.widget-view+json": {
       "model_id": "4e607b467521485c88d4f5e8a1181334",
       "version_major": 2,
       "version_minor": 0
      },
      "text/plain": [
       "  0%|          | 0/150 [00:00<?, ?it/s]"
      ]
     },
     "metadata": {},
     "output_type": "display_data"
    },
    {
     "name": "stdout",
     "output_type": "stream",
     "text": [
      "TARGET: 9 Error Ratio: [48.89805]\n"
     ]
    },
    {
     "data": {
      "application/vnd.jupyter.widget-view+json": {
       "model_id": "cd7f954a82e14d469b22950357239fb2",
       "version_major": 2,
       "version_minor": 0
      },
      "text/plain": [
       "  0%|          | 0/150 [00:00<?, ?it/s]"
      ]
     },
     "metadata": {},
     "output_type": "display_data"
    },
    {
     "name": "stdout",
     "output_type": "stream",
     "text": [
      "TARGET: 10 Error Ratio: [47.17749]\n"
     ]
    },
    {
     "data": {
      "application/vnd.jupyter.widget-view+json": {
       "model_id": "e92ed66d5b0e403b8c52c2789122fe90",
       "version_major": 2,
       "version_minor": 0
      },
      "text/plain": [
       "  0%|          | 0/150 [00:00<?, ?it/s]"
      ]
     },
     "metadata": {},
     "output_type": "display_data"
    },
    {
     "name": "stdout",
     "output_type": "stream",
     "text": [
      "TARGET: 11 Error Ratio: [43.527836]\n"
     ]
    },
    {
     "data": {
      "application/vnd.jupyter.widget-view+json": {
       "model_id": "1d5c412dec8c46ffa2f468a90d4b5f79",
       "version_major": 2,
       "version_minor": 0
      },
      "text/plain": [
       "  0%|          | 0/150 [00:00<?, ?it/s]"
      ]
     },
     "metadata": {},
     "output_type": "display_data"
    },
    {
     "name": "stdout",
     "output_type": "stream",
     "text": [
      "TARGET: 0 Error Ratio: [10.542181]\n"
     ]
    },
    {
     "data": {
      "application/vnd.jupyter.widget-view+json": {
       "model_id": "5149a82ff3d54c9993e5792559593908",
       "version_major": 2,
       "version_minor": 0
      },
      "text/plain": [
       "  0%|          | 0/150 [00:00<?, ?it/s]"
      ]
     },
     "metadata": {},
     "output_type": "display_data"
    },
    {
     "name": "stdout",
     "output_type": "stream",
     "text": [
      "TARGET: 1 Error Ratio: [95.2841]\n"
     ]
    },
    {
     "data": {
      "application/vnd.jupyter.widget-view+json": {
       "model_id": "a2f48152b4524972a390c1828fb7fd7d",
       "version_major": 2,
       "version_minor": 0
      },
      "text/plain": [
       "  0%|          | 0/150 [00:00<?, ?it/s]"
      ]
     },
     "metadata": {},
     "output_type": "display_data"
    },
    {
     "name": "stdout",
     "output_type": "stream",
     "text": [
      "TARGET: 2 Error Ratio: [6.1272793]\n"
     ]
    },
    {
     "data": {
      "application/vnd.jupyter.widget-view+json": {
       "model_id": "2ab16aea96564106bfb7dfe440e0bb0d",
       "version_major": 2,
       "version_minor": 0
      },
      "text/plain": [
       "  0%|          | 0/150 [00:00<?, ?it/s]"
      ]
     },
     "metadata": {},
     "output_type": "display_data"
    },
    {
     "name": "stdout",
     "output_type": "stream",
     "text": [
      "TARGET: 3 Error Ratio: [17.255907]\n"
     ]
    },
    {
     "data": {
      "application/vnd.jupyter.widget-view+json": {
       "model_id": "7924f313770d46b8b3dedcad51d7ed3c",
       "version_major": 2,
       "version_minor": 0
      },
      "text/plain": [
       "  0%|          | 0/150 [00:00<?, ?it/s]"
      ]
     },
     "metadata": {},
     "output_type": "display_data"
    },
    {
     "name": "stdout",
     "output_type": "stream",
     "text": [
      "TARGET: 4 Error Ratio: [18.355616]\n"
     ]
    },
    {
     "data": {
      "application/vnd.jupyter.widget-view+json": {
       "model_id": "42282aa322a94e248b3b1c765e78eea3",
       "version_major": 2,
       "version_minor": 0
      },
      "text/plain": [
       "  0%|          | 0/150 [00:00<?, ?it/s]"
      ]
     },
     "metadata": {},
     "output_type": "display_data"
    },
    {
     "name": "stdout",
     "output_type": "stream",
     "text": [
      "TARGET: 5 Error Ratio: [134.37495]\n"
     ]
    },
    {
     "data": {
      "application/vnd.jupyter.widget-view+json": {
       "model_id": "1fbeae02dc03459287b54e958c7ca565",
       "version_major": 2,
       "version_minor": 0
      },
      "text/plain": [
       "  0%|          | 0/150 [00:00<?, ?it/s]"
      ]
     },
     "metadata": {},
     "output_type": "display_data"
    },
    {
     "name": "stdout",
     "output_type": "stream",
     "text": [
      "TARGET: 6 Error Ratio: [239.39326]\n"
     ]
    },
    {
     "data": {
      "application/vnd.jupyter.widget-view+json": {
       "model_id": "90733b5848e64d7cb0428fec8e5595aa",
       "version_major": 2,
       "version_minor": 0
      },
      "text/plain": [
       "  0%|          | 0/150 [00:00<?, ?it/s]"
      ]
     },
     "metadata": {},
     "output_type": "display_data"
    },
    {
     "name": "stdout",
     "output_type": "stream",
     "text": [
      "TARGET: 7 Error Ratio: [50.62065]\n"
     ]
    },
    {
     "data": {
      "application/vnd.jupyter.widget-view+json": {
       "model_id": "9027bd01ec694ecda4bcc4c2383995ba",
       "version_major": 2,
       "version_minor": 0
      },
      "text/plain": [
       "  0%|          | 0/150 [00:00<?, ?it/s]"
      ]
     },
     "metadata": {},
     "output_type": "display_data"
    },
    {
     "name": "stdout",
     "output_type": "stream",
     "text": [
      "TARGET: 8 Error Ratio: [49.071293]\n"
     ]
    },
    {
     "data": {
      "application/vnd.jupyter.widget-view+json": {
       "model_id": "d4d6f83410954de387a8ba6c1f8b70a8",
       "version_major": 2,
       "version_minor": 0
      },
      "text/plain": [
       "  0%|          | 0/150 [00:00<?, ?it/s]"
      ]
     },
     "metadata": {},
     "output_type": "display_data"
    },
    {
     "name": "stdout",
     "output_type": "stream",
     "text": [
      "TARGET: 9 Error Ratio: [50.405838]\n"
     ]
    },
    {
     "data": {
      "application/vnd.jupyter.widget-view+json": {
       "model_id": "03666880459c4e6cb91879887964d508",
       "version_major": 2,
       "version_minor": 0
      },
      "text/plain": [
       "  0%|          | 0/150 [00:00<?, ?it/s]"
      ]
     },
     "metadata": {},
     "output_type": "display_data"
    },
    {
     "name": "stdout",
     "output_type": "stream",
     "text": [
      "TARGET: 10 Error Ratio: [48.224255]\n"
     ]
    },
    {
     "data": {
      "application/vnd.jupyter.widget-view+json": {
       "model_id": "0bc4e2582f2a4700ac5a103966f0c19f",
       "version_major": 2,
       "version_minor": 0
      },
      "text/plain": [
       "  0%|          | 0/150 [00:00<?, ?it/s]"
      ]
     },
     "metadata": {},
     "output_type": "display_data"
    },
    {
     "name": "stdout",
     "output_type": "stream",
     "text": [
      "TARGET: 11 Error Ratio: [45.142815]\n"
     ]
    },
    {
     "data": {
      "application/vnd.jupyter.widget-view+json": {
       "model_id": "3da501803e2c4bf2baa5036b456a621c",
       "version_major": 2,
       "version_minor": 0
      },
      "text/plain": [
       "  0%|          | 0/150 [00:00<?, ?it/s]"
      ]
     },
     "metadata": {},
     "output_type": "display_data"
    },
    {
     "name": "stdout",
     "output_type": "stream",
     "text": [
      "TARGET: 0 Error Ratio: [10.214418]\n"
     ]
    },
    {
     "data": {
      "application/vnd.jupyter.widget-view+json": {
       "model_id": "807b7fba21bd4a9aa3513b518784edf4",
       "version_major": 2,
       "version_minor": 0
      },
      "text/plain": [
       "  0%|          | 0/150 [00:00<?, ?it/s]"
      ]
     },
     "metadata": {},
     "output_type": "display_data"
    },
    {
     "name": "stdout",
     "output_type": "stream",
     "text": [
      "TARGET: 1 Error Ratio: [89.30744]\n"
     ]
    },
    {
     "data": {
      "application/vnd.jupyter.widget-view+json": {
       "model_id": "d5ad9aea3262437e9020d67523102b5a",
       "version_major": 2,
       "version_minor": 0
      },
      "text/plain": [
       "  0%|          | 0/150 [00:00<?, ?it/s]"
      ]
     },
     "metadata": {},
     "output_type": "display_data"
    },
    {
     "name": "stdout",
     "output_type": "stream",
     "text": [
      "TARGET: 2 Error Ratio: [6.108229]\n"
     ]
    },
    {
     "data": {
      "application/vnd.jupyter.widget-view+json": {
       "model_id": "718e7d5387db4581a6db70f43195543d",
       "version_major": 2,
       "version_minor": 0
      },
      "text/plain": [
       "  0%|          | 0/150 [00:00<?, ?it/s]"
      ]
     },
     "metadata": {},
     "output_type": "display_data"
    },
    {
     "name": "stdout",
     "output_type": "stream",
     "text": [
      "TARGET: 3 Error Ratio: [17.213247]\n"
     ]
    },
    {
     "data": {
      "application/vnd.jupyter.widget-view+json": {
       "model_id": "6d9ef7da51fd48069deabb597c98703f",
       "version_major": 2,
       "version_minor": 0
      },
      "text/plain": [
       "  0%|          | 0/150 [00:00<?, ?it/s]"
      ]
     },
     "metadata": {},
     "output_type": "display_data"
    },
    {
     "name": "stdout",
     "output_type": "stream",
     "text": [
      "TARGET: 4 Error Ratio: [18.86234]\n"
     ]
    },
    {
     "data": {
      "application/vnd.jupyter.widget-view+json": {
       "model_id": "3a8cb1c7a906418bb926bc918c1f46e0",
       "version_major": 2,
       "version_minor": 0
      },
      "text/plain": [
       "  0%|          | 0/150 [00:00<?, ?it/s]"
      ]
     },
     "metadata": {},
     "output_type": "display_data"
    },
    {
     "name": "stdout",
     "output_type": "stream",
     "text": [
      "TARGET: 5 Error Ratio: [149.76488]\n"
     ]
    },
    {
     "data": {
      "application/vnd.jupyter.widget-view+json": {
       "model_id": "851adf641c7e4851844a4d5c8765f652",
       "version_major": 2,
       "version_minor": 0
      },
      "text/plain": [
       "  0%|          | 0/150 [00:00<?, ?it/s]"
      ]
     },
     "metadata": {},
     "output_type": "display_data"
    },
    {
     "name": "stdout",
     "output_type": "stream",
     "text": [
      "TARGET: 6 Error Ratio: [263.3942]\n"
     ]
    },
    {
     "data": {
      "application/vnd.jupyter.widget-view+json": {
       "model_id": "cbea5d460c62442ca1eb1d3a19faecc2",
       "version_major": 2,
       "version_minor": 0
      },
      "text/plain": [
       "  0%|          | 0/150 [00:00<?, ?it/s]"
      ]
     },
     "metadata": {},
     "output_type": "display_data"
    },
    {
     "name": "stdout",
     "output_type": "stream",
     "text": [
      "TARGET: 7 Error Ratio: [51.60295]\n"
     ]
    },
    {
     "data": {
      "application/vnd.jupyter.widget-view+json": {
       "model_id": "2d69dd6378be4bf6924504cbd8826d1b",
       "version_major": 2,
       "version_minor": 0
      },
      "text/plain": [
       "  0%|          | 0/150 [00:00<?, ?it/s]"
      ]
     },
     "metadata": {},
     "output_type": "display_data"
    },
    {
     "name": "stdout",
     "output_type": "stream",
     "text": [
      "TARGET: 8 Error Ratio: [49.297287]\n"
     ]
    },
    {
     "data": {
      "application/vnd.jupyter.widget-view+json": {
       "model_id": "88fd90d2c5794db88d33c1ff237e503c",
       "version_major": 2,
       "version_minor": 0
      },
      "text/plain": [
       "  0%|          | 0/150 [00:00<?, ?it/s]"
      ]
     },
     "metadata": {},
     "output_type": "display_data"
    },
    {
     "name": "stdout",
     "output_type": "stream",
     "text": [
      "TARGET: 9 Error Ratio: [50.01536]\n"
     ]
    },
    {
     "data": {
      "application/vnd.jupyter.widget-view+json": {
       "model_id": "4170d3060f16416ba0930ef77eb7b435",
       "version_major": 2,
       "version_minor": 0
      },
      "text/plain": [
       "  0%|          | 0/150 [00:00<?, ?it/s]"
      ]
     },
     "metadata": {},
     "output_type": "display_data"
    },
    {
     "name": "stdout",
     "output_type": "stream",
     "text": [
      "TARGET: 10 Error Ratio: [48.46165]\n"
     ]
    },
    {
     "data": {
      "application/vnd.jupyter.widget-view+json": {
       "model_id": "63f9a2e8ea74414bb8780e8cd910bacf",
       "version_major": 2,
       "version_minor": 0
      },
      "text/plain": [
       "  0%|          | 0/150 [00:00<?, ?it/s]"
      ]
     },
     "metadata": {},
     "output_type": "display_data"
    },
    {
     "name": "stdout",
     "output_type": "stream",
     "text": [
      "TARGET: 11 Error Ratio: [51.04422]\n"
     ]
    },
    {
     "data": {
      "application/vnd.jupyter.widget-view+json": {
       "model_id": "055d419fbbf8498fa7ecdf777f1927f0",
       "version_major": 2,
       "version_minor": 0
      },
      "text/plain": [
       "  0%|          | 0/150 [00:00<?, ?it/s]"
      ]
     },
     "metadata": {},
     "output_type": "display_data"
    },
    {
     "name": "stdout",
     "output_type": "stream",
     "text": [
      "TARGET: 0 Error Ratio: [9.883605]\n"
     ]
    },
    {
     "data": {
      "application/vnd.jupyter.widget-view+json": {
       "model_id": "b92d982b4611452fac8f76daa412092f",
       "version_major": 2,
       "version_minor": 0
      },
      "text/plain": [
       "  0%|          | 0/150 [00:00<?, ?it/s]"
      ]
     },
     "metadata": {},
     "output_type": "display_data"
    },
    {
     "name": "stdout",
     "output_type": "stream",
     "text": [
      "TARGET: 1 Error Ratio: [92.066]\n"
     ]
    },
    {
     "data": {
      "application/vnd.jupyter.widget-view+json": {
       "model_id": "087e1c0b1f0f4a37ae3ffa1612e24b52",
       "version_major": 2,
       "version_minor": 0
      },
      "text/plain": [
       "  0%|          | 0/150 [00:00<?, ?it/s]"
      ]
     },
     "metadata": {},
     "output_type": "display_data"
    },
    {
     "name": "stdout",
     "output_type": "stream",
     "text": [
      "TARGET: 2 Error Ratio: [6.4320717]\n"
     ]
    },
    {
     "data": {
      "application/vnd.jupyter.widget-view+json": {
       "model_id": "d30d00d7dd224df7a61838ddd071b006",
       "version_major": 2,
       "version_minor": 0
      },
      "text/plain": [
       "  0%|          | 0/150 [00:00<?, ?it/s]"
      ]
     },
     "metadata": {},
     "output_type": "display_data"
    },
    {
     "name": "stdout",
     "output_type": "stream",
     "text": [
      "TARGET: 3 Error Ratio: [18.656494]\n"
     ]
    },
    {
     "data": {
      "application/vnd.jupyter.widget-view+json": {
       "model_id": "1b7b30cf7f3a4e3488e58e21eb27c434",
       "version_major": 2,
       "version_minor": 0
      },
      "text/plain": [
       "  0%|          | 0/150 [00:00<?, ?it/s]"
      ]
     },
     "metadata": {},
     "output_type": "display_data"
    },
    {
     "name": "stdout",
     "output_type": "stream",
     "text": [
      "TARGET: 4 Error Ratio: [18.9729]\n"
     ]
    },
    {
     "data": {
      "application/vnd.jupyter.widget-view+json": {
       "model_id": "eb4f5a18037b490eb4a157d8b9d59a7e",
       "version_major": 2,
       "version_minor": 0
      },
      "text/plain": [
       "  0%|          | 0/150 [00:00<?, ?it/s]"
      ]
     },
     "metadata": {},
     "output_type": "display_data"
    },
    {
     "name": "stdout",
     "output_type": "stream",
     "text": [
      "TARGET: 5 Error Ratio: [139.12721]\n"
     ]
    },
    {
     "data": {
      "application/vnd.jupyter.widget-view+json": {
       "model_id": "d849a13c3f3e4d418e5f026f3caf3438",
       "version_major": 2,
       "version_minor": 0
      },
      "text/plain": [
       "  0%|          | 0/150 [00:00<?, ?it/s]"
      ]
     },
     "metadata": {},
     "output_type": "display_data"
    },
    {
     "name": "stdout",
     "output_type": "stream",
     "text": [
      "TARGET: 6 Error Ratio: [272.3142]\n"
     ]
    },
    {
     "data": {
      "application/vnd.jupyter.widget-view+json": {
       "model_id": "ae1de45e609242679e514a06f9dee5e4",
       "version_major": 2,
       "version_minor": 0
      },
      "text/plain": [
       "  0%|          | 0/150 [00:00<?, ?it/s]"
      ]
     },
     "metadata": {},
     "output_type": "display_data"
    },
    {
     "name": "stdout",
     "output_type": "stream",
     "text": [
      "TARGET: 7 Error Ratio: [46.530247]\n"
     ]
    },
    {
     "data": {
      "application/vnd.jupyter.widget-view+json": {
       "model_id": "48cbd382d34d4e89a8a653fab34684ca",
       "version_major": 2,
       "version_minor": 0
      },
      "text/plain": [
       "  0%|          | 0/150 [00:00<?, ?it/s]"
      ]
     },
     "metadata": {},
     "output_type": "display_data"
    },
    {
     "name": "stdout",
     "output_type": "stream",
     "text": [
      "TARGET: 8 Error Ratio: [47.40252]\n"
     ]
    },
    {
     "data": {
      "application/vnd.jupyter.widget-view+json": {
       "model_id": "2fdac72473874d429f250af23c804986",
       "version_major": 2,
       "version_minor": 0
      },
      "text/plain": [
       "  0%|          | 0/150 [00:00<?, ?it/s]"
      ]
     },
     "metadata": {},
     "output_type": "display_data"
    },
    {
     "name": "stdout",
     "output_type": "stream",
     "text": [
      "TARGET: 9 Error Ratio: [47.96257]\n"
     ]
    },
    {
     "data": {
      "application/vnd.jupyter.widget-view+json": {
       "model_id": "12762f6729c34c4d84fbd6c12b363f91",
       "version_major": 2,
       "version_minor": 0
      },
      "text/plain": [
       "  0%|          | 0/150 [00:00<?, ?it/s]"
      ]
     },
     "metadata": {},
     "output_type": "display_data"
    },
    {
     "name": "stdout",
     "output_type": "stream",
     "text": [
      "TARGET: 10 Error Ratio: [44.478817]\n"
     ]
    },
    {
     "data": {
      "application/vnd.jupyter.widget-view+json": {
       "model_id": "a09c4809b155481abc2c23266c08a70a",
       "version_major": 2,
       "version_minor": 0
      },
      "text/plain": [
       "  0%|          | 0/150 [00:00<?, ?it/s]"
      ]
     },
     "metadata": {},
     "output_type": "display_data"
    },
    {
     "name": "stdout",
     "output_type": "stream",
     "text": [
      "TARGET: 11 Error Ratio: [41.650127]\n"
     ]
    },
    {
     "data": {
      "application/vnd.jupyter.widget-view+json": {
       "model_id": "6010a34221c54e718a4a8bd1bf9f9b1f",
       "version_major": 2,
       "version_minor": 0
      },
      "text/plain": [
       "  0%|          | 0/150 [00:00<?, ?it/s]"
      ]
     },
     "metadata": {},
     "output_type": "display_data"
    },
    {
     "name": "stdout",
     "output_type": "stream",
     "text": [
      "TARGET: 0 Error Ratio: [10.147083]\n"
     ]
    },
    {
     "data": {
      "application/vnd.jupyter.widget-view+json": {
       "model_id": "fc900ba4607c433fa85193a43b40081b",
       "version_major": 2,
       "version_minor": 0
      },
      "text/plain": [
       "  0%|          | 0/150 [00:00<?, ?it/s]"
      ]
     },
     "metadata": {},
     "output_type": "display_data"
    },
    {
     "name": "stdout",
     "output_type": "stream",
     "text": [
      "TARGET: 1 Error Ratio: [93.33251]\n"
     ]
    },
    {
     "data": {
      "application/vnd.jupyter.widget-view+json": {
       "model_id": "aa2e79aa3c0d4a3b9990bdeb02a97c08",
       "version_major": 2,
       "version_minor": 0
      },
      "text/plain": [
       "  0%|          | 0/150 [00:00<?, ?it/s]"
      ]
     },
     "metadata": {},
     "output_type": "display_data"
    },
    {
     "name": "stdout",
     "output_type": "stream",
     "text": [
      "TARGET: 2 Error Ratio: [6.4589615]\n"
     ]
    },
    {
     "data": {
      "application/vnd.jupyter.widget-view+json": {
       "model_id": "1937ae2da091411984e8174324cf97b2",
       "version_major": 2,
       "version_minor": 0
      },
      "text/plain": [
       "  0%|          | 0/150 [00:00<?, ?it/s]"
      ]
     },
     "metadata": {},
     "output_type": "display_data"
    },
    {
     "name": "stdout",
     "output_type": "stream",
     "text": [
      "TARGET: 3 Error Ratio: [16.755552]\n"
     ]
    },
    {
     "data": {
      "application/vnd.jupyter.widget-view+json": {
       "model_id": "bb9db13179654d84b9f46a3912e496ef",
       "version_major": 2,
       "version_minor": 0
      },
      "text/plain": [
       "  0%|          | 0/150 [00:00<?, ?it/s]"
      ]
     },
     "metadata": {},
     "output_type": "display_data"
    },
    {
     "name": "stdout",
     "output_type": "stream",
     "text": [
      "TARGET: 4 Error Ratio: [18.32513]\n"
     ]
    },
    {
     "data": {
      "application/vnd.jupyter.widget-view+json": {
       "model_id": "f3ad934c871b4af5a9495cac57a33599",
       "version_major": 2,
       "version_minor": 0
      },
      "text/plain": [
       "  0%|          | 0/150 [00:00<?, ?it/s]"
      ]
     },
     "metadata": {},
     "output_type": "display_data"
    },
    {
     "name": "stdout",
     "output_type": "stream",
     "text": [
      "TARGET: 5 Error Ratio: [136.62572]\n"
     ]
    },
    {
     "data": {
      "application/vnd.jupyter.widget-view+json": {
       "model_id": "51396d716feb4198a8819dcc7d83510c",
       "version_major": 2,
       "version_minor": 0
      },
      "text/plain": [
       "  0%|          | 0/150 [00:00<?, ?it/s]"
      ]
     },
     "metadata": {},
     "output_type": "display_data"
    },
    {
     "name": "stdout",
     "output_type": "stream",
     "text": [
      "TARGET: 6 Error Ratio: [287.88312]\n"
     ]
    },
    {
     "data": {
      "application/vnd.jupyter.widget-view+json": {
       "model_id": "9e24f0319bbc4b69b3f31231e3c4b2c7",
       "version_major": 2,
       "version_minor": 0
      },
      "text/plain": [
       "  0%|          | 0/150 [00:00<?, ?it/s]"
      ]
     },
     "metadata": {},
     "output_type": "display_data"
    },
    {
     "name": "stdout",
     "output_type": "stream",
     "text": [
      "TARGET: 7 Error Ratio: [48.124702]\n"
     ]
    },
    {
     "data": {
      "application/vnd.jupyter.widget-view+json": {
       "model_id": "92fd8802e12b423495006e8ffa242ef0",
       "version_major": 2,
       "version_minor": 0
      },
      "text/plain": [
       "  0%|          | 0/150 [00:00<?, ?it/s]"
      ]
     },
     "metadata": {},
     "output_type": "display_data"
    },
    {
     "name": "stdout",
     "output_type": "stream",
     "text": [
      "TARGET: 8 Error Ratio: [51.763893]\n"
     ]
    },
    {
     "data": {
      "application/vnd.jupyter.widget-view+json": {
       "model_id": "3eae76d5f4324606a6f73390a1d691c0",
       "version_major": 2,
       "version_minor": 0
      },
      "text/plain": [
       "  0%|          | 0/150 [00:00<?, ?it/s]"
      ]
     },
     "metadata": {},
     "output_type": "display_data"
    },
    {
     "name": "stdout",
     "output_type": "stream",
     "text": [
      "TARGET: 9 Error Ratio: [51.199062]\n"
     ]
    },
    {
     "data": {
      "application/vnd.jupyter.widget-view+json": {
       "model_id": "93c251fd69804c39a69b533f0988274c",
       "version_major": 2,
       "version_minor": 0
      },
      "text/plain": [
       "  0%|          | 0/150 [00:00<?, ?it/s]"
      ]
     },
     "metadata": {},
     "output_type": "display_data"
    },
    {
     "name": "stdout",
     "output_type": "stream",
     "text": [
      "TARGET: 10 Error Ratio: [45.891705]\n"
     ]
    },
    {
     "data": {
      "application/vnd.jupyter.widget-view+json": {
       "model_id": "358696c835694d4b84f010a99d84faee",
       "version_major": 2,
       "version_minor": 0
      },
      "text/plain": [
       "  0%|          | 0/150 [00:00<?, ?it/s]"
      ]
     },
     "metadata": {},
     "output_type": "display_data"
    },
    {
     "name": "stdout",
     "output_type": "stream",
     "text": [
      "TARGET: 11 Error Ratio: [43.770935]\n"
     ]
    }
   ],
   "source": [
    "lrs = [5e-5, 5.5e-5, 6.5e-5, 7e-5, 7.5e-5, 8.5e-5, 9e-5]\n",
    "results2 = {}\n",
    "for l in lrs:\n",
    "    batch_results = []\n",
    "    for i in range(12):\n",
    "        _, QM9_metrics = train_QM9_predictor(QM9_net, QM9_params, TARGET_LABEL=i, epochs=150, batch_size=256, schedule=l)\n",
    "        train_loss, val_acc = QM9_metrics[:,0], QM9_metrics[:,1:]\n",
    "        error_ratios = val_acc / chemical_accuracy[i]\n",
    "        print(\"TARGET:\",i,\"Error Ratio:\", error_ratios[-1])\n",
    "        batch_results.append(error_ratios[-1])\n",
    "    results2[l] = batch_results"
   ]
  },
  {
   "cell_type": "code",
   "execution_count": 33,
   "id": "21ac992b-61fe-48f2-bd4f-54df7642cd34",
   "metadata": {
    "execution": {
     "iopub.execute_input": "2024-03-24T18:42:04.123290Z",
     "iopub.status.busy": "2024-03-24T18:42:04.123002Z",
     "iopub.status.idle": "2024-03-24T18:42:04.166392Z",
     "shell.execute_reply": "2024-03-24T18:42:04.165688Z",
     "shell.execute_reply.started": "2024-03-24T18:42:04.123268Z"
    }
   },
   "outputs": [
    {
     "data": {
      "text/plain": [
       "{5e-05: [Array([9.586275], dtype=float32),\n",
       "  Array([90.68943], dtype=float32),\n",
       "  Array([6.039441], dtype=float32),\n",
       "  Array([14.351629], dtype=float32),\n",
       "  Array([17.720654], dtype=float32),\n",
       "  Array([145.33214], dtype=float32),\n",
       "  Array([223.02545], dtype=float32),\n",
       "  Array([47.90964], dtype=float32),\n",
       "  Array([50.66745], dtype=float32),\n",
       "  Array([50.04042], dtype=float32),\n",
       "  Array([47.730568], dtype=float32),\n",
       "  Array([44.118805], dtype=float32)],\n",
       " 5.5e-05: [Array([9.4276495], dtype=float32),\n",
       "  Array([92.45834], dtype=float32),\n",
       "  Array([6.147587], dtype=float32),\n",
       "  Array([14.833796], dtype=float32),\n",
       "  Array([18.064001], dtype=float32),\n",
       "  Array([155.2584], dtype=float32),\n",
       "  Array([221.43666], dtype=float32),\n",
       "  Array([50.18539], dtype=float32),\n",
       "  Array([51.31859], dtype=float32),\n",
       "  Array([50.104507], dtype=float32),\n",
       "  Array([44.27478], dtype=float32),\n",
       "  Array([44.67112], dtype=float32)],\n",
       " 6.5e-05: [Array([9.9313545], dtype=float32),\n",
       "  Array([94.480576], dtype=float32),\n",
       "  Array([6.439823], dtype=float32),\n",
       "  Array([16.345682], dtype=float32),\n",
       "  Array([18.1709], dtype=float32),\n",
       "  Array([145.28293], dtype=float32),\n",
       "  Array([250.58913], dtype=float32),\n",
       "  Array([47.324436], dtype=float32),\n",
       "  Array([47.14949], dtype=float32),\n",
       "  Array([48.89805], dtype=float32),\n",
       "  Array([47.17749], dtype=float32),\n",
       "  Array([43.527836], dtype=float32)],\n",
       " 7e-05: [Array([10.542181], dtype=float32),\n",
       "  Array([95.2841], dtype=float32),\n",
       "  Array([6.1272793], dtype=float32),\n",
       "  Array([17.255907], dtype=float32),\n",
       "  Array([18.355616], dtype=float32),\n",
       "  Array([134.37495], dtype=float32),\n",
       "  Array([239.39326], dtype=float32),\n",
       "  Array([50.62065], dtype=float32),\n",
       "  Array([49.071293], dtype=float32),\n",
       "  Array([50.405838], dtype=float32),\n",
       "  Array([48.224255], dtype=float32),\n",
       "  Array([45.142815], dtype=float32)],\n",
       " 7.5e-05: [Array([10.214418], dtype=float32),\n",
       "  Array([89.30744], dtype=float32),\n",
       "  Array([6.108229], dtype=float32),\n",
       "  Array([17.213247], dtype=float32),\n",
       "  Array([18.86234], dtype=float32),\n",
       "  Array([149.76488], dtype=float32),\n",
       "  Array([263.3942], dtype=float32),\n",
       "  Array([51.60295], dtype=float32),\n",
       "  Array([49.297287], dtype=float32),\n",
       "  Array([50.01536], dtype=float32),\n",
       "  Array([48.46165], dtype=float32),\n",
       "  Array([51.04422], dtype=float32)],\n",
       " 8.5e-05: [Array([9.883605], dtype=float32),\n",
       "  Array([92.066], dtype=float32),\n",
       "  Array([6.4320717], dtype=float32),\n",
       "  Array([18.656494], dtype=float32),\n",
       "  Array([18.9729], dtype=float32),\n",
       "  Array([139.12721], dtype=float32),\n",
       "  Array([272.3142], dtype=float32),\n",
       "  Array([46.530247], dtype=float32),\n",
       "  Array([47.40252], dtype=float32),\n",
       "  Array([47.96257], dtype=float32),\n",
       "  Array([44.478817], dtype=float32),\n",
       "  Array([41.650127], dtype=float32)],\n",
       " 9e-05: [Array([10.147083], dtype=float32),\n",
       "  Array([93.33251], dtype=float32),\n",
       "  Array([6.4589615], dtype=float32),\n",
       "  Array([16.755552], dtype=float32),\n",
       "  Array([18.32513], dtype=float32),\n",
       "  Array([136.62572], dtype=float32),\n",
       "  Array([287.88312], dtype=float32),\n",
       "  Array([48.124702], dtype=float32),\n",
       "  Array([51.763893], dtype=float32),\n",
       "  Array([51.199062], dtype=float32),\n",
       "  Array([45.891705], dtype=float32),\n",
       "  Array([43.770935], dtype=float32)]}"
      ]
     },
     "execution_count": 33,
     "metadata": {},
     "output_type": "execute_result"
    }
   ],
   "source": [
    "results2"
   ]
  },
  {
   "cell_type": "code",
   "execution_count": 29,
   "id": "ffad0b9e-02a9-4d1c-8a42-efdd0475cd7d",
   "metadata": {
    "execution": {
     "iopub.execute_input": "2024-03-24T18:14:39.070091Z",
     "iopub.status.busy": "2024-03-24T18:14:39.069255Z",
     "iopub.status.idle": "2024-03-24T18:14:39.121101Z",
     "shell.execute_reply": "2024-03-24T18:14:39.120374Z",
     "shell.execute_reply.started": "2024-03-24T18:14:39.070084Z"
    }
   },
   "outputs": [
    {
     "data": {
      "text/plain": [
       "{5e-06: [Array([10.554051], dtype=float32),\n",
       "  Array([88.63844], dtype=float32),\n",
       "  Array([6.765303], dtype=float32),\n",
       "  Array([13.440478], dtype=float32),\n",
       "  Array([15.101503], dtype=float32),\n",
       "  Array([139.35402], dtype=float32),\n",
       "  Array([264.80072], dtype=float32),\n",
       "  Array([63.612442], dtype=float32),\n",
       "  Array([64.294785], dtype=float32),\n",
       "  Array([64.977], dtype=float32),\n",
       "  Array([59.0388], dtype=float32),\n",
       "  Array([47.41336], dtype=float32)],\n",
       " 1e-05: [Array([10.233465], dtype=float32),\n",
       "  Array([91.307915], dtype=float32),\n",
       "  Array([6.58284], dtype=float32),\n",
       "  Array([14.238322], dtype=float32),\n",
       "  Array([16.138279], dtype=float32),\n",
       "  Array([135.58022], dtype=float32),\n",
       "  Array([250.25516], dtype=float32),\n",
       "  Array([60.53234], dtype=float32),\n",
       "  Array([59.604927], dtype=float32),\n",
       "  Array([60.455315], dtype=float32),\n",
       "  Array([54.945812], dtype=float32),\n",
       "  Array([48.166103], dtype=float32)],\n",
       " 1.5e-05: [Array([9.4615135], dtype=float32),\n",
       "  Array([92.09975], dtype=float32),\n",
       "  Array([6.2952104], dtype=float32),\n",
       "  Array([15.200705], dtype=float32),\n",
       "  Array([16.173038], dtype=float32),\n",
       "  Array([133.45396], dtype=float32),\n",
       "  Array([234.81155], dtype=float32),\n",
       "  Array([54.854275], dtype=float32),\n",
       "  Array([55.71133], dtype=float32),\n",
       "  Array([56.1783], dtype=float32),\n",
       "  Array([52.440548], dtype=float32),\n",
       "  Array([50.99604], dtype=float32)],\n",
       " 2e-05: [Array([9.186853], dtype=float32),\n",
       "  Array([90.56274], dtype=float32),\n",
       "  Array([6.122982], dtype=float32),\n",
       "  Array([15.240334], dtype=float32),\n",
       "  Array([16.878801], dtype=float32),\n",
       "  Array([139.18051], dtype=float32),\n",
       "  Array([227.01483], dtype=float32),\n",
       "  Array([53.611156], dtype=float32),\n",
       "  Array([54.696747], dtype=float32),\n",
       "  Array([55.610905], dtype=float32),\n",
       "  Array([51.050224], dtype=float32),\n",
       "  Array([46.230713], dtype=float32)],\n",
       " 2.5e-05: [Array([10.052409], dtype=float32),\n",
       "  Array([90.73502], dtype=float32),\n",
       "  Array([6.1307783], dtype=float32),\n",
       "  Array([14.6491585], dtype=float32),\n",
       "  Array([16.925667], dtype=float32),\n",
       "  Array([148.28555], dtype=float32),\n",
       "  Array([223.35571], dtype=float32),\n",
       "  Array([53.864662], dtype=float32),\n",
       "  Array([53.226265], dtype=float32),\n",
       "  Array([53.470493], dtype=float32),\n",
       "  Array([49.92472], dtype=float32),\n",
       "  Array([46.682987], dtype=float32)],\n",
       " 3e-05: [Array([10.067356], dtype=float32),\n",
       "  Array([91.16823], dtype=float32),\n",
       "  Array([6.2059536], dtype=float32),\n",
       "  Array([14.490461], dtype=float32),\n",
       "  Array([17.76072], dtype=float32),\n",
       "  Array([144.8446], dtype=float32),\n",
       "  Array([236.4212], dtype=float32),\n",
       "  Array([51.47559], dtype=float32),\n",
       "  Array([51.910892], dtype=float32),\n",
       "  Array([52.33507], dtype=float32),\n",
       "  Array([45.65701], dtype=float32),\n",
       "  Array([44.26392], dtype=float32)],\n",
       " 3.5e-05: [Array([10.12876], dtype=float32),\n",
       "  Array([91.72639], dtype=float32),\n",
       "  Array([6.0836825], dtype=float32),\n",
       "  Array([14.563806], dtype=float32),\n",
       "  Array([18.147827], dtype=float32),\n",
       "  Array([153.86215], dtype=float32),\n",
       "  Array([233.22517], dtype=float32),\n",
       "  Array([48.092415], dtype=float32),\n",
       "  Array([50.07257], dtype=float32),\n",
       "  Array([48.150677], dtype=float32),\n",
       "  Array([45.791225], dtype=float32),\n",
       "  Array([44.141296], dtype=float32)],\n",
       " 4e-05: [Array([9.019812], dtype=float32),\n",
       "  Array([90.05022], dtype=float32),\n",
       "  Array([6.180863], dtype=float32),\n",
       "  Array([14.522864], dtype=float32),\n",
       "  Array([18.004364], dtype=float32),\n",
       "  Array([154.99055], dtype=float32),\n",
       "  Array([223.36743], dtype=float32),\n",
       "  Array([50.624126], dtype=float32),\n",
       "  Array([47.496784], dtype=float32),\n",
       "  Array([47.510746], dtype=float32),\n",
       "  Array([44.739967], dtype=float32),\n",
       "  Array([41.379704], dtype=float32)],\n",
       " 4.5e-05: [Array([9.180248], dtype=float32),\n",
       "  Array([87.61504], dtype=float32),\n",
       "  Array([6.426798], dtype=float32),\n",
       "  Array([16.250835], dtype=float32),\n",
       "  Array([17.60443], dtype=float32),\n",
       "  Array([148.46107], dtype=float32),\n",
       "  Array([218.22261], dtype=float32),\n",
       "  Array([47.78252], dtype=float32),\n",
       "  Array([48.92607], dtype=float32),\n",
       "  Array([46.8531], dtype=float32),\n",
       "  Array([47.772945], dtype=float32),\n",
       "  Array([42.98751], dtype=float32)]}"
      ]
     },
     "execution_count": 29,
     "metadata": {},
     "output_type": "execute_result"
    }
   ],
   "source": [
    "results"
   ]
  },
  {
   "cell_type": "code",
   "execution_count": 31,
   "id": "65793c6c-925d-4de1-8bf4-143918c08368",
   "metadata": {
    "execution": {
     "iopub.execute_input": "2024-03-24T18:15:43.393611Z",
     "iopub.status.busy": "2024-03-24T18:15:43.393327Z",
     "iopub.status.idle": "2024-03-24T18:15:43.496352Z",
     "shell.execute_reply": "2024-03-24T18:15:43.495583Z",
     "shell.execute_reply.started": "2024-03-24T18:15:43.393589Z"
    }
   },
   "outputs": [
    {
     "name": "stdout",
     "output_type": "stream",
     "text": [
      "5e-06 69.83258\n",
      "1e-05 67.33672\n",
      "1.5e-05 64.80635\n",
      "2e-05 63.782238\n",
      "2.5e-05 63.941956\n",
      "3e-05 63.883415\n",
      "3.5e-05 63.665497\n",
      "4e-05 62.323956\n",
      "4.5e-05 61.506935\n"
     ]
    }
   ],
   "source": [
    "for k, v in results.items():\n",
    "    print(k, jnp.mean(jnp.array(v)))"
   ]
  },
  {
   "cell_type": "code",
   "execution_count": 34,
   "id": "c0088444-b1c1-4c6a-a038-6ad88377e5eb",
   "metadata": {
    "execution": {
     "iopub.execute_input": "2024-03-24T18:42:21.076574Z",
     "iopub.status.busy": "2024-03-24T18:42:21.076134Z",
     "iopub.status.idle": "2024-03-24T18:42:21.097194Z",
     "shell.execute_reply": "2024-03-24T18:42:21.096378Z",
     "shell.execute_reply.started": "2024-03-24T18:42:21.076549Z"
    }
   },
   "outputs": [
    {
     "name": "stdout",
     "output_type": "stream",
     "text": [
      "5e-05 62.267662\n",
      "5.5e-05 63.18174\n",
      "6.5e-05 64.60981\n",
      "7e-05 63.73318\n",
      "7.5e-05 67.10719\n",
      "8.5e-05 65.456406\n",
      "9e-05 67.5232\n"
     ]
    }
   ],
   "source": [
    "for k, v in results2.items():\n",
    "    print(k, jnp.mean(jnp.array(v)))"
   ]
  },
  {
   "cell_type": "markdown",
   "id": "62e9e37d",
   "metadata": {},
   "source": [
    "# ECFP4 Embeddings"
   ]
  },
  {
   "cell_type": "code",
   "execution_count": 35,
   "id": "4010cb27",
   "metadata": {
    "execution": {
     "iopub.execute_input": "2024-03-27T14:25:34.838422Z",
     "iopub.status.busy": "2024-03-27T14:25:34.838121Z",
     "iopub.status.idle": "2024-03-27T14:25:34.842243Z",
     "shell.execute_reply": "2024-03-27T14:25:34.841544Z",
     "shell.execute_reply.started": "2024-03-27T14:25:34.838402Z"
    }
   },
   "outputs": [],
   "source": [
    "def to_ecfp4(smiles_string):\n",
    "    mol = Chem.MolFromSmiles(smiles_string)\n",
    "    ecfp4 = Chem.AllChem.GetMorganFingerprintAsBitVect(mol, radius=2, nBits=1024)\n",
    "    return jnp.array(ecfp4, dtype=jnp.uint8)"
   ]
  },
  {
   "cell_type": "code",
   "execution_count": 36,
   "id": "6dadb479-15d1-4571-8d4d-6f30573efc59",
   "metadata": {
    "execution": {
     "iopub.execute_input": "2024-03-27T14:25:36.038158Z",
     "iopub.status.busy": "2024-03-27T14:25:36.037889Z",
     "iopub.status.idle": "2024-03-27T14:25:36.042229Z",
     "shell.execute_reply": "2024-03-27T14:25:36.041203Z",
     "shell.execute_reply.started": "2024-03-27T14:25:36.038140Z"
    }
   },
   "outputs": [],
   "source": [
    "def load_as_ecfp4(fpath): # this takes a little bit to run becuase it's CPU based.\n",
    "    smiles_strings = sanitize_data(*load_data(fpath))[0]\n",
    "    encoded_bitstrings = smiles_strings.map(to_ecfp4).values\n",
    "    return jnp.stack([i for i in encoded_bitstrings])"
   ]
  },
  {
   "cell_type": "code",
   "execution_count": 37,
   "id": "6ab51421-0120-4ab0-a573-739392a4b5d2",
   "metadata": {
    "execution": {
     "iopub.execute_input": "2024-03-27T14:25:37.199511Z",
     "iopub.status.busy": "2024-03-27T14:25:37.199239Z",
     "iopub.status.idle": "2024-03-27T14:28:25.358585Z",
     "shell.execute_reply": "2024-03-27T14:28:25.357559Z",
     "shell.execute_reply.started": "2024-03-27T14:25:37.199493Z"
    }
   },
   "outputs": [
    {
     "name": "stderr",
     "output_type": "stream",
     "text": [
      "[14:25:37] Explicit valence for atom # 5 C, 5, is greater than permitted\n",
      "[14:25:37] Explicit valence for atom # 5 C, 5, is greater than permitted\n",
      "[14:25:37] Explicit valence for atom # 5 C, 5, is greater than permitted\n",
      "[14:25:37] Explicit valence for atom # 4 C, 5, is greater than permitted\n",
      "[14:25:37] Explicit valence for atom # 4 C, 5, is greater than permitted\n",
      "[14:25:37] Explicit valence for atom # 6 C, 5, is greater than permitted\n",
      "[14:25:37] Explicit valence for atom # 4 C, 5, is greater than permitted\n",
      "[14:25:37] Explicit valence for atom # 2 C, 5, is greater than permitted\n",
      "[14:25:37] Explicit valence for atom # 5 C, 5, is greater than permitted\n",
      "[14:25:37] Explicit valence for atom # 6 C, 5, is greater than permitted\n",
      "[14:25:37] Explicit valence for atom # 4 C, 5, is greater than permitted\n",
      "[14:25:37] Explicit valence for atom # 5 C, 5, is greater than permitted\n",
      "[14:25:37] Explicit valence for atom # 4 C, 5, is greater than permitted\n",
      "[14:25:37] Explicit valence for atom # 8 C, 5, is greater than permitted\n",
      "[14:25:37] Explicit valence for atom # 2 C, 5, is greater than permitted\n",
      "[14:25:37] Explicit valence for atom # 7 C, 5, is greater than permitted\n",
      "[14:25:37] Explicit valence for atom # 2 C, 5, is greater than permitted\n",
      "[14:25:37] Explicit valence for atom # 6 C, 5, is greater than permitted\n",
      "[14:25:37] Explicit valence for atom # 3 C, 5, is greater than permitted\n",
      "[14:25:37] Explicit valence for atom # 5 C, 5, is greater than permitted\n",
      "[14:25:37] Explicit valence for atom # 4 C, 5, is greater than permitted\n",
      "[14:25:37] Explicit valence for atom # 5 C, 5, is greater than permitted\n",
      "[14:25:37] Explicit valence for atom # 4 C, 5, is greater than permitted\n",
      "[14:25:37] Explicit valence for atom # 5 C, 5, is greater than permitted\n",
      "[14:25:37] Explicit valence for atom # 3 C, 5, is greater than permitted\n",
      "[14:25:37] Explicit valence for atom # 4 C, 5, is greater than permitted\n",
      "[14:25:37] Explicit valence for atom # 2 C, 5, is greater than permitted\n",
      "[14:25:37] Explicit valence for atom # 5 C, 5, is greater than permitted\n",
      "[14:25:37] Explicit valence for atom # 3 C, 5, is greater than permitted\n",
      "[14:25:37] Explicit valence for atom # 3 C, 5, is greater than permitted\n",
      "[14:25:37] Explicit valence for atom # 5 C, 5, is greater than permitted\n",
      "[14:25:37] Explicit valence for atom # 4 C, 5, is greater than permitted\n",
      "[14:25:37] Explicit valence for atom # 2 C, 5, is greater than permitted\n",
      "[14:25:37] Explicit valence for atom # 4 C, 5, is greater than permitted\n",
      "[14:25:37] Explicit valence for atom # 5 C, 5, is greater than permitted\n",
      "[14:25:37] Explicit valence for atom # 3 C, 5, is greater than permitted\n",
      "[14:25:37] Explicit valence for atom # 6 C, 5, is greater than permitted\n",
      "[14:25:37] Explicit valence for atom # 1 C, 5, is greater than permitted\n",
      "[14:25:37] Explicit valence for atom # 3 C, 5, is greater than permitted\n",
      "[14:25:37] Explicit valence for atom # 4 C, 5, is greater than permitted\n",
      "[14:25:37] Explicit valence for atom # 3 C, 5, is greater than permitted\n",
      "[14:25:37] Explicit valence for atom # 4 C, 5, is greater than permitted\n",
      "[14:25:37] Explicit valence for atom # 4 C, 5, is greater than permitted\n",
      "[14:25:37] Explicit valence for atom # 5 C, 5, is greater than permitted\n",
      "[14:25:37] Explicit valence for atom # 4 C, 5, is greater than permitted\n",
      "[14:25:37] Explicit valence for atom # 4 C, 5, is greater than permitted\n",
      "[14:25:37] Explicit valence for atom # 5 C, 5, is greater than permitted\n",
      "[14:25:37] Explicit valence for atom # 6 C, 5, is greater than permitted\n",
      "[14:25:37] Explicit valence for atom # 4 C, 5, is greater than permitted\n",
      "[14:25:37] Explicit valence for atom # 5 C, 5, is greater than permitted\n",
      "[14:25:37] Explicit valence for atom # 3 C, 5, is greater than permitted\n",
      "[14:25:37] Explicit valence for atom # 5 C, 5, is greater than permitted\n",
      "[14:25:37] Explicit valence for atom # 4 C, 5, is greater than permitted\n",
      "[14:25:37] Explicit valence for atom # 5 C, 5, is greater than permitted\n",
      "[14:25:37] Explicit valence for atom # 4 C, 5, is greater than permitted\n",
      "[14:25:37] Explicit valence for atom # 2 C, 5, is greater than permitted\n",
      "[14:25:37] Explicit valence for atom # 6 C, 5, is greater than permitted\n",
      "[14:25:37] Explicit valence for atom # 4 C, 5, is greater than permitted\n",
      "[14:25:37] Explicit valence for atom # 3 C, 5, is greater than permitted\n",
      "[14:25:37] Explicit valence for atom # 5 C, 5, is greater than permitted\n",
      "[14:25:37] Explicit valence for atom # 2 C, 5, is greater than permitted\n",
      "[14:25:37] Explicit valence for atom # 5 C, 5, is greater than permitted\n",
      "[14:25:37] Explicit valence for atom # 6 C, 5, is greater than permitted\n",
      "[14:25:37] Explicit valence for atom # 4 C, 5, is greater than permitted\n",
      "[14:25:37] Explicit valence for atom # 5 C, 5, is greater than permitted\n",
      "[14:25:37] Explicit valence for atom # 4 C, 5, is greater than permitted\n",
      "[14:25:37] Explicit valence for atom # 4 C, 5, is greater than permitted\n",
      "[14:25:37] Explicit valence for atom # 6 C, 5, is greater than permitted\n",
      "[14:25:37] Explicit valence for atom # 5 C, 5, is greater than permitted\n",
      "[14:25:37] Explicit valence for atom # 3 C, 5, is greater than permitted\n",
      "[14:25:37] Explicit valence for atom # 2 C, 5, is greater than permitted\n",
      "[14:25:37] Explicit valence for atom # 6 C, 5, is greater than permitted\n",
      "[14:25:37] Explicit valence for atom # 5 C, 5, is greater than permitted\n",
      "[14:25:37] Explicit valence for atom # 4 C, 5, is greater than permitted\n",
      "[14:25:37] Explicit valence for atom # 5 C, 5, is greater than permitted\n",
      "[14:25:37] Explicit valence for atom # 4 C, 5, is greater than permitted\n",
      "[14:25:37] Explicit valence for atom # 4 C, 5, is greater than permitted\n",
      "[14:25:37] Explicit valence for atom # 5 C, 5, is greater than permitted\n",
      "[14:25:37] Explicit valence for atom # 2 C, 5, is greater than permitted\n",
      "[14:25:37] Explicit valence for atom # 3 C, 5, is greater than permitted\n",
      "[14:25:37] Explicit valence for atom # 4 C, 5, is greater than permitted\n",
      "[14:25:37] Explicit valence for atom # 6 C, 5, is greater than permitted\n",
      "[14:25:37] Explicit valence for atom # 3 C, 5, is greater than permitted\n",
      "[14:25:37] Explicit valence for atom # 2 C, 5, is greater than permitted\n",
      "[14:25:37] Explicit valence for atom # 5 C, 5, is greater than permitted\n",
      "[14:25:37] Explicit valence for atom # 5 C, 5, is greater than permitted\n",
      "[14:25:37] Explicit valence for atom # 3 C, 5, is greater than permitted\n",
      "[14:25:37] Explicit valence for atom # 3 C, 5, is greater than permitted\n",
      "[14:25:37] Explicit valence for atom # 5 C, 5, is greater than permitted\n",
      "[14:25:37] Explicit valence for atom # 5 C, 5, is greater than permitted\n",
      "[14:25:37] Explicit valence for atom # 3 C, 5, is greater than permitted\n",
      "[14:25:37] Explicit valence for atom # 3 C, 5, is greater than permitted\n",
      "[14:25:37] Explicit valence for atom # 2 C, 5, is greater than permitted\n",
      "[14:25:37] Explicit valence for atom # 6 C, 5, is greater than permitted\n",
      "[14:25:37] Explicit valence for atom # 3 C, 5, is greater than permitted\n",
      "[14:25:37] Explicit valence for atom # 5 C, 5, is greater than permitted\n",
      "[14:25:37] Explicit valence for atom # 5 C, 5, is greater than permitted\n",
      "[14:25:37] Explicit valence for atom # 2 C, 5, is greater than permitted\n",
      "[14:25:37] Explicit valence for atom # 4 C, 5, is greater than permitted\n",
      "[14:25:37] Explicit valence for atom # 5 C, 5, is greater than permitted\n",
      "[14:25:37] Explicit valence for atom # 3 C, 5, is greater than permitted\n",
      "[14:25:37] Explicit valence for atom # 3 C, 5, is greater than permitted\n",
      "[14:25:37] Explicit valence for atom # 3 C, 5, is greater than permitted\n",
      "[14:25:37] Explicit valence for atom # 5 C, 5, is greater than permitted\n",
      "[14:25:37] Explicit valence for atom # 5 C, 5, is greater than permitted\n",
      "[14:25:37] Explicit valence for atom # 5 C, 5, is greater than permitted\n",
      "[14:25:37] Explicit valence for atom # 3 C, 5, is greater than permitted\n",
      "[14:25:38] Explicit valence for atom # 5 C, 5, is greater than permitted\n",
      "[14:25:38] Explicit valence for atom # 4 C, 5, is greater than permitted\n",
      "[14:25:38] Explicit valence for atom # 5 C, 5, is greater than permitted\n",
      "[14:25:38] Explicit valence for atom # 4 C, 5, is greater than permitted\n",
      "[14:25:38] Explicit valence for atom # 2 C, 5, is greater than permitted\n",
      "[14:25:38] Explicit valence for atom # 4 C, 5, is greater than permitted\n",
      "[14:25:38] Explicit valence for atom # 3 C, 5, is greater than permitted\n",
      "[14:25:38] Explicit valence for atom # 4 C, 5, is greater than permitted\n",
      "[14:25:38] Explicit valence for atom # 2 C, 5, is greater than permitted\n",
      "[14:25:38] Explicit valence for atom # 2 C, 5, is greater than permitted\n",
      "[14:25:38] Explicit valence for atom # 3 C, 5, is greater than permitted\n",
      "[14:25:38] Explicit valence for atom # 3 C, 5, is greater than permitted\n",
      "[14:25:38] Explicit valence for atom # 5 C, 5, is greater than permitted\n",
      "[14:25:38] Explicit valence for atom # 5 C, 5, is greater than permitted\n",
      "[14:25:38] Explicit valence for atom # 3 C, 5, is greater than permitted\n",
      "[14:25:38] Explicit valence for atom # 1 C, 5, is greater than permitted\n",
      "[14:25:38] Explicit valence for atom # 3 C, 5, is greater than permitted\n",
      "[14:25:38] Explicit valence for atom # 2 C, 5, is greater than permitted\n",
      "[14:25:38] Explicit valence for atom # 3 C, 5, is greater than permitted\n",
      "[14:25:38] Explicit valence for atom # 5 C, 5, is greater than permitted\n",
      "[14:25:38] Explicit valence for atom # 5 C, 5, is greater than permitted\n",
      "[14:25:38] Explicit valence for atom # 4 C, 5, is greater than permitted\n",
      "[14:25:38] Explicit valence for atom # 4 C, 5, is greater than permitted\n",
      "[14:25:38] Explicit valence for atom # 2 C, 5, is greater than permitted\n",
      "[14:25:38] Explicit valence for atom # 4 C, 5, is greater than permitted\n",
      "[14:25:38] Explicit valence for atom # 5 C, 5, is greater than permitted\n",
      "[14:25:38] Explicit valence for atom # 3 C, 5, is greater than permitted\n",
      "[14:25:38] Explicit valence for atom # 4 C, 5, is greater than permitted\n",
      "[14:25:38] Explicit valence for atom # 6 C, 5, is greater than permitted\n",
      "[14:25:38] Explicit valence for atom # 4 C, 5, is greater than permitted\n",
      "[14:25:38] Explicit valence for atom # 2 C, 5, is greater than permitted\n",
      "[14:25:38] Explicit valence for atom # 3 C, 5, is greater than permitted\n",
      "[14:25:38] Explicit valence for atom # 2 C, 5, is greater than permitted\n",
      "[14:25:38] Explicit valence for atom # 3 C, 5, is greater than permitted\n",
      "[14:25:38] Explicit valence for atom # 5 C, 5, is greater than permitted\n",
      "[14:25:38] Explicit valence for atom # 4 C, 5, is greater than permitted\n",
      "[14:25:38] Explicit valence for atom # 3 C, 5, is greater than permitted\n",
      "[14:25:38] Explicit valence for atom # 5 C, 5, is greater than permitted\n",
      "[14:25:38] Explicit valence for atom # 5 C, 5, is greater than permitted\n",
      "[14:25:38] Explicit valence for atom # 5 C, 5, is greater than permitted\n",
      "[14:25:38] Explicit valence for atom # 2 C, 5, is greater than permitted\n",
      "[14:25:38] Explicit valence for atom # 5 C, 5, is greater than permitted\n",
      "[14:25:38] Explicit valence for atom # 3 C, 5, is greater than permitted\n",
      "[14:25:38] Explicit valence for atom # 4 C, 5, is greater than permitted\n",
      "[14:25:38] Explicit valence for atom # 4 C, 5, is greater than permitted\n",
      "[14:25:38] Explicit valence for atom # 3 C, 5, is greater than permitted\n",
      "[14:25:38] Explicit valence for atom # 5 C, 5, is greater than permitted\n",
      "[14:25:38] Explicit valence for atom # 4 C, 5, is greater than permitted\n",
      "[14:25:38] Explicit valence for atom # 3 C, 5, is greater than permitted\n",
      "[14:25:38] Explicit valence for atom # 6 C, 5, is greater than permitted\n",
      "[14:25:38] Explicit valence for atom # 6 C, 5, is greater than permitted\n",
      "[14:25:38] Explicit valence for atom # 4 C, 5, is greater than permitted\n",
      "[14:25:38] Explicit valence for atom # 3 C, 5, is greater than permitted\n",
      "[14:25:38] Explicit valence for atom # 3 C, 5, is greater than permitted\n",
      "[14:25:38] Explicit valence for atom # 5 C, 5, is greater than permitted\n",
      "[14:25:38] Explicit valence for atom # 4 C, 5, is greater than permitted\n",
      "[14:25:38] Explicit valence for atom # 4 C, 5, is greater than permitted\n",
      "[14:25:38] Explicit valence for atom # 4 C, 5, is greater than permitted\n",
      "[14:25:38] Explicit valence for atom # 3 C, 5, is greater than permitted\n",
      "[14:25:38] Explicit valence for atom # 5 C, 5, is greater than permitted\n",
      "[14:25:38] Explicit valence for atom # 4 C, 5, is greater than permitted\n",
      "[14:25:38] Explicit valence for atom # 3 C, 5, is greater than permitted\n",
      "[14:25:38] Explicit valence for atom # 3 C, 5, is greater than permitted\n",
      "[14:25:38] Explicit valence for atom # 4 C, 5, is greater than permitted\n",
      "[14:25:38] Explicit valence for atom # 5 C, 5, is greater than permitted\n",
      "[14:25:38] Explicit valence for atom # 4 C, 5, is greater than permitted\n",
      "[14:25:38] Explicit valence for atom # 5 C, 5, is greater than permitted\n",
      "[14:25:38] Explicit valence for atom # 2 C, 5, is greater than permitted\n",
      "[14:25:38] Explicit valence for atom # 3 C, 5, is greater than permitted\n",
      "[14:25:38] Explicit valence for atom # 5 C, 5, is greater than permitted\n",
      "[14:25:38] Explicit valence for atom # 2 C, 5, is greater than permitted\n",
      "[14:25:38] Explicit valence for atom # 5 C, 5, is greater than permitted\n",
      "[14:25:38] Explicit valence for atom # 6 C, 5, is greater than permitted\n",
      "[14:25:38] Explicit valence for atom # 3 C, 5, is greater than permitted\n",
      "[14:25:38] Explicit valence for atom # 3 C, 5, is greater than permitted\n",
      "[14:25:38] Explicit valence for atom # 5 C, 5, is greater than permitted\n",
      "[14:25:38] Explicit valence for atom # 5 C, 5, is greater than permitted\n",
      "[14:25:38] Explicit valence for atom # 3 C, 5, is greater than permitted\n",
      "[14:25:38] Explicit valence for atom # 5 C, 5, is greater than permitted\n",
      "[14:25:38] Explicit valence for atom # 5 C, 5, is greater than permitted\n",
      "[14:25:38] Explicit valence for atom # 6 C, 5, is greater than permitted\n",
      "[14:25:38] Explicit valence for atom # 5 C, 5, is greater than permitted\n",
      "[14:25:38] Explicit valence for atom # 3 C, 5, is greater than permitted\n",
      "[14:25:38] Explicit valence for atom # 3 C, 5, is greater than permitted\n",
      "[14:25:38] Explicit valence for atom # 2 C, 5, is greater than permitted\n",
      "[14:25:38] Explicit valence for atom # 5 C, 5, is greater than permitted\n",
      "[14:25:38] Explicit valence for atom # 5 C, 5, is greater than permitted\n",
      "[14:25:38] Explicit valence for atom # 4 C, 5, is greater than permitted\n",
      "[14:25:38] Explicit valence for atom # 5 C, 5, is greater than permitted\n",
      "[14:25:38] Explicit valence for atom # 3 C, 5, is greater than permitted\n",
      "[14:25:38] Explicit valence for atom # 6 C, 5, is greater than permitted\n",
      "[14:25:38] Explicit valence for atom # 2 C, 5, is greater than permitted\n",
      "[14:25:38] Explicit valence for atom # 4 C, 5, is greater than permitted\n",
      "[14:25:38] Explicit valence for atom # 3 C, 5, is greater than permitted\n",
      "[14:25:38] Explicit valence for atom # 4 C, 5, is greater than permitted\n",
      "[14:25:38] Explicit valence for atom # 2 C, 5, is greater than permitted\n",
      "[14:25:38] Explicit valence for atom # 2 C, 5, is greater than permitted\n",
      "[14:25:38] Explicit valence for atom # 3 C, 5, is greater than permitted\n",
      "[14:25:38] Explicit valence for atom # 6 C, 5, is greater than permitted\n",
      "[14:25:38] Explicit valence for atom # 4 C, 5, is greater than permitted\n",
      "[14:25:38] Explicit valence for atom # 6 C, 5, is greater than permitted\n",
      "[14:25:38] Explicit valence for atom # 5 C, 5, is greater than permitted\n",
      "[14:25:38] Explicit valence for atom # 3 C, 5, is greater than permitted\n",
      "[14:25:38] Explicit valence for atom # 4 C, 5, is greater than permitted\n",
      "[14:25:38] Explicit valence for atom # 4 C, 5, is greater than permitted\n",
      "[14:25:38] Explicit valence for atom # 2 C, 5, is greater than permitted\n",
      "[14:25:38] Explicit valence for atom # 2 C, 5, is greater than permitted\n",
      "[14:25:38] Explicit valence for atom # 3 C, 5, is greater than permitted\n",
      "[14:25:38] Explicit valence for atom # 3 C, 5, is greater than permitted\n",
      "[14:25:38] Explicit valence for atom # 6 C, 5, is greater than permitted\n",
      "[14:25:38] Explicit valence for atom # 2 C, 5, is greater than permitted\n",
      "[14:25:38] Explicit valence for atom # 5 C, 5, is greater than permitted\n",
      "[14:25:38] Explicit valence for atom # 6 C, 5, is greater than permitted\n",
      "[14:25:38] Explicit valence for atom # 5 C, 5, is greater than permitted\n",
      "[14:25:38] Explicit valence for atom # 6 C, 5, is greater than permitted\n",
      "[14:25:38] Explicit valence for atom # 6 C, 5, is greater than permitted\n",
      "[14:25:38] Explicit valence for atom # 3 C, 5, is greater than permitted\n",
      "[14:25:38] Explicit valence for atom # 5 C, 5, is greater than permitted\n",
      "[14:25:38] Explicit valence for atom # 3 C, 5, is greater than permitted\n",
      "[14:25:38] Explicit valence for atom # 4 C, 5, is greater than permitted\n",
      "[14:25:38] Explicit valence for atom # 6 C, 5, is greater than permitted\n",
      "[14:25:38] Explicit valence for atom # 3 C, 5, is greater than permitted\n",
      "[14:25:38] Explicit valence for atom # 5 C, 5, is greater than permitted\n",
      "[14:25:38] Explicit valence for atom # 2 C, 5, is greater than permitted\n",
      "[14:25:38] Explicit valence for atom # 2 C, 5, is greater than permitted\n",
      "[14:25:38] Explicit valence for atom # 4 C, 5, is greater than permitted\n",
      "[14:25:38] Explicit valence for atom # 5 C, 5, is greater than permitted\n",
      "[14:25:38] Explicit valence for atom # 6 C, 5, is greater than permitted\n",
      "[14:25:38] Explicit valence for atom # 6 C, 5, is greater than permitted\n",
      "[14:25:38] Explicit valence for atom # 2 C, 5, is greater than permitted\n",
      "[14:25:38] Explicit valence for atom # 6 C, 5, is greater than permitted\n",
      "[14:25:38] Explicit valence for atom # 5 C, 5, is greater than permitted\n",
      "[14:25:38] Explicit valence for atom # 6 C, 5, is greater than permitted\n",
      "[14:25:38] Explicit valence for atom # 5 C, 5, is greater than permitted\n",
      "[14:25:38] Explicit valence for atom # 4 C, 5, is greater than permitted\n",
      "[14:25:38] Explicit valence for atom # 4 C, 5, is greater than permitted\n",
      "[14:25:38] Explicit valence for atom # 2 C, 5, is greater than permitted\n",
      "[14:25:38] Explicit valence for atom # 5 C, 5, is greater than permitted\n",
      "[14:25:38] Explicit valence for atom # 3 C, 5, is greater than permitted\n",
      "[14:25:38] Explicit valence for atom # 2 C, 5, is greater than permitted\n",
      "[14:25:38] Explicit valence for atom # 2 C, 5, is greater than permitted\n",
      "[14:25:38] Explicit valence for atom # 4 C, 5, is greater than permitted\n",
      "[14:25:38] Explicit valence for atom # 4 C, 5, is greater than permitted\n",
      "[14:25:38] Explicit valence for atom # 5 C, 5, is greater than permitted\n",
      "[14:25:38] Explicit valence for atom # 3 C, 5, is greater than permitted\n",
      "[14:25:38] Explicit valence for atom # 2 C, 5, is greater than permitted\n",
      "[14:25:38] Explicit valence for atom # 2 C, 5, is greater than permitted\n",
      "[14:25:38] Explicit valence for atom # 3 C, 5, is greater than permitted\n",
      "[14:25:38] Explicit valence for atom # 4 C, 5, is greater than permitted\n",
      "[14:25:38] Explicit valence for atom # 5 C, 5, is greater than permitted\n",
      "[14:25:38] Explicit valence for atom # 3 C, 5, is greater than permitted\n",
      "[14:25:38] Explicit valence for atom # 3 C, 5, is greater than permitted\n",
      "[14:25:38] Explicit valence for atom # 4 C, 5, is greater than permitted\n",
      "[14:25:38] Explicit valence for atom # 3 C, 5, is greater than permitted\n",
      "[14:25:38] Explicit valence for atom # 4 C, 5, is greater than permitted\n",
      "[14:25:38] Explicit valence for atom # 2 C, 5, is greater than permitted\n",
      "[14:25:38] Explicit valence for atom # 5 C, 5, is greater than permitted\n",
      "[14:25:38] Explicit valence for atom # 2 C, 5, is greater than permitted\n",
      "[14:25:38] Explicit valence for atom # 1 C, 5, is greater than permitted\n",
      "[14:25:38] Explicit valence for atom # 4 C, 5, is greater than permitted\n",
      "[14:25:38] Explicit valence for atom # 3 C, 5, is greater than permitted\n",
      "[14:25:38] Explicit valence for atom # 6 C, 5, is greater than permitted\n",
      "[14:25:38] Explicit valence for atom # 3 C, 5, is greater than permitted\n",
      "[14:25:38] Explicit valence for atom # 5 C, 5, is greater than permitted\n",
      "[14:25:38] Explicit valence for atom # 5 C, 5, is greater than permitted\n",
      "[14:25:38] Explicit valence for atom # 2 C, 5, is greater than permitted\n",
      "[14:25:38] Explicit valence for atom # 5 C, 5, is greater than permitted\n",
      "[14:25:38] Explicit valence for atom # 5 C, 5, is greater than permitted\n",
      "[14:25:38] Explicit valence for atom # 4 C, 5, is greater than permitted\n",
      "[14:25:38] Explicit valence for atom # 6 C, 5, is greater than permitted\n",
      "[14:25:38] Explicit valence for atom # 5 C, 5, is greater than permitted\n",
      "[14:25:38] Explicit valence for atom # 3 C, 5, is greater than permitted\n",
      "[14:25:38] Explicit valence for atom # 4 C, 5, is greater than permitted\n",
      "[14:25:38] Explicit valence for atom # 3 C, 5, is greater than permitted\n",
      "[14:25:38] Explicit valence for atom # 5 C, 5, is greater than permitted\n",
      "[14:25:38] Explicit valence for atom # 3 C, 5, is greater than permitted\n",
      "[14:25:38] Explicit valence for atom # 2 C, 5, is greater than permitted\n",
      "[14:25:38] Explicit valence for atom # 5 C, 5, is greater than permitted\n",
      "[14:25:38] Explicit valence for atom # 6 C, 5, is greater than permitted\n",
      "[14:25:38] Explicit valence for atom # 3 C, 5, is greater than permitted\n",
      "[14:25:38] Explicit valence for atom # 3 C, 5, is greater than permitted\n",
      "[14:25:38] Explicit valence for atom # 4 C, 5, is greater than permitted\n",
      "[14:25:38] Explicit valence for atom # 4 C, 5, is greater than permitted\n",
      "[14:25:38] Explicit valence for atom # 3 C, 5, is greater than permitted\n",
      "[14:25:38] Explicit valence for atom # 3 C, 5, is greater than permitted\n",
      "[14:25:38] Explicit valence for atom # 2 C, 5, is greater than permitted\n",
      "[14:25:38] Explicit valence for atom # 4 C, 5, is greater than permitted\n",
      "[14:25:38] Explicit valence for atom # 4 C, 5, is greater than permitted\n",
      "[14:25:38] Explicit valence for atom # 4 C, 5, is greater than permitted\n",
      "[14:25:38] Explicit valence for atom # 5 C, 5, is greater than permitted\n",
      "[14:25:38] Explicit valence for atom # 5 C, 5, is greater than permitted\n",
      "[14:25:38] Explicit valence for atom # 5 C, 5, is greater than permitted\n",
      "[14:25:38] Explicit valence for atom # 3 C, 5, is greater than permitted\n",
      "[14:25:38] Explicit valence for atom # 5 C, 5, is greater than permitted\n",
      "[14:25:38] Explicit valence for atom # 4 C, 5, is greater than permitted\n",
      "[14:25:38] Explicit valence for atom # 4 C, 5, is greater than permitted\n",
      "[14:25:38] Explicit valence for atom # 4 C, 5, is greater than permitted\n",
      "[14:25:38] Explicit valence for atom # 4 C, 5, is greater than permitted\n",
      "[14:25:38] Explicit valence for atom # 4 C, 5, is greater than permitted\n",
      "[14:25:38] Explicit valence for atom # 2 C, 5, is greater than permitted\n",
      "[14:25:38] Explicit valence for atom # 6 C, 5, is greater than permitted\n",
      "[14:25:38] Explicit valence for atom # 3 C, 5, is greater than permitted\n",
      "[14:25:38] Explicit valence for atom # 4 C, 5, is greater than permitted\n",
      "[14:25:38] Explicit valence for atom # 3 C, 5, is greater than permitted\n",
      "[14:25:38] Explicit valence for atom # 4 C, 5, is greater than permitted\n",
      "[14:25:38] Explicit valence for atom # 5 C, 5, is greater than permitted\n",
      "[14:25:38] Explicit valence for atom # 2 C, 5, is greater than permitted\n",
      "[14:25:38] Explicit valence for atom # 4 C, 5, is greater than permitted\n",
      "[14:25:38] Explicit valence for atom # 6 C, 5, is greater than permitted\n",
      "[14:25:38] Explicit valence for atom # 3 C, 5, is greater than permitted\n",
      "[14:25:38] Explicit valence for atom # 5 C, 5, is greater than permitted\n",
      "[14:25:38] Explicit valence for atom # 5 C, 5, is greater than permitted\n",
      "[14:25:38] Explicit valence for atom # 4 C, 5, is greater than permitted\n",
      "[14:25:38] Explicit valence for atom # 6 C, 5, is greater than permitted\n",
      "[14:25:38] Explicit valence for atom # 3 C, 5, is greater than permitted\n",
      "[14:25:38] Explicit valence for atom # 5 C, 5, is greater than permitted\n",
      "[14:25:38] Explicit valence for atom # 5 C, 5, is greater than permitted\n",
      "[14:25:39] Explicit valence for atom # 2 C, 5, is greater than permitted\n",
      "[14:25:39] Explicit valence for atom # 1 C, 5, is greater than permitted\n",
      "[14:25:39] Explicit valence for atom # 5 C, 5, is greater than permitted\n",
      "[14:25:39] Explicit valence for atom # 2 C, 5, is greater than permitted\n",
      "[14:25:39] Explicit valence for atom # 2 C, 5, is greater than permitted\n",
      "[14:25:39] Explicit valence for atom # 4 C, 5, is greater than permitted\n",
      "[14:25:39] Explicit valence for atom # 5 C, 5, is greater than permitted\n",
      "[14:25:39] Explicit valence for atom # 4 C, 5, is greater than permitted\n",
      "[14:25:39] Explicit valence for atom # 5 C, 5, is greater than permitted\n",
      "[14:25:39] Explicit valence for atom # 5 C, 5, is greater than permitted\n",
      "[14:25:39] Explicit valence for atom # 4 C, 5, is greater than permitted\n",
      "[14:25:39] Explicit valence for atom # 5 C, 5, is greater than permitted\n",
      "[14:25:39] Explicit valence for atom # 4 C, 5, is greater than permitted\n",
      "[14:25:39] Explicit valence for atom # 3 C, 5, is greater than permitted\n",
      "[14:25:39] Explicit valence for atom # 4 C, 5, is greater than permitted\n",
      "[14:25:39] Explicit valence for atom # 3 C, 5, is greater than permitted\n",
      "[14:25:39] Explicit valence for atom # 4 C, 5, is greater than permitted\n",
      "[14:25:39] Explicit valence for atom # 5 C, 5, is greater than permitted\n",
      "[14:25:39] Explicit valence for atom # 2 C, 5, is greater than permitted\n",
      "[14:25:39] Explicit valence for atom # 3 C, 5, is greater than permitted\n",
      "[14:25:39] Explicit valence for atom # 2 C, 5, is greater than permitted\n",
      "[14:25:39] Explicit valence for atom # 4 C, 5, is greater than permitted\n",
      "[14:25:39] Explicit valence for atom # 2 C, 5, is greater than permitted\n",
      "[14:25:39] Explicit valence for atom # 5 C, 5, is greater than permitted\n",
      "[14:25:39] Explicit valence for atom # 4 C, 5, is greater than permitted\n",
      "[14:25:39] Explicit valence for atom # 2 C, 5, is greater than permitted\n",
      "[14:25:39] Explicit valence for atom # 4 C, 5, is greater than permitted\n",
      "[14:25:39] Explicit valence for atom # 4 C, 5, is greater than permitted\n",
      "[14:25:39] Explicit valence for atom # 4 C, 5, is greater than permitted\n",
      "[14:25:39] Explicit valence for atom # 3 C, 5, is greater than permitted\n",
      "[14:25:39] Explicit valence for atom # 5 C, 5, is greater than permitted\n",
      "[14:25:39] Explicit valence for atom # 3 C, 5, is greater than permitted\n",
      "[14:25:39] Explicit valence for atom # 5 C, 5, is greater than permitted\n",
      "[14:25:39] Explicit valence for atom # 5 C, 5, is greater than permitted\n",
      "[14:25:39] Explicit valence for atom # 3 C, 5, is greater than permitted\n",
      "[14:25:39] Explicit valence for atom # 2 C, 5, is greater than permitted\n",
      "[14:25:39] Explicit valence for atom # 2 C, 5, is greater than permitted\n",
      "[14:25:39] Explicit valence for atom # 5 C, 5, is greater than permitted\n",
      "[14:25:39] Explicit valence for atom # 4 C, 5, is greater than permitted\n",
      "[14:25:39] Explicit valence for atom # 6 C, 5, is greater than permitted\n",
      "[14:25:39] Explicit valence for atom # 4 C, 5, is greater than permitted\n",
      "[14:25:39] Explicit valence for atom # 2 C, 5, is greater than permitted\n",
      "[14:25:39] Explicit valence for atom # 2 C, 5, is greater than permitted\n",
      "[14:25:39] Explicit valence for atom # 3 C, 5, is greater than permitted\n",
      "[14:25:39] Explicit valence for atom # 5 C, 5, is greater than permitted\n",
      "[14:25:39] Explicit valence for atom # 5 C, 5, is greater than permitted\n",
      "[14:25:39] Explicit valence for atom # 4 C, 5, is greater than permitted\n",
      "[14:25:39] Explicit valence for atom # 4 C, 5, is greater than permitted\n",
      "[14:25:39] Explicit valence for atom # 5 C, 5, is greater than permitted\n",
      "[14:25:39] Explicit valence for atom # 5 C, 5, is greater than permitted\n",
      "[14:25:39] Explicit valence for atom # 5 C, 5, is greater than permitted\n",
      "[14:25:39] Explicit valence for atom # 4 C, 5, is greater than permitted\n",
      "[14:25:39] Explicit valence for atom # 4 C, 5, is greater than permitted\n",
      "[14:25:39] Explicit valence for atom # 3 C, 5, is greater than permitted\n",
      "[14:25:39] Explicit valence for atom # 4 C, 5, is greater than permitted\n",
      "[14:25:39] Explicit valence for atom # 6 C, 5, is greater than permitted\n",
      "[14:25:39] Explicit valence for atom # 4 C, 5, is greater than permitted\n",
      "[14:25:39] Explicit valence for atom # 3 C, 5, is greater than permitted\n",
      "[14:25:39] Explicit valence for atom # 2 C, 5, is greater than permitted\n",
      "[14:25:39] Explicit valence for atom # 3 C, 5, is greater than permitted\n",
      "[14:25:39] Explicit valence for atom # 4 C, 5, is greater than permitted\n",
      "[14:25:39] Explicit valence for atom # 5 C, 5, is greater than permitted\n",
      "[14:25:39] Explicit valence for atom # 5 C, 5, is greater than permitted\n",
      "[14:25:39] Explicit valence for atom # 5 C, 5, is greater than permitted\n",
      "[14:25:39] Explicit valence for atom # 3 C, 5, is greater than permitted\n",
      "[14:25:39] Explicit valence for atom # 2 C, 5, is greater than permitted\n",
      "[14:25:39] Explicit valence for atom # 5 C, 5, is greater than permitted\n",
      "[14:25:39] Explicit valence for atom # 3 C, 5, is greater than permitted\n",
      "[14:25:39] Explicit valence for atom # 5 C, 5, is greater than permitted\n",
      "[14:25:39] Explicit valence for atom # 5 C, 5, is greater than permitted\n",
      "[14:25:39] Explicit valence for atom # 2 C, 5, is greater than permitted\n",
      "[14:25:39] Explicit valence for atom # 3 C, 5, is greater than permitted\n",
      "[14:25:39] Explicit valence for atom # 6 C, 5, is greater than permitted\n",
      "[14:25:39] Explicit valence for atom # 3 C, 5, is greater than permitted\n",
      "[14:25:39] Explicit valence for atom # 4 C, 5, is greater than permitted\n",
      "[14:25:39] Explicit valence for atom # 4 C, 5, is greater than permitted\n",
      "[14:25:39] Explicit valence for atom # 3 C, 5, is greater than permitted\n",
      "[14:25:39] Explicit valence for atom # 4 C, 5, is greater than permitted\n",
      "[14:25:39] Explicit valence for atom # 6 C, 5, is greater than permitted\n",
      "[14:25:39] Explicit valence for atom # 5 C, 5, is greater than permitted\n",
      "[14:25:39] Explicit valence for atom # 4 C, 5, is greater than permitted\n",
      "[14:25:39] Explicit valence for atom # 5 C, 5, is greater than permitted\n",
      "[14:25:39] Explicit valence for atom # 5 C, 5, is greater than permitted\n",
      "[14:25:39] Explicit valence for atom # 1 C, 5, is greater than permitted\n",
      "[14:25:39] Explicit valence for atom # 3 C, 5, is greater than permitted\n",
      "[14:25:39] Explicit valence for atom # 4 C, 5, is greater than permitted\n",
      "[14:25:39] Explicit valence for atom # 4 C, 5, is greater than permitted\n",
      "[14:25:39] Explicit valence for atom # 6 C, 5, is greater than permitted\n",
      "[14:25:39] Explicit valence for atom # 5 C, 5, is greater than permitted\n",
      "[14:25:39] Explicit valence for atom # 5 C, 5, is greater than permitted\n",
      "[14:25:39] Explicit valence for atom # 5 C, 5, is greater than permitted\n",
      "[14:25:39] Explicit valence for atom # 5 C, 5, is greater than permitted\n",
      "[14:25:39] Explicit valence for atom # 3 C, 5, is greater than permitted\n",
      "[14:25:39] Explicit valence for atom # 1 C, 5, is greater than permitted\n",
      "[14:25:39] Explicit valence for atom # 5 C, 5, is greater than permitted\n",
      "[14:25:39] Explicit valence for atom # 3 C, 5, is greater than permitted\n",
      "[14:25:39] Explicit valence for atom # 4 C, 5, is greater than permitted\n",
      "[14:25:39] Explicit valence for atom # 4 C, 5, is greater than permitted\n",
      "[14:25:39] Explicit valence for atom # 6 C, 5, is greater than permitted\n",
      "[14:25:39] Explicit valence for atom # 4 C, 5, is greater than permitted\n",
      "[14:25:39] Explicit valence for atom # 5 C, 5, is greater than permitted\n",
      "[14:25:39] Explicit valence for atom # 5 C, 5, is greater than permitted\n",
      "[14:25:39] Explicit valence for atom # 3 C, 5, is greater than permitted\n",
      "[14:25:39] Explicit valence for atom # 6 C, 5, is greater than permitted\n",
      "[14:25:39] Explicit valence for atom # 6 C, 5, is greater than permitted\n",
      "[14:25:39] Explicit valence for atom # 3 C, 5, is greater than permitted\n",
      "[14:25:39] Explicit valence for atom # 5 C, 5, is greater than permitted\n",
      "[14:25:39] Explicit valence for atom # 5 C, 5, is greater than permitted\n",
      "[14:25:39] Explicit valence for atom # 3 C, 5, is greater than permitted\n",
      "[14:25:39] Explicit valence for atom # 4 C, 5, is greater than permitted\n",
      "[14:25:39] Explicit valence for atom # 5 C, 5, is greater than permitted\n",
      "[14:25:39] Explicit valence for atom # 5 C, 5, is greater than permitted\n",
      "[14:25:39] Explicit valence for atom # 5 C, 5, is greater than permitted\n",
      "[14:25:39] Explicit valence for atom # 5 C, 5, is greater than permitted\n",
      "[14:25:39] Explicit valence for atom # 5 C, 5, is greater than permitted\n",
      "[14:25:39] Explicit valence for atom # 5 C, 5, is greater than permitted\n",
      "[14:25:39] Explicit valence for atom # 2 C, 5, is greater than permitted\n",
      "[14:25:39] Explicit valence for atom # 2 C, 5, is greater than permitted\n",
      "[14:25:39] Explicit valence for atom # 2 C, 5, is greater than permitted\n",
      "[14:25:39] Explicit valence for atom # 3 C, 5, is greater than permitted\n",
      "[14:25:39] Explicit valence for atom # 3 C, 5, is greater than permitted\n",
      "[14:25:39] Explicit valence for atom # 5 C, 5, is greater than permitted\n",
      "[14:25:39] Explicit valence for atom # 4 C, 5, is greater than permitted\n",
      "[14:25:39] Explicit valence for atom # 3 C, 5, is greater than permitted\n",
      "[14:25:39] Explicit valence for atom # 4 C, 5, is greater than permitted\n",
      "[14:25:39] Explicit valence for atom # 4 C, 5, is greater than permitted\n",
      "[14:25:39] Explicit valence for atom # 2 C, 5, is greater than permitted\n",
      "[14:25:39] Explicit valence for atom # 4 C, 5, is greater than permitted\n",
      "[14:25:39] Explicit valence for atom # 2 C, 5, is greater than permitted\n",
      "[14:25:39] Explicit valence for atom # 2 C, 5, is greater than permitted\n",
      "[14:25:39] Explicit valence for atom # 6 C, 5, is greater than permitted\n",
      "[14:25:39] Explicit valence for atom # 5 C, 5, is greater than permitted\n",
      "[14:25:39] Explicit valence for atom # 4 C, 5, is greater than permitted\n",
      "[14:25:39] Explicit valence for atom # 5 C, 5, is greater than permitted\n",
      "[14:25:39] Explicit valence for atom # 4 C, 5, is greater than permitted\n",
      "[14:25:39] Explicit valence for atom # 4 C, 5, is greater than permitted\n",
      "[14:25:39] Explicit valence for atom # 4 C, 5, is greater than permitted\n",
      "[14:25:39] Explicit valence for atom # 5 C, 5, is greater than permitted\n",
      "[14:25:39] Explicit valence for atom # 2 C, 5, is greater than permitted\n",
      "[14:25:39] Explicit valence for atom # 2 C, 5, is greater than permitted\n",
      "[14:25:39] Explicit valence for atom # 3 C, 5, is greater than permitted\n",
      "[14:25:39] Explicit valence for atom # 2 C, 5, is greater than permitted\n",
      "[14:25:39] Explicit valence for atom # 2 C, 5, is greater than permitted\n",
      "[14:25:39] Explicit valence for atom # 4 C, 5, is greater than permitted\n",
      "[14:25:39] Explicit valence for atom # 4 C, 5, is greater than permitted\n",
      "[14:25:39] Explicit valence for atom # 5 C, 5, is greater than permitted\n",
      "[14:25:39] Explicit valence for atom # 5 C, 5, is greater than permitted\n",
      "[14:25:39] Explicit valence for atom # 4 C, 5, is greater than permitted\n",
      "[14:25:39] Explicit valence for atom # 6 C, 5, is greater than permitted\n",
      "[14:25:39] Explicit valence for atom # 3 C, 5, is greater than permitted\n",
      "[14:25:39] Explicit valence for atom # 3 C, 5, is greater than permitted\n",
      "[14:25:39] Explicit valence for atom # 5 C, 5, is greater than permitted\n",
      "[14:25:39] Explicit valence for atom # 5 C, 5, is greater than permitted\n",
      "[14:25:39] Explicit valence for atom # 4 C, 5, is greater than permitted\n",
      "[14:25:39] Explicit valence for atom # 4 C, 5, is greater than permitted\n",
      "[14:25:39] Explicit valence for atom # 5 C, 5, is greater than permitted\n",
      "[14:25:39] Explicit valence for atom # 5 C, 5, is greater than permitted\n",
      "[14:25:39] Explicit valence for atom # 2 C, 5, is greater than permitted\n",
      "[14:25:39] Explicit valence for atom # 2 C, 5, is greater than permitted\n",
      "[14:25:39] Explicit valence for atom # 2 C, 5, is greater than permitted\n",
      "[14:25:39] Explicit valence for atom # 2 C, 5, is greater than permitted\n",
      "[14:25:39] Explicit valence for atom # 2 C, 5, is greater than permitted\n",
      "[14:25:39] Explicit valence for atom # 3 C, 5, is greater than permitted\n",
      "[14:25:39] Explicit valence for atom # 4 C, 5, is greater than permitted\n",
      "[14:25:39] Explicit valence for atom # 5 C, 5, is greater than permitted\n",
      "[14:25:39] Explicit valence for atom # 3 C, 5, is greater than permitted\n",
      "[14:25:39] Explicit valence for atom # 4 C, 5, is greater than permitted\n",
      "[14:25:39] Explicit valence for atom # 6 C, 5, is greater than permitted\n",
      "[14:25:39] Explicit valence for atom # 3 C, 5, is greater than permitted\n",
      "[14:25:39] Explicit valence for atom # 2 C, 5, is greater than permitted\n",
      "[14:25:39] Explicit valence for atom # 2 C, 5, is greater than permitted\n",
      "[14:25:39] Explicit valence for atom # 5 C, 5, is greater than permitted\n",
      "[14:25:39] Explicit valence for atom # 2 C, 5, is greater than permitted\n",
      "[14:25:39] Explicit valence for atom # 5 C, 5, is greater than permitted\n",
      "[14:25:39] Explicit valence for atom # 5 C, 5, is greater than permitted\n",
      "[14:25:39] Explicit valence for atom # 2 C, 5, is greater than permitted\n",
      "[14:25:39] Explicit valence for atom # 6 C, 5, is greater than permitted\n",
      "[14:25:39] Explicit valence for atom # 2 C, 5, is greater than permitted\n",
      "[14:25:39] Explicit valence for atom # 3 C, 5, is greater than permitted\n",
      "[14:25:39] Explicit valence for atom # 3 C, 5, is greater than permitted\n",
      "[14:25:39] Explicit valence for atom # 2 C, 5, is greater than permitted\n",
      "[14:25:39] Explicit valence for atom # 5 C, 5, is greater than permitted\n",
      "[14:25:39] Explicit valence for atom # 3 C, 5, is greater than permitted\n",
      "[14:25:39] Explicit valence for atom # 2 C, 5, is greater than permitted\n",
      "[14:25:39] Explicit valence for atom # 3 C, 5, is greater than permitted\n",
      "[14:25:39] Explicit valence for atom # 3 C, 5, is greater than permitted\n",
      "[14:25:39] Explicit valence for atom # 2 C, 5, is greater than permitted\n",
      "[14:25:39] Explicit valence for atom # 2 C, 5, is greater than permitted\n",
      "[14:25:39] Explicit valence for atom # 2 C, 5, is greater than permitted\n",
      "[14:25:39] Explicit valence for atom # 2 C, 5, is greater than permitted\n",
      "[14:25:39] Explicit valence for atom # 3 C, 5, is greater than permitted\n",
      "[14:25:39] Explicit valence for atom # 5 C, 5, is greater than permitted\n",
      "[14:25:39] Explicit valence for atom # 5 C, 5, is greater than permitted\n",
      "[14:25:39] Explicit valence for atom # 1 C, 5, is greater than permitted\n",
      "[14:25:39] Explicit valence for atom # 5 C, 5, is greater than permitted\n",
      "[14:25:39] Explicit valence for atom # 5 C, 5, is greater than permitted\n",
      "[14:25:39] Explicit valence for atom # 6 C, 5, is greater than permitted\n",
      "[14:25:39] Explicit valence for atom # 4 C, 5, is greater than permitted\n",
      "[14:25:39] Explicit valence for atom # 5 C, 5, is greater than permitted\n",
      "[14:25:39] Explicit valence for atom # 5 C, 5, is greater than permitted\n",
      "[14:25:39] Explicit valence for atom # 1 C, 5, is greater than permitted\n",
      "[14:25:39] Explicit valence for atom # 6 C, 5, is greater than permitted\n",
      "[14:25:39] Explicit valence for atom # 3 C, 5, is greater than permitted\n",
      "[14:25:39] Explicit valence for atom # 4 C, 5, is greater than permitted\n",
      "[14:25:39] Explicit valence for atom # 4 C, 5, is greater than permitted\n",
      "[14:25:39] Explicit valence for atom # 5 C, 5, is greater than permitted\n",
      "[14:25:39] Explicit valence for atom # 3 C, 5, is greater than permitted\n",
      "[14:25:39] Explicit valence for atom # 5 C, 5, is greater than permitted\n",
      "[14:25:39] Explicit valence for atom # 5 C, 5, is greater than permitted\n",
      "[14:25:39] Explicit valence for atom # 5 C, 5, is greater than permitted\n",
      "[14:25:39] Explicit valence for atom # 3 C, 5, is greater than permitted\n",
      "[14:25:39] Explicit valence for atom # 5 C, 5, is greater than permitted\n",
      "[14:25:39] Explicit valence for atom # 4 C, 5, is greater than permitted\n",
      "[14:25:39] Explicit valence for atom # 5 C, 5, is greater than permitted\n",
      "[14:25:39] Explicit valence for atom # 4 C, 5, is greater than permitted\n",
      "[14:25:39] Explicit valence for atom # 6 C, 5, is greater than permitted\n",
      "[14:25:39] Explicit valence for atom # 3 C, 5, is greater than permitted\n",
      "[14:25:39] Explicit valence for atom # 6 C, 5, is greater than permitted\n",
      "[14:25:39] Explicit valence for atom # 3 C, 5, is greater than permitted\n",
      "[14:25:39] Explicit valence for atom # 3 C, 5, is greater than permitted\n",
      "[14:25:39] Explicit valence for atom # 4 C, 5, is greater than permitted\n",
      "[14:25:39] Explicit valence for atom # 3 C, 5, is greater than permitted\n",
      "[14:25:39] Explicit valence for atom # 4 C, 5, is greater than permitted\n",
      "[14:25:39] Explicit valence for atom # 4 C, 5, is greater than permitted\n",
      "[14:25:39] Explicit valence for atom # 2 C, 5, is greater than permitted\n",
      "[14:25:40] Explicit valence for atom # 5 C, 5, is greater than permitted\n",
      "[14:25:40] Explicit valence for atom # 3 C, 5, is greater than permitted\n",
      "[14:25:40] Explicit valence for atom # 4 C, 5, is greater than permitted\n",
      "[14:25:40] Explicit valence for atom # 2 C, 5, is greater than permitted\n",
      "[14:25:40] Explicit valence for atom # 5 C, 5, is greater than permitted\n",
      "[14:25:40] Explicit valence for atom # 6 C, 5, is greater than permitted\n",
      "[14:25:40] Explicit valence for atom # 2 C, 5, is greater than permitted\n",
      "[14:25:40] Explicit valence for atom # 6 C, 5, is greater than permitted\n",
      "[14:25:40] Explicit valence for atom # 4 C, 5, is greater than permitted\n",
      "[14:25:40] Explicit valence for atom # 4 C, 5, is greater than permitted\n",
      "[14:25:40] Explicit valence for atom # 5 C, 5, is greater than permitted\n",
      "[14:25:40] Explicit valence for atom # 5 C, 5, is greater than permitted\n",
      "[14:25:40] Explicit valence for atom # 3 C, 5, is greater than permitted\n",
      "[14:25:40] Explicit valence for atom # 2 C, 5, is greater than permitted\n",
      "[14:25:40] Explicit valence for atom # 4 C, 5, is greater than permitted\n",
      "[14:25:40] Explicit valence for atom # 5 C, 5, is greater than permitted\n",
      "[14:25:40] Explicit valence for atom # 5 C, 5, is greater than permitted\n",
      "[14:25:40] Explicit valence for atom # 5 C, 5, is greater than permitted\n",
      "[14:25:40] Explicit valence for atom # 2 C, 5, is greater than permitted\n",
      "[14:25:40] Explicit valence for atom # 5 C, 5, is greater than permitted\n",
      "[14:25:40] Explicit valence for atom # 4 C, 5, is greater than permitted\n",
      "[14:25:40] Explicit valence for atom # 2 C, 5, is greater than permitted\n",
      "[14:25:40] Explicit valence for atom # 5 C, 5, is greater than permitted\n",
      "[14:25:40] Explicit valence for atom # 5 C, 5, is greater than permitted\n",
      "[14:25:40] Explicit valence for atom # 3 C, 5, is greater than permitted\n",
      "[14:25:40] Explicit valence for atom # 4 C, 5, is greater than permitted\n",
      "[14:25:40] Explicit valence for atom # 5 C, 5, is greater than permitted\n",
      "[14:25:40] Explicit valence for atom # 5 C, 5, is greater than permitted\n",
      "[14:25:40] Explicit valence for atom # 3 C, 5, is greater than permitted\n",
      "[14:25:40] Explicit valence for atom # 4 C, 5, is greater than permitted\n",
      "[14:25:40] Explicit valence for atom # 3 C, 5, is greater than permitted\n",
      "[14:25:40] Explicit valence for atom # 1 C, 5, is greater than permitted\n",
      "[14:25:40] Explicit valence for atom # 6 C, 5, is greater than permitted\n",
      "[14:25:40] Explicit valence for atom # 2 C, 5, is greater than permitted\n",
      "[14:25:40] Explicit valence for atom # 4 C, 5, is greater than permitted\n",
      "[14:25:40] Explicit valence for atom # 4 C, 5, is greater than permitted\n",
      "[14:25:40] Explicit valence for atom # 2 C, 5, is greater than permitted\n",
      "[14:25:40] Explicit valence for atom # 4 C, 5, is greater than permitted\n",
      "[14:25:40] Explicit valence for atom # 5 C, 5, is greater than permitted\n",
      "[14:25:40] Explicit valence for atom # 5 C, 5, is greater than permitted\n",
      "[14:25:40] Explicit valence for atom # 4 C, 5, is greater than permitted\n",
      "[14:25:40] Explicit valence for atom # 3 C, 5, is greater than permitted\n",
      "[14:25:40] Explicit valence for atom # 2 C, 5, is greater than permitted\n",
      "[14:25:40] Explicit valence for atom # 4 C, 5, is greater than permitted\n",
      "[14:25:40] Explicit valence for atom # 2 C, 5, is greater than permitted\n",
      "[14:25:40] Explicit valence for atom # 5 C, 5, is greater than permitted\n",
      "[14:25:40] Explicit valence for atom # 4 C, 5, is greater than permitted\n",
      "[14:25:40] Explicit valence for atom # 2 C, 5, is greater than permitted\n",
      "[14:25:40] Explicit valence for atom # 5 C, 5, is greater than permitted\n",
      "[14:25:40] Explicit valence for atom # 4 C, 5, is greater than permitted\n",
      "[14:25:40] Explicit valence for atom # 2 C, 5, is greater than permitted\n",
      "[14:25:40] Explicit valence for atom # 2 C, 5, is greater than permitted\n",
      "[14:25:40] Explicit valence for atom # 3 C, 5, is greater than permitted\n",
      "[14:25:40] Explicit valence for atom # 4 C, 5, is greater than permitted\n",
      "[14:25:40] Explicit valence for atom # 2 C, 5, is greater than permitted\n",
      "[14:25:40] Explicit valence for atom # 3 C, 5, is greater than permitted\n",
      "[14:25:40] Explicit valence for atom # 4 C, 5, is greater than permitted\n",
      "[14:25:40] Explicit valence for atom # 4 C, 5, is greater than permitted\n",
      "[14:25:40] Explicit valence for atom # 4 C, 5, is greater than permitted\n",
      "[14:25:40] Explicit valence for atom # 3 C, 5, is greater than permitted\n",
      "[14:25:40] Explicit valence for atom # 3 C, 5, is greater than permitted\n",
      "[14:25:40] Explicit valence for atom # 6 C, 5, is greater than permitted\n",
      "[14:25:40] Explicit valence for atom # 4 C, 5, is greater than permitted\n",
      "[14:25:40] Explicit valence for atom # 5 C, 5, is greater than permitted\n",
      "[14:25:40] Explicit valence for atom # 4 C, 5, is greater than permitted\n",
      "[14:25:40] Explicit valence for atom # 3 C, 5, is greater than permitted\n",
      "[14:25:40] Explicit valence for atom # 4 C, 5, is greater than permitted\n",
      "[14:25:40] Explicit valence for atom # 5 C, 5, is greater than permitted\n",
      "[14:25:40] Explicit valence for atom # 3 C, 5, is greater than permitted\n",
      "[14:25:40] Explicit valence for atom # 1 C, 5, is greater than permitted\n",
      "[14:25:40] Explicit valence for atom # 5 C, 5, is greater than permitted\n",
      "[14:25:40] Explicit valence for atom # 2 C, 5, is greater than permitted\n",
      "[14:25:40] Explicit valence for atom # 5 C, 5, is greater than permitted\n",
      "[14:25:40] Explicit valence for atom # 2 C, 5, is greater than permitted\n",
      "[14:25:40] Explicit valence for atom # 2 C, 5, is greater than permitted\n",
      "[14:25:40] Explicit valence for atom # 3 C, 5, is greater than permitted\n",
      "[14:25:40] Explicit valence for atom # 5 C, 5, is greater than permitted\n",
      "[14:25:40] Explicit valence for atom # 3 C, 5, is greater than permitted\n",
      "[14:25:40] Explicit valence for atom # 4 C, 5, is greater than permitted\n",
      "[14:25:40] Explicit valence for atom # 4 C, 5, is greater than permitted\n",
      "[14:25:40] Explicit valence for atom # 4 C, 5, is greater than permitted\n",
      "[14:25:40] Explicit valence for atom # 5 C, 5, is greater than permitted\n",
      "[14:25:40] Explicit valence for atom # 5 C, 5, is greater than permitted\n",
      "[14:25:40] Explicit valence for atom # 4 C, 5, is greater than permitted\n",
      "[14:25:40] Explicit valence for atom # 4 C, 5, is greater than permitted\n",
      "[14:25:40] Explicit valence for atom # 3 C, 5, is greater than permitted\n",
      "[14:25:40] Explicit valence for atom # 4 C, 5, is greater than permitted\n",
      "[14:25:40] Explicit valence for atom # 4 C, 5, is greater than permitted\n",
      "[14:25:40] Explicit valence for atom # 5 C, 5, is greater than permitted\n",
      "[14:25:40] Explicit valence for atom # 2 C, 5, is greater than permitted\n",
      "[14:25:40] Explicit valence for atom # 3 C, 5, is greater than permitted\n",
      "[14:25:40] Explicit valence for atom # 5 C, 5, is greater than permitted\n",
      "[14:25:40] Explicit valence for atom # 4 C, 5, is greater than permitted\n",
      "[14:25:40] Explicit valence for atom # 3 C, 5, is greater than permitted\n",
      "[14:25:40] Explicit valence for atom # 3 C, 5, is greater than permitted\n",
      "[14:25:40] Explicit valence for atom # 4 C, 5, is greater than permitted\n",
      "[14:25:40] Explicit valence for atom # 4 C, 5, is greater than permitted\n",
      "[14:25:40] Explicit valence for atom # 3 C, 5, is greater than permitted\n",
      "[14:25:40] Explicit valence for atom # 2 C, 5, is greater than permitted\n",
      "[14:25:40] Explicit valence for atom # 5 C, 5, is greater than permitted\n",
      "[14:25:40] Explicit valence for atom # 5 C, 5, is greater than permitted\n",
      "[14:25:40] Explicit valence for atom # 6 C, 5, is greater than permitted\n",
      "[14:25:40] Explicit valence for atom # 6 C, 5, is greater than permitted\n",
      "[14:25:40] Explicit valence for atom # 4 C, 5, is greater than permitted\n",
      "[14:25:40] Explicit valence for atom # 2 C, 5, is greater than permitted\n",
      "[14:25:40] Explicit valence for atom # 5 C, 5, is greater than permitted\n",
      "[14:25:40] Explicit valence for atom # 4 C, 5, is greater than permitted\n",
      "[14:25:40] Explicit valence for atom # 6 C, 5, is greater than permitted\n",
      "[14:25:40] Explicit valence for atom # 7 C, 5, is greater than permitted\n",
      "[14:25:40] Explicit valence for atom # 5 C, 5, is greater than permitted\n",
      "[14:25:40] Explicit valence for atom # 6 C, 5, is greater than permitted\n",
      "[14:25:40] Explicit valence for atom # 4 C, 5, is greater than permitted\n",
      "[14:25:40] Explicit valence for atom # 3 C, 5, is greater than permitted\n",
      "[14:25:40] Explicit valence for atom # 4 C, 5, is greater than permitted\n",
      "[14:25:40] Explicit valence for atom # 3 C, 5, is greater than permitted\n",
      "[14:25:40] Explicit valence for atom # 5 C, 5, is greater than permitted\n",
      "[14:25:40] Explicit valence for atom # 5 C, 5, is greater than permitted\n",
      "[14:25:40] Explicit valence for atom # 2 C, 5, is greater than permitted\n",
      "[14:25:40] Explicit valence for atom # 4 C, 5, is greater than permitted\n",
      "[14:25:40] Explicit valence for atom # 3 C, 5, is greater than permitted\n",
      "[14:25:40] Explicit valence for atom # 6 C, 5, is greater than permitted\n",
      "[14:25:40] Explicit valence for atom # 5 C, 5, is greater than permitted\n",
      "[14:25:40] Explicit valence for atom # 4 C, 5, is greater than permitted\n",
      "[14:25:40] Explicit valence for atom # 3 C, 5, is greater than permitted\n",
      "[14:25:40] Explicit valence for atom # 3 C, 5, is greater than permitted\n",
      "[14:25:40] Explicit valence for atom # 5 C, 5, is greater than permitted\n",
      "[14:25:40] Explicit valence for atom # 5 C, 5, is greater than permitted\n",
      "[14:25:40] Explicit valence for atom # 4 C, 5, is greater than permitted\n",
      "[14:25:40] Explicit valence for atom # 5 C, 5, is greater than permitted\n",
      "[14:25:40] Explicit valence for atom # 2 C, 5, is greater than permitted\n",
      "[14:25:40] Explicit valence for atom # 5 C, 5, is greater than permitted\n",
      "[14:25:40] Explicit valence for atom # 4 C, 5, is greater than permitted\n",
      "[14:25:40] Explicit valence for atom # 4 C, 5, is greater than permitted\n",
      "[14:25:40] Explicit valence for atom # 5 C, 5, is greater than permitted\n",
      "[14:25:40] Explicit valence for atom # 3 C, 5, is greater than permitted\n",
      "[14:25:40] Explicit valence for atom # 3 C, 5, is greater than permitted\n",
      "[14:25:40] Explicit valence for atom # 3 C, 5, is greater than permitted\n",
      "[14:25:40] Explicit valence for atom # 5 C, 5, is greater than permitted\n",
      "[14:25:40] Explicit valence for atom # 2 C, 5, is greater than permitted\n",
      "[14:25:40] Explicit valence for atom # 2 C, 5, is greater than permitted\n",
      "[14:25:40] Explicit valence for atom # 3 C, 5, is greater than permitted\n",
      "[14:25:40] Explicit valence for atom # 2 C, 5, is greater than permitted\n",
      "[14:25:40] Explicit valence for atom # 3 C, 5, is greater than permitted\n",
      "[14:25:40] Explicit valence for atom # 2 C, 5, is greater than permitted\n",
      "[14:25:40] Explicit valence for atom # 6 C, 5, is greater than permitted\n",
      "[14:25:40] Explicit valence for atom # 6 C, 5, is greater than permitted\n",
      "[14:25:40] Explicit valence for atom # 3 C, 5, is greater than permitted\n",
      "[14:25:40] Explicit valence for atom # 3 C, 5, is greater than permitted\n",
      "[14:25:40] Explicit valence for atom # 3 C, 5, is greater than permitted\n",
      "[14:25:40] Explicit valence for atom # 6 C, 5, is greater than permitted\n",
      "[14:25:40] Explicit valence for atom # 4 C, 5, is greater than permitted\n",
      "[14:25:40] Explicit valence for atom # 3 C, 5, is greater than permitted\n",
      "[14:25:40] Explicit valence for atom # 4 C, 5, is greater than permitted\n",
      "[14:25:40] Explicit valence for atom # 3 C, 5, is greater than permitted\n",
      "[14:25:40] Explicit valence for atom # 4 C, 5, is greater than permitted\n",
      "[14:25:40] Explicit valence for atom # 4 C, 5, is greater than permitted\n",
      "[14:25:40] Explicit valence for atom # 4 C, 5, is greater than permitted\n",
      "[14:25:40] Explicit valence for atom # 3 C, 5, is greater than permitted\n",
      "[14:25:40] Explicit valence for atom # 5 C, 5, is greater than permitted\n",
      "[14:25:40] Explicit valence for atom # 3 C, 5, is greater than permitted\n",
      "[14:25:40] Explicit valence for atom # 4 C, 5, is greater than permitted\n",
      "[14:25:40] Explicit valence for atom # 3 C, 5, is greater than permitted\n",
      "[14:25:40] Explicit valence for atom # 2 C, 5, is greater than permitted\n",
      "[14:25:40] Explicit valence for atom # 1 C, 5, is greater than permitted\n",
      "[14:25:40] Explicit valence for atom # 6 C, 5, is greater than permitted\n",
      "[14:25:40] Explicit valence for atom # 5 C, 5, is greater than permitted\n",
      "[14:25:40] Explicit valence for atom # 2 C, 5, is greater than permitted\n",
      "[14:25:40] Explicit valence for atom # 5 C, 5, is greater than permitted\n",
      "[14:25:40] Explicit valence for atom # 4 C, 5, is greater than permitted\n",
      "[14:25:40] Explicit valence for atom # 3 C, 5, is greater than permitted\n",
      "[14:25:40] Explicit valence for atom # 3 C, 5, is greater than permitted\n",
      "[14:25:40] Explicit valence for atom # 3 C, 5, is greater than permitted\n",
      "[14:25:40] Explicit valence for atom # 2 C, 5, is greater than permitted\n",
      "[14:25:40] Explicit valence for atom # 3 C, 5, is greater than permitted\n",
      "[14:25:40] Explicit valence for atom # 4 C, 5, is greater than permitted\n",
      "[14:25:40] Explicit valence for atom # 2 C, 5, is greater than permitted\n",
      "[14:25:40] Explicit valence for atom # 3 C, 5, is greater than permitted\n",
      "[14:25:40] Explicit valence for atom # 2 C, 5, is greater than permitted\n",
      "[14:25:40] Explicit valence for atom # 5 C, 5, is greater than permitted\n",
      "[14:25:40] Explicit valence for atom # 4 C, 5, is greater than permitted\n",
      "[14:25:40] Explicit valence for atom # 3 C, 5, is greater than permitted\n",
      "[14:25:40] Explicit valence for atom # 3 C, 5, is greater than permitted\n",
      "[14:25:40] Explicit valence for atom # 2 C, 5, is greater than permitted\n",
      "[14:25:41] Explicit valence for atom # 2 C, 5, is greater than permitted\n",
      "[14:25:41] Explicit valence for atom # 1 C, 5, is greater than permitted\n",
      "[14:25:41] Explicit valence for atom # 4 C, 5, is greater than permitted\n",
      "[14:25:41] Explicit valence for atom # 2 C, 5, is greater than permitted\n",
      "[14:25:41] Explicit valence for atom # 5 C, 5, is greater than permitted\n",
      "[14:25:41] Explicit valence for atom # 3 C, 5, is greater than permitted\n",
      "[14:25:41] Explicit valence for atom # 4 C, 5, is greater than permitted\n",
      "[14:25:41] Explicit valence for atom # 3 C, 5, is greater than permitted\n",
      "[14:25:41] Explicit valence for atom # 6 C, 5, is greater than permitted\n",
      "[14:25:41] Explicit valence for atom # 6 C, 5, is greater than permitted\n",
      "[14:25:41] Explicit valence for atom # 5 C, 5, is greater than permitted\n",
      "[14:25:41] Explicit valence for atom # 6 C, 5, is greater than permitted\n",
      "[14:25:41] Explicit valence for atom # 3 C, 5, is greater than permitted\n",
      "[14:25:41] Explicit valence for atom # 4 C, 5, is greater than permitted\n",
      "[14:25:41] Explicit valence for atom # 3 C, 5, is greater than permitted\n",
      "[14:25:41] Explicit valence for atom # 5 C, 5, is greater than permitted\n",
      "[14:25:41] Explicit valence for atom # 5 C, 5, is greater than permitted\n",
      "[14:25:41] Explicit valence for atom # 5 C, 5, is greater than permitted\n",
      "[14:25:41] Explicit valence for atom # 4 C, 5, is greater than permitted\n",
      "[14:25:41] Explicit valence for atom # 5 C, 5, is greater than permitted\n",
      "[14:25:41] Explicit valence for atom # 4 C, 5, is greater than permitted\n",
      "[14:25:41] Explicit valence for atom # 4 C, 5, is greater than permitted\n",
      "[14:25:41] Explicit valence for atom # 6 C, 5, is greater than permitted\n",
      "[14:25:41] Explicit valence for atom # 3 C, 5, is greater than permitted\n",
      "[14:25:41] Explicit valence for atom # 4 C, 5, is greater than permitted\n",
      "[14:25:41] Explicit valence for atom # 4 C, 5, is greater than permitted\n",
      "[14:25:41] Explicit valence for atom # 4 C, 5, is greater than permitted\n",
      "[14:25:41] Explicit valence for atom # 6 C, 5, is greater than permitted\n",
      "[14:25:41] Explicit valence for atom # 3 C, 5, is greater than permitted\n",
      "[14:25:41] Explicit valence for atom # 4 C, 5, is greater than permitted\n",
      "[14:25:41] Explicit valence for atom # 1 C, 5, is greater than permitted\n",
      "[14:25:41] Explicit valence for atom # 2 C, 5, is greater than permitted\n",
      "[14:25:41] Explicit valence for atom # 5 C, 5, is greater than permitted\n",
      "[14:25:41] Explicit valence for atom # 3 C, 5, is greater than permitted\n",
      "[14:25:41] Explicit valence for atom # 3 C, 5, is greater than permitted\n",
      "[14:25:41] Explicit valence for atom # 4 C, 5, is greater than permitted\n",
      "[14:25:41] Explicit valence for atom # 4 C, 5, is greater than permitted\n",
      "[14:25:41] Explicit valence for atom # 3 C, 5, is greater than permitted\n",
      "[14:25:41] Explicit valence for atom # 2 C, 5, is greater than permitted\n",
      "[14:25:41] Explicit valence for atom # 5 C, 5, is greater than permitted\n",
      "[14:25:41] Explicit valence for atom # 3 C, 5, is greater than permitted\n",
      "[14:25:41] Explicit valence for atom # 4 C, 5, is greater than permitted\n",
      "[14:25:41] Explicit valence for atom # 4 C, 5, is greater than permitted\n",
      "[14:25:41] Explicit valence for atom # 4 C, 5, is greater than permitted\n",
      "[14:25:41] Explicit valence for atom # 4 C, 5, is greater than permitted\n",
      "[14:25:41] Explicit valence for atom # 2 C, 5, is greater than permitted\n",
      "[14:25:41] Explicit valence for atom # 4 C, 5, is greater than permitted\n",
      "[14:25:41] Explicit valence for atom # 4 C, 5, is greater than permitted\n",
      "[14:25:41] Explicit valence for atom # 3 C, 5, is greater than permitted\n",
      "[14:25:41] Explicit valence for atom # 3 C, 5, is greater than permitted\n",
      "[14:25:41] Explicit valence for atom # 2 C, 5, is greater than permitted\n",
      "[14:25:41] Explicit valence for atom # 5 C, 5, is greater than permitted\n",
      "[14:25:41] Explicit valence for atom # 4 C, 5, is greater than permitted\n",
      "[14:25:41] Explicit valence for atom # 5 C, 5, is greater than permitted\n",
      "[14:25:41] Explicit valence for atom # 5 C, 5, is greater than permitted\n",
      "[14:25:41] Explicit valence for atom # 3 C, 5, is greater than permitted\n",
      "[14:25:41] Explicit valence for atom # 4 C, 5, is greater than permitted\n",
      "[14:25:41] Explicit valence for atom # 3 C, 5, is greater than permitted\n",
      "[14:25:41] Explicit valence for atom # 3 C, 5, is greater than permitted\n",
      "[14:25:41] Explicit valence for atom # 4 C, 5, is greater than permitted\n",
      "[14:25:41] Explicit valence for atom # 3 C, 5, is greater than permitted\n",
      "[14:25:41] Explicit valence for atom # 2 C, 5, is greater than permitted\n",
      "[14:25:41] Explicit valence for atom # 4 C, 5, is greater than permitted\n",
      "[14:25:41] Explicit valence for atom # 4 C, 5, is greater than permitted\n",
      "[14:25:41] Explicit valence for atom # 4 C, 5, is greater than permitted\n",
      "[14:25:41] Explicit valence for atom # 2 C, 5, is greater than permitted\n",
      "[14:25:41] Explicit valence for atom # 5 C, 5, is greater than permitted\n",
      "[14:25:41] Explicit valence for atom # 5 C, 5, is greater than permitted\n",
      "[14:25:41] Explicit valence for atom # 5 C, 5, is greater than permitted\n",
      "[14:25:41] Explicit valence for atom # 2 C, 5, is greater than permitted\n",
      "[14:25:41] Explicit valence for atom # 2 C, 5, is greater than permitted\n",
      "[14:25:41] Explicit valence for atom # 6 C, 5, is greater than permitted\n",
      "[14:25:41] Explicit valence for atom # 3 C, 5, is greater than permitted\n",
      "[14:25:41] Explicit valence for atom # 2 C, 5, is greater than permitted\n",
      "[14:25:41] Explicit valence for atom # 5 C, 5, is greater than permitted\n",
      "[14:25:41] Explicit valence for atom # 5 C, 5, is greater than permitted\n",
      "[14:25:41] Explicit valence for atom # 3 C, 5, is greater than permitted\n",
      "[14:25:41] Explicit valence for atom # 5 C, 5, is greater than permitted\n",
      "[14:25:41] Explicit valence for atom # 6 C, 5, is greater than permitted\n",
      "[14:25:41] Explicit valence for atom # 3 C, 5, is greater than permitted\n",
      "[14:25:41] Explicit valence for atom # 1 C, 5, is greater than permitted\n",
      "[14:25:41] Explicit valence for atom # 3 C, 5, is greater than permitted\n",
      "[14:25:41] Explicit valence for atom # 2 C, 5, is greater than permitted\n",
      "[14:25:41] Explicit valence for atom # 4 C, 5, is greater than permitted\n",
      "[14:25:41] Explicit valence for atom # 4 C, 5, is greater than permitted\n",
      "[14:25:41] Explicit valence for atom # 2 C, 5, is greater than permitted\n",
      "[14:25:41] Explicit valence for atom # 6 C, 5, is greater than permitted\n",
      "[14:25:41] Explicit valence for atom # 3 C, 5, is greater than permitted\n",
      "[14:25:41] Explicit valence for atom # 4 C, 5, is greater than permitted\n",
      "[14:25:41] Explicit valence for atom # 4 C, 5, is greater than permitted\n",
      "[14:25:41] Explicit valence for atom # 5 C, 5, is greater than permitted\n",
      "[14:25:41] Explicit valence for atom # 5 C, 5, is greater than permitted\n",
      "[14:25:41] Explicit valence for atom # 5 C, 5, is greater than permitted\n",
      "[14:25:41] Explicit valence for atom # 6 C, 5, is greater than permitted\n",
      "[14:25:41] Explicit valence for atom # 4 C, 5, is greater than permitted\n",
      "[14:25:41] Explicit valence for atom # 6 C, 5, is greater than permitted\n",
      "[14:25:41] Explicit valence for atom # 4 C, 5, is greater than permitted\n",
      "[14:25:41] Explicit valence for atom # 5 C, 5, is greater than permitted\n",
      "[14:25:41] Explicit valence for atom # 5 C, 5, is greater than permitted\n",
      "[14:25:41] Explicit valence for atom # 4 C, 5, is greater than permitted\n",
      "[14:25:41] Explicit valence for atom # 6 C, 5, is greater than permitted\n",
      "[14:25:41] Explicit valence for atom # 3 C, 5, is greater than permitted\n",
      "[14:25:41] Explicit valence for atom # 3 C, 5, is greater than permitted\n",
      "[14:25:41] Explicit valence for atom # 5 C, 5, is greater than permitted\n",
      "[14:25:41] Explicit valence for atom # 6 C, 5, is greater than permitted\n",
      "[14:25:41] Explicit valence for atom # 5 C, 5, is greater than permitted\n",
      "[14:25:41] Explicit valence for atom # 4 C, 5, is greater than permitted\n",
      "[14:25:41] Explicit valence for atom # 4 C, 5, is greater than permitted\n",
      "[14:25:41] Explicit valence for atom # 5 C, 5, is greater than permitted\n",
      "[14:25:41] Explicit valence for atom # 5 C, 5, is greater than permitted\n",
      "[14:25:41] Explicit valence for atom # 6 C, 5, is greater than permitted\n",
      "[14:25:41] Explicit valence for atom # 5 C, 5, is greater than permitted\n",
      "[14:25:41] Explicit valence for atom # 5 C, 5, is greater than permitted\n",
      "[14:25:41] Explicit valence for atom # 4 C, 5, is greater than permitted\n",
      "[14:25:41] Explicit valence for atom # 3 C, 5, is greater than permitted\n",
      "[14:25:41] Explicit valence for atom # 6 C, 5, is greater than permitted\n",
      "[14:25:41] Explicit valence for atom # 6 C, 5, is greater than permitted\n",
      "[14:25:41] Explicit valence for atom # 4 C, 5, is greater than permitted\n",
      "[14:25:41] Explicit valence for atom # 4 C, 5, is greater than permitted\n",
      "[14:25:41] Explicit valence for atom # 5 C, 5, is greater than permitted\n",
      "[14:25:41] Explicit valence for atom # 5 C, 5, is greater than permitted\n",
      "[14:25:41] Explicit valence for atom # 2 C, 5, is greater than permitted\n",
      "[14:25:41] Explicit valence for atom # 3 C, 5, is greater than permitted\n",
      "[14:25:41] Explicit valence for atom # 2 C, 5, is greater than permitted\n",
      "[14:25:41] Explicit valence for atom # 4 C, 5, is greater than permitted\n",
      "[14:25:41] Explicit valence for atom # 5 C, 5, is greater than permitted\n",
      "[14:25:41] Explicit valence for atom # 5 C, 5, is greater than permitted\n",
      "[14:25:41] Explicit valence for atom # 3 C, 5, is greater than permitted\n",
      "[14:25:41] Explicit valence for atom # 4 C, 5, is greater than permitted\n",
      "[14:25:41] Explicit valence for atom # 4 C, 5, is greater than permitted\n",
      "[14:25:41] Explicit valence for atom # 3 C, 5, is greater than permitted\n",
      "[14:25:41] Explicit valence for atom # 2 C, 5, is greater than permitted\n",
      "[14:25:41] Explicit valence for atom # 4 C, 5, is greater than permitted\n",
      "[14:25:41] Explicit valence for atom # 3 C, 5, is greater than permitted\n",
      "[14:25:41] Explicit valence for atom # 6 C, 5, is greater than permitted\n",
      "[14:25:41] Explicit valence for atom # 5 C, 5, is greater than permitted\n",
      "[14:25:41] Explicit valence for atom # 4 C, 5, is greater than permitted\n",
      "[14:25:41] Explicit valence for atom # 1 C, 5, is greater than permitted\n",
      "[14:25:41] Explicit valence for atom # 2 C, 5, is greater than permitted\n",
      "[14:25:41] Explicit valence for atom # 5 C, 5, is greater than permitted\n",
      "[14:25:41] Explicit valence for atom # 3 C, 5, is greater than permitted\n",
      "[14:25:41] Explicit valence for atom # 2 C, 5, is greater than permitted\n",
      "[14:25:41] Explicit valence for atom # 5 C, 5, is greater than permitted\n",
      "[14:25:41] Explicit valence for atom # 3 C, 5, is greater than permitted\n",
      "[14:25:41] Explicit valence for atom # 5 C, 5, is greater than permitted\n",
      "[14:25:41] Explicit valence for atom # 4 C, 5, is greater than permitted\n",
      "[14:25:41] Explicit valence for atom # 4 C, 5, is greater than permitted\n",
      "[14:25:41] Explicit valence for atom # 5 C, 5, is greater than permitted\n",
      "[14:25:41] Explicit valence for atom # 4 C, 5, is greater than permitted\n",
      "[14:25:41] Explicit valence for atom # 5 C, 5, is greater than permitted\n",
      "[14:25:41] Explicit valence for atom # 3 C, 5, is greater than permitted\n",
      "[14:25:41] Explicit valence for atom # 6 C, 5, is greater than permitted\n",
      "[14:25:41] Explicit valence for atom # 5 C, 5, is greater than permitted\n",
      "[14:25:41] Explicit valence for atom # 4 C, 5, is greater than permitted\n",
      "[14:25:41] Explicit valence for atom # 3 C, 5, is greater than permitted\n",
      "[14:25:41] Explicit valence for atom # 1 C, 5, is greater than permitted\n",
      "[14:25:41] Explicit valence for atom # 3 C, 5, is greater than permitted\n",
      "[14:25:41] Explicit valence for atom # 6 C, 5, is greater than permitted\n",
      "[14:25:41] Explicit valence for atom # 3 C, 5, is greater than permitted\n",
      "[14:25:41] Explicit valence for atom # 4 C, 5, is greater than permitted\n",
      "[14:25:41] Explicit valence for atom # 4 C, 5, is greater than permitted\n",
      "[14:25:41] Explicit valence for atom # 3 C, 5, is greater than permitted\n",
      "[14:25:41] Explicit valence for atom # 3 C, 5, is greater than permitted\n",
      "[14:25:41] Explicit valence for atom # 2 C, 5, is greater than permitted\n",
      "[14:25:41] Explicit valence for atom # 3 C, 5, is greater than permitted\n",
      "[14:25:41] Explicit valence for atom # 4 C, 5, is greater than permitted\n",
      "[14:25:41] Explicit valence for atom # 2 C, 5, is greater than permitted\n",
      "[14:25:41] Explicit valence for atom # 4 C, 5, is greater than permitted\n",
      "[14:25:41] Explicit valence for atom # 4 C, 5, is greater than permitted\n",
      "[14:25:41] Explicit valence for atom # 4 C, 5, is greater than permitted\n",
      "[14:25:41] Explicit valence for atom # 5 C, 5, is greater than permitted\n",
      "[14:25:41] Explicit valence for atom # 4 C, 5, is greater than permitted\n",
      "[14:25:41] Explicit valence for atom # 2 C, 5, is greater than permitted\n",
      "[14:25:41] Explicit valence for atom # 3 C, 5, is greater than permitted\n",
      "[14:25:41] Explicit valence for atom # 3 C, 5, is greater than permitted\n",
      "[14:25:41] Explicit valence for atom # 4 C, 5, is greater than permitted\n",
      "[14:25:41] Explicit valence for atom # 4 C, 5, is greater than permitted\n",
      "[14:25:41] Explicit valence for atom # 6 C, 5, is greater than permitted\n",
      "[14:25:41] Explicit valence for atom # 5 C, 5, is greater than permitted\n",
      "[14:25:41] Explicit valence for atom # 3 C, 5, is greater than permitted\n",
      "[14:25:41] Explicit valence for atom # 3 C, 5, is greater than permitted\n",
      "[14:25:41] Explicit valence for atom # 3 C, 5, is greater than permitted\n",
      "[14:25:41] Explicit valence for atom # 4 C, 5, is greater than permitted\n",
      "[14:25:41] Explicit valence for atom # 2 C, 5, is greater than permitted\n",
      "[14:25:41] Explicit valence for atom # 3 C, 5, is greater than permitted\n",
      "[14:25:41] Explicit valence for atom # 3 C, 5, is greater than permitted\n",
      "[14:25:41] Explicit valence for atom # 5 C, 5, is greater than permitted\n",
      "[14:25:41] Explicit valence for atom # 5 C, 5, is greater than permitted\n",
      "[14:25:41] Explicit valence for atom # 6 C, 5, is greater than permitted\n",
      "[14:25:41] Explicit valence for atom # 5 C, 5, is greater than permitted\n",
      "[14:25:41] Explicit valence for atom # 4 C, 5, is greater than permitted\n",
      "[14:25:41] Explicit valence for atom # 4 C, 5, is greater than permitted\n",
      "[14:25:41] Explicit valence for atom # 4 C, 5, is greater than permitted\n",
      "[14:25:41] Explicit valence for atom # 3 C, 5, is greater than permitted\n",
      "[14:25:41] Explicit valence for atom # 5 C, 5, is greater than permitted\n",
      "[14:25:41] Explicit valence for atom # 5 C, 5, is greater than permitted\n",
      "[14:25:41] Explicit valence for atom # 2 C, 5, is greater than permitted\n",
      "[14:25:41] Explicit valence for atom # 2 C, 5, is greater than permitted\n",
      "[14:25:41] Explicit valence for atom # 4 C, 5, is greater than permitted\n",
      "[14:25:41] Explicit valence for atom # 6 C, 5, is greater than permitted\n",
      "[14:25:41] Explicit valence for atom # 5 C, 5, is greater than permitted\n",
      "[14:25:41] Explicit valence for atom # 5 C, 5, is greater than permitted\n",
      "[14:25:41] Explicit valence for atom # 4 C, 5, is greater than permitted\n",
      "[14:25:41] Explicit valence for atom # 3 C, 5, is greater than permitted\n",
      "[14:25:41] Explicit valence for atom # 5 C, 5, is greater than permitted\n",
      "[14:25:41] Explicit valence for atom # 3 C, 5, is greater than permitted\n",
      "[14:25:41] Explicit valence for atom # 2 C, 5, is greater than permitted\n",
      "[14:25:41] Explicit valence for atom # 3 C, 5, is greater than permitted\n",
      "[14:25:41] Explicit valence for atom # 3 C, 5, is greater than permitted\n",
      "[14:25:41] Explicit valence for atom # 4 C, 5, is greater than permitted\n",
      "[14:25:41] Explicit valence for atom # 3 C, 5, is greater than permitted\n",
      "[14:25:41] Explicit valence for atom # 2 C, 5, is greater than permitted\n",
      "[14:25:41] Explicit valence for atom # 3 C, 5, is greater than permitted\n",
      "[14:25:41] Explicit valence for atom # 2 C, 5, is greater than permitted\n",
      "[14:25:41] Explicit valence for atom # 5 C, 5, is greater than permitted\n",
      "[14:25:41] Explicit valence for atom # 2 C, 5, is greater than permitted\n",
      "[14:25:41] Explicit valence for atom # 3 C, 5, is greater than permitted\n",
      "[14:25:41] Explicit valence for atom # 4 C, 5, is greater than permitted\n",
      "[14:25:41] Explicit valence for atom # 4 C, 5, is greater than permitted\n",
      "[14:25:41] Explicit valence for atom # 4 C, 5, is greater than permitted\n",
      "[14:25:41] Explicit valence for atom # 2 C, 5, is greater than permitted\n",
      "[14:25:41] Explicit valence for atom # 5 C, 5, is greater than permitted\n",
      "[14:25:41] Explicit valence for atom # 5 C, 5, is greater than permitted\n",
      "[14:25:42] Explicit valence for atom # 4 C, 5, is greater than permitted\n",
      "[14:25:42] Explicit valence for atom # 3 C, 5, is greater than permitted\n",
      "[14:25:42] Explicit valence for atom # 3 C, 5, is greater than permitted\n",
      "[14:25:42] Explicit valence for atom # 6 C, 5, is greater than permitted\n",
      "[14:25:42] Explicit valence for atom # 2 C, 5, is greater than permitted\n",
      "[14:25:42] Explicit valence for atom # 4 C, 5, is greater than permitted\n",
      "[14:25:42] Explicit valence for atom # 6 C, 5, is greater than permitted\n",
      "[14:25:42] Explicit valence for atom # 4 C, 5, is greater than permitted\n",
      "[14:25:42] Explicit valence for atom # 2 C, 5, is greater than permitted\n",
      "[14:25:42] Explicit valence for atom # 4 C, 5, is greater than permitted\n",
      "[14:25:42] Explicit valence for atom # 2 C, 5, is greater than permitted\n",
      "[14:25:42] Explicit valence for atom # 3 C, 5, is greater than permitted\n",
      "[14:25:42] Explicit valence for atom # 3 C, 5, is greater than permitted\n",
      "[14:25:42] Explicit valence for atom # 3 C, 5, is greater than permitted\n",
      "[14:25:42] Explicit valence for atom # 2 C, 5, is greater than permitted\n",
      "[14:25:42] Explicit valence for atom # 3 C, 5, is greater than permitted\n",
      "[14:25:42] Explicit valence for atom # 6 C, 5, is greater than permitted\n",
      "[14:25:42] Explicit valence for atom # 4 C, 5, is greater than permitted\n",
      "[14:25:42] Explicit valence for atom # 3 C, 5, is greater than permitted\n",
      "[14:25:42] Explicit valence for atom # 3 C, 5, is greater than permitted\n",
      "[14:25:42] Explicit valence for atom # 5 C, 5, is greater than permitted\n",
      "[14:25:42] Explicit valence for atom # 3 C, 5, is greater than permitted\n",
      "[14:25:42] Explicit valence for atom # 4 C, 5, is greater than permitted\n",
      "[14:25:42] Explicit valence for atom # 5 C, 5, is greater than permitted\n",
      "[14:25:42] Explicit valence for atom # 4 C, 5, is greater than permitted\n",
      "[14:25:42] Explicit valence for atom # 3 C, 5, is greater than permitted\n",
      "[14:25:42] Explicit valence for atom # 6 C, 5, is greater than permitted\n",
      "[14:25:42] Explicit valence for atom # 3 C, 5, is greater than permitted\n",
      "[14:25:42] Explicit valence for atom # 3 C, 5, is greater than permitted\n",
      "[14:25:42] Explicit valence for atom # 6 C, 5, is greater than permitted\n",
      "[14:25:42] Explicit valence for atom # 5 C, 5, is greater than permitted\n",
      "[14:25:42] Explicit valence for atom # 2 C, 5, is greater than permitted\n",
      "[14:25:42] Explicit valence for atom # 4 C, 5, is greater than permitted\n",
      "[14:25:42] Explicit valence for atom # 3 C, 5, is greater than permitted\n",
      "[14:25:42] Explicit valence for atom # 3 C, 5, is greater than permitted\n",
      "[14:25:42] Explicit valence for atom # 3 C, 5, is greater than permitted\n",
      "[14:25:42] Explicit valence for atom # 5 C, 5, is greater than permitted\n",
      "[14:25:42] Explicit valence for atom # 2 C, 5, is greater than permitted\n",
      "[14:25:42] Explicit valence for atom # 5 C, 5, is greater than permitted\n",
      "[14:25:42] Explicit valence for atom # 2 C, 5, is greater than permitted\n",
      "[14:25:42] Explicit valence for atom # 5 C, 5, is greater than permitted\n",
      "[14:25:42] Explicit valence for atom # 5 C, 5, is greater than permitted\n",
      "[14:25:42] Explicit valence for atom # 4 C, 5, is greater than permitted\n",
      "[14:25:42] Explicit valence for atom # 6 C, 5, is greater than permitted\n",
      "[14:25:42] Explicit valence for atom # 4 C, 5, is greater than permitted\n",
      "[14:25:42] Explicit valence for atom # 4 C, 5, is greater than permitted\n",
      "[14:25:42] Explicit valence for atom # 3 C, 5, is greater than permitted\n",
      "[14:25:42] Explicit valence for atom # 3 C, 5, is greater than permitted\n",
      "[14:25:42] Explicit valence for atom # 6 C, 5, is greater than permitted\n",
      "[14:25:42] Explicit valence for atom # 3 C, 5, is greater than permitted\n",
      "[14:25:42] Explicit valence for atom # 6 C, 5, is greater than permitted\n",
      "[14:25:42] Explicit valence for atom # 5 C, 5, is greater than permitted\n",
      "[14:25:42] Explicit valence for atom # 6 C, 5, is greater than permitted\n",
      "[14:25:42] Explicit valence for atom # 2 C, 5, is greater than permitted\n",
      "[14:25:42] Explicit valence for atom # 2 C, 5, is greater than permitted\n",
      "[14:25:42] Explicit valence for atom # 3 C, 5, is greater than permitted\n",
      "[14:25:42] Explicit valence for atom # 2 C, 5, is greater than permitted\n",
      "[14:25:42] Explicit valence for atom # 5 C, 5, is greater than permitted\n",
      "[14:25:42] Explicit valence for atom # 4 C, 5, is greater than permitted\n",
      "[14:25:42] Explicit valence for atom # 3 C, 5, is greater than permitted\n",
      "[14:25:42] Explicit valence for atom # 5 C, 5, is greater than permitted\n",
      "[14:25:42] Explicit valence for atom # 3 C, 5, is greater than permitted\n",
      "[14:25:42] Explicit valence for atom # 2 C, 5, is greater than permitted\n",
      "[14:25:42] Explicit valence for atom # 4 C, 5, is greater than permitted\n",
      "[14:25:42] Explicit valence for atom # 5 C, 5, is greater than permitted\n",
      "[14:25:42] Explicit valence for atom # 5 C, 5, is greater than permitted\n",
      "[14:25:42] Explicit valence for atom # 5 C, 5, is greater than permitted\n",
      "[14:25:42] Explicit valence for atom # 4 C, 5, is greater than permitted\n",
      "[14:25:42] Explicit valence for atom # 4 C, 5, is greater than permitted\n",
      "[14:25:42] Explicit valence for atom # 3 C, 5, is greater than permitted\n",
      "[14:25:42] Explicit valence for atom # 4 C, 5, is greater than permitted\n",
      "[14:25:42] Explicit valence for atom # 5 C, 5, is greater than permitted\n",
      "[14:25:42] Explicit valence for atom # 5 C, 5, is greater than permitted\n",
      "[14:25:42] Explicit valence for atom # 4 C, 5, is greater than permitted\n",
      "[14:25:42] Explicit valence for atom # 5 C, 5, is greater than permitted\n",
      "[14:25:42] Explicit valence for atom # 3 C, 5, is greater than permitted\n",
      "[14:25:42] Explicit valence for atom # 5 C, 5, is greater than permitted\n",
      "[14:25:42] Explicit valence for atom # 3 C, 5, is greater than permitted\n",
      "[14:25:42] Explicit valence for atom # 3 C, 5, is greater than permitted\n",
      "[14:25:42] Explicit valence for atom # 2 C, 5, is greater than permitted\n",
      "[14:25:42] Explicit valence for atom # 3 C, 5, is greater than permitted\n",
      "[14:25:42] Explicit valence for atom # 5 C, 5, is greater than permitted\n",
      "[14:25:42] Explicit valence for atom # 2 C, 5, is greater than permitted\n",
      "[14:25:42] Explicit valence for atom # 2 C, 5, is greater than permitted\n",
      "[14:25:42] Explicit valence for atom # 2 C, 5, is greater than permitted\n",
      "[14:25:42] Explicit valence for atom # 3 C, 5, is greater than permitted\n",
      "[14:25:42] Explicit valence for atom # 4 C, 5, is greater than permitted\n",
      "[14:25:42] Explicit valence for atom # 5 C, 5, is greater than permitted\n",
      "[14:25:42] Explicit valence for atom # 5 C, 5, is greater than permitted\n",
      "[14:25:42] Explicit valence for atom # 4 C, 5, is greater than permitted\n",
      "[14:25:42] Explicit valence for atom # 4 C, 5, is greater than permitted\n",
      "[14:25:42] Explicit valence for atom # 3 C, 5, is greater than permitted\n",
      "[14:25:42] Explicit valence for atom # 3 C, 5, is greater than permitted\n",
      "[14:25:42] Explicit valence for atom # 3 C, 5, is greater than permitted\n",
      "[14:25:42] Explicit valence for atom # 3 C, 5, is greater than permitted\n",
      "[14:25:42] Explicit valence for atom # 2 C, 5, is greater than permitted\n",
      "[14:25:42] Explicit valence for atom # 4 C, 5, is greater than permitted\n",
      "[14:25:42] Explicit valence for atom # 4 C, 5, is greater than permitted\n",
      "[14:25:42] Explicit valence for atom # 4 C, 5, is greater than permitted\n",
      "[14:25:42] Explicit valence for atom # 4 C, 5, is greater than permitted\n",
      "[14:25:42] Explicit valence for atom # 5 C, 5, is greater than permitted\n",
      "[14:25:42] Explicit valence for atom # 4 C, 5, is greater than permitted\n",
      "[14:25:42] Explicit valence for atom # 4 C, 5, is greater than permitted\n",
      "[14:25:42] Explicit valence for atom # 4 C, 5, is greater than permitted\n",
      "[14:25:42] Explicit valence for atom # 5 C, 5, is greater than permitted\n",
      "[14:25:42] Explicit valence for atom # 5 C, 5, is greater than permitted\n",
      "[14:25:42] Explicit valence for atom # 2 C, 5, is greater than permitted\n",
      "[14:25:42] Explicit valence for atom # 5 C, 5, is greater than permitted\n",
      "[14:25:42] Explicit valence for atom # 4 C, 5, is greater than permitted\n",
      "[14:25:42] Explicit valence for atom # 5 C, 5, is greater than permitted\n",
      "[14:25:42] Explicit valence for atom # 4 C, 5, is greater than permitted\n",
      "[14:25:42] Explicit valence for atom # 5 C, 5, is greater than permitted\n",
      "[14:25:42] Explicit valence for atom # 4 C, 5, is greater than permitted\n",
      "[14:25:42] Explicit valence for atom # 6 C, 5, is greater than permitted\n",
      "[14:25:42] Explicit valence for atom # 6 C, 5, is greater than permitted\n",
      "[14:25:42] Explicit valence for atom # 5 C, 5, is greater than permitted\n",
      "[14:25:42] Explicit valence for atom # 4 C, 5, is greater than permitted\n",
      "[14:25:42] Explicit valence for atom # 4 C, 5, is greater than permitted\n",
      "[14:25:42] Explicit valence for atom # 5 C, 5, is greater than permitted\n",
      "[14:25:42] Explicit valence for atom # 5 C, 5, is greater than permitted\n",
      "[14:25:42] Explicit valence for atom # 5 C, 5, is greater than permitted\n",
      "[14:25:42] Explicit valence for atom # 5 C, 5, is greater than permitted\n",
      "[14:25:42] Explicit valence for atom # 5 C, 5, is greater than permitted\n",
      "[14:25:42] Explicit valence for atom # 3 C, 5, is greater than permitted\n",
      "[14:25:42] Explicit valence for atom # 5 C, 5, is greater than permitted\n",
      "[14:25:42] Explicit valence for atom # 5 C, 5, is greater than permitted\n",
      "[14:25:42] Explicit valence for atom # 4 C, 5, is greater than permitted\n",
      "[14:25:42] Explicit valence for atom # 5 C, 5, is greater than permitted\n",
      "[14:25:42] Explicit valence for atom # 3 C, 5, is greater than permitted\n",
      "[14:25:42] Explicit valence for atom # 4 C, 5, is greater than permitted\n",
      "[14:25:42] Explicit valence for atom # 2 C, 5, is greater than permitted\n",
      "[14:25:42] Explicit valence for atom # 2 C, 5, is greater than permitted\n",
      "[14:25:42] Explicit valence for atom # 4 C, 5, is greater than permitted\n",
      "[14:25:42] Explicit valence for atom # 5 C, 5, is greater than permitted\n",
      "[14:25:42] Explicit valence for atom # 3 C, 5, is greater than permitted\n",
      "[14:25:42] Explicit valence for atom # 5 C, 5, is greater than permitted\n",
      "[14:25:42] Explicit valence for atom # 3 C, 5, is greater than permitted\n",
      "[14:25:42] Explicit valence for atom # 2 C, 5, is greater than permitted\n",
      "[14:25:42] Explicit valence for atom # 5 C, 5, is greater than permitted\n",
      "[14:25:42] Explicit valence for atom # 4 C, 5, is greater than permitted\n",
      "[14:25:42] Explicit valence for atom # 5 C, 5, is greater than permitted\n",
      "[14:25:42] Explicit valence for atom # 6 C, 5, is greater than permitted\n",
      "[14:25:42] Explicit valence for atom # 5 C, 5, is greater than permitted\n",
      "[14:25:42] Explicit valence for atom # 3 C, 5, is greater than permitted\n",
      "[14:25:42] Explicit valence for atom # 6 C, 5, is greater than permitted\n",
      "[14:25:42] Explicit valence for atom # 3 C, 5, is greater than permitted\n",
      "[14:25:42] Explicit valence for atom # 5 C, 5, is greater than permitted\n",
      "[14:25:42] Explicit valence for atom # 4 C, 5, is greater than permitted\n",
      "[14:25:42] Explicit valence for atom # 3 C, 5, is greater than permitted\n",
      "[14:25:42] Explicit valence for atom # 5 C, 5, is greater than permitted\n",
      "[14:25:42] Explicit valence for atom # 4 C, 5, is greater than permitted\n",
      "[14:25:42] Explicit valence for atom # 5 C, 5, is greater than permitted\n",
      "[14:25:42] Explicit valence for atom # 4 C, 5, is greater than permitted\n",
      "[14:25:43] Explicit valence for atom # 4 C, 5, is greater than permitted\n",
      "[14:25:43] Explicit valence for atom # 3 C, 5, is greater than permitted\n",
      "[14:25:43] Explicit valence for atom # 3 C, 5, is greater than permitted\n",
      "[14:25:43] Explicit valence for atom # 4 C, 5, is greater than permitted\n",
      "[14:25:43] Explicit valence for atom # 5 C, 5, is greater than permitted\n",
      "[14:25:43] Explicit valence for atom # 3 C, 5, is greater than permitted\n",
      "[14:25:43] Explicit valence for atom # 5 C, 5, is greater than permitted\n",
      "[14:25:43] Explicit valence for atom # 3 C, 5, is greater than permitted\n",
      "[14:25:43] Explicit valence for atom # 6 C, 5, is greater than permitted\n",
      "[14:25:43] Explicit valence for atom # 3 C, 5, is greater than permitted\n",
      "[14:25:43] Explicit valence for atom # 4 C, 5, is greater than permitted\n",
      "[14:25:43] Explicit valence for atom # 4 C, 5, is greater than permitted\n",
      "[14:25:43] Explicit valence for atom # 4 C, 5, is greater than permitted\n",
      "[14:25:43] Explicit valence for atom # 5 C, 5, is greater than permitted\n",
      "[14:25:43] Explicit valence for atom # 3 C, 5, is greater than permitted\n",
      "[14:25:43] Explicit valence for atom # 3 C, 5, is greater than permitted\n",
      "[14:25:43] Explicit valence for atom # 4 C, 5, is greater than permitted\n",
      "[14:25:43] Explicit valence for atom # 2 C, 5, is greater than permitted\n",
      "[14:25:43] Explicit valence for atom # 2 C, 5, is greater than permitted\n",
      "[14:25:43] Explicit valence for atom # 4 C, 5, is greater than permitted\n",
      "[14:25:43] Explicit valence for atom # 5 C, 5, is greater than permitted\n",
      "[14:25:43] Explicit valence for atom # 6 C, 5, is greater than permitted\n",
      "[14:25:43] Explicit valence for atom # 3 C, 5, is greater than permitted\n",
      "[14:25:43] Explicit valence for atom # 5 C, 5, is greater than permitted\n",
      "[14:25:43] Explicit valence for atom # 5 C, 5, is greater than permitted\n",
      "[14:25:43] Explicit valence for atom # 2 C, 5, is greater than permitted\n",
      "[14:25:43] Explicit valence for atom # 4 C, 5, is greater than permitted\n",
      "[14:25:43] Explicit valence for atom # 5 C, 5, is greater than permitted\n",
      "[14:25:43] Explicit valence for atom # 3 C, 5, is greater than permitted\n",
      "[14:25:43] Explicit valence for atom # 3 C, 5, is greater than permitted\n",
      "[14:25:43] Explicit valence for atom # 5 C, 5, is greater than permitted\n",
      "[14:25:43] Explicit valence for atom # 2 C, 5, is greater than permitted\n",
      "[14:25:43] Explicit valence for atom # 6 C, 5, is greater than permitted\n",
      "[14:25:43] Explicit valence for atom # 5 C, 5, is greater than permitted\n",
      "[14:25:43] Explicit valence for atom # 4 C, 5, is greater than permitted\n",
      "[14:25:43] Explicit valence for atom # 2 C, 5, is greater than permitted\n",
      "[14:25:43] Explicit valence for atom # 3 C, 5, is greater than permitted\n",
      "[14:25:43] Explicit valence for atom # 4 C, 5, is greater than permitted\n",
      "[14:25:43] Explicit valence for atom # 2 C, 5, is greater than permitted\n",
      "[14:25:43] Explicit valence for atom # 4 C, 5, is greater than permitted\n",
      "[14:25:43] Explicit valence for atom # 4 C, 5, is greater than permitted\n",
      "[14:25:43] Explicit valence for atom # 3 C, 5, is greater than permitted\n",
      "[14:25:43] Explicit valence for atom # 3 C, 5, is greater than permitted\n",
      "[14:25:43] Explicit valence for atom # 4 C, 5, is greater than permitted\n",
      "[14:25:43] Explicit valence for atom # 3 C, 5, is greater than permitted\n",
      "[14:25:43] Explicit valence for atom # 3 C, 5, is greater than permitted\n",
      "[14:25:43] Explicit valence for atom # 3 C, 5, is greater than permitted\n",
      "[14:25:43] Explicit valence for atom # 5 C, 5, is greater than permitted\n",
      "[14:25:43] Explicit valence for atom # 2 C, 5, is greater than permitted\n",
      "[14:25:43] Explicit valence for atom # 6 C, 5, is greater than permitted\n",
      "[14:25:43] Explicit valence for atom # 5 C, 5, is greater than permitted\n",
      "[14:25:43] Explicit valence for atom # 5 C, 5, is greater than permitted\n",
      "[14:25:43] Explicit valence for atom # 2 C, 5, is greater than permitted\n",
      "[14:25:43] Explicit valence for atom # 3 C, 5, is greater than permitted\n",
      "[14:25:43] Explicit valence for atom # 5 C, 5, is greater than permitted\n",
      "[14:25:43] Explicit valence for atom # 5 C, 5, is greater than permitted\n",
      "[14:25:43] Explicit valence for atom # 2 C, 5, is greater than permitted\n",
      "[14:25:43] Explicit valence for atom # 5 C, 5, is greater than permitted\n",
      "[14:25:43] Explicit valence for atom # 4 C, 5, is greater than permitted\n",
      "[14:25:43] Explicit valence for atom # 4 C, 5, is greater than permitted\n",
      "[14:25:43] Explicit valence for atom # 6 C, 5, is greater than permitted\n",
      "[14:25:43] Explicit valence for atom # 2 C, 5, is greater than permitted\n",
      "[14:25:43] Explicit valence for atom # 4 C, 5, is greater than permitted\n",
      "[14:25:43] Explicit valence for atom # 2 C, 5, is greater than permitted\n",
      "[14:25:43] Explicit valence for atom # 3 C, 5, is greater than permitted\n",
      "[14:25:43] Explicit valence for atom # 5 C, 5, is greater than permitted\n",
      "[14:25:43] Explicit valence for atom # 5 C, 5, is greater than permitted\n",
      "[14:25:43] Explicit valence for atom # 2 C, 5, is greater than permitted\n",
      "[14:25:43] Explicit valence for atom # 6 C, 5, is greater than permitted\n",
      "[14:25:43] Explicit valence for atom # 4 C, 5, is greater than permitted\n",
      "[14:25:43] Explicit valence for atom # 3 C, 5, is greater than permitted\n",
      "[14:25:43] Explicit valence for atom # 5 C, 5, is greater than permitted\n",
      "[14:25:43] Explicit valence for atom # 4 C, 5, is greater than permitted\n",
      "[14:25:43] Explicit valence for atom # 5 C, 5, is greater than permitted\n",
      "[14:25:43] Explicit valence for atom # 5 C, 5, is greater than permitted\n",
      "[14:25:43] Explicit valence for atom # 2 C, 5, is greater than permitted\n",
      "[14:25:43] Explicit valence for atom # 5 C, 5, is greater than permitted\n",
      "[14:25:43] Explicit valence for atom # 2 C, 5, is greater than permitted\n",
      "[14:25:43] Explicit valence for atom # 6 C, 5, is greater than permitted\n",
      "[14:25:43] Explicit valence for atom # 5 C, 5, is greater than permitted\n",
      "[14:25:43] Explicit valence for atom # 4 C, 5, is greater than permitted\n",
      "[14:25:43] Explicit valence for atom # 5 C, 5, is greater than permitted\n",
      "[14:25:43] Explicit valence for atom # 5 C, 5, is greater than permitted\n",
      "[14:25:43] Explicit valence for atom # 2 C, 5, is greater than permitted\n",
      "[14:25:43] Explicit valence for atom # 5 C, 5, is greater than permitted\n",
      "[14:25:43] Explicit valence for atom # 1 C, 5, is greater than permitted\n",
      "[14:25:43] Explicit valence for atom # 6 C, 5, is greater than permitted\n",
      "[14:25:43] Explicit valence for atom # 2 C, 5, is greater than permitted\n",
      "[14:25:43] Explicit valence for atom # 2 C, 5, is greater than permitted\n",
      "[14:25:43] Explicit valence for atom # 3 C, 5, is greater than permitted\n",
      "[14:25:43] Explicit valence for atom # 3 C, 5, is greater than permitted\n",
      "[14:25:43] Explicit valence for atom # 2 C, 5, is greater than permitted\n",
      "[14:25:43] Explicit valence for atom # 5 C, 5, is greater than permitted\n",
      "[14:25:43] Explicit valence for atom # 2 C, 5, is greater than permitted\n",
      "[14:25:43] Explicit valence for atom # 3 C, 5, is greater than permitted\n",
      "[14:25:43] Explicit valence for atom # 5 C, 5, is greater than permitted\n",
      "[14:25:43] Explicit valence for atom # 2 C, 5, is greater than permitted\n",
      "[14:25:43] Explicit valence for atom # 2 C, 5, is greater than permitted\n",
      "[14:25:43] Explicit valence for atom # 5 C, 5, is greater than permitted\n",
      "[14:27:57] Explicit valence for atom # 3 C, 5, is greater than permitted\n",
      "[14:27:57] Explicit valence for atom # 5 C, 5, is greater than permitted\n",
      "[14:27:57] Explicit valence for atom # 3 C, 5, is greater than permitted\n",
      "[14:27:57] Explicit valence for atom # 6 C, 5, is greater than permitted\n",
      "[14:27:57] Explicit valence for atom # 3 C, 5, is greater than permitted\n",
      "[14:27:57] Explicit valence for atom # 6 C, 5, is greater than permitted\n",
      "[14:27:57] Explicit valence for atom # 2 C, 5, is greater than permitted\n",
      "[14:27:57] Explicit valence for atom # 6 C, 5, is greater than permitted\n",
      "[14:27:57] Explicit valence for atom # 2 C, 5, is greater than permitted\n",
      "[14:27:57] Explicit valence for atom # 6 C, 5, is greater than permitted\n",
      "[14:27:57] Explicit valence for atom # 2 C, 5, is greater than permitted\n",
      "[14:27:57] Explicit valence for atom # 5 C, 5, is greater than permitted\n",
      "[14:27:57] Explicit valence for atom # 6 C, 5, is greater than permitted\n",
      "[14:27:57] Explicit valence for atom # 6 C, 5, is greater than permitted\n",
      "[14:27:57] Explicit valence for atom # 4 C, 5, is greater than permitted\n",
      "[14:27:57] Explicit valence for atom # 2 C, 5, is greater than permitted\n",
      "[14:27:57] Explicit valence for atom # 2 C, 5, is greater than permitted\n",
      "[14:27:57] Explicit valence for atom # 4 C, 5, is greater than permitted\n",
      "[14:27:57] Explicit valence for atom # 4 C, 5, is greater than permitted\n",
      "[14:27:57] Explicit valence for atom # 5 C, 5, is greater than permitted\n",
      "[14:27:57] Explicit valence for atom # 3 C, 5, is greater than permitted\n",
      "[14:27:57] Explicit valence for atom # 5 C, 5, is greater than permitted\n",
      "[14:27:57] Explicit valence for atom # 4 C, 5, is greater than permitted\n",
      "[14:27:57] Explicit valence for atom # 3 C, 5, is greater than permitted\n",
      "[14:27:57] Explicit valence for atom # 3 C, 5, is greater than permitted\n",
      "[14:27:57] Explicit valence for atom # 5 C, 5, is greater than permitted\n",
      "[14:27:57] Explicit valence for atom # 4 C, 5, is greater than permitted\n",
      "[14:27:57] Explicit valence for atom # 2 C, 5, is greater than permitted\n",
      "[14:27:57] Explicit valence for atom # 4 C, 5, is greater than permitted\n",
      "[14:27:57] Explicit valence for atom # 5 C, 5, is greater than permitted\n",
      "[14:27:57] Explicit valence for atom # 6 C, 5, is greater than permitted\n",
      "[14:27:57] Explicit valence for atom # 4 C, 5, is greater than permitted\n",
      "[14:27:57] Explicit valence for atom # 3 C, 5, is greater than permitted\n",
      "[14:27:57] Explicit valence for atom # 3 C, 5, is greater than permitted\n",
      "[14:27:57] Explicit valence for atom # 5 C, 5, is greater than permitted\n",
      "[14:27:57] Explicit valence for atom # 4 C, 5, is greater than permitted\n",
      "[14:27:57] Explicit valence for atom # 2 C, 5, is greater than permitted\n",
      "[14:27:57] Explicit valence for atom # 4 C, 5, is greater than permitted\n",
      "[14:27:57] Explicit valence for atom # 5 C, 5, is greater than permitted\n",
      "[14:27:57] Explicit valence for atom # 2 C, 5, is greater than permitted\n",
      "[14:27:57] Explicit valence for atom # 5 C, 5, is greater than permitted\n",
      "[14:27:57] Explicit valence for atom # 5 C, 5, is greater than permitted\n",
      "[14:27:57] Explicit valence for atom # 3 C, 5, is greater than permitted\n",
      "[14:27:57] Explicit valence for atom # 4 C, 5, is greater than permitted\n",
      "[14:27:57] Explicit valence for atom # 6 C, 5, is greater than permitted\n",
      "[14:27:57] Explicit valence for atom # 4 C, 5, is greater than permitted\n",
      "[14:27:57] Explicit valence for atom # 6 C, 5, is greater than permitted\n",
      "[14:27:57] Explicit valence for atom # 2 C, 5, is greater than permitted\n",
      "[14:27:57] Explicit valence for atom # 4 C, 5, is greater than permitted\n",
      "[14:27:57] Explicit valence for atom # 5 C, 5, is greater than permitted\n",
      "[14:27:57] Explicit valence for atom # 3 C, 5, is greater than permitted\n",
      "[14:27:57] Explicit valence for atom # 4 C, 5, is greater than permitted\n",
      "[14:27:57] Explicit valence for atom # 2 C, 5, is greater than permitted\n",
      "[14:27:57] Explicit valence for atom # 5 C, 5, is greater than permitted\n",
      "[14:27:57] Explicit valence for atom # 2 C, 5, is greater than permitted\n",
      "[14:27:58] Explicit valence for atom # 4 C, 5, is greater than permitted\n",
      "[14:27:58] Explicit valence for atom # 4 C, 5, is greater than permitted\n",
      "[14:27:58] Explicit valence for atom # 5 C, 5, is greater than permitted\n",
      "[14:27:58] Explicit valence for atom # 3 C, 5, is greater than permitted\n",
      "[14:27:58] Explicit valence for atom # 5 C, 5, is greater than permitted\n",
      "[14:27:58] Explicit valence for atom # 4 C, 5, is greater than permitted\n",
      "[14:27:58] Explicit valence for atom # 6 C, 5, is greater than permitted\n",
      "[14:27:58] Explicit valence for atom # 4 C, 5, is greater than permitted\n",
      "[14:27:58] Explicit valence for atom # 5 C, 5, is greater than permitted\n",
      "[14:27:58] Explicit valence for atom # 2 C, 5, is greater than permitted\n",
      "[14:27:58] Explicit valence for atom # 5 C, 5, is greater than permitted\n",
      "[14:27:58] Explicit valence for atom # 5 C, 5, is greater than permitted\n",
      "[14:27:58] Explicit valence for atom # 5 C, 5, is greater than permitted\n",
      "[14:27:58] Explicit valence for atom # 3 C, 5, is greater than permitted\n",
      "[14:27:58] Explicit valence for atom # 5 C, 5, is greater than permitted\n",
      "[14:27:58] Explicit valence for atom # 5 C, 5, is greater than permitted\n",
      "[14:27:58] Explicit valence for atom # 3 C, 5, is greater than permitted\n",
      "[14:27:58] Explicit valence for atom # 2 C, 5, is greater than permitted\n",
      "[14:27:58] Explicit valence for atom # 4 C, 5, is greater than permitted\n",
      "[14:27:58] Explicit valence for atom # 3 C, 5, is greater than permitted\n",
      "[14:27:58] Explicit valence for atom # 5 C, 5, is greater than permitted\n",
      "[14:27:58] Explicit valence for atom # 5 C, 5, is greater than permitted\n",
      "[14:27:58] Explicit valence for atom # 4 C, 5, is greater than permitted\n",
      "[14:27:58] Explicit valence for atom # 2 C, 5, is greater than permitted\n",
      "[14:27:58] Explicit valence for atom # 6 C, 5, is greater than permitted\n",
      "[14:27:58] Explicit valence for atom # 5 C, 5, is greater than permitted\n",
      "[14:27:58] Explicit valence for atom # 6 C, 5, is greater than permitted\n",
      "[14:28:11] Explicit valence for atom # 5 C, 5, is greater than permitted\n",
      "[14:28:11] Explicit valence for atom # 6 C, 5, is greater than permitted\n",
      "[14:28:11] Explicit valence for atom # 5 C, 5, is greater than permitted\n",
      "[14:28:11] Explicit valence for atom # 2 C, 5, is greater than permitted\n",
      "[14:28:11] Explicit valence for atom # 4 C, 5, is greater than permitted\n",
      "[14:28:11] Explicit valence for atom # 6 C, 5, is greater than permitted\n",
      "[14:28:11] Explicit valence for atom # 4 C, 5, is greater than permitted\n",
      "[14:28:11] Explicit valence for atom # 6 C, 5, is greater than permitted\n",
      "[14:28:11] Explicit valence for atom # 6 C, 5, is greater than permitted\n",
      "[14:28:11] Explicit valence for atom # 3 C, 5, is greater than permitted\n",
      "[14:28:11] Explicit valence for atom # 5 C, 5, is greater than permitted\n",
      "[14:28:11] Explicit valence for atom # 6 C, 5, is greater than permitted\n",
      "[14:28:11] Explicit valence for atom # 3 C, 5, is greater than permitted\n",
      "[14:28:11] Explicit valence for atom # 1 C, 5, is greater than permitted\n",
      "[14:28:11] Explicit valence for atom # 4 C, 5, is greater than permitted\n",
      "[14:28:11] Explicit valence for atom # 2 C, 5, is greater than permitted\n",
      "[14:28:11] Explicit valence for atom # 2 C, 5, is greater than permitted\n",
      "[14:28:11] Explicit valence for atom # 5 C, 5, is greater than permitted\n",
      "[14:28:11] Explicit valence for atom # 3 C, 5, is greater than permitted\n",
      "[14:28:11] Explicit valence for atom # 4 C, 5, is greater than permitted\n",
      "[14:28:11] Explicit valence for atom # 6 C, 5, is greater than permitted\n",
      "[14:28:11] Explicit valence for atom # 5 C, 5, is greater than permitted\n",
      "[14:28:11] Explicit valence for atom # 5 C, 5, is greater than permitted\n",
      "[14:28:11] Explicit valence for atom # 2 C, 5, is greater than permitted\n",
      "[14:28:11] Explicit valence for atom # 4 C, 5, is greater than permitted\n",
      "[14:28:11] Explicit valence for atom # 3 C, 5, is greater than permitted\n",
      "[14:28:11] Explicit valence for atom # 2 C, 5, is greater than permitted\n",
      "[14:28:11] Explicit valence for atom # 4 C, 5, is greater than permitted\n",
      "[14:28:11] Explicit valence for atom # 6 C, 5, is greater than permitted\n",
      "[14:28:11] Explicit valence for atom # 6 C, 5, is greater than permitted\n",
      "[14:28:11] Explicit valence for atom # 5 C, 5, is greater than permitted\n",
      "[14:28:11] Explicit valence for atom # 2 C, 5, is greater than permitted\n",
      "[14:28:11] Explicit valence for atom # 4 C, 5, is greater than permitted\n",
      "[14:28:11] Explicit valence for atom # 5 C, 5, is greater than permitted\n",
      "[14:28:11] Explicit valence for atom # 2 C, 5, is greater than permitted\n",
      "[14:28:11] Explicit valence for atom # 2 C, 5, is greater than permitted\n",
      "[14:28:11] Explicit valence for atom # 2 C, 5, is greater than permitted\n",
      "[14:28:11] Explicit valence for atom # 5 C, 5, is greater than permitted\n",
      "[14:28:11] Explicit valence for atom # 5 C, 5, is greater than permitted\n",
      "[14:28:11] Explicit valence for atom # 5 C, 5, is greater than permitted\n",
      "[14:28:11] Explicit valence for atom # 2 C, 5, is greater than permitted\n",
      "[14:28:11] Explicit valence for atom # 5 C, 5, is greater than permitted\n",
      "[14:28:11] Explicit valence for atom # 2 C, 5, is greater than permitted\n",
      "[14:28:11] Explicit valence for atom # 3 C, 5, is greater than permitted\n",
      "[14:28:11] Explicit valence for atom # 4 C, 5, is greater than permitted\n",
      "[14:28:11] Explicit valence for atom # 6 C, 5, is greater than permitted\n",
      "[14:28:11] Explicit valence for atom # 3 C, 5, is greater than permitted\n",
      "[14:28:11] Explicit valence for atom # 2 C, 5, is greater than permitted\n",
      "[14:28:11] Explicit valence for atom # 2 C, 5, is greater than permitted\n",
      "[14:28:11] Explicit valence for atom # 2 C, 5, is greater than permitted\n",
      "[14:28:11] Explicit valence for atom # 5 C, 5, is greater than permitted\n",
      "[14:28:11] Explicit valence for atom # 5 C, 5, is greater than permitted\n",
      "[14:28:11] Explicit valence for atom # 4 C, 5, is greater than permitted\n",
      "[14:28:11] Explicit valence for atom # 3 C, 5, is greater than permitted\n",
      "[14:28:11] Explicit valence for atom # 5 C, 5, is greater than permitted\n",
      "[14:28:11] Explicit valence for atom # 7 C, 5, is greater than permitted\n",
      "[14:28:11] Explicit valence for atom # 7 C, 5, is greater than permitted\n",
      "[14:28:11] Explicit valence for atom # 3 C, 5, is greater than permitted\n",
      "[14:28:11] Explicit valence for atom # 3 C, 5, is greater than permitted\n",
      "[14:28:11] Explicit valence for atom # 4 C, 5, is greater than permitted\n",
      "[14:28:11] Explicit valence for atom # 4 C, 5, is greater than permitted\n",
      "[14:28:11] Explicit valence for atom # 3 C, 5, is greater than permitted\n",
      "[14:28:11] Explicit valence for atom # 3 C, 5, is greater than permitted\n",
      "[14:28:11] Explicit valence for atom # 3 C, 5, is greater than permitted\n",
      "[14:28:11] Explicit valence for atom # 3 C, 5, is greater than permitted\n",
      "[14:28:11] Explicit valence for atom # 4 C, 5, is greater than permitted\n",
      "[14:28:11] Explicit valence for atom # 4 C, 5, is greater than permitted\n",
      "[14:28:11] Explicit valence for atom # 4 C, 5, is greater than permitted\n",
      "[14:28:11] Explicit valence for atom # 2 C, 5, is greater than permitted\n",
      "[14:28:11] Explicit valence for atom # 4 C, 5, is greater than permitted\n",
      "[14:28:11] Explicit valence for atom # 2 C, 5, is greater than permitted\n",
      "[14:28:11] Explicit valence for atom # 5 C, 5, is greater than permitted\n",
      "[14:28:11] Explicit valence for atom # 4 C, 5, is greater than permitted\n",
      "[14:28:11] Explicit valence for atom # 4 C, 5, is greater than permitted\n",
      "[14:28:11] Explicit valence for atom # 3 C, 5, is greater than permitted\n",
      "[14:28:11] Explicit valence for atom # 8 C, 5, is greater than permitted\n",
      "[14:28:11] Explicit valence for atom # 5 C, 5, is greater than permitted\n",
      "[14:28:11] Explicit valence for atom # 5 C, 5, is greater than permitted\n",
      "[14:28:11] Explicit valence for atom # 6 C, 5, is greater than permitted\n",
      "[14:28:11] Explicit valence for atom # 3 C, 5, is greater than permitted\n",
      "[14:28:11] Explicit valence for atom # 3 C, 5, is greater than permitted\n",
      "[14:28:11] Explicit valence for atom # 5 C, 5, is greater than permitted\n",
      "[14:28:11] Explicit valence for atom # 4 C, 5, is greater than permitted\n",
      "[14:28:11] Explicit valence for atom # 5 C, 5, is greater than permitted\n",
      "[14:28:11] Explicit valence for atom # 4 C, 5, is greater than permitted\n",
      "[14:28:11] Explicit valence for atom # 3 C, 5, is greater than permitted\n",
      "[14:28:11] Explicit valence for atom # 4 C, 5, is greater than permitted\n",
      "[14:28:11] Explicit valence for atom # 3 C, 5, is greater than permitted\n",
      "[14:28:11] Explicit valence for atom # 4 C, 5, is greater than permitted\n",
      "[14:28:11] Explicit valence for atom # 2 C, 5, is greater than permitted\n",
      "[14:28:11] Explicit valence for atom # 6 C, 5, is greater than permitted\n",
      "[14:28:11] Explicit valence for atom # 5 C, 5, is greater than permitted\n",
      "[14:28:11] Explicit valence for atom # 5 C, 5, is greater than permitted\n",
      "[14:28:11] Explicit valence for atom # 3 C, 5, is greater than permitted\n",
      "[14:28:11] Explicit valence for atom # 5 C, 5, is greater than permitted\n",
      "[14:28:11] Explicit valence for atom # 2 C, 5, is greater than permitted\n",
      "[14:28:11] Explicit valence for atom # 5 C, 5, is greater than permitted\n",
      "[14:28:11] Explicit valence for atom # 5 C, 5, is greater than permitted\n",
      "[14:28:11] Explicit valence for atom # 5 C, 5, is greater than permitted\n",
      "[14:28:11] Explicit valence for atom # 4 C, 5, is greater than permitted\n",
      "[14:28:11] Explicit valence for atom # 2 C, 5, is greater than permitted\n",
      "[14:28:11] Explicit valence for atom # 5 C, 5, is greater than permitted\n",
      "[14:28:11] Explicit valence for atom # 3 C, 5, is greater than permitted\n",
      "[14:28:11] Explicit valence for atom # 2 C, 5, is greater than permitted\n",
      "[14:28:11] Explicit valence for atom # 2 C, 5, is greater than permitted\n",
      "[14:28:11] Explicit valence for atom # 1 C, 5, is greater than permitted\n",
      "[14:28:11] Explicit valence for atom # 5 C, 5, is greater than permitted\n",
      "[14:28:11] Explicit valence for atom # 6 C, 5, is greater than permitted\n",
      "[14:28:11] Explicit valence for atom # 2 C, 5, is greater than permitted\n",
      "[14:28:11] Explicit valence for atom # 5 C, 5, is greater than permitted\n",
      "[14:28:11] Explicit valence for atom # 6 C, 5, is greater than permitted\n",
      "[14:28:11] Explicit valence for atom # 5 C, 5, is greater than permitted\n",
      "[14:28:11] Explicit valence for atom # 2 C, 5, is greater than permitted\n",
      "[14:28:11] Explicit valence for atom # 2 C, 5, is greater than permitted\n"
     ]
    }
   ],
   "source": [
    "TRAIN_FPRINTS = load_as_ecfp4(\"train.csv\")\n",
    "VAL_FPRINTS = load_as_ecfp4(\"val.csv\")\n",
    "TEST_FPRINTS = load_as_ecfp4(\"test.csv\")"
   ]
  },
  {
   "cell_type": "markdown",
   "id": "1c7c0923-65f9-4469-a32b-f72d234ff34a",
   "metadata": {},
   "source": [
    "The prior work paper (Farber 2017) achieved good performance on all of the tasks using SKLearn's RandomForest implementation with 120 predictors. \n",
    "No other details were provided and the codebase was never released, so the defaults for RF are used otherwise."
   ]
  },
  {
   "cell_type": "code",
   "execution_count": 38,
   "id": "2b4d51d4-dd7b-483d-ab9b-b843c78fc982",
   "metadata": {
    "execution": {
     "iopub.execute_input": "2024-03-27T14:30:11.494139Z",
     "iopub.status.busy": "2024-03-27T14:30:11.493842Z",
     "iopub.status.idle": "2024-03-27T15:26:23.239811Z",
     "shell.execute_reply": "2024-03-27T15:26:23.238996Z",
     "shell.execute_reply.started": "2024-03-27T14:30:11.494117Z"
    }
   },
   "outputs": [
    {
     "name": "stdout",
     "output_type": "stream",
     "text": [
      "0 5.2838874\n",
      "1 37.451096\n",
      "2 3.8948665\n",
      "3 4.452923\n",
      "4 5.044945\n",
      "5 78.46795\n",
      "6 211.74692\n",
      "7 86.04538\n",
      "8 86.81485\n",
      "9 87.349846\n",
      "10 79.38837\n",
      "11 29.648144\n"
     ]
    }
   ],
   "source": [
    "for i in range(12):\n",
    "\n",
    "    regr = RandomForestRegressor(n_estimators=120, random_state=0, n_jobs=-1)\n",
    "    \n",
    "    regr.fit(TRAIN_FPRINTS, TRAIN_Y[:,i])\n",
    "    \n",
    "    predictions = regr.predict(TEST_FPRINTS)\n",
    "    \n",
    "    print(i, TRAIN_MAD[i] * jnp.mean(jnp.abs(TEST_Y[:,i] - predictions), axis=0) / chemical_accuracy[i])"
   ]
  }
 ],
 "metadata": {
  "kernelspec": {
   "display_name": "Python 3 (ipykernel)",
   "language": "python",
   "name": "python3"
  },
  "language_info": {
   "codemirror_mode": {
    "name": "ipython",
    "version": 3
   },
   "file_extension": ".py",
   "mimetype": "text/x-python",
   "name": "python",
   "nbconvert_exporter": "python",
   "pygments_lexer": "ipython3",
   "version": "3.9.16"
  }
 },
 "nbformat": 4,
 "nbformat_minor": 5
}
