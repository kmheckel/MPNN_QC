{
 "cells": [
  {
   "cell_type": "markdown",
   "metadata": {},
   "source": [
    "This notebook provides analysis of the results obtained during training the GNNs. The results are stored in the `results` folder. The results are stored in pkl files containing tuples of length 4 of the format `(best_val_error, test_error, perf_per_epoch)`."
   ]
  },
  {
   "cell_type": "code",
   "execution_count": 1,
   "metadata": {},
   "outputs": [],
   "source": [
    "import pickle\n",
    "import os\n",
    "import numpy as np\n",
    "import matplotlib.pyplot as plt\n",
    "import pandas as pd"
   ]
  },
  {
   "cell_type": "code",
   "execution_count": 3,
   "metadata": {},
   "outputs": [],
   "source": [
    "chemical_accs = np.array([.1, .1, .043, .043, .043, 1.2, 0.0012, .043, .043, .043, .043, .05])"
   ]
  },
  {
   "cell_type": "code",
   "execution_count": 6,
   "metadata": {},
   "outputs": [
    {
     "name": "stdout",
     "output_type": "stream",
     "text": [
      "[ 0.56713171  1.97862074  0.88121369  1.04504226  1.28587872  3.36121082\n",
      " 10.04481766  2.33805457  2.35275093  2.36673185  2.26939799  1.9282952 ]\n",
      "EGNN mean: 2.53492884495529\n"
     ]
    }
   ],
   "source": [
    "# EGNN alltargets\n",
    "test_maes = np.array([0.05671317130327225, 0.19786207377910614, 0.037892188876867294, 0.04493681713938713, 0.05529278516769409, 4.033452987670898, 0.012053781189024448, 0.10053634643554688, 0.10116828978061676, 0.10176946967840195, 0.09758411347866058, 0.09641475975513458])\n",
    "ratios = test_maes / chemical_accs\n",
    "print(ratios)\n",
    "print('EGNN mean:', np.mean(ratios))"
   ]
  },
  {
   "cell_type": "code",
   "execution_count": 5,
   "metadata": {},
   "outputs": [
    {
     "name": "stdout",
     "output_type": "stream",
     "text": [
      "[ 2.4694185   7.53501236  3.18711719  4.1239279   5.10981783  8.83786201\n",
      " 33.53250834 12.92572742 13.33355349 13.04703674 12.7105602   4.81430858]\n",
      "10.135570880102634\n"
     ]
    }
   ],
   "source": [
    "# tower alltargets\n",
    "test_maes = np.array([0.24694184958934784, 0.7535012364387512, 0.13704603910446167, 0.1773288995027542, 0.21972216665744781, 10.60543441772461, 0.040239010006189346, 0.5558062791824341, 0.5733428001403809, 0.5610225796699524, 0.5465540885925293, 0.24071542918682098])\n",
    "ratios = test_maes / chemical_accs\n",
    "print(ratios)\n",
    "print(np.mean(ratios))"
   ]
  },
  {
   "cell_type": "code",
   "execution_count": 6,
   "metadata": {},
   "outputs": [
    {
     "name": "stdout",
     "output_type": "stream",
     "text": [
      "[ 1.2446858   3.60290557  1.66903228  1.91127266  2.46708355  6.53005083\n",
      " 21.62765712  7.37163563  7.42437396  7.45055773  6.99363614  2.98600733]\n",
      "5.939908217186306\n"
     ]
    }
   ],
   "source": [
    "# nnconv\n",
    "test_maes = np.array([0.12446857988834381, 0.3602905571460724, 0.0717683881521225, 0.08218472450971603, 0.10608459264039993, 7.836061000823975, 0.02595318853855133, 0.3169803321361542, 0.3192480802536011, 0.3203739821910858, 0.30072635412216187, 0.14930036664009094])\n",
    "ratios = test_maes / chemical_accs\n",
    "print(ratios)\n",
    "print(np.mean(ratios))"
   ]
  },
  {
   "cell_type": "code",
   "execution_count": 7,
   "metadata": {},
   "outputs": [
    {
     "name": "stdout",
     "output_type": "stream",
     "text": [
      "[ 1.40594497  5.13915598  2.03019034  2.36572949  2.94769815  6.6594549\n",
      " 17.47312179  6.20142249  6.1973874   6.24291841  5.95071704  6.36566401]\n",
      "5.748283748493293\n"
     ]
    }
   ],
   "source": [
    "# gat\n",
    "test_maes = np.array([0.1405944973230362, 0.5139155983924866, 0.087298184633255, 0.10172636806964874, 0.12675102055072784, 7.9913458824157715, 0.020967746153473854, 0.2666611671447754, 0.26648765802383423, 0.2684454917907715, 0.25588083267211914, 0.31828320026397705])\n",
    "ratios = test_maes / chemical_accs\n",
    "print(ratios)\n",
    "print(np.mean(ratios))"
   ]
  },
  {
   "cell_type": "code",
   "execution_count": null,
   "metadata": {},
   "outputs": [],
   "source": []
  }
 ],
 "metadata": {
  "kernelspec": {
   "display_name": "QChemGPU",
   "language": "python",
   "name": "python3"
  },
  "language_info": {
   "codemirror_mode": {
    "name": "ipython",
    "version": 3
   },
   "file_extension": ".py",
   "mimetype": "text/x-python",
   "name": "python",
   "nbconvert_exporter": "python",
   "pygments_lexer": "ipython3",
   "version": "3.9.16"
  }
 },
 "nbformat": 4,
 "nbformat_minor": 2
}
